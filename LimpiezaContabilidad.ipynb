{
 "cells": [
  {
   "cell_type": "code",
   "execution_count": 4,
   "id": "1385ef95",
   "metadata": {},
   "outputs": [
    {
     "name": "stdout",
     "output_type": "stream",
     "text": [
      "✅ Conexión exitosa a la base de datos\n",
      "Columnas de la tabla 'accounting_account_balances':\n",
      "  - id (bigint unsigned)\n",
      "  - code (double(16,15))\n",
      "  - accounting_id (bigint unsigned)\n",
      "  - name (varchar(255))\n",
      "  - initial_balance (double(18,6))\n",
      "  - final_balance (double(18,6))\n",
      "  - debit_movement (double(18,6))\n",
      "  - credit_movement (double(18,6))\n",
      "  - third_party_type_id (varchar(50))\n",
      "  - third_party_id (bigint unsigned)\n",
      "  - currency_id (varchar(255))\n",
      "  - year (int)\n",
      "  - month (int)\n",
      "  - created_at (timestamp)\n",
      "  - updated_at (timestamp)\n",
      "Conexión y cursor cerrados.\n"
     ]
    }
   ],
   "source": [
    "# Asegúrate de que db_connection.py esté en la ruta correcta y contenga get_connection\n",
    "from db_connection import get_connection\n",
    "\n",
    "# 1. Reconectar (o asegurar que la conexión esté activa)\n",
    "try:\n",
    "    conexion = get_connection() # Obtener una nueva conexión o reutilizar si get_connection maneja eso\n",
    "    cursor = conexion.cursor()\n",
    "\n",
    "    # 2. Ejecutar la consulta para describir la tabla\n",
    "    cursor.execute(\"DESCRIBE accounting_account_balances;\")\n",
    "    columns_info = cursor.fetchall()\n",
    "\n",
    "    print(\"Columnas de la tabla 'accounting_account_balances':\")\n",
    "    for column in columns_info:\n",
    "        print(f\"  - {column[0]} ({column[1]})\")\n",
    "\n",
    "except Exception as e:\n",
    "    print(f\"Ocurrió un error: {e}\")\n",
    "finally:\n",
    "    # 3. Cerrar el cursor y la conexión de forma segura\n",
    "    if 'cursor' in locals() and cursor is not None:\n",
    "        cursor.close()\n",
    "    if 'conexion' in locals() and conexion.is_connected():\n",
    "        conexion.close()\n",
    "    print(\"Conexión y cursor cerrados.\")"
   ]
  },
  {
   "cell_type": "code",
   "execution_count": null,
   "id": "47a6d174",
   "metadata": {},
   "outputs": [],
   "source": []
  }
 ],
 "metadata": {
  "kernelspec": {
   "display_name": ".venv",
   "language": "python",
   "name": "python3"
  },
  "language_info": {
   "codemirror_mode": {
    "name": "ipython",
    "version": 3
   },
   "file_extension": ".py",
   "mimetype": "text/x-python",
   "name": "python",
   "nbconvert_exporter": "python",
   "pygments_lexer": "ipython3",
   "version": "3.13.3"
  }
 },
 "nbformat": 4,
 "nbformat_minor": 5
}
