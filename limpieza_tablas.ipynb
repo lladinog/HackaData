{
 "cells": [
  {
   "cell_type": "code",
   "execution_count": 5,
   "id": "0e7a20e9",
   "metadata": {},
   "outputs": [
    {
     "name": "stdout",
     "output_type": "stream",
     "text": [
      "✅ Conexión exitosa a la base de datos\n"
     ]
    }
   ],
   "source": [
    "# 📌 Importar conexión\n",
    "from db_connection import get_connection\n",
    "\n",
    "# 📌 Conectarse a la base de datos\n",
    "conexion = get_connection()\n",
    "cursor = conexion.cursor()\n"
   ]
  },
  {
   "cell_type": "code",
   "execution_count": 6,
   "id": "dcf0caf4",
   "metadata": {},
   "outputs": [
    {
     "name": "stdout",
     "output_type": "stream",
     "text": [
      "Total de tablas encontradas: 80\n"
     ]
    }
   ],
   "source": [
    "# 📌 Obtener todas las tablas\n",
    "cursor.execute(\"SHOW TABLES;\")\n",
    "tablas = [fila[0] for fila in cursor.fetchall()]\n",
    "print(f\"Total de tablas encontradas: {len(tablas)}\")\n"
   ]
  },
  {
   "cell_type": "code",
   "execution_count": 7,
   "id": "8fb27c13",
   "metadata": {},
   "outputs": [
    {
     "name": "stdout",
     "output_type": "stream",
     "text": [
      "\n",
      "Tablas candidatas para eliminación (5):\n",
      "['coupon_groups', 'electronic_payroll_data', 'electronic_payroll_submissions', 'ledgers', 'payroll_consolidated']\n"
     ]
    }
   ],
   "source": [
    "tablas_a_borrar = []\n",
    "\n",
    "for tabla in tablas:\n",
    "    try:\n",
    "        cursor.execute(f\"SELECT COUNT(*) FROM `{tabla}`;\")\n",
    "        total = cursor.fetchone()[0]\n",
    "        if total <= 1:\n",
    "            tablas_a_borrar.append(tabla)\n",
    "    except Exception as e:\n",
    "        print(f\"❌ Error evaluando tabla {tabla}: {e}\")\n",
    "\n",
    "print(f\"\\nTablas candidatas para eliminación ({len(tablas_a_borrar)}):\")\n",
    "print(tablas_a_borrar)\n"
   ]
  },
  {
   "cell_type": "code",
   "execution_count": 8,
   "id": "0ee36ee8",
   "metadata": {},
   "outputs": [
    {
     "name": "stdout",
     "output_type": "stream",
     "text": [
      "✅ Tabla eliminada: coupon_groups\n",
      "✅ Tabla eliminada: electronic_payroll_data\n",
      "✅ Tabla eliminada: electronic_payroll_submissions\n",
      "✅ Tabla eliminada: ledgers\n",
      "✅ Tabla eliminada: payroll_consolidated\n"
     ]
    }
   ],
   "source": [
    "# ⚠️ Solo si tienes respaldo y estás en entorno seguro\n",
    "\n",
    "# Desactivar restricciones\n",
    "cursor.execute(\"SET FOREIGN_KEY_CHECKS=0;\")\n",
    "\n",
    "for tabla in tablas_a_borrar:\n",
    "    try:\n",
    "        cursor.execute(f\"DROP TABLE `{tabla}`;\")\n",
    "        print(f\"✅ Tabla eliminada: {tabla}\")\n",
    "    except Exception as e:\n",
    "        print(f\"❌ Error al eliminar {tabla}: {e}\")\n",
    "\n",
    "# Confirmar cambios\n",
    "conexion.commit()\n",
    "\n",
    "# Volver a activar restricciones\n",
    "cursor.execute(\"SET FOREIGN_KEY_CHECKS=1;\")\n",
    "\n"
   ]
  }
 ],
 "metadata": {
  "kernelspec": {
   "display_name": ".venv",
   "language": "python",
   "name": "python3"
  },
  "language_info": {
   "codemirror_mode": {
    "name": "ipython",
    "version": 3
   },
   "file_extension": ".py",
   "mimetype": "text/x-python",
   "name": "python",
   "nbconvert_exporter": "python",
   "pygments_lexer": "ipython3",
   "version": "3.13.3"
  }
 },
 "nbformat": 4,
 "nbformat_minor": 5
}
