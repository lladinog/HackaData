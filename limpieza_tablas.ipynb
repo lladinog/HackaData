{
 "cells": [
  {
   "cell_type": "markdown",
   "id": "24c0060a",
   "metadata": {},
   "source": [
    "**IMPORTAR LIBRERIAS**"
   ]
  },
  {
   "cell_type": "markdown",
   "id": "ea6182c6",
   "metadata": {},
   "source": [
    "---"
   ]
  },
  {
   "cell_type": "code",
   "execution_count": null,
   "id": "c1e44092",
   "metadata": {},
   "outputs": [],
   "source": [
    "# Librerias de manejo de datos\n",
    "import pandas as pd"
   ]
  },
  {
   "cell_type": "code",
   "execution_count": null,
   "id": "0e7a20e9",
   "metadata": {},
   "outputs": [],
   "source": [
    "# Importar conexión\n",
    "from db_connection import get_connection\n",
    "\n",
    "# Conectarse a la base de datos\n",
    "conexion = get_connection()\n",
    "cursor = conexion.cursor()\n"
   ]
  },
  {
   "cell_type": "code",
   "execution_count": null,
   "id": "e54641f7",
   "metadata": {},
   "outputs": [],
   "source": [
    "# Importar librerías para la conexión a la base de datos con SQLAlchemy\n",
    "from db_connection import get_engine\n",
    "\n",
    "engine = get_engine()"
   ]
  },
  {
   "cell_type": "code",
   "execution_count": null,
   "id": "dcf0caf4",
   "metadata": {},
   "outputs": [],
   "source": [
    "# 📌 Obtener todas las tablas\n",
    "cursor.execute(\"SHOW TABLES;\")\n",
    "tablas = [fila[0] for fila in cursor.fetchall()]\n",
    "print(f\"Total de tablas encontradas: {len(tablas)}\")\n"
   ]
  },
  {
   "cell_type": "markdown",
   "id": "28208439",
   "metadata": {},
   "source": [
    "---"
   ]
  },
  {
   "cell_type": "markdown",
   "id": "5ba97470",
   "metadata": {},
   "source": [
    "**FUNCIONES**"
   ]
  },
  {
   "cell_type": "markdown",
   "id": "58231edf",
   "metadata": {},
   "source": [
    "---"
   ]
  },
  {
   "cell_type": "code",
   "execution_count": null,
   "id": "1bc6a9e8",
   "metadata": {},
   "outputs": [],
   "source": [
    "def borrar_lista_tablas(tablas_a_borrar):\n",
    "    \"\"\"\n",
    "    Borra las tablas de la base de datos que se pasan como argumento.\n",
    "    \"\"\"\n",
    "    for tabla in tablas_a_borrar:\n",
    "        try:\n",
    "            cursor.execute(f\"DROP TABLE `{tabla}`;\")\n",
    "            tablas.remove(tabla)\n",
    "            print(f\"✅ Tabla eliminada: {tabla}\")\n",
    "        except Exception as e:\n",
    "            print(f\"❌ Error al eliminar {tabla}: {e}\")\n",
    "    \n",
    "    # Confirmar cambios\n",
    "    conexion.commit()"
   ]
  },
  {
   "cell_type": "markdown",
   "id": "dc0595a5",
   "metadata": {},
   "source": [
    "------"
   ]
  },
  {
   "cell_type": "markdown",
   "id": "cf0ecba4",
   "metadata": {},
   "source": [
    "**FILTROS PARA SEGREGAR Y ELIMINAR LAS TABLAS QUE NO SON ÚTILES**\n"
   ]
  },
  {
   "cell_type": "markdown",
   "id": "0c15b9e5",
   "metadata": {},
   "source": [
    "---"
   ]
  },
  {
   "cell_type": "markdown",
   "id": "e35c67df",
   "metadata": {},
   "source": [
    "*PRIMER FILTRO: Tablas con menos de 2 registros*"
   ]
  },
  {
   "cell_type": "code",
   "execution_count": null,
   "id": "8fb27c13",
   "metadata": {},
   "outputs": [],
   "source": [
    "\n",
    "# Escoger tablas a eliminar\n",
    "tablas_a_borrar = []\n",
    "\n",
    "for tabla in tablas:\n",
    "    try:\n",
    "        cursor.execute(f\"SELECT COUNT(*) FROM `{tabla}`;\")\n",
    "        total = cursor.fetchone()[0]\n",
    "        if total <= 1:\n",
    "            tablas_a_borrar.append(tabla)\n",
    "    except Exception as e:\n",
    "        print(f\"❌ Error evaluando tabla {tabla}: {e}\")\n",
    "\n",
    "print(f\"\\nTablas candidatas para eliminación ({len(tablas_a_borrar)}):\")\n",
    "print(tablas_a_borrar)\n"
   ]
  },
  {
   "cell_type": "code",
   "execution_count": null,
   "id": "0ee36ee8",
   "metadata": {},
   "outputs": [],
   "source": [
    "# ⚠️ Solo si tienes respaldo y estás en entorno seguro\n",
    "# ELIMINAR TABLAS CANDIDATAS\n",
    "\n",
    "# Desactivar restricciones\n",
    "cursor.execute(\"SET FOREIGN_KEY_CHECKS=0;\")\n",
    "\n",
    "borrar_lista_tablas(tablas_a_borrar)\n",
    "\n",
    "# Volver a activar restricciones\n",
    "cursor.execute(\"SET FOREIGN_KEY_CHECKS=1;\")\n",
    "\n"
   ]
  },
  {
   "cell_type": "markdown",
   "id": "e2e7a1e4",
   "metadata": {},
   "source": [
    "---"
   ]
  },
  {
   "cell_type": "markdown",
   "id": "13dd894a",
   "metadata": {},
   "source": [
    "*SEGUNDO FILTRO: Tablas posiblemente innecesarias por el nombre y breve análisis*"
   ]
  },
  {
   "cell_type": "code",
   "execution_count": null,
   "id": "50927f7a",
   "metadata": {},
   "outputs": [],
   "source": [
    "# Imprimir los nombres de las tablas restantes\n",
    "for tabla in tablas:\n",
    "    print(tabla)\n"
   ]
  },
  {
   "cell_type": "markdown",
   "id": "1f0d1819",
   "metadata": {},
   "source": [
    "*ANÁLISIS Y CONCLUSIONES DE LA INFORMACIÓN OBTENIDA*"
   ]
  },
  {
   "cell_type": "markdown",
   "id": "9e49afb7",
   "metadata": {},
   "source": [
    "**Tablas clave para análisis de gestión empresarial (💡 Mantener)**\n",
    "\n",
    "Estas son probablemente las más útiles para análisis de KPIs, dashboards o visualización de negocio:\n",
    "\n",
    "*Categoría\t//  Tablas clave*\n",
    "\n",
    "📦 Inventario\t= items, item_balance, item_kardex, warehouses, inventory_adjustments, item_categories, item_subcategories, item_variations\n",
    "\n",
    "💼 Ventas / Documentos\t= documents, document_items, contacts (clientes/proveedores)\n",
    "\n",
    "🧾 Contabilidad\t= accounting_vouchers, accounting_voucher_items, accounting_accounts, accounting_movements, retentions, retention_concepts, retentions_applied, accounting_account_balances\n",
    "\n",
    "👥 Empleados / Nómina\t= employees, employee_contracts, payrolls, payroll_details, payroll_incomes, payroll_deductions\n",
    "\n",
    "🛒 Compras\t= ecommerce_purchase_orders\n",
    "\n",
    "📊 Precios\t= price_lists\n",
    "\n",
    "🏪 Organización\t= headquarters, user_headquarters, roles, user_roles, company_areas\n",
    "\n",
    "🧾 Impuestos\t= taxes\n",
    "\n",
    "🏭 Activos fijos\t= fixed_assets, fixed_asset_depreciations, fixed_assets_groups\n"
   ]
  },
  {
   "cell_type": "markdown",
   "id": "335571bb",
   "metadata": {},
   "source": [
    "**Relevancia baja o dependiente del contexto (🤔 Revisar)**\n",
    "\n",
    "*Estas podrían ser útiles dependiendo del foco del proyecto (clientes, pedidos, legal, e-commerce):*\n",
    "\n",
    "contact_relationships, contact_accounts, contact_statements\n",
    "\n",
    "coupons, coupon_groups (si hay ecommerce)\n",
    "\n",
    "employee_positions, contract_salary_history\n",
    "\n",
    "plan_electronic_documents, plan_system_controller\n",
    "\n",
    "ecommerce_legal_info\n",
    "\n",
    "costs_and_expenses, costs_and_expenses_categories\n",
    "\n",
    "radian_documents (puede ser de facturación electrónica)\n",
    "\n",
    "dining_tables (¿restaurante? puede ser irrelevante)\n",
    "\n",
    "system_counters, system_restrictions"
   ]
  },
  {
   "cell_type": "code",
   "execution_count": null,
   "id": "702f90f2",
   "metadata": {},
   "outputs": [],
   "source": [
    "# Lista de tablas candidatas a eliminar\n",
    "tablas_candidatas = [\n",
    "    \"api_access_tokens\",\n",
    "    \"electronic_payroll_test_set\",\n",
    "    \"migrations\",\n",
    "    \"oauth_clients\",\n",
    "    \"paynilo\",\n",
    "    \"role_permissions\",\n",
    "    \"template_versions\",\n",
    "    \"templates\",\n",
    "    \"user_data\",\n",
    "    \"values_x_item\",\n",
    "    \"warehouse_transfer_logs\",\n",
    "    \"billing_numberings\",\n",
    "    \"custom_fields\",\n",
    "    \"configurations\",\n",
    "    \"system_counters\",\n",
    "    \"system_restrictions\"\n",
    "]"
   ]
  },
  {
   "cell_type": "markdown",
   "id": "b1a52865",
   "metadata": {},
   "source": [
    "---"
   ]
  },
  {
   "cell_type": "markdown",
   "id": "cf8073e1",
   "metadata": {},
   "source": [
    "*TERCER FILTRO: tablas a eliminar según sus columnas y número de filas*"
   ]
  },
  {
   "cell_type": "code",
   "execution_count": null,
   "id": "81b14fbf",
   "metadata": {},
   "outputs": [],
   "source": [
    "\n",
    "# Mostrar información muy básica de las tablas candidatas\n",
    "for tabla in tablas_candidatas:\n",
    "    try:\n",
    "        df = pd.read_sql(f\"SELECT * FROM `{tabla}` LIMIT 5\", engine)\n",
    "        print(f\"\\n📘 Tabla: {tabla}\")\n",
    "        print(\"Columnas:\", df.columns.tolist())\n",
    "        print(\"size: \", df.size)\n",
    "    except Exception as e:\n",
    "        print(f\"\\n❌ Error al cargar tabla {tabla}: {e}\")"
   ]
  },
  {
   "cell_type": "markdown",
   "id": "c1a0d171",
   "metadata": {},
   "source": [
    "**Tablas candidatas fuertes para eliminación (por contenido y nombre)**\n",
    "\n",
    "Estas tablas tienen pocos registros, estructuras irrelevantes para KPIs o funciones accesorias que no impactan directamente en la gestión:\n",
    "\n",
    "*Tabla\t// Motivo principal*\n",
    "\n",
    "api_access_tokens\tManejo técnico de tokens\n",
    "\n",
    "electronic_payroll_test_set\tDatos de prueba (test set)\n",
    "\n",
    "migrations\tSolo para migraciones del sistema\n",
    "\n",
    "oauth_clients\tSeguridad/autenticación interna\n",
    "\n",
    "paynilo\tIntegración de pagos externa\n",
    "\n",
    "role_permissions\tControl de permisos internos\n",
    "\n",
    "template_versions\tVersiones de plantillas, sin datos\n",
    "\n",
    "templates\tEstructura visual, no analítica\n",
    "\n",
    "user_data\tSolo datos de área/cargo del usuario\n",
    "\n",
    "custom_fields\tCampos personalizados (metadatos)\n",
    "\n",
    "system_counters\tEstadísticas internas del sistema\n",
    "\n",
    "system_restrictions\tRestricciones de uso/licencia\n",
    "\n",
    "values_x_item\tDatos muy técnicos por item, posiblemente redundantes\n",
    "\n",
    "warehouse_transfer_logs\tRegistro técnico, no necesariamente útil para KPIs"
   ]
  },
  {
   "cell_type": "markdown",
   "id": "f002ae8b",
   "metadata": {},
   "source": [
    "----"
   ]
  },
  {
   "cell_type": "markdown",
   "id": "ba4e3993",
   "metadata": {},
   "source": [
    "*CUARTO FILTRO: Investigar mas a fondo las tablas dudosas*"
   ]
  },
  {
   "cell_type": "markdown",
   "id": "c0748864",
   "metadata": {},
   "source": [
    "**⚠️ Tablas dudosas (verificar con .info() antes de decidir)**\n",
    "\n",
    "Estas tienen algo más de contenido o potencial analítico dependiendo del negocio:\n",
    "\n",
    "*billing_numberings:* Tiene 155 registros. Podría contener información útil para facturación si los números se asocian a documentos.\n",
    "\n",
    "*configurations:* Solo 25 registros, pero hay que ver si son configuraciones claves que afectan reportes.\n",
    "\n"
   ]
  },
  {
   "cell_type": "code",
   "execution_count": null,
   "id": "2e551c8d",
   "metadata": {},
   "outputs": [],
   "source": [
    "# Obtener el esquema de cada tabla para decidir si son candidatas a eliminación\n",
    "tablas_dudosas = ['billing_numberings', 'configurations'] # Agregar mas tablas si es necesario\n",
    "\n",
    "for tabla in tablas_dudosas:\n",
    "    print(f\"\\n📋 Tabla: {tabla}\")\n",
    "    try:\n",
    "        df = pd.read_sql(f\"SELECT * FROM {tabla}\", con=engine)\n",
    "        print(\"▶️ .info():\")\n",
    "        print(df.info())\n",
    "        print(\"▶️ Primeras filas:\")\n",
    "        display(df.head())\n",
    "    except Exception as e:\n",
    "        print(f\"❌ Error al cargar {tabla}: {e}\")\n"
   ]
  },
  {
   "cell_type": "markdown",
   "id": "28b7a189",
   "metadata": {},
   "source": [
    "---"
   ]
  },
  {
   "cell_type": "markdown",
   "id": "f07e5cbf",
   "metadata": {},
   "source": [
    "**TABLAS FINALES A ELIMINAR DESPUÉS DE TODOS LOS FILTROS Y ANÁLISIS INDIVIDUAL**"
   ]
  },
  {
   "cell_type": "markdown",
   "id": "7dfc491f",
   "metadata": {},
   "source": [
    "Falta escoger y seleccionar individualmente "
   ]
  },
  {
   "cell_type": "code",
   "execution_count": null,
   "id": "67e8d147",
   "metadata": {},
   "outputs": [],
   "source": [
    "tablas_a_eliminar = [\n",
    "    \"api_access_tokens\",             # Manejo técnico de tokens\n",
    "    \"electronic_payroll_test_set\",   # Datos de prueba (test set)\n",
    "    \"migrations\",                    # Solo para migraciones del sistema\n",
    "    \"oauth_clients\",                 # Seguridad/autenticación interna\n",
    "    \"paynilo\",                       # Integración de pagos externa\n",
    "    \"role_permissions\",             # Control de permisos internos\n",
    "    \"template_versions\",            # Versiones de plantillas, sin datos\n",
    "    \"templates\",                    # Estructura visual, no analítica\n",
    "    \"user_data\",                    # Solo datos de área/cargo del usuario\n",
    "    \"custom_fields\",                # Campos personalizados (metadatos)\n",
    "    \"system_counters\",              # Estadísticas internas del sistema\n",
    "    \"system_restrictions\",          # Restricciones de uso/licencia\n",
    "    \"values_x_item\",                # Datos técnicos por ítem\n",
    "    \"warehouse_transfer_logs\",      # Registro técnico, no útil para KPIs\n",
    "]"
   ]
  },
  {
   "cell_type": "code",
   "execution_count": null,
   "id": "4e22fc0f",
   "metadata": {},
   "outputs": [],
   "source": [
    "# ⚠️ Solo si tienes respaldo y estás en entorno seguro\n",
    "# ELIMINAR TABLAS FINALES ¡OJO HAY QUE ESCOGER ANTES DE EJECUTAR!\n",
    "\n",
    "# Desactivar restricciones !NO SE HACE ANTES DE VERIFICAR QUE NO GENERA NINGÚN DAÑO!\n",
    "##cursor.execute(\"SET FOREIGN_KEY_CHECKS=0;\")\n",
    "\n",
    "#borrar_lista_tablas(tablas_a_borrar)\n",
    "\n",
    "# Volver a activar restricciones !NO SE HACE ANTES DE VERIFICAR QUE NO GENERA NINGÚN DAÑO!\n",
    "##cursor.execute(\"SET FOREIGN_KEY_CHECKS=1;\")\n"
   ]
  }
 ],
 "metadata": {
  "kernelspec": {
   "display_name": ".venv",
   "language": "python",
   "name": "python3"
  },
  "language_info": {
   "codemirror_mode": {
    "name": "ipython",
    "version": 3
   },
   "file_extension": ".py",
   "mimetype": "text/x-python",
   "name": "python",
   "nbconvert_exporter": "python",
   "pygments_lexer": "ipython3",
   "version": "3.13.3"
  }
 },
 "nbformat": 4,
 "nbformat_minor": 5
}
