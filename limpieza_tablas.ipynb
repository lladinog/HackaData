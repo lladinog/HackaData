{
 "cells": [
  {
   "cell_type": "markdown",
   "id": "24c0060a",
   "metadata": {},
   "source": [
    "**IMPORTAR LIBRERIAS**"
   ]
  },
  {
   "cell_type": "markdown",
   "id": "ea6182c6",
   "metadata": {},
   "source": [
    "---"
   ]
  },
  {
   "cell_type": "code",
   "execution_count": 31,
   "id": "c1e44092",
   "metadata": {},
   "outputs": [],
   "source": [
    "# Librerias de manejo de datos\n",
    "import pandas as pd"
   ]
  },
  {
   "cell_type": "code",
   "execution_count": 45,
   "id": "0e7a20e9",
   "metadata": {},
   "outputs": [
    {
     "name": "stdout",
     "output_type": "stream",
     "text": [
      "✅ Conexión exitosa a la base de datos\n"
     ]
    }
   ],
   "source": [
    "# Importar conexión\n",
    "from db_connection import get_connection\n",
    "\n",
    "# Conectarse a la base de datos\n",
    "conexion = get_connection()\n",
    "cursor = conexion.cursor()\n"
   ]
  },
  {
   "cell_type": "code",
   "execution_count": 33,
   "id": "e54641f7",
   "metadata": {},
   "outputs": [],
   "source": [
    "# Importar librerías para la conexión a la base de datos con SQLAlchemy\n",
    "from db_connection import get_engine\n",
    "\n",
    "engine = get_engine()"
   ]
  },
  {
   "cell_type": "code",
   "execution_count": 46,
   "id": "dcf0caf4",
   "metadata": {},
   "outputs": [
    {
     "name": "stdout",
     "output_type": "stream",
     "text": [
      "Total de tablas encontradas: 48\n"
     ]
    }
   ],
   "source": [
    "# 📌 Obtener todas las tablas\n",
    "cursor.execute(\"SHOW TABLES;\")\n",
    "tablas = [fila[0] for fila in cursor.fetchall()]\n",
    "print(f\"Total de tablas encontradas: {len(tablas)}\")\n"
   ]
  },
  {
   "cell_type": "markdown",
   "id": "28208439",
   "metadata": {},
   "source": [
    "---"
   ]
  },
  {
   "cell_type": "markdown",
   "id": "5ba97470",
   "metadata": {},
   "source": [
    "**FUNCIONES**"
   ]
  },
  {
   "cell_type": "markdown",
   "id": "58231edf",
   "metadata": {},
   "source": [
    "---"
   ]
  },
  {
   "cell_type": "code",
   "execution_count": 35,
   "id": "1bc6a9e8",
   "metadata": {},
   "outputs": [],
   "source": [
    "def borrar_lista_tablas(tablas_a_borrar):\n",
    "    \"\"\"\n",
    "    Borra las tablas de la base de datos que se pasan como argumento.\n",
    "    \"\"\"\n",
    "    for tabla in tablas_a_borrar:\n",
    "        try:\n",
    "            cursor.execute(f\"DROP TABLE `{tabla}`;\")\n",
    "            tablas.remove(tabla)\n",
    "            print(f\"✅ Tabla eliminada: {tabla}\")\n",
    "        except Exception as e:\n",
    "            print(f\"❌ Error al eliminar {tabla}: {e}\")\n",
    "    \n",
    "    # Confirmar cambios\n",
    "    conexion.commit()"
   ]
  },
  {
   "cell_type": "markdown",
   "id": "dc0595a5",
   "metadata": {},
   "source": [
    "------"
   ]
  },
  {
   "cell_type": "markdown",
   "id": "cf0ecba4",
   "metadata": {},
   "source": [
    "**FILTROS PARA SEGREGAR Y ELIMINAR LAS TABLAS QUE NO SON ÚTILES**\n"
   ]
  },
  {
   "cell_type": "markdown",
   "id": "0c15b9e5",
   "metadata": {},
   "source": [
    "---"
   ]
  },
  {
   "cell_type": "markdown",
   "id": "e35c67df",
   "metadata": {},
   "source": [
    "*PRIMER FILTRO: Tablas con menos de 2 registros*"
   ]
  },
  {
   "cell_type": "code",
   "execution_count": 36,
   "id": "8fb27c13",
   "metadata": {},
   "outputs": [
    {
     "name": "stdout",
     "output_type": "stream",
     "text": [
      "\n",
      "Tablas candidatas para eliminación (0):\n",
      "[]\n"
     ]
    }
   ],
   "source": [
    "# Escoger tablas a eliminar\n",
    "tablas_a_borrar = []\n",
    "\n",
    "for tabla in tablas:\n",
    "    try:\n",
    "        cursor.execute(f\"SELECT COUNT(*) FROM `{tabla}`;\")\n",
    "        total = cursor.fetchone()[0]\n",
    "        if total <= 1:\n",
    "            tablas_a_borrar.append(tabla)\n",
    "    except Exception as e:\n",
    "        print(f\"❌ Error evaluando tabla {tabla}: {e}\")\n",
    "\n",
    "print(f\"\\nTablas candidatas para eliminación ({len(tablas_a_borrar)}):\")\n",
    "print(tablas_a_borrar)\n"
   ]
  },
  {
   "cell_type": "code",
   "execution_count": 37,
   "id": "0ee36ee8",
   "metadata": {},
   "outputs": [],
   "source": [
    "# ⚠️ Solo si tienes respaldo y estás en entorno seguro\n",
    "# ELIMINAR TABLAS CANDIDATAS\n",
    "\n",
    "# Desactivar restricciones\n",
    "cursor.execute(\"SET FOREIGN_KEY_CHECKS=0;\")\n",
    "\n",
    "borrar_lista_tablas(tablas_a_borrar)\n",
    "\n",
    "# Volver a activar restricciones\n",
    "cursor.execute(\"SET FOREIGN_KEY_CHECKS=1;\")\n",
    "\n"
   ]
  },
  {
   "cell_type": "markdown",
   "id": "e2e7a1e4",
   "metadata": {},
   "source": [
    "---"
   ]
  },
  {
   "cell_type": "markdown",
   "id": "13dd894a",
   "metadata": {},
   "source": [
    "*SEGUNDO FILTRO: Tablas posiblemente innecesarias por el nombre y breve análisis*"
   ]
  },
  {
   "cell_type": "code",
   "execution_count": 38,
   "id": "50927f7a",
   "metadata": {},
   "outputs": [
    {
     "name": "stdout",
     "output_type": "stream",
     "text": [
      "accounting_account_balances\n",
      "accounting_accounts\n",
      "accounting_movements\n",
      "accounting_voucher_items\n",
      "accounting_voucher_types\n",
      "accounting_vouchers\n",
      "billing_numberings\n",
      "company_areas\n",
      "contact_relationships\n",
      "contact_statements\n",
      "contacts\n",
      "contract_salary_history\n",
      "costs_and_expenses\n",
      "costs_and_expenses_categories\n",
      "coupons\n",
      "dining_tables\n",
      "document_items\n",
      "documents\n",
      "ecommerce_legal_info\n",
      "ecommerce_purchase_orders\n",
      "employee_contracts\n",
      "employee_positions\n",
      "employees\n",
      "fixed_asset_depreciations\n",
      "fixed_assets\n",
      "fixed_assets_groups\n",
      "headquarter_warehouses\n",
      "headquarters\n",
      "inventory_adjustments\n",
      "inventory_groups\n",
      "item_balance\n",
      "item_categories\n",
      "item_depreciations\n",
      "item_kardex\n",
      "item_subcategories\n",
      "item_variations\n",
      "items\n",
      "payment_conditions\n",
      "payments\n",
      "payroll_deductions\n",
      "payroll_details\n",
      "payroll_incomes\n",
      "payroll_providers\n",
      "payrolls\n",
      "price_lists\n",
      "retention_concepts\n",
      "retentions\n",
      "retentions_applied\n",
      "retentions_certificates\n",
      "taxes\n",
      "template_versions\n",
      "warehouse_transfer_logs\n",
      "warehouses\n"
     ]
    }
   ],
   "source": [
    "# Imprimir los nombres de las tablas restantes\n",
    "for tabla in tablas:\n",
    "    print(tabla)\n"
   ]
  },
  {
   "cell_type": "markdown",
   "id": "1f0d1819",
   "metadata": {},
   "source": [
    "*ANÁLISIS Y CONCLUSIONES DE LA INFORMACIÓN OBTENIDA*"
   ]
  },
  {
   "cell_type": "markdown",
   "id": "9e49afb7",
   "metadata": {},
   "source": [
    "**Tablas clave para análisis de gestión empresarial (💡 Mantener)**\n",
    "\n",
    "Estas son probablemente las más útiles para análisis de KPIs, dashboards o visualización de negocio:\n",
    "\n",
    "*Categoría\t//  Tablas clave*\n",
    "\n",
    "📦 Inventario\t= items, item_balance, item_kardex, warehouses, inventory_adjustments, item_categories, item_subcategories, item_variations\n",
    "\n",
    "💼 Ventas / Documentos\t= documents, document_items, contacts (clientes/proveedores)\n",
    "\n",
    "🧾 Contabilidad\t= accounting_vouchers, accounting_voucher_items, accounting_accounts, accounting_movements, retentions, retention_concepts, retentions_applied, accounting_account_balances\n",
    "\n",
    "👥 Empleados / Nómina\t= employees, employee_contracts, payrolls, payroll_details, payroll_incomes, payroll_deductions\n",
    "\n",
    "🛒 Compras\t= ecommerce_purchase_orders\n",
    "\n",
    "📊 Precios\t= price_lists\n",
    "\n",
    "🏪 Organización\t= headquarters, user_headquarters, roles, user_roles, company_areas\n",
    "\n",
    "🧾 Impuestos\t= taxes\n",
    "\n",
    "🏭 Activos fijos\t= fixed_assets, fixed_asset_depreciations, fixed_assets_groups\n"
   ]
  },
  {
   "cell_type": "markdown",
   "id": "335571bb",
   "metadata": {},
   "source": [
    "**Relevancia baja o dependiente del contexto (🤔 Revisar)**\n",
    "\n",
    "*Estas podrían ser útiles dependiendo del foco del proyecto (clientes, pedidos, legal, e-commerce):*\n",
    "\n",
    "contact_relationships, contact_accounts, contact_statements\n",
    "\n",
    "coupons, coupon_groups (si hay ecommerce)\n",
    "\n",
    "employee_positions, contract_salary_history\n",
    "\n",
    "plan_electronic_documents, plan_system_controller\n",
    "\n",
    "ecommerce_legal_info\n",
    "\n",
    "costs_and_expenses, costs_and_expenses_categories\n",
    "\n",
    "radian_documents (puede ser de facturación electrónica)\n",
    "\n",
    "dining_tables (¿restaurante? puede ser irrelevante)\n",
    "\n",
    "system_counters, system_restrictions"
   ]
  },
  {
   "cell_type": "code",
   "execution_count": 39,
   "id": "702f90f2",
   "metadata": {},
   "outputs": [],
   "source": [
    "# Lista de tablas candidatas a eliminar\n",
    "tablas_candidatas = [\n",
    "    \"api_access_tokens\",\n",
    "    \"electronic_payroll_test_set\",\n",
    "    \"migrations\",\n",
    "    \"oauth_clients\",\n",
    "    \"paynilo\",\n",
    "    \"role_permissions\",\n",
    "    \"template_versions\",\n",
    "    \"templates\",\n",
    "    \"user_data\",\n",
    "    \"values_x_item\",\n",
    "    \"warehouse_transfer_logs\",\n",
    "    \"billing_numberings\",\n",
    "    \"custom_fields\",\n",
    "    \"configurations\",\n",
    "    \"system_counters\",\n",
    "    \"system_restrictions\"\n",
    "]"
   ]
  },
  {
   "cell_type": "markdown",
   "id": "b1a52865",
   "metadata": {},
   "source": [
    "---"
   ]
  },
  {
   "cell_type": "markdown",
   "id": "cf8073e1",
   "metadata": {},
   "source": [
    "*TERCER FILTRO: tablas a eliminar según sus columnas y número de filas*"
   ]
  },
  {
   "cell_type": "code",
   "execution_count": 40,
   "id": "81b14fbf",
   "metadata": {},
   "outputs": [
    {
     "name": "stdout",
     "output_type": "stream",
     "text": [
      "\n",
      "❌ Error al cargar tabla api_access_tokens: (mysql.connector.errors.ProgrammingError) 1146 (42S02): Table 'erp.api_access_tokens' doesn't exist\n",
      "[SQL: SELECT * FROM `api_access_tokens` LIMIT 5]\n",
      "(Background on this error at: https://sqlalche.me/e/20/f405)\n",
      "\n",
      "❌ Error al cargar tabla electronic_payroll_test_set: (mysql.connector.errors.ProgrammingError) 1146 (42S02): Table 'erp.electronic_payroll_test_set' doesn't exist\n",
      "[SQL: SELECT * FROM `electronic_payroll_test_set` LIMIT 5]\n",
      "(Background on this error at: https://sqlalche.me/e/20/f405)\n",
      "\n",
      "❌ Error al cargar tabla migrations: (mysql.connector.errors.ProgrammingError) 1146 (42S02): Table 'erp.migrations' doesn't exist\n",
      "[SQL: SELECT * FROM `migrations` LIMIT 5]\n",
      "(Background on this error at: https://sqlalche.me/e/20/f405)\n",
      "\n",
      "❌ Error al cargar tabla oauth_clients: (mysql.connector.errors.ProgrammingError) 1146 (42S02): Table 'erp.oauth_clients' doesn't exist\n",
      "[SQL: SELECT * FROM `oauth_clients` LIMIT 5]\n",
      "(Background on this error at: https://sqlalche.me/e/20/f405)\n",
      "\n",
      "❌ Error al cargar tabla paynilo: (mysql.connector.errors.ProgrammingError) 1146 (42S02): Table 'erp.paynilo' doesn't exist\n",
      "[SQL: SELECT * FROM `paynilo` LIMIT 5]\n",
      "(Background on this error at: https://sqlalche.me/e/20/f405)\n",
      "\n",
      "❌ Error al cargar tabla role_permissions: (mysql.connector.errors.ProgrammingError) 1146 (42S02): Table 'erp.role_permissions' doesn't exist\n",
      "[SQL: SELECT * FROM `role_permissions` LIMIT 5]\n",
      "(Background on this error at: https://sqlalche.me/e/20/f405)\n",
      "\n",
      "📘 Tabla: template_versions\n",
      "Columnas: ['id', 'name', 'description']\n",
      "size:  6\n",
      "\n",
      "❌ Error al cargar tabla templates: (mysql.connector.errors.ProgrammingError) 1146 (42S02): Table 'erp.templates' doesn't exist\n",
      "[SQL: SELECT * FROM `templates` LIMIT 5]\n",
      "(Background on this error at: https://sqlalche.me/e/20/f405)\n",
      "\n",
      "❌ Error al cargar tabla user_data: (mysql.connector.errors.ProgrammingError) 1146 (42S02): Table 'erp.user_data' doesn't exist\n",
      "[SQL: SELECT * FROM `user_data` LIMIT 5]\n",
      "(Background on this error at: https://sqlalche.me/e/20/f405)\n",
      "\n",
      "❌ Error al cargar tabla values_x_item: (mysql.connector.errors.ProgrammingError) 1146 (42S02): Table 'erp.values_x_item' doesn't exist\n",
      "[SQL: SELECT * FROM `values_x_item` LIMIT 5]\n",
      "(Background on this error at: https://sqlalche.me/e/20/f405)\n",
      "\n",
      "📘 Tabla: warehouse_transfer_logs\n",
      "Columnas: ['id', 'source_warehouse_id', 'destination_warehouse_id', 'headquarter_id', 'item_id', 'quantity', 'user_id', 'date', 'created_at', 'updated_at']\n",
      "size:  50\n",
      "\n",
      "📘 Tabla: billing_numberings\n",
      "Columnas: ['id', 'document_type_id', 'pos_numbering', 'name', 'prefix', 'initial_number', 'current_number', 'final_number', 'valid_since', 'valid_until', 'validity', 'preferred', 'electronic_billing', 'is_ecommerce', 'resolution_number', 'resolution_type', 'resolution_description', 'tech_key', 'used', 'template', 'headquarter_id', 'warehouse_id', 'status', 'user_id', 'created_at', 'updated_at', 'contingency']\n",
      "size:  135\n",
      "\n",
      "❌ Error al cargar tabla custom_fields: (mysql.connector.errors.ProgrammingError) 1146 (42S02): Table 'erp.custom_fields' doesn't exist\n",
      "[SQL: SELECT * FROM `custom_fields` LIMIT 5]\n",
      "(Background on this error at: https://sqlalche.me/e/20/f405)\n",
      "\n",
      "❌ Error al cargar tabla configurations: (mysql.connector.errors.ProgrammingError) 1146 (42S02): Table 'erp.configurations' doesn't exist\n",
      "[SQL: SELECT * FROM `configurations` LIMIT 5]\n",
      "(Background on this error at: https://sqlalche.me/e/20/f405)\n",
      "\n",
      "❌ Error al cargar tabla system_counters: (mysql.connector.errors.ProgrammingError) 1146 (42S02): Table 'erp.system_counters' doesn't exist\n",
      "[SQL: SELECT * FROM `system_counters` LIMIT 5]\n",
      "(Background on this error at: https://sqlalche.me/e/20/f405)\n",
      "\n",
      "❌ Error al cargar tabla system_restrictions: (mysql.connector.errors.ProgrammingError) 1146 (42S02): Table 'erp.system_restrictions' doesn't exist\n",
      "[SQL: SELECT * FROM `system_restrictions` LIMIT 5]\n",
      "(Background on this error at: https://sqlalche.me/e/20/f405)\n"
     ]
    }
   ],
   "source": [
    "\n",
    "# Mostrar información muy básica de las tablas candidatas\n",
    "for tabla in tablas_candidatas:\n",
    "    try:\n",
    "        df = pd.read_sql(f\"SELECT * FROM `{tabla}` LIMIT 5\", engine)\n",
    "        print(f\"\\n📘 Tabla: {tabla}\")\n",
    "        print(\"Columnas:\", df.columns.tolist())\n",
    "        print(\"size: \", df.size)\n",
    "    except Exception as e:\n",
    "        print(f\"\\n❌ Error al cargar tabla {tabla}: {e}\")"
   ]
  },
  {
   "cell_type": "markdown",
   "id": "c1a0d171",
   "metadata": {},
   "source": [
    "**Tablas candidatas fuertes para eliminación (por contenido y nombre)**\n",
    "\n",
    "Estas tablas tienen pocos registros, estructuras irrelevantes para KPIs o funciones accesorias que no impactan directamente en la gestión:\n",
    "\n",
    "*Tabla\t// Motivo principal*\n",
    "\n",
    "api_access_tokens\tManejo técnico de tokens\n",
    "\n",
    "electronic_payroll_test_set\tDatos de prueba (test set)\n",
    "\n",
    "migrations\tSolo para migraciones del sistema\n",
    "\n",
    "oauth_clients\tSeguridad/autenticación interna\n",
    "\n",
    "paynilo\tIntegración de pagos externa\n",
    "\n",
    "role_permissions\tControl de permisos internos\n",
    "\n",
    "template_versions\tVersiones de plantillas, sin datos\n",
    "\n",
    "templates\tEstructura visual, no analítica\n",
    "\n",
    "user_data\tSolo datos de área/cargo del usuario\n",
    "\n",
    "custom_fields\tCampos personalizados (metadatos)\n",
    "\n",
    "system_counters\tEstadísticas internas del sistema\n",
    "\n",
    "system_restrictions\tRestricciones de uso/licencia\n",
    "\n",
    "values_x_item\tDatos muy técnicos por item, posiblemente redundantes\n",
    "\n",
    "warehouse_transfer_logs\tRegistro técnico, no necesariamente útil para KPIs"
   ]
  },
  {
   "cell_type": "markdown",
   "id": "f002ae8b",
   "metadata": {},
   "source": [
    "----"
   ]
  },
  {
   "cell_type": "markdown",
   "id": "ba4e3993",
   "metadata": {},
   "source": [
    "*CUARTO FILTRO: Investigar mas a fondo las tablas dudosas*"
   ]
  },
  {
   "cell_type": "markdown",
   "id": "c0748864",
   "metadata": {},
   "source": [
    "**⚠️ Tablas dudosas (verificar con .info() antes de decidir)**\n",
    "\n",
    "Estas tienen algo más de contenido o potencial analítico dependiendo del negocio:\n",
    "\n",
    "*billing_numberings:* Tiene 155 registros. Podría contener información útil para facturación si los números se asocian a documentos.\n",
    "\n",
    "*configurations:* Solo 25 registros, pero hay que ver si son configuraciones claves que afectan reportes.\n",
    "\n"
   ]
  },
  {
   "cell_type": "code",
   "execution_count": 41,
   "id": "2e551c8d",
   "metadata": {},
   "outputs": [
    {
     "name": "stdout",
     "output_type": "stream",
     "text": [
      "\n",
      "📋 Tabla: billing_numberings\n",
      "▶️ .info():\n",
      "<class 'pandas.core.frame.DataFrame'>\n",
      "RangeIndex: 50 entries, 0 to 49\n",
      "Data columns (total 27 columns):\n",
      " #   Column                  Non-Null Count  Dtype         \n",
      "---  ------                  --------------  -----         \n",
      " 0   id                      50 non-null     int64         \n",
      " 1   document_type_id        50 non-null     int64         \n",
      " 2   pos_numbering           50 non-null     int64         \n",
      " 3   name                    50 non-null     object        \n",
      " 4   prefix                  50 non-null     object        \n",
      " 5   initial_number          50 non-null     int64         \n",
      " 6   current_number          50 non-null     int64         \n",
      " 7   final_number            22 non-null     float64       \n",
      " 8   valid_since             22 non-null     object        \n",
      " 9   valid_until             22 non-null     object        \n",
      " 10  validity                22 non-null     float64       \n",
      " 11  preferred               50 non-null     int64         \n",
      " 12  electronic_billing      50 non-null     int64         \n",
      " 13  is_ecommerce            50 non-null     int64         \n",
      " 14  resolution_number       19 non-null     object        \n",
      " 15  resolution_type         19 non-null     object        \n",
      " 16  resolution_description  19 non-null     object        \n",
      " 17  tech_key                5 non-null      object        \n",
      " 18  used                    50 non-null     int64         \n",
      " 19  template                31 non-null     object        \n",
      " 20  headquarter_id          50 non-null     int64         \n",
      " 21  warehouse_id            50 non-null     int64         \n",
      " 22  status                  50 non-null     int64         \n",
      " 23  user_id                 50 non-null     int64         \n",
      " 24  created_at              25 non-null     datetime64[ns]\n",
      " 25  updated_at              31 non-null     datetime64[ns]\n",
      " 26  contingency             50 non-null     int64         \n",
      "dtypes: datetime64[ns](2), float64(2), int64(14), object(9)\n",
      "memory usage: 10.7+ KB\n",
      "None\n",
      "▶️ Primeras filas:\n"
     ]
    },
    {
     "data": {
      "text/html": [
       "<div>\n",
       "<style scoped>\n",
       "    .dataframe tbody tr th:only-of-type {\n",
       "        vertical-align: middle;\n",
       "    }\n",
       "\n",
       "    .dataframe tbody tr th {\n",
       "        vertical-align: top;\n",
       "    }\n",
       "\n",
       "    .dataframe thead th {\n",
       "        text-align: right;\n",
       "    }\n",
       "</style>\n",
       "<table border=\"1\" class=\"dataframe\">\n",
       "  <thead>\n",
       "    <tr style=\"text-align: right;\">\n",
       "      <th></th>\n",
       "      <th>id</th>\n",
       "      <th>document_type_id</th>\n",
       "      <th>pos_numbering</th>\n",
       "      <th>name</th>\n",
       "      <th>prefix</th>\n",
       "      <th>initial_number</th>\n",
       "      <th>current_number</th>\n",
       "      <th>final_number</th>\n",
       "      <th>valid_since</th>\n",
       "      <th>valid_until</th>\n",
       "      <th>...</th>\n",
       "      <th>tech_key</th>\n",
       "      <th>used</th>\n",
       "      <th>template</th>\n",
       "      <th>headquarter_id</th>\n",
       "      <th>warehouse_id</th>\n",
       "      <th>status</th>\n",
       "      <th>user_id</th>\n",
       "      <th>created_at</th>\n",
       "      <th>updated_at</th>\n",
       "      <th>contingency</th>\n",
       "    </tr>\n",
       "  </thead>\n",
       "  <tbody>\n",
       "    <tr>\n",
       "      <th>0</th>\n",
       "      <td>1</td>\n",
       "      <td>11</td>\n",
       "      <td>0</td>\n",
       "      <td>Remisiones</td>\n",
       "      <td></td>\n",
       "      <td>0</td>\n",
       "      <td>56</td>\n",
       "      <td>NaN</td>\n",
       "      <td>None</td>\n",
       "      <td>None</td>\n",
       "      <td>...</td>\n",
       "      <td>None</td>\n",
       "      <td>1</td>\n",
       "      <td>{\"id\": 1, \"name\": \"Carta\", \"template_type\": \"1\"}</td>\n",
       "      <td>1</td>\n",
       "      <td>1</td>\n",
       "      <td>1</td>\n",
       "      <td>10</td>\n",
       "      <td>NaT</td>\n",
       "      <td>2024-05-24 09:54:00</td>\n",
       "      <td>0</td>\n",
       "    </tr>\n",
       "    <tr>\n",
       "      <th>1</th>\n",
       "      <td>2</td>\n",
       "      <td>12</td>\n",
       "      <td>0</td>\n",
       "      <td>Cotizaciones</td>\n",
       "      <td></td>\n",
       "      <td>0</td>\n",
       "      <td>91</td>\n",
       "      <td>NaN</td>\n",
       "      <td>None</td>\n",
       "      <td>None</td>\n",
       "      <td>...</td>\n",
       "      <td>None</td>\n",
       "      <td>1</td>\n",
       "      <td>{\"id\": 3, \"name\": \"POS\", \"template_type\": \"1\"}</td>\n",
       "      <td>1</td>\n",
       "      <td>1</td>\n",
       "      <td>1</td>\n",
       "      <td>10</td>\n",
       "      <td>NaT</td>\n",
       "      <td>2024-07-13 11:53:24</td>\n",
       "      <td>0</td>\n",
       "    </tr>\n",
       "    <tr>\n",
       "      <th>2</th>\n",
       "      <td>3</td>\n",
       "      <td>13</td>\n",
       "      <td>0</td>\n",
       "      <td>Recibos de Caja</td>\n",
       "      <td></td>\n",
       "      <td>0</td>\n",
       "      <td>506</td>\n",
       "      <td>NaN</td>\n",
       "      <td>None</td>\n",
       "      <td>None</td>\n",
       "      <td>...</td>\n",
       "      <td>None</td>\n",
       "      <td>1</td>\n",
       "      <td>{\"id\": 1, \"name\": \"Carta\", \"template_type\": \"1\"}</td>\n",
       "      <td>1</td>\n",
       "      <td>1</td>\n",
       "      <td>1</td>\n",
       "      <td>10</td>\n",
       "      <td>NaT</td>\n",
       "      <td>2024-07-17 10:58:41</td>\n",
       "      <td>0</td>\n",
       "    </tr>\n",
       "    <tr>\n",
       "      <th>3</th>\n",
       "      <td>4</td>\n",
       "      <td>14</td>\n",
       "      <td>0</td>\n",
       "      <td>Comprobantes de Pago</td>\n",
       "      <td></td>\n",
       "      <td>0</td>\n",
       "      <td>113</td>\n",
       "      <td>NaN</td>\n",
       "      <td>None</td>\n",
       "      <td>None</td>\n",
       "      <td>...</td>\n",
       "      <td>None</td>\n",
       "      <td>1</td>\n",
       "      <td>{\"id\": 1, \"name\": \"Carta\", \"template_type\": \"1\"}</td>\n",
       "      <td>1</td>\n",
       "      <td>1</td>\n",
       "      <td>1</td>\n",
       "      <td>0</td>\n",
       "      <td>NaT</td>\n",
       "      <td>2024-07-17 11:00:31</td>\n",
       "      <td>0</td>\n",
       "    </tr>\n",
       "    <tr>\n",
       "      <th>4</th>\n",
       "      <td>5</td>\n",
       "      <td>15</td>\n",
       "      <td>0</td>\n",
       "      <td>Órdenes de Compra</td>\n",
       "      <td></td>\n",
       "      <td>0</td>\n",
       "      <td>23</td>\n",
       "      <td>NaN</td>\n",
       "      <td>None</td>\n",
       "      <td>None</td>\n",
       "      <td>...</td>\n",
       "      <td>None</td>\n",
       "      <td>1</td>\n",
       "      <td>{\"id\": 1, \"name\": \"Carta\", \"template_type\": \"1\"}</td>\n",
       "      <td>1</td>\n",
       "      <td>1</td>\n",
       "      <td>1</td>\n",
       "      <td>0</td>\n",
       "      <td>NaT</td>\n",
       "      <td>2024-04-03 16:10:15</td>\n",
       "      <td>0</td>\n",
       "    </tr>\n",
       "  </tbody>\n",
       "</table>\n",
       "<p>5 rows × 27 columns</p>\n",
       "</div>"
      ],
      "text/plain": [
       "   id  document_type_id  pos_numbering                  name prefix  \\\n",
       "0   1                11              0            Remisiones          \n",
       "1   2                12              0          Cotizaciones          \n",
       "2   3                13              0       Recibos de Caja          \n",
       "3   4                14              0  Comprobantes de Pago          \n",
       "4   5                15              0     Órdenes de Compra          \n",
       "\n",
       "   initial_number  current_number  final_number valid_since valid_until  ...  \\\n",
       "0               0              56           NaN        None        None  ...   \n",
       "1               0              91           NaN        None        None  ...   \n",
       "2               0             506           NaN        None        None  ...   \n",
       "3               0             113           NaN        None        None  ...   \n",
       "4               0              23           NaN        None        None  ...   \n",
       "\n",
       "   tech_key  used                                          template  \\\n",
       "0      None     1  {\"id\": 1, \"name\": \"Carta\", \"template_type\": \"1\"}   \n",
       "1      None     1    {\"id\": 3, \"name\": \"POS\", \"template_type\": \"1\"}   \n",
       "2      None     1  {\"id\": 1, \"name\": \"Carta\", \"template_type\": \"1\"}   \n",
       "3      None     1  {\"id\": 1, \"name\": \"Carta\", \"template_type\": \"1\"}   \n",
       "4      None     1  {\"id\": 1, \"name\": \"Carta\", \"template_type\": \"1\"}   \n",
       "\n",
       "   headquarter_id warehouse_id status user_id created_at          updated_at  \\\n",
       "0               1            1      1      10        NaT 2024-05-24 09:54:00   \n",
       "1               1            1      1      10        NaT 2024-07-13 11:53:24   \n",
       "2               1            1      1      10        NaT 2024-07-17 10:58:41   \n",
       "3               1            1      1       0        NaT 2024-07-17 11:00:31   \n",
       "4               1            1      1       0        NaT 2024-04-03 16:10:15   \n",
       "\n",
       "  contingency  \n",
       "0           0  \n",
       "1           0  \n",
       "2           0  \n",
       "3           0  \n",
       "4           0  \n",
       "\n",
       "[5 rows x 27 columns]"
      ]
     },
     "metadata": {},
     "output_type": "display_data"
    },
    {
     "name": "stdout",
     "output_type": "stream",
     "text": [
      "\n",
      "📋 Tabla: configurations\n",
      "❌ Error al cargar configurations: (mysql.connector.errors.ProgrammingError) 1146 (42S02): Table 'erp.configurations' doesn't exist\n",
      "[SQL: SELECT * FROM configurations]\n",
      "(Background on this error at: https://sqlalche.me/e/20/f405)\n"
     ]
    }
   ],
   "source": [
    "# Obtener el esquema de cada tabla para decidir si son candidatas a eliminación\n",
    "tablas_dudosas = ['billing_numberings', 'configurations'] # Agregar mas tablas si es necesario\n",
    "\n",
    "for tabla in tablas_dudosas:\n",
    "    print(f\"\\n📋 Tabla: {tabla}\")\n",
    "    try:\n",
    "        df = pd.read_sql(f\"SELECT * FROM {tabla}\", con=engine)\n",
    "        print(\"▶️ .info():\")\n",
    "        print(df.info())\n",
    "        print(\"▶️ Primeras filas:\")\n",
    "        display(df.head())\n",
    "    except Exception as e:\n",
    "        print(f\"❌ Error al cargar {tabla}: {e}\")\n"
   ]
  },
  {
   "cell_type": "markdown",
   "id": "28b7a189",
   "metadata": {},
   "source": [
    "---"
   ]
  },
  {
   "cell_type": "markdown",
   "id": "f07e5cbf",
   "metadata": {},
   "source": [
    "**TABLAS FINALES A ELIMINAR DESPUÉS DE TODOS LOS FILTROS Y ANÁLISIS INDIVIDUAL**"
   ]
  },
  {
   "cell_type": "markdown",
   "id": "7dfc491f",
   "metadata": {},
   "source": [
    "Falta escoger y seleccionar individualmente "
   ]
  },
  {
   "cell_type": "code",
   "execution_count": 42,
   "id": "67e8d147",
   "metadata": {},
   "outputs": [],
   "source": [
    "tablas_a_eliminar = [\n",
    "    \"api_access_tokens\",             # Manejo técnico de tokens\n",
    "    \"electronic_payroll_test_set\",   # Datos de prueba (test set)\n",
    "    \"migrations\",                    # Solo para migraciones del sistema\n",
    "    \"oauth_clients\",                 # Seguridad/autenticación interna\n",
    "    \"paynilo\",                       # Integración de pagos externa\n",
    "    \"role_permissions\",             # Control de permisos internos\n",
    "    \"template_versions\",            # Versiones de plantillas, sin datos\n",
    "    \"templates\",                    # Estructura visual, no analítica\n",
    "    \"user_data\",                    # Solo datos de área/cargo del usuario\n",
    "    \"custom_fields\",                # Campos personalizados (metadatos)\n",
    "    \"system_counters\",              # Estadísticas internas del sistema\n",
    "    \"system_restrictions\",          # Restricciones de uso/licencia\n",
    "    \"values_x_item\",                # Datos técnicos por ítem\n",
    "    \"user_roles\",\n",
    "    \"user_data\",\n",
    "    \"user_headquarters\",\n",
    "    \"term_and_conditions,\",\n",
    "    \"severance_payments\",\n",
    "    \"roles\", \n",
    "    \"role_permissions\",\n",
    "    \"radian_events\",\n",
    "    \"radian_documents\",\n",
    "    \"plan_system_controller\",\n",
    "    \"plan_electronic_documents\",\n",
    "    \"api_access_tokens\",\n",
    "    \"configurations\",\n",
    "    \"company_areas\",\n",
    "    \"consolidated_retention_certificates\",\n",
    "    \"contact_accounts\",\n",
    "    \"contact_relationship\",\n",
    "    \"contact_statement\",\n",
    "    \"contact\",\n",
    "    \"custom_fields\",\n",
    "    \"dining_tables\",\n",
    "    \"ecomerce_legal_info\",\n",
    "    \"ecomerce_purchase_orders\",\n",
    "    \"electronic_payroll_test_set\", \n",
    "    \"electronic_contracts\",\n",
    "    \"employee_positions\", \n",
    "    \"employees\", \n",
    "    \"migraciones ]\"     # Registro técnico, no útil para KPIs\n",
    "   \n",
    "]\n",
    "\n",
    "\n",
    " "
   ]
  },
  {
   "cell_type": "code",
   "execution_count": 43,
   "id": "4e22fc0f",
   "metadata": {},
   "outputs": [
    {
     "name": "stdout",
     "output_type": "stream",
     "text": [
      "❌ Error al eliminar api_access_tokens: 1051 (42S02): Unknown table 'erp.api_access_tokens'\n",
      "❌ Error al eliminar electronic_payroll_test_set: 1051 (42S02): Unknown table 'erp.electronic_payroll_test_set'\n",
      "❌ Error al eliminar migrations: 1051 (42S02): Unknown table 'erp.migrations'\n",
      "❌ Error al eliminar oauth_clients: 1051 (42S02): Unknown table 'erp.oauth_clients'\n",
      "❌ Error al eliminar paynilo: 1051 (42S02): Unknown table 'erp.paynilo'\n",
      "❌ Error al eliminar role_permissions: 1051 (42S02): Unknown table 'erp.role_permissions'\n",
      "✅ Tabla eliminada: template_versions\n",
      "❌ Error al eliminar templates: 1051 (42S02): Unknown table 'erp.templates'\n",
      "❌ Error al eliminar user_data: 1051 (42S02): Unknown table 'erp.user_data'\n",
      "❌ Error al eliminar custom_fields: 1051 (42S02): Unknown table 'erp.custom_fields'\n"
     ]
    },
    {
     "name": "stdout",
     "output_type": "stream",
     "text": [
      "❌ Error al eliminar system_counters: 1051 (42S02): Unknown table 'erp.system_counters'\n",
      "❌ Error al eliminar system_restrictions: 1051 (42S02): Unknown table 'erp.system_restrictions'\n",
      "❌ Error al eliminar values_x_item: 1051 (42S02): Unknown table 'erp.values_x_item'\n",
      "❌ Error al eliminar user_roles: 1051 (42S02): Unknown table 'erp.user_roles'\n",
      "❌ Error al eliminar user_data: 1051 (42S02): Unknown table 'erp.user_data'\n",
      "❌ Error al eliminar user_headquarters: 1051 (42S02): Unknown table 'erp.user_headquarters'\n",
      "❌ Error al eliminar term_and_conditions,: 1051 (42S02): Unknown table 'erp.term_and_conditions,'\n",
      "❌ Error al eliminar severance_payments: 1051 (42S02): Unknown table 'erp.severance_payments'\n",
      "❌ Error al eliminar roles: 1051 (42S02): Unknown table 'erp.roles'\n",
      "❌ Error al eliminar role_permissions: 1051 (42S02): Unknown table 'erp.role_permissions'\n",
      "❌ Error al eliminar radian_events: 1051 (42S02): Unknown table 'erp.radian_events'\n",
      "❌ Error al eliminar radian_documents: 1051 (42S02): Unknown table 'erp.radian_documents'\n",
      "❌ Error al eliminar plan_system_controller: 1051 (42S02): Unknown table 'erp.plan_system_controller'\n",
      "❌ Error al eliminar plan_electronic_documents: 1051 (42S02): Unknown table 'erp.plan_electronic_documents'\n",
      "❌ Error al eliminar api_access_tokens: 1051 (42S02): Unknown table 'erp.api_access_tokens'\n",
      "❌ Error al eliminar configurations: 1051 (42S02): Unknown table 'erp.configurations'\n",
      "✅ Tabla eliminada: company_areas\n",
      "❌ Error al eliminar consolidated_retention_certificates: 1051 (42S02): Unknown table 'erp.consolidated_retention_certificates'\n",
      "❌ Error al eliminar contact_accounts: 1051 (42S02): Unknown table 'erp.contact_accounts'\n",
      "❌ Error al eliminar contact_relationship: 1051 (42S02): Unknown table 'erp.contact_relationship'\n",
      "❌ Error al eliminar contact_statement: 1051 (42S02): Unknown table 'erp.contact_statement'\n",
      "❌ Error al eliminar contact: 1051 (42S02): Unknown table 'erp.contact'\n",
      "❌ Error al eliminar custom_fields: 1051 (42S02): Unknown table 'erp.custom_fields'\n",
      "✅ Tabla eliminada: dining_tables\n",
      "❌ Error al eliminar ecomerce_legal_info: 1051 (42S02): Unknown table 'erp.ecomerce_legal_info'\n",
      "❌ Error al eliminar ecomerce_purchase_orders: 1051 (42S02): Unknown table 'erp.ecomerce_purchase_orders'\n",
      "❌ Error al eliminar electronic_payroll_test_set: 1051 (42S02): Unknown table 'erp.electronic_payroll_test_set'\n",
      "❌ Error al eliminar electronic_contracts: 1051 (42S02): Unknown table 'erp.electronic_contracts'\n",
      "✅ Tabla eliminada: employee_positions\n",
      "✅ Tabla eliminada: employees\n",
      "❌ Error al eliminar migraciones ]: 1051 (42S02): Unknown table 'erp.migraciones ]'\n"
     ]
    }
   ],
   "source": [
    "# ⚠️ Solo si tienes respaldo y estás en entorno seguro\n",
    "# ELIMINAR TABLAS FINALES ¡OJO HAY QUE ESCOGER ANTES DE EJECUTAR!\n",
    "\n",
    "# Desactivar restricciones !NO SE HACE ANTES DE VERIFICAR QUE NO GENERA NINGÚN DAÑO!\n",
    "cursor.execute(\"SET FOREIGN_KEY_CHECKS=0;\")\n",
    "\n",
    "borrar_lista_tablas(tablas_a_eliminar)\n",
    "\n",
    "# Volver a activar restricciones !NO SE HACE ANTES DE VERIFICAR QUE NO GENERA NINGÚN DAÑO!\n",
    "cursor.execute(\"SET FOREIGN_KEY_CHECKS=1;\")\n"
   ]
  },
  {
   "cell_type": "code",
   "execution_count": 44,
   "id": "7786c46f",
   "metadata": {},
   "outputs": [],
   "source": [
    "# Cerrar conexión\n",
    "cursor.close()\n",
    "conexion.close()\n"
   ]
  }
 ],
 "metadata": {
  "kernelspec": {
   "display_name": ".venv",
   "language": "python",
   "name": "python3"
  },
  "language_info": {
   "codemirror_mode": {
    "name": "ipython",
    "version": 3
   },
   "file_extension": ".py",
   "mimetype": "text/x-python",
   "name": "python",
   "nbconvert_exporter": "python",
   "pygments_lexer": "ipython3",
   "version": "3.13.3"
  }
 },
 "nbformat": 4,
 "nbformat_minor": 5
}
