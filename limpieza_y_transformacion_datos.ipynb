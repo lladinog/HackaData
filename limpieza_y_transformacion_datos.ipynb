{
 "cells": [
  {
   "cell_type": "markdown",
   "id": "70bd7d35",
   "metadata": {},
   "source": [
    "**IMPORTAR LIBRERIAS**"
   ]
  },
  {
   "cell_type": "markdown",
   "id": "1657f64f",
   "metadata": {},
   "source": [
    "---"
   ]
  },
  {
   "cell_type": "code",
   "execution_count": 1,
   "id": "37f9727b",
   "metadata": {},
   "outputs": [],
   "source": [
    "import pandas as pd\n",
    "import json"
   ]
  },
  {
   "cell_type": "code",
   "execution_count": 2,
   "id": "38583d4e",
   "metadata": {},
   "outputs": [
    {
     "name": "stdout",
     "output_type": "stream",
     "text": [
      "✅ Conexión exitosa a la base de datos\n"
     ]
    }
   ],
   "source": [
    "from db_connection import get_connection\n",
    "from mysql.connector import Error\n",
    "\n",
    "# Crear conexión a la base de datos\n",
    "conexion = get_connection()\n",
    "cursor = conexion.cursor()"
   ]
  },
  {
   "cell_type": "code",
   "execution_count": 3,
   "id": "ed886b87",
   "metadata": {},
   "outputs": [],
   "source": [
    "from db_connection import get_engine  \n",
    "\n",
    "# Crear engine para acceder a la base de datos\n",
    "engine = get_engine()"
   ]
  },
  {
   "cell_type": "markdown",
   "id": "ff943b32",
   "metadata": {},
   "source": [
    "---\n"
   ]
  },
  {
   "cell_type": "markdown",
   "id": "775db3be",
   "metadata": {},
   "source": [
    "**FUNCIONES**"
   ]
  },
  {
   "cell_type": "markdown",
   "id": "dc247507",
   "metadata": {},
   "source": [
    "---"
   ]
  },
  {
   "cell_type": "code",
   "execution_count": 4,
   "id": "c425be42",
   "metadata": {},
   "outputs": [],
   "source": [
    "# Comprobar si la tabla esta relacionada con otra\n",
    "def columna_tiene_foreign_key(cursor, tabla, columna):\n",
    "    cursor.execute(f\"\"\"\n",
    "        SELECT COUNT(*) \n",
    "        FROM information_schema.KEY_COLUMN_USAGE \n",
    "        WHERE TABLE_NAME = '{tabla}' \n",
    "        AND COLUMN_NAME = '{columna}'\n",
    "        AND TABLE_SCHEMA = DATABASE()\n",
    "        AND REFERENCED_TABLE_NAME IS NOT NULL;\n",
    "    \"\"\")\n",
    "    return cursor.fetchone()[0] > 0\n"
   ]
  },
  {
   "cell_type": "code",
   "execution_count": 5,
   "id": "83083378",
   "metadata": {},
   "outputs": [],
   "source": [
    "# Obtener el nombre de la clave foránea de la tabla relacionada\n",
    "def obtener_nombre_clave_foranea(cursor, tabla, columna):\n",
    "    cursor.execute(f\"\"\"\n",
    "        SELECT CONSTRAINT_NAME \n",
    "        FROM information_schema.KEY_COLUMN_USAGE \n",
    "        WHERE TABLE_NAME = '{tabla}' \n",
    "        AND COLUMN_NAME = '{columna}' \n",
    "        AND TABLE_SCHEMA = DATABASE()\n",
    "        AND REFERENCED_TABLE_NAME IS NOT NULL;\n",
    "    \"\"\")\n",
    "    result = cursor.fetchone()\n",
    "    return result[0] if result else None"
   ]
  },
  {
   "cell_type": "code",
   "execution_count": 6,
   "id": "141a5d25",
   "metadata": {},
   "outputs": [],
   "source": [
    "# Verificar columnas completamente nulas\n",
    "def columnas_vacias(columnas, tabla):\n",
    "\n",
    "    columnas_eliminadas = []\n",
    "\n",
    "    for col in columnas:\n",
    "        cursor.execute(f\"SELECT COUNT(*) FROM `{tabla}` WHERE `{col}` IS NOT NULL;\")\n",
    "        not_null_count = cursor.fetchone()[0]\n",
    "        if not_null_count == 0:\n",
    "            try:\n",
    "                if columna_tiene_foreign_key(cursor, tabla, col):\n",
    "                    fk_name = obtener_nombre_clave_foranea(cursor, tabla, col)\n",
    "                    if fk_name:\n",
    "                        cursor.execute(f\"ALTER TABLE `{tabla}` DROP FOREIGN KEY `{fk_name}`;\")\n",
    "                        print(f\"🔓 Foreign key '{fk_name}' eliminada de columna '{col}'\")\n",
    "\n",
    "                cursor.execute(f\"ALTER TABLE `{tabla}` DROP COLUMN `{col}`;\")\n",
    "                columnas_eliminadas.append(col)\n",
    "                print(f\"🗑️ Columna eliminada: {col}\")\n",
    "\n",
    "\n",
    "            except Error as e:\n",
    "                print(f\"❌ Error al eliminar columna {col}: {e}\")\n",
    "    return columnas_eliminadas"
   ]
  },
  {
   "cell_type": "code",
   "execution_count": 7,
   "id": "68de64ef",
   "metadata": {},
   "outputs": [],
   "source": [
    "# Verificar filas completamente nulas\n",
    "def filas_completamente_nulas(columnas_eliminadas, columnas, tabla):\n",
    "    # Eliminar filas completamente nulas (todas las columnas NULL)\n",
    "    if columnas_eliminadas:\n",
    "        # actualizar la lista de columnas\n",
    "        cursor.execute(f\"SHOW COLUMNS FROM `{tabla}`;\")\n",
    "        columnas = [col[0] for col in cursor.fetchall()]\n",
    "\n",
    "    if columnas:\n",
    "        condiciones = \" AND \".join([f\"`{col}` IS NULL\" for col in columnas])\n",
    "        delete_query = f\"DELETE FROM `{tabla}` WHERE {condiciones};\"\n",
    "        try:\n",
    "            cursor.execute(delete_query)\n",
    "            filas_afectadas = cursor.rowcount\n",
    "            if filas_afectadas > 0:\n",
    "                print(f\"🗑️ Filas eliminadas completamente nulas: {filas_afectadas}\")\n",
    "        except Error as e:\n",
    "            print(f\"❌ Error al eliminar filas nulas: {e}\")\n",
    "    else:\n",
    "        print(\"⚠️ La tabla quedó sin columnas, se omite eliminación de filas.\")"
   ]
  },
  {
   "cell_type": "markdown",
   "id": "d21b78ba",
   "metadata": {},
   "source": [
    "---"
   ]
  },
  {
   "cell_type": "markdown",
   "id": "0f9df0e6",
   "metadata": {},
   "source": [
    "**LIMPIEZA DE DATOS NULOS**"
   ]
  },
  {
   "cell_type": "markdown",
   "id": "96642aa1",
   "metadata": {},
   "source": [
    "---"
   ]
  },
  {
   "cell_type": "code",
   "execution_count": 8,
   "id": "755a0865",
   "metadata": {},
   "outputs": [],
   "source": [
    "# Obtener todas las tablas\n",
    "cursor.execute(\"SHOW TABLES;\")\n",
    "tablas = [t[0] for t in cursor.fetchall()]"
   ]
  },
  {
   "cell_type": "code",
   "execution_count": 9,
   "id": "cc82a54f",
   "metadata": {},
   "outputs": [
    {
     "name": "stdout",
     "output_type": "stream",
     "text": [
      "\n",
      "🔄 Procesando tabla: accounting_account_balances\n",
      "\n",
      "🔄 Procesando tabla: accounting_accounts\n",
      "\n",
      "🔄 Procesando tabla: accounting_movements\n",
      "\n",
      "🔄 Procesando tabla: accounting_voucher_items\n",
      "\n",
      "🔄 Procesando tabla: accounting_voucher_types\n",
      "\n",
      "🔄 Procesando tabla: accounting_vouchers\n",
      "\n",
      "🔄 Procesando tabla: billing_numberings\n",
      "\n",
      "🔄 Procesando tabla: contact_relationships\n",
      "\n",
      "🔄 Procesando tabla: contact_statements\n",
      "\n",
      "🔄 Procesando tabla: contacts\n",
      "\n",
      "🔄 Procesando tabla: contract_salary_history\n",
      "\n",
      "🔄 Procesando tabla: costs_and_expenses\n",
      "\n",
      "🔄 Procesando tabla: costs_and_expenses_categories\n",
      "\n",
      "🔄 Procesando tabla: coupons\n",
      "\n",
      "🔄 Procesando tabla: document_items\n",
      "\n",
      "🔄 Procesando tabla: documents\n",
      "\n",
      "🔄 Procesando tabla: ecommerce_legal_info\n",
      "\n",
      "🔄 Procesando tabla: ecommerce_purchase_orders\n",
      "\n",
      "🔄 Procesando tabla: employee_contracts\n",
      "\n",
      "🔄 Procesando tabla: fixed_asset_depreciations\n",
      "\n",
      "🔄 Procesando tabla: fixed_assets\n",
      "\n",
      "🔄 Procesando tabla: fixed_assets_groups\n",
      "\n",
      "🔄 Procesando tabla: headquarter_warehouses\n",
      "\n",
      "🔄 Procesando tabla: headquarters\n",
      "\n",
      "🔄 Procesando tabla: inventory_adjustments\n",
      "\n",
      "🔄 Procesando tabla: inventory_groups\n",
      "\n",
      "🔄 Procesando tabla: item_balance\n",
      "\n",
      "🔄 Procesando tabla: item_categories\n",
      "\n",
      "🔄 Procesando tabla: item_depreciations\n",
      "\n",
      "🔄 Procesando tabla: item_kardex\n",
      "\n",
      "🔄 Procesando tabla: item_subcategories\n",
      "\n",
      "🔄 Procesando tabla: item_variations\n",
      "\n",
      "🔄 Procesando tabla: items\n",
      "\n",
      "🔄 Procesando tabla: payment_conditions\n",
      "\n",
      "🔄 Procesando tabla: payments\n",
      "\n",
      "🔄 Procesando tabla: payroll_deductions\n",
      "\n",
      "🔄 Procesando tabla: payroll_details\n",
      "\n",
      "🔄 Procesando tabla: payroll_incomes\n",
      "\n",
      "🔄 Procesando tabla: payroll_providers\n",
      "\n",
      "🔄 Procesando tabla: payrolls\n",
      "\n",
      "🔄 Procesando tabla: price_lists\n",
      "\n",
      "🔄 Procesando tabla: retention_concepts\n",
      "\n",
      "🔄 Procesando tabla: retentions\n",
      "\n",
      "🔄 Procesando tabla: retentions_applied\n",
      "\n",
      "🔄 Procesando tabla: retentions_certificates\n",
      "\n",
      "🔄 Procesando tabla: taxes\n",
      "\n",
      "🔄 Procesando tabla: warehouse_transfer_logs\n",
      "\n",
      "🔄 Procesando tabla: warehouses\n",
      "\n",
      "✅ Limpieza completada.\n"
     ]
    }
   ],
   "source": [
    "# Ejecutar limpieza en cada tabla\n",
    "for tabla in tablas:\n",
    "    print(f\"\\n🔄 Procesando tabla: {tabla}\")\n",
    "    \n",
    "    # Obtener nombres de columnas\n",
    "    cursor.execute(f\"SHOW COLUMNS FROM `{tabla}`;\")\n",
    "    columnas = [col[0] for col in cursor.fetchall()]\n",
    "    \n",
    "    columnas_eliminadas = columnas_vacias(columnas, tabla)\n",
    "    \n",
    "    filas_completamente_nulas(columnas_eliminadas, columnas, tabla)\n",
    "    \n",
    "\n",
    "\n",
    "# Confirmar cambios\n",
    "conexion.commit()\n",
    "print(\"\\n✅ Limpieza completada.\")"
   ]
  },
  {
   "cell_type": "code",
   "execution_count": 10,
   "id": "7379e1ff",
   "metadata": {},
   "outputs": [],
   "source": [
    "# Cerrar conexión\n",
    "cursor.close()\n",
    "conexion.close()"
   ]
  },
  {
   "cell_type": "markdown",
   "id": "8ac76d87",
   "metadata": {},
   "source": [
    "---"
   ]
  },
  {
   "cell_type": "markdown",
   "id": "3639b5bc",
   "metadata": {},
   "source": [
    "**FORMATEAR CORRECTAMENTE LAS COLUMNAS**"
   ]
  },
  {
   "cell_type": "markdown",
   "id": "fa9fe393",
   "metadata": {},
   "source": [
    "---"
   ]
  },
  {
   "cell_type": "code",
   "execution_count": null,
   "id": "377e8957",
   "metadata": {},
   "outputs": [],
   "source": []
  },
  {
   "cell_type": "code",
   "execution_count": null,
   "id": "8b5011ce",
   "metadata": {},
   "outputs": [],
   "source": []
  },
  {
   "cell_type": "code",
   "execution_count": null,
   "id": "4db12df6",
   "metadata": {},
   "outputs": [],
   "source": []
  }
 ],
 "metadata": {
  "kernelspec": {
   "display_name": ".venv",
   "language": "python",
   "name": "python3"
  },
  "language_info": {
   "codemirror_mode": {
    "name": "ipython",
    "version": 3
   },
   "file_extension": ".py",
   "mimetype": "text/x-python",
   "name": "python",
   "nbconvert_exporter": "python",
   "pygments_lexer": "ipython3",
   "version": "3.13.3"
  }
 },
 "nbformat": 4,
 "nbformat_minor": 5
}
