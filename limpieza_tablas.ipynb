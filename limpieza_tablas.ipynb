{
 "cells": [
  {
   "cell_type": "code",
   "execution_count": 22,
   "id": "c1e44092",
   "metadata": {},
   "outputs": [],
   "source": [
    "# IMPORTAR LIBRERIAS\n",
    "import pandas as pd"
   ]
  },
  {
   "cell_type": "code",
   "execution_count": 23,
   "id": "0e7a20e9",
   "metadata": {},
   "outputs": [
    {
     "name": "stdout",
     "output_type": "stream",
     "text": [
      "✅ Conexión exitosa a la base de datos\n"
     ]
    }
   ],
   "source": [
    "# 📌 Importar conexión\n",
    "from db_connection import get_connection\n",
    "\n",
    "# 📌 Conectarse a la base de datos\n",
    "conexion = get_connection()\n",
    "cursor = conexion.cursor()\n"
   ]
  },
  {
   "cell_type": "code",
   "execution_count": 24,
   "id": "dcf0caf4",
   "metadata": {},
   "outputs": [
    {
     "name": "stdout",
     "output_type": "stream",
     "text": [
      "Total de tablas encontradas: 75\n"
     ]
    }
   ],
   "source": [
    "# 📌 Obtener todas las tablas\n",
    "cursor.execute(\"SHOW TABLES;\")\n",
    "tablas = [fila[0] for fila in cursor.fetchall()]\n",
    "print(f\"Total de tablas encontradas: {len(tablas)}\")\n"
   ]
  },
  {
   "cell_type": "code",
   "execution_count": 25,
   "id": "8fb27c13",
   "metadata": {},
   "outputs": [
    {
     "name": "stdout",
     "output_type": "stream",
     "text": [
      "\n",
      "Tablas candidatas para eliminación (0):\n",
      "[]\n"
     ]
    }
   ],
   "source": [
    "# PRIMER FILTRO: Tablas con menos de 2 registros\n",
    "tablas_a_borrar = []\n",
    "\n",
    "for tabla in tablas:\n",
    "    try:\n",
    "        cursor.execute(f\"SELECT COUNT(*) FROM `{tabla}`;\")\n",
    "        total = cursor.fetchone()[0]\n",
    "        if total <= 1:\n",
    "            tablas_a_borrar.append(tabla)\n",
    "    except Exception as e:\n",
    "        print(f\"❌ Error evaluando tabla {tabla}: {e}\")\n",
    "\n",
    "print(f\"\\nTablas candidatas para eliminación ({len(tablas_a_borrar)}):\")\n",
    "print(tablas_a_borrar)\n"
   ]
  },
  {
   "cell_type": "code",
   "execution_count": 26,
   "id": "0ee36ee8",
   "metadata": {},
   "outputs": [],
   "source": [
    "# ⚠️ Solo si tienes respaldo y estás en entorno seguro\n",
    "# ELIMINAR TABLAS CANDIDATAS\n",
    "\n",
    "# Desactivar restricciones\n",
    "cursor.execute(\"SET FOREIGN_KEY_CHECKS=0;\")\n",
    "\n",
    "for tabla in tablas_a_borrar:\n",
    "    try:\n",
    "        cursor.execute(f\"DROP TABLE `{tabla}`;\")\n",
    "        tablas.remove(tabla)\n",
    "        print(f\"✅ Tabla eliminada: {tabla}\")\n",
    "    except Exception as e:\n",
    "        print(f\"❌ Error al eliminar {tabla}: {e}\")\n",
    "\n",
    "# Confirmar cambios\n",
    "conexion.commit()\n",
    "\n",
    "# Volver a activar restricciones\n",
    "cursor.execute(\"SET FOREIGN_KEY_CHECKS=1;\")\n",
    "\n"
   ]
  },
  {
   "cell_type": "code",
   "execution_count": 27,
   "id": "50927f7a",
   "metadata": {},
   "outputs": [
    {
     "name": "stdout",
     "output_type": "stream",
     "text": [
      "accounting_account_balances\n",
      "accounting_accounts\n",
      "accounting_movements\n",
      "accounting_voucher_items\n",
      "accounting_voucher_types\n",
      "accounting_vouchers\n",
      "api_access_tokens\n",
      "billing_numberings\n",
      "company_areas\n",
      "configurations\n",
      "consolidated_retention_certificates\n",
      "contact_accounts\n",
      "contact_relationships\n",
      "contact_statements\n",
      "contacts\n",
      "contract_salary_history\n",
      "costs_and_expenses\n",
      "costs_and_expenses_categories\n",
      "coupons\n",
      "custom_fields\n",
      "dining_tables\n",
      "document_items\n",
      "documents\n",
      "ecommerce_legal_info\n",
      "ecommerce_purchase_orders\n",
      "electronic_payroll_test_set\n",
      "employee_contracts\n",
      "employee_positions\n",
      "employees\n",
      "fixed_asset_depreciations\n",
      "fixed_assets\n",
      "fixed_assets_groups\n",
      "headquarter_warehouses\n",
      "headquarters\n",
      "inventory_adjustments\n",
      "inventory_groups\n",
      "item_balance\n",
      "item_categories\n",
      "item_depreciations\n",
      "item_kardex\n",
      "item_subcategories\n",
      "item_variations\n",
      "items\n",
      "migrations\n",
      "oauth_clients\n",
      "payment_conditions\n",
      "payments\n",
      "paynilo\n",
      "payroll_deductions\n",
      "payroll_details\n",
      "payroll_incomes\n",
      "payroll_providers\n",
      "payrolls\n",
      "plan_electronic_documents\n",
      "plan_system_controller\n",
      "price_lists\n",
      "radian_documents\n",
      "retention_concepts\n",
      "retentions\n",
      "retentions_applied\n",
      "retentions_certificates\n",
      "role_permissions\n",
      "roles\n",
      "severance_payments\n",
      "system_counters\n",
      "system_restrictions\n",
      "taxes\n",
      "template_versions\n",
      "templates\n",
      "user_data\n",
      "user_headquarters\n",
      "user_roles\n",
      "values_x_item\n",
      "warehouse_transfer_logs\n",
      "warehouses\n"
     ]
    }
   ],
   "source": [
    "# SEGUNDO FILTRO: Tablas posiblemente innecesarias por el nombre\n",
    "for tabla in tablas:\n",
    "    print(tabla)\n"
   ]
  },
  {
   "cell_type": "markdown",
   "id": "9e49afb7",
   "metadata": {},
   "source": [
    "Tablas clave para análisis de gestión empresarial (💡 Mantener)\n",
    "Estas son probablemente las más útiles para análisis de KPIs, dashboards o visualización de negocio:\n",
    "\n",
    "Categoría\tTablas clave\n",
    "📦 Inventario\t= items, item_balance, item_kardex, warehouses, inventory_adjustments, item_categories, item_subcategories, item_variations\n",
    "💼 Ventas / Documentos\t= documents, document_items, contacts (clientes/proveedores)\n",
    "🧾 Contabilidad\t= accounting_vouchers, accounting_voucher_items, accounting_accounts, accounting_movements, retentions, retention_concepts, retentions_applied, accounting_account_balances\n",
    "👥 Empleados / Nómina\t= employees, employee_contracts, payrolls, payroll_details, payroll_incomes, payroll_deductions\n",
    "🛒 Compras\t= ecommerce_purchase_orders\n",
    "📊 Precios\t= price_lists\n",
    "🏪 Organización\t= headquarters, user_headquarters, roles, user_roles, company_areas\n",
    "🧾 Impuestos\t= taxes\n",
    "🏭 Activos fijos\t= fixed_assets, fixed_asset_depreciations, fixed_assets_groups\n"
   ]
  },
  {
   "cell_type": "markdown",
   "id": "335571bb",
   "metadata": {},
   "source": [
    "Relevancia baja o dependiente del contexto (🤔 Revisar)\n",
    "Estas podrían ser útiles dependiendo del foco del proyecto (clientes, pedidos, legal, e-commerce):\n",
    "\n",
    "contact_relationships, contact_accounts, contact_statements\n",
    "\n",
    "coupons, coupon_groups (si hay ecommerce)\n",
    "\n",
    "employee_positions, contract_salary_history\n",
    "\n",
    "plan_electronic_documents, plan_system_controller\n",
    "\n",
    "ecommerce_legal_info\n",
    "\n",
    "costs_and_expenses, costs_and_expenses_categories\n",
    "\n",
    "radian_documents (puede ser de facturación electrónica)\n",
    "\n",
    "dining_tables (¿restaurante? puede ser irrelevante)\n",
    "\n",
    "system_counters, system_restrictions"
   ]
  },
  {
   "cell_type": "code",
   "execution_count": 28,
   "id": "81b14fbf",
   "metadata": {},
   "outputs": [],
   "source": [
    "# Lista de tablas candidatas a eliminar\n",
    "tablas_candidatas = [\n",
    "    \"api_access_tokens\",\n",
    "    \"electronic_payroll_test_set\",\n",
    "    \"migrations\",\n",
    "    \"oauth_clients\",\n",
    "    \"paynilo\",\n",
    "    \"role_permissions\",\n",
    "    \"template_versions\",\n",
    "    \"templates\",\n",
    "    \"user_data\",\n",
    "    \"values_x_item\",\n",
    "    \"warehouse_transfer_logs\",\n",
    "    \"billing_numberings\",\n",
    "    \"custom_fields\",\n",
    "    \"configurations\",\n",
    "    \"system_counters\",\n",
    "    \"system_restrictions\"\n",
    "]\n"
   ]
  }
 ],
 "metadata": {
  "kernelspec": {
   "display_name": ".venv",
   "language": "python",
   "name": "python3"
  },
  "language_info": {
   "codemirror_mode": {
    "name": "ipython",
    "version": 3
   },
   "file_extension": ".py",
   "mimetype": "text/x-python",
   "name": "python",
   "nbconvert_exporter": "python",
   "pygments_lexer": "ipython3",
   "version": "3.13.3"
  }
 },
 "nbformat": 4,
 "nbformat_minor": 5
}
