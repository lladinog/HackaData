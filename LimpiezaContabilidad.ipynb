{
 "cells": [
  {
   "cell_type": "markdown",
   "id": "192e5941",
   "metadata": {},
   "source": [
    "Tabla accounting_account_balances"
   ]
  },
  {
   "cell_type": "code",
   "execution_count": 5,
   "id": "1385ef95",
   "metadata": {},
   "outputs": [
    {
     "name": "stdout",
     "output_type": "stream",
     "text": [
      "✅ Conexión exitosa a la base de datos\n",
      "Columnas de la tabla 'accounting_account_balances':\n",
      "  - id (bigint unsigned)\n",
      "  - code (double(16,15))\n",
      "  - accounting_id (bigint unsigned)\n",
      "  - name (varchar(255))\n",
      "  - initial_balance (double(18,6))\n",
      "  - final_balance (double(18,6))\n",
      "  - debit_movement (double(18,6))\n",
      "  - credit_movement (double(18,6))\n",
      "  - third_party_type_id (varchar(50))\n",
      "  - third_party_id (bigint unsigned)\n",
      "  - currency_id (varchar(255))\n",
      "  - year (int)\n",
      "  - month (int)\n",
      "  - created_at (timestamp)\n",
      "  - updated_at (timestamp)\n"
     ]
    }
   ],
   "source": [
    "# Asegúrate de que db_connection.py esté en la ruta correcta y contenga get_connection\n",
    "from db_connection import get_connection\n",
    "\n",
    "# 1. Reconectar (o asegurar que la conexión esté activa)\n",
    "try:\n",
    "    conexion = get_connection() # Obtener una nueva conexión o reutilizar si get_connection maneja eso\n",
    "    cursor = conexion.cursor()\n",
    "\n",
    "    # 2. Ejecutar la consulta para describir la tabla\n",
    "    cursor.execute(\"DESCRIBE accounting_account_balances;\")\n",
    "    columns_info = cursor.fetchall()\n",
    "\n",
    "    print(\"Columnas de la tabla 'accounting_account_balances':\")\n",
    "    for column in columns_info:\n",
    "        print(f\"  - {column[0]} ({column[1]})\")\n",
    "\n",
    "except Exception as e:\n",
    "    print(f\"Ocurrió un error: {e}\")\n",
    "\n"
   ]
  },
  {
   "cell_type": "markdown",
   "id": "4b602a50",
   "metadata": {},
   "source": [
    "Tabla accounting_accounts"
   ]
  },
  {
   "cell_type": "code",
   "execution_count": 8,
   "id": "47a6d174",
   "metadata": {},
   "outputs": [
    {
     "name": "stdout",
     "output_type": "stream",
     "text": [
      "✅ Conexión exitosa a la base de datos\n",
      "Columnas de la tabla 'accounting_accounts':\n",
      "  - id (bigint unsigned)\n",
      "  - name (varchar(250))\n",
      "  - is_class (tinyint(1))\n",
      "  - is_group (tinyint(1))\n",
      "  - is_account (tinyint(1))\n",
      "  - is_subaccount (tinyint(1))\n",
      "  - is_auxiliary (tinyint(1))\n",
      "  - is_subauxiliary (tinyint(1))\n",
      "  - niif (tinyint(1))\n",
      "  - cash_flow (tinyint(1))\n",
      "  - exogenous (tinyint(1))\n",
      "  - base_value (tinyint(1))\n",
      "  - nature (varchar(1))\n",
      "  - term (tinyint(1))\n",
      "  - favorite (tinyint(1))\n",
      "  - status (tinyint(1))\n",
      "  - created_at (timestamp)\n",
      "  - updated_at (timestamp)\n"
     ]
    }
   ],
   "source": [
    "# Asegúrate de que db_connection.py esté en la ruta correcta y contenga get_connection\n",
    "from db_connection import get_connection\n",
    "\n",
    "# 1. Reconectar (o asegurar que la conexión esté activa)\n",
    "try:\n",
    "    conexion = get_connection()\n",
    "    cursor = conexion.cursor()\n",
    "\n",
    "    # 2. Ejecutar la consulta para describir la tabla\n",
    "    cursor.execute(\"DESCRIBE accounting_accounts;\")\n",
    "    columns_info = cursor.fetchall()\n",
    "\n",
    "    print(\"Columnas de la tabla 'accounting_accounts':\")\n",
    "    for column in columns_info:\n",
    "        print(f\"  - {column[0]} ({column[1]})\")\n",
    "\n",
    "except Exception as e:\n",
    "    print(f\"Ocurrió un error: {e}\")"
   ]
  },
  {
   "cell_type": "markdown",
   "id": "2bd7b08e",
   "metadata": {},
   "source": [
    "Tabla accounting_movements"
   ]
  },
  {
   "cell_type": "code",
   "execution_count": 10,
   "id": "69120ede",
   "metadata": {},
   "outputs": [
    {
     "name": "stdout",
     "output_type": "stream",
     "text": [
      "✅ Conexión exitosa a la base de datos\n",
      "Columnas de la tabla 'accounting_movements':\n",
      "  - id (bigint unsigned)\n",
      "  - class_id (bigint unsigned)\n",
      "  - group_id (bigint unsigned)\n",
      "  - account_id (bigint unsigned)\n",
      "  - subaccount_id (bigint unsigned)\n",
      "  - accounting_movement (bigint)\n",
      "  - currency_id (varchar(255))\n",
      "  - name (varchar(255))\n",
      "  - date (timestamp)\n",
      "  - debit_movement (double(18,6))\n",
      "  - credit_movement (double(18,6))\n",
      "  - third_party_type_id (varchar(50))\n",
      "  - third_party_id (int unsigned)\n",
      "  - document_type_id (smallint)\n",
      "  - document (varchar(255))\n",
      "  - document_id (bigint unsigned)\n",
      "  - item_type (varchar(255))\n",
      "  - item_id (int unsigned)\n",
      "  - references_document_id (bigint unsigned)\n",
      "  - payroll_employee_reference_id (int unsigned)\n",
      "  - created_at (timestamp)\n",
      "  - updated_at (timestamp)\n"
     ]
    }
   ],
   "source": [
    "# Asegúrate de que db_connection.py esté en la ruta correcta y contenga get_connection\n",
    "from db_connection import get_connection\n",
    "\n",
    "# 1. Reconectar (o asegurar que la conexión esté activa)\n",
    "try:\n",
    "    conexion = get_connection()\n",
    "    cursor = conexion.cursor()\n",
    "\n",
    "    # 2. Ejecutar la consulta para describir la tabla\n",
    "    cursor.execute(\"DESCRIBE accounting_movements;\")\n",
    "    columns_info = cursor.fetchall()\n",
    "\n",
    "    print(\"Columnas de la tabla 'accounting_movements':\")\n",
    "    for column in columns_info:\n",
    "        print(f\"  - {column[0]} ({column[1]})\")\n",
    "\n",
    "except Exception as e:\n",
    "    print(f\"Ocurrió un error: {e}\")"
   ]
  },
  {
   "cell_type": "markdown",
   "id": "db740e1a",
   "metadata": {},
   "source": [
    "Tabla accounting_voucher_items"
   ]
  },
  {
   "cell_type": "code",
   "execution_count": 11,
   "id": "c2ccc01e",
   "metadata": {},
   "outputs": [
    {
     "name": "stdout",
     "output_type": "stream",
     "text": [
      "✅ Conexión exitosa a la base de datos\n",
      "Columnas de la tabla 'accounting_voucher_items':\n",
      "  - id (bigint unsigned)\n",
      "  - accounting_voucher_id (bigint unsigned)\n",
      "  - third_party_type_id (varchar(255))\n",
      "  - third_party_id (bigint unsigned)\n",
      "  - accounting_account_id (bigint unsigned)\n",
      "  - description (varchar(255))\n",
      "  - debit_movement (double(18,6))\n",
      "  - credit_movement (double(18,6))\n",
      "  - created_at (timestamp)\n",
      "  - updated_at (timestamp)\n",
      "Conexión y cursor cerrados.\n"
     ]
    }
   ],
   "source": [
    "# Asegúrate de que db_connection.py esté en la ruta correcta y contenga get_connection\n",
    "from db_connection import get_connection\n",
    "\n",
    "# 1. Reconectar (o asegurar que la conexión esté activa)\n",
    "try:\n",
    "    conexion = get_connection()\n",
    "    cursor = conexion.cursor()\n",
    "\n",
    "    # 2. Ejecutar la consulta para describir la tabla\n",
    "    cursor.execute(\"DESCRIBE accounting_voucher_items;\")\n",
    "    columns_info = cursor.fetchall()\n",
    "\n",
    "    print(\"Columnas de la tabla 'accounting_voucher_items':\")\n",
    "    for column in columns_info:\n",
    "        print(f\"  - {column[0]} ({column[1]})\")\n",
    "\n",
    "except Exception as e:\n",
    "    print(f\"Ocurrió un error: {e}\")\n",
    "finally:\n",
    "    # 3. Cerrar el cursor y la conexión de forma segura\n",
    "    if 'cursor' in locals() and cursor is not None:\n",
    "        cursor.close()\n",
    "    if 'conexion' in locals() and conexion.is_connected():\n",
    "        conexion.close()\n",
    "    print(\"Conexión y cursor cerrados.\")"
   ]
  },
  {
   "cell_type": "markdown",
   "id": "7a96a304",
   "metadata": {},
   "source": [
    "Tabla accounting_vouchers"
   ]
  },
  {
   "cell_type": "code",
   "execution_count": 12,
   "id": "6f1b1d38",
   "metadata": {},
   "outputs": [
    {
     "name": "stdout",
     "output_type": "stream",
     "text": [
      "✅ Conexión exitosa a la base de datos\n",
      "Columnas de la tabla 'accounting_vouchers':\n",
      "  - id (bigint unsigned)\n",
      "  - accounting_voucher_type_id (bigint unsigned)\n",
      "  - prefix (varchar(50))\n",
      "  - number (bigint)\n",
      "  - voucher_date (date)\n",
      "  - third_party_id (bigint unsigned)\n",
      "  - third_party_type_id (varchar(50))\n",
      "  - advance_account_payable_id (bigint unsigned)\n",
      "  - supplier_account_id (bigint unsigned)\n",
      "  - advance_account_receivable_id (bigint unsigned)\n",
      "  - cartera_account_id (bigint unsigned)\n",
      "  - currency_id (varchar(255))\n",
      "  - total_value (double(18,6))\n",
      "  - voucher_status_id (smallint unsigned)\n",
      "  - preferred (tinyint(1))\n",
      "  - created_at (timestamp)\n",
      "  - updated_at (timestamp)\n",
      "Conexión y cursor cerrados.\n"
     ]
    }
   ],
   "source": [
    "# Asegúrate de que db_connection.py esté en la ruta correcta y contenga get_connection\n",
    "from db_connection import get_connection\n",
    "\n",
    "# 1. Reconectar (o asegurar que la conexión esté activa)\n",
    "try:\n",
    "    conexion = get_connection()\n",
    "    cursor = conexion.cursor()\n",
    "\n",
    "    # 2. Ejecutar la consulta para describir la tabla\n",
    "    cursor.execute(\"DESCRIBE accounting_vouchers;\")\n",
    "    columns_info = cursor.fetchall()\n",
    "\n",
    "    print(\"Columnas de la tabla 'accounting_vouchers':\")\n",
    "    for column in columns_info:\n",
    "        print(f\"  - {column[0]} ({column[1]})\")\n",
    "\n",
    "except Exception as e:\n",
    "    print(f\"Ocurrió un error: {e}\")\n",
    "finally:\n",
    "    # 3. Cerrar el cursor y la conexión de forma segura\n",
    "    if 'cursor' in locals() and cursor is not None:\n",
    "        cursor.close()\n",
    "    if 'conexion' in locals() and conexion.is_connected():\n",
    "        conexion.close()\n",
    "    print(\"Conexión y cursor cerrados.\")"
   ]
  },
  {
   "cell_type": "markdown",
   "id": "404f1ac6",
   "metadata": {},
   "source": [
    "Tabla accounting_voucher_types"
   ]
  },
  {
   "cell_type": "code",
   "execution_count": 13,
   "id": "7e70cbd0",
   "metadata": {},
   "outputs": [
    {
     "name": "stdout",
     "output_type": "stream",
     "text": [
      "✅ Conexión exitosa a la base de datos\n",
      "Columnas de la tabla 'accounting_voucher_types':\n",
      "  - id (bigint unsigned)\n",
      "  - code (varchar(50))\n",
      "  - name (varchar(60))\n",
      "  - prefix (varchar(50))\n",
      "  - initial_number (bigint)\n",
      "  - current_number (bigint)\n",
      "  - ledger_id (int unsigned)\n",
      "  - status (tinyint(1))\n",
      "  - created_at (timestamp)\n",
      "  - updated_at (timestamp)\n",
      "Conexión y cursor cerrados.\n"
     ]
    }
   ],
   "source": [
    "# Asegúrate de que db_connection.py esté en la ruta correcta y contenga get_connection\n",
    "from db_connection import get_connection\n",
    "\n",
    "# 1. Reconectar (o asegurar que la conexión esté activa)\n",
    "try:\n",
    "    conexion = get_connection()\n",
    "    cursor = conexion.cursor()\n",
    "\n",
    "    # 2. Ejecutar la consulta para describir la tabla\n",
    "    cursor.execute(\"DESCRIBE accounting_voucher_types;\")\n",
    "    columns_info = cursor.fetchall()\n",
    "\n",
    "    print(\"Columnas de la tabla 'accounting_voucher_types':\")\n",
    "    for column in columns_info:\n",
    "        print(f\"  - {column[0]} ({column[1]})\")\n",
    "\n",
    "except Exception as e:\n",
    "    print(f\"Ocurrió un error: {e}\")\n",
    "finally:\n",
    "    # 3. Cerrar el cursor y la conexión de forma segura\n",
    "    if 'cursor' in locals() and cursor is not None:\n",
    "        cursor.close()\n",
    "    if 'conexion' in locals() and conexion.is_connected():\n",
    "        conexion.close()\n",
    "    print(\"Conexión y cursor cerrados.\")"
   ]
  },
  {
   "cell_type": "markdown",
   "id": "f92c1c7c",
   "metadata": {},
   "source": [
    "Tabla retention_concepts"
   ]
  },
  {
   "cell_type": "code",
   "execution_count": 14,
   "id": "89d094c9",
   "metadata": {},
   "outputs": [
    {
     "name": "stdout",
     "output_type": "stream",
     "text": [
      "✅ Conexión exitosa a la base de datos\n",
      "Columnas de la tabla 'retention_concepts':\n",
      "  - id (int unsigned)\n",
      "  - description (text)\n",
      "  - account_id (bigint unsigned)\n",
      "  - created_at (timestamp)\n",
      "  - updated_at (timestamp)\n",
      "Conexión y cursor cerrados.\n"
     ]
    }
   ],
   "source": [
    "# Asegúrate de que db_connection.py esté en la ruta correcta y contenga get_connection\n",
    "from db_connection import get_connection\n",
    "\n",
    "# 1. Reconectar (o asegurar que la conexión esté activa)\n",
    "try:\n",
    "    conexion = get_connection()\n",
    "    cursor = conexion.cursor()\n",
    "\n",
    "    # 2. Ejecutar la consulta para describir la tabla\n",
    "    cursor.execute(\"DESCRIBE retention_concepts;\")\n",
    "    columns_info = cursor.fetchall()\n",
    "\n",
    "    print(\"Columnas de la tabla 'retention_concepts':\")\n",
    "    for column in columns_info:\n",
    "        print(f\"  - {column[0]} ({column[1]})\")\n",
    "\n",
    "except Exception as e:\n",
    "    print(f\"Ocurrió un error: {e}\")\n",
    "finally:\n",
    "    # 3. Cerrar el cursor y la conexión de forma segura\n",
    "    if 'cursor' in locals() and cursor is not None:\n",
    "        cursor.close()\n",
    "    if 'conexion' in locals() and conexion.is_connected():\n",
    "        conexion.close()\n",
    "    print(\"Conexión y cursor cerrados.\")"
   ]
  },
  {
   "cell_type": "markdown",
   "id": "6d7ca10f",
   "metadata": {},
   "source": [
    "Tabla retentions"
   ]
  },
  {
   "cell_type": "code",
   "execution_count": 15,
   "id": "367e7c08",
   "metadata": {},
   "outputs": [
    {
     "name": "stdout",
     "output_type": "stream",
     "text": [
      "✅ Conexión exitosa a la base de datos\n",
      "Columnas de la tabla 'retentions':\n",
      "  - id (int unsigned)\n",
      "  - retention_type_id (varchar(255))\n",
      "  - retention_concept (int unsigned)\n",
      "  - description (varchar(255))\n",
      "  - percentage (double(10,5))\n",
      "  - uvt_base (double(18,6))\n",
      "  - base (double(18,6))\n",
      "  - notes (varchar(255))\n",
      "  - status (tinyint(1))\n",
      "  - account_id (bigint unsigned)\n",
      "  - user_id (int unsigned)\n",
      "  - is_custom (varchar(255))\n",
      "  - created_at (timestamp)\n",
      "  - updated_at (timestamp)\n",
      "Conexión y cursor cerrados.\n"
     ]
    }
   ],
   "source": [
    "# Asegúrate de que db_connection.py esté en la ruta correcta y contenga get_connection\n",
    "from db_connection import get_connection\n",
    "\n",
    "# 1. Reconectar (o asegurar que la conexión esté activa)\n",
    "try:\n",
    "    conexion = get_connection()\n",
    "    cursor = conexion.cursor()\n",
    "\n",
    "    # 2. Ejecutar la consulta para describir la tabla\n",
    "    cursor.execute(\"DESCRIBE retentions;\")\n",
    "    columns_info = cursor.fetchall()\n",
    "\n",
    "    print(\"Columnas de la tabla 'retentions':\")\n",
    "    for column in columns_info:\n",
    "        print(f\"  - {column[0]} ({column[1]})\")\n",
    "\n",
    "except Exception as e:\n",
    "    print(f\"Ocurrió un error: {e}\")\n",
    "finally:\n",
    "    # 3. Cerrar el cursor y la conexión de forma segura\n",
    "    if 'cursor' in locals() and cursor is not None:\n",
    "        cursor.close()\n",
    "    if 'conexion' in locals() and conexion.is_connected():\n",
    "        conexion.close()\n",
    "    print(\"Conexión y cursor cerrados.\")"
   ]
  },
  {
   "cell_type": "markdown",
   "id": "e23b6a0a",
   "metadata": {},
   "source": [
    "Tabla retentions_applied"
   ]
  },
  {
   "cell_type": "code",
   "execution_count": 16,
   "id": "42084fd5",
   "metadata": {},
   "outputs": [
    {
     "name": "stdout",
     "output_type": "stream",
     "text": [
      "✅ Conexión exitosa a la base de datos\n",
      "Columnas de la tabla 'retentions_applied':\n",
      "  - id (bigint unsigned)\n",
      "  - name (varchar(255))\n",
      "  - type (varchar(255))\n",
      "  - percentage (double(18,6))\n",
      "  - base (double(18,6))\n",
      "  - value (double(18,6))\n",
      "  - retention_id (int unsigned)\n",
      "  - contact_id (int unsigned)\n",
      "  - document_id (bigint unsigned)\n",
      "  - created_at (timestamp)\n",
      "  - updated_at (timestamp)\n",
      "Conexión y cursor cerrados.\n"
     ]
    }
   ],
   "source": [
    "# Asegúrate de que db_connection.py esté en la ruta correcta y contenga get_connection\n",
    "from db_connection import get_connection\n",
    "\n",
    "# 1. Reconectar (o asegurar que la conexión esté activa)\n",
    "try:\n",
    "    conexion = get_connection()\n",
    "    cursor = conexion.cursor()\n",
    "\n",
    "    # 2. Ejecutar la consulta para describir la tabla\n",
    "    cursor.execute(\"DESCRIBE retentions_applied;\")\n",
    "    columns_info = cursor.fetchall()\n",
    "\n",
    "    print(\"Columnas de la tabla 'retentions_applied':\")\n",
    "    for column in columns_info:\n",
    "        print(f\"  - {column[0]} ({column[1]})\")\n",
    "\n",
    "except Exception as e:\n",
    "    print(f\"Ocurrió un error: {e}\")\n",
    "finally:\n",
    "    # 3. Cerrar el cursor y la conexión de forma segura\n",
    "    if 'cursor' in locals() and cursor is not None:\n",
    "        cursor.close()\n",
    "    if 'conexion' in locals() and conexion.is_connected():\n",
    "        conexion.close()\n",
    "    print(\"Conexión y cursor cerrados.\")"
   ]
  },
  {
   "cell_type": "markdown",
   "id": "e0fd6ee3",
   "metadata": {},
   "source": [
    "Tabla retentions_certificates"
   ]
  },
  {
   "cell_type": "code",
   "execution_count": 17,
   "id": "3d862148",
   "metadata": {},
   "outputs": [
    {
     "name": "stdout",
     "output_type": "stream",
     "text": [
      "✅ Conexión exitosa a la base de datos\n",
      "Columnas de la tabla 'retentions_certificates':\n",
      "  - id (bigint unsigned)\n",
      "  - contact_id (int unsigned)\n",
      "  - document_id (bigint unsigned)\n",
      "  - value (double(18,6))\n",
      "  - sent (tinyint(1))\n",
      "  - certificate_url (varchar(255))\n",
      "  - created_at (timestamp)\n",
      "  - updated_at (timestamp)\n",
      "Conexión y cursor cerrados.\n"
     ]
    }
   ],
   "source": [
    "# Asegúrate de que db_connection.py esté en la ruta correcta y contenga get_connection\n",
    "from db_connection import get_connection\n",
    "\n",
    "# 1. Reconectar (o asegurar que la conexión esté activa)\n",
    "try:\n",
    "    conexion = get_connection()\n",
    "    cursor = conexion.cursor()\n",
    "\n",
    "    # 2. Ejecutar la consulta para describir la tabla\n",
    "    cursor.execute(\"DESCRIBE retentions_certificates;\")\n",
    "    columns_info = cursor.fetchall()\n",
    "\n",
    "    print(\"Columnas de la tabla 'retentions_certificates':\")\n",
    "    for column in columns_info:\n",
    "        print(f\"  - {column[0]} ({column[1]})\")\n",
    "\n",
    "except Exception as e:\n",
    "    print(f\"Ocurrió un error: {e}\")\n",
    "finally:\n",
    "    # 3. Cerrar el cursor y la conexión de forma segura\n",
    "    if 'cursor' in locals() and cursor is not None:\n",
    "        cursor.close()\n",
    "    if 'conexion' in locals() and conexion.is_connected():\n",
    "        conexion.close()\n",
    "    print(\"Conexión y cursor cerrados.\")"
   ]
  },
  {
   "cell_type": "markdown",
   "id": "db44c4bd",
   "metadata": {},
   "source": [
    "Tabla taxes"
   ]
  },
  {
   "cell_type": "code",
   "execution_count": 18,
   "id": "23f500b7",
   "metadata": {},
   "outputs": [
    {
     "name": "stdout",
     "output_type": "stream",
     "text": [
      "✅ Conexión exitosa a la base de datos\n",
      "Columnas de la tabla 'taxes':\n",
      "  - id (smallint unsigned)\n",
      "  - tax_type_id (varchar(255))\n",
      "  - description (varchar(255))\n",
      "  - percentage (double(10,5))\n",
      "  - notes (varchar(255))\n",
      "  - status (tinyint(1))\n",
      "  - tax_account_deductible_id (bigint unsigned)\n",
      "  - tax_account_generated_id (bigint unsigned)\n",
      "  - user_id (int unsigned)\n",
      "  - created_at (timestamp)\n",
      "  - updated_at (timestamp)\n",
      "Conexión y cursor cerrados.\n"
     ]
    }
   ],
   "source": [
    "# Asegúrate de que db_connection.py esté en la ruta correcta y contenga get_connection\n",
    "from db_connection import get_connection\n",
    "\n",
    "# 1. Reconectar (o asegurar que la conexión esté activa)\n",
    "try:\n",
    "    conexion = get_connection()\n",
    "    cursor = conexion.cursor()\n",
    "\n",
    "    # 2. Ejecutar la consulta para describir la tabla\n",
    "    cursor.execute(\"DESCRIBE taxes;\")\n",
    "    columns_info = cursor.fetchall()\n",
    "\n",
    "    print(\"Columnas de la tabla 'taxes':\")\n",
    "    for column in columns_info:\n",
    "        print(f\"  - {column[0]} ({column[1]})\")\n",
    "\n",
    "except Exception as e:\n",
    "    print(f\"Ocurrió un error: {e}\")\n",
    "finally:\n",
    "    # 3. Cerrar el cursor y la conexión de forma segura\n",
    "    if 'cursor' in locals() and cursor is not None:\n",
    "        cursor.close()\n",
    "    if 'conexion' in locals() and conexion.is_connected():\n",
    "        conexion.close()\n",
    "    print(\"Conexión y cursor cerrados.\")"
   ]
  },
  {
   "cell_type": "markdown",
   "id": "66e2f4b2",
   "metadata": {},
   "source": [
    "Tabla payments"
   ]
  },
  {
   "cell_type": "code",
   "execution_count": 19,
   "id": "b0d10b9e",
   "metadata": {},
   "outputs": [
    {
     "name": "stdout",
     "output_type": "stream",
     "text": [
      "✅ Conexión exitosa a la base de datos\n",
      "Columnas de la tabla 'payments':\n",
      "  - id (bigint unsigned)\n",
      "  - document_type_id (int unsigned)\n",
      "  - billing_numbering_id (int unsigned)\n",
      "  - payment_type (smallint unsigned)\n",
      "  - contact_id (int unsigned)\n",
      "  - number (int unsigned)\n",
      "  - document_date (date)\n",
      "  - document_hour (time)\n",
      "  - associate_invoice (tinyint(1))\n",
      "  - reference_document (json)\n",
      "  - advance (tinyint(1))\n",
      "  - subtotal (double(16,2))\n",
      "  - discount (double(16,2))\n",
      "  - gross (double(16,2))\n",
      "  - pending (double(16,2))\n",
      "  - total (double(16,2))\n",
      "  - taxes (json)\n",
      "  - retentions_value (double(16,2))\n",
      "  - retentions (json)\n",
      "  - retentions_details (json)\n",
      "  - payments (json)\n",
      "  - notes (varchar(255))\n",
      "  - comments (varchar(255))\n",
      "  - document_status_id (smallint unsigned)\n",
      "  - DIAN_status (json)\n",
      "  - contact_data (json)\n",
      "  - details (json)\n",
      "  - extra_data (json)\n",
      "  - user_id (int unsigned)\n",
      "  - deleted_at (timestamp)\n",
      "  - created_at (timestamp)\n",
      "  - updated_at (timestamp)\n",
      "Conexión y cursor cerrados.\n"
     ]
    }
   ],
   "source": [
    "# Asegúrate de que db_connection.py esté en la ruta correcta y contenga get_connection\n",
    "from db_connection import get_connection\n",
    "\n",
    "# 1. Reconectar (o asegurar que la conexión esté activa)\n",
    "try:\n",
    "    conexion = get_connection()\n",
    "    cursor = conexion.cursor()\n",
    "\n",
    "    # 2. Ejecutar la consulta para describir la tabla\n",
    "    cursor.execute(\"DESCRIBE payments;\")\n",
    "    columns_info = cursor.fetchall()\n",
    "\n",
    "    print(\"Columnas de la tabla 'payments':\")\n",
    "    for column in columns_info:\n",
    "        print(f\"  - {column[0]} ({column[1]})\")\n",
    "\n",
    "except Exception as e:\n",
    "    print(f\"Ocurrió un error: {e}\")\n",
    "finally:\n",
    "    # 3. Cerrar el cursor y la conexión de forma segura\n",
    "    if 'cursor' in locals() and cursor is not None:\n",
    "        cursor.close()\n",
    "    if 'conexion' in locals() and conexion.is_connected():\n",
    "        conexion.close()\n",
    "    print(\"Conexión y cursor cerrados.\")"
   ]
  },
  {
   "cell_type": "code",
   "execution_count": null,
   "id": "8f1ff455",
   "metadata": {},
   "outputs": [],
   "source": []
  }
 ],
 "metadata": {
  "kernelspec": {
   "display_name": ".venv",
   "language": "python",
   "name": "python3"
  },
  "language_info": {
   "codemirror_mode": {
    "name": "ipython",
    "version": 3
   },
   "file_extension": ".py",
   "mimetype": "text/x-python",
   "name": "python",
   "nbconvert_exporter": "python",
   "pygments_lexer": "ipython3",
   "version": "3.13.3"
  }
 },
 "nbformat": 4,
 "nbformat_minor": 5
}
