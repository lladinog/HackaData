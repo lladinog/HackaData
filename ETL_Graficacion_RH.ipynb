{
 "cells": [
  {
   "cell_type": "markdown",
   "id": "24c0060a",
   "metadata": {},
   "source": [
    "**IMPORTAR LIBRERIAS**"
   ]
  },
  {
   "cell_type": "markdown",
   "id": "ea6182c6",
   "metadata": {},
   "source": [
    "---"
   ]
  },
  {
   "cell_type": "code",
   "execution_count": 1,
   "id": "c1e44092",
   "metadata": {},
   "outputs": [],
   "source": [
    "# Librerias de manejo de datos\n",
    "import pandas as pd"
   ]
  },
  {
   "cell_type": "code",
   "execution_count": 2,
   "id": "0e7a20e9",
   "metadata": {},
   "outputs": [
    {
     "name": "stdout",
     "output_type": "stream",
     "text": [
      "✅ Conexión exitosa a la base de datos\n"
     ]
    }
   ],
   "source": [
    "# Importar conexión\n",
    "from db_connection import get_connection\n",
    "\n",
    "# Conectarse a la base de datos\n",
    "conexion = get_connection()\n",
    "cursor = conexion.cursor()\n"
   ]
  },
  {
   "cell_type": "code",
   "execution_count": 3,
   "id": "e54641f7",
   "metadata": {},
   "outputs": [],
   "source": [
    "# Importar librerías para la conexión a la base de datos con SQLAlchemy\n",
    "from db_connection import get_engine\n",
    "\n",
    "engine = get_engine()"
   ]
  },
  {
   "cell_type": "code",
   "execution_count": 4,
   "id": "dcf0caf4",
   "metadata": {},
   "outputs": [
    {
     "name": "stdout",
     "output_type": "stream",
     "text": [
      "Total de tablas encontradas: 50\n"
     ]
    }
   ],
   "source": [
    "# 📌 Obtener todas las tablas\n",
    "cursor.execute(\"SHOW TABLES;\")\n",
    "tablas = [fila[0] for fila in cursor.fetchall()]\n",
    "print(f\"Total de tablas encontradas: {len(tablas)}\")\n"
   ]
  },
  {
   "cell_type": "markdown",
   "id": "28208439",
   "metadata": {},
   "source": [
    "---"
   ]
  },
  {
   "cell_type": "markdown",
   "id": "5ba97470",
   "metadata": {},
   "source": [
    "**FUNCIONES**"
   ]
  },
  {
   "cell_type": "markdown",
   "id": "58231edf",
   "metadata": {},
   "source": [
    "---"
   ]
  },
  {
   "cell_type": "markdown",
   "id": "dc0595a5",
   "metadata": {},
   "source": [
    "------"
   ]
  },
  {
   "cell_type": "markdown",
   "id": "cf0ecba4",
   "metadata": {},
   "source": [
    "**FILTROS PARA SEGREGAR Y ELIMINAR LAS TABLAS QUE NO SON ÚTILES**\n"
   ]
  },
  {
   "cell_type": "markdown",
   "id": "0c15b9e5",
   "metadata": {},
   "source": [
    "---"
   ]
  },
  {
   "cell_type": "code",
   "execution_count": 5,
   "id": "50927f7a",
   "metadata": {},
   "outputs": [
    {
     "name": "stdout",
     "output_type": "stream",
     "text": [
      "accounting_account_balances\n",
      "accounting_accounts\n",
      "accounting_movements\n",
      "accounting_voucher_items\n",
      "accounting_voucher_types\n",
      "accounting_vouchers\n",
      "billing_numberings\n",
      "contact_relationships\n",
      "contact_statements\n",
      "contacts\n",
      "contract_salary_history\n",
      "costs_and_expenses\n",
      "costs_and_expenses_categories\n",
      "coupons\n",
      "document_items\n",
      "documents\n",
      "ecommerce_legal_info\n",
      "ecommerce_purchase_orders\n",
      "employee_contracts\n",
      "employee_positions\n",
      "employees\n",
      "fixed_asset_depreciations\n",
      "fixed_assets\n",
      "fixed_assets_groups\n",
      "headquarter_warehouses\n",
      "headquarters\n",
      "inventory_adjustments\n",
      "inventory_groups\n",
      "item_balance\n",
      "item_categories\n",
      "item_depreciations\n",
      "item_kardex\n",
      "item_subcategories\n",
      "item_variations\n",
      "items\n",
      "payment_conditions\n",
      "payments\n",
      "payroll_deductions\n",
      "payroll_details\n",
      "payroll_incomes\n",
      "payroll_providers\n",
      "payrolls\n",
      "price_lists\n",
      "retention_concepts\n",
      "retentions\n",
      "retentions_applied\n",
      "retentions_certificates\n",
      "taxes\n",
      "warehouse_transfer_logs\n",
      "warehouses\n"
     ]
    }
   ],
   "source": [
    "#Tablas posiblemente innecesarias por el nombre y breve análisis*\n",
    "# Imprimir los nombres de las tablas restantes\n",
    "for tabla in tablas:\n",
    "    print(tabla)\n"
   ]
  },
  {
   "cell_type": "markdown",
   "id": "1f0d1819",
   "metadata": {},
   "source": [
    "*ANÁLISIS Y CONCLUSIONES DE LA INFORMACIÓN OBTENIDA*"
   ]
  },
  {
   "cell_type": "markdown",
   "id": "9e49afb7",
   "metadata": {},
   "source": [
    "**Tablas clave para análisis de gestión empresarial (💡 Mantener)**\n",
    "\n",
    "Estas son probablemente las más útiles para análisis de KPIs, dashboards o visualización de negocio:\n",
    "\n",
    "*Categoría\t//  Tablas clave*\n",
    "\n",
    "📦 Inventario\t= items, item_balance, item_kardex, warehouses, inventory_adjustments, item_categories, item_subcategories, item_variations\n",
    "\n",
    "💼 Ventas / Documentos\t= documents, document_items, contacts (clientes/proveedores)\n",
    "\n",
    "🧾 Contabilidad\t= accounting_vouchers, accounting_voucher_items, accounting_accounts, accounting_movements, retentions, retention_concepts, retentions_applied, accounting_account_balances\n",
    "\n",
    "👥 Empleados / Nómina\t= employees, employee_contracts, payrolls, payroll_details, payroll_incomes, payroll_deductions\n",
    "\n",
    "🛒 Compras\t= ecommerce_purchase_orders\n",
    "\n",
    "📊 Precios\t= price_lists\n",
    "\n",
    "🏪 Organización\t= headquarters, user_headquarters, roles, user_roles, company_areas\n",
    "\n",
    "🧾 Impuestos\t= taxes\n",
    "\n",
    "🏭 Activos fijos\t= fixed_assets, fixed_asset_depreciations, fixed_assets_groups\n"
   ]
  },
  {
   "cell_type": "markdown",
   "id": "335571bb",
   "metadata": {},
   "source": [
    "**Relevancia baja o dependiente del contexto (🤔 Revisar)**\n",
    "\n",
    "*Estas podrían ser útiles dependiendo del foco del proyecto (clientes, pedidos, legal, e-commerce):*\n",
    "\n",
    "contact_relationships, contact_accounts, contact_statements\n",
    "\n",
    "coupons, coupon_groups (si hay ecommerce)\n",
    "\n",
    "employee_positions, contract_salary_history\n",
    "\n",
    "plan_electronic_documents, plan_system_controller\n",
    "\n",
    "ecommerce_legal_info\n",
    "\n",
    "costs_and_expenses, costs_and_expenses_categories\n",
    "\n",
    "radian_documents (puede ser de facturación electrónica)\n",
    "\n",
    "dining_tables (¿restaurante? puede ser irrelevante)\n",
    "\n",
    "system_counters, system_restrictions"
   ]
  },
  {
   "cell_type": "code",
   "execution_count": 6,
   "id": "702f90f2",
   "metadata": {},
   "outputs": [],
   "source": [
    "# Lista de tablas candidatas a eliminar\n",
    "tablas_candidatas = [\n",
    "    \"api_access_tokens\",\n",
    "    \"electronic_payroll_test_set\",\n",
    "    \"migrations\",\n",
    "    \"oauth_clients\",\n",
    "    \"paynilo\",\n",
    "    \"role_permissions\",\n",
    "    \"template_versions\",\n",
    "    \"templates\",\n",
    "    \"user_data\",\n",
    "    \"values_x_item\",\n",
    "    \"warehouse_transfer_logs\",\n",
    "    \"billing_numberings\",\n",
    "    \"custom_fields\",\n",
    "    \"configurations\",\n",
    "    \"system_counters\",\n",
    "    \"system_restrictions\"\n",
    "]"
   ]
  },
  {
   "cell_type": "markdown",
   "id": "b1a52865",
   "metadata": {},
   "source": [
    "---"
   ]
  },
  {
   "cell_type": "markdown",
   "id": "cf8073e1",
   "metadata": {},
   "source": [
    "*tablas a eliminar según sus columnas y número de filas*"
   ]
  },
  {
   "cell_type": "code",
   "execution_count": 7,
   "id": "81b14fbf",
   "metadata": {},
   "outputs": [
    {
     "name": "stdout",
     "output_type": "stream",
     "text": [
      "\n",
      "--- Bloque 6 (VERSIÓN DIRECTA): Limpieza de JSONs en 'employees' con Pandas ---\n",
      "Reestableciendo conexión a la base de datos para el bloque de 'employees'...\n",
      "✅ Conexión exitosa a la base de datos\n",
      "✅ Conexión y cursor reestablecidos exitosamente para 'employees'.\n",
      "✅ Engine de base de datos obtenido.\n",
      "\n",
      "Deshabilitando temporalmente las verificaciones de claves foráneas...\n",
      "✅ Verificaciones de claves foráneas deshabilitadas.\n",
      "\n",
      "Modificando las columnas JSON a VARCHAR(255) NULL...\n",
      "✅ Columnas JSON modificadas a VARCHAR(255) NULL exitosamente.\n",
      "\n",
      "Re-habilitando las verificaciones de claves foráneas...\n",
      "✅ Verificaciones de claves foráneas re-habilitadas.\n",
      "\n",
      "Cargando la tabla 'employees' en un DataFrame de Pandas...\n",
      "DataFrame de 'employees' cargado. Registros: 38\n",
      "\n",
      "Iniciando aplanamiento de columnas (previamente JSON) en Pandas...\n",
      "Procesando columna: 'identity_document_type'...\n",
      "   Columna 'identity_document_type' aplanada a valor extraído o NULL.\n",
      "Procesando columna: 'country'...\n",
      "   Columna 'country' aplanada a valor extraído o NULL.\n",
      "Procesando columna: 'region'...\n",
      "   Columna 'region' aplanada a valor extraído o NULL.\n",
      "Procesando columna: 'city'...\n",
      "   Columna 'city' aplanada a valor extraído o NULL.\n",
      "Procesando columna: 'emergency_contact'...\n",
      "   Columna 'emergency_contact' aplanada a valor extraído o NULL.\n",
      "Procesando columna: 'payment_method'...\n",
      "   Columna 'payment_method' aplanada a valor extraído o NULL.\n",
      "Procesando columna: 'bank'...\n",
      "   Columna 'bank' aplanada a valor extraído o NULL.\n",
      "Procesando columna: 'bank_account_type'...\n",
      "   Columna 'bank_account_type' aplanada a valor extraído o NULL.\n",
      "✅ Aplanamiento de columnas completado.\n",
      "\n",
      "Preparando DataFrame para la actualización (manejo de nulos y tipos)...\n",
      "✅ DataFrame preparado para la actualización.\n",
      "\n",
      "--- Actualizando registros en 'employees' con datos limpios ---\n",
      "DEBUG: SQL de UPDATE generado: UPDATE `employees` SET `uuid` = %s, `identity_document_type` = %s, `document_number` = %s, `birth_date` = %s, `first_name` = %s, `other_name` = %s, `f...\n",
      "DEBUG: Columnas que se actualizarán: ['uuid', 'identity_document_type', 'document_number', 'birth_date', 'first_name', 'other_name', 'first_surname', 'second_surname', 'full_name', 'phone', 'email', 'country', 'region', 'city', 'address', 'headquarter_id', 'company_area_id', 'employee_position_id', 'emergency_contact', 'payment_type', 'payment_method', 'bank', 'bank_account_type', 'bank_account_number', 'status', 'settled', 'user_id', 'created_at', 'updated_at', 'latitude', 'longitude']\n",
      "   Progreso: 5/38 registros procesados...\n",
      "   Progreso: 10/38 registros procesados...\n",
      "   Progreso: 15/38 registros procesados...\n",
      "   Progreso: 20/38 registros procesados...\n",
      "   Progreso: 25/38 registros procesados...\n",
      "   Progreso: 30/38 registros procesados...\n",
      "   Progreso: 35/38 registros procesados...\n",
      "✅ Actualización de 38 registros en la tabla 'employees' completada exitosamente.\n",
      "\n",
      "✅ Limpieza y aplanamiento de JSONs en 'employees' finalizada exitosamente.\n",
      "✅ Verificaciones de claves foráneas re-habilitadas en el bloque 'finally'.\n",
      "La conexión a la base de datos se mantiene abierta según la solicitud.\n"
     ]
    }
   ],
   "source": [
    "# Script para limpiar y aplanar columnas JSON en 'employees' (VERSIÓN DIRECTA CON FK_CHECKS DESHABILITADO)\n",
    "\n",
    "import pandas as pd\n",
    "import json\n",
    "import numpy as np\n",
    "from db_connection import get_engine, get_connection\n",
    "\n",
    "print(\"\\n--- Bloque 6 (VERSIÓN DIRECTA): Limpieza de JSONs en 'employees' con Pandas ---\")\n",
    "\n",
    "conexion = None\n",
    "cursor = None\n",
    "try:\n",
    "    print(\"Reestableciendo conexión a la base de datos para el bloque de 'employees'...\")\n",
    "    conexion = get_connection()\n",
    "    cursor = conexion.cursor()\n",
    "    engine = get_engine()\n",
    "    print(\"✅ Conexión y cursor reestablecidos exitosamente para 'employees'.\")\n",
    "    print(\"✅ Engine de base de datos obtenido.\")\n",
    "\n",
    "    # --- PASO CRÍTICO: Deshabilitar temporalmente las verificaciones de claves foráneas ---\n",
    "    # Esto permite realizar el ALTER TABLE sin problemas de IDs huérfanos.\n",
    "    print(\"\\nDeshabilitando temporalmente las verificaciones de claves foráneas...\")\n",
    "    cursor.execute(\"SET FOREIGN_KEY_CHECKS = 0;\")\n",
    "    print(\"✅ Verificaciones de claves foráneas deshabilitadas.\")\n",
    "\n",
    "    # --- PASO 1: Modificar la estructura de la tabla 'employees' ---\n",
    "    # Convertir las columnas JSON a VARCHAR(255) NULL\n",
    "    print(\"\\nModificando las columnas JSON a VARCHAR(255) NULL...\")\n",
    "    alter_table_sql = \"\"\"\n",
    "        ALTER TABLE employees\n",
    "        MODIFY COLUMN identity_document_type VARCHAR(255) NULL,\n",
    "        MODIFY COLUMN country VARCHAR(255) NULL,\n",
    "        MODIFY COLUMN region VARCHAR(255) NULL,\n",
    "        MODIFY COLUMN city VARCHAR(255) NULL,\n",
    "        MODIFY COLUMN emergency_contact VARCHAR(255) NULL,\n",
    "        MODIFY COLUMN payment_method VARCHAR(255) NULL,\n",
    "        MODIFY COLUMN bank VARCHAR(255) NULL,\n",
    "        MODIFY COLUMN bank_account_type VARCHAR(255) NULL;\n",
    "    \"\"\"\n",
    "    try:\n",
    "        cursor.execute(alter_table_sql)\n",
    "        conexion.commit() # Confirmar el cambio de estructura\n",
    "        print(\"✅ Columnas JSON modificadas a VARCHAR(255) NULL exitosamente.\")\n",
    "    except Exception as e:\n",
    "        conexion.rollback()\n",
    "        print(f\"❌ Error al modificar las columnas JSON: {e}\")\n",
    "        raise # Re-lanza el error para detener el script\n",
    "\n",
    "    # --- PASO CRÍTICO: Re-habilitar las verificaciones de claves foráneas ---\n",
    "    # Es FUNDAMENTAL re-habilitarlas inmediatamente después.\n",
    "    print(\"\\nRe-habilitando las verificaciones de claves foráneas...\")\n",
    "    cursor.execute(\"SET FOREIGN_KEY_CHECKS = 1;\")\n",
    "    print(\"✅ Verificaciones de claves foráneas re-habilitadas.\")\n",
    "\n",
    "    # 1. Cargar la tabla 'employees' completa en un DataFrame de Pandas\n",
    "    print(\"\\nCargando la tabla 'employees' en un DataFrame de Pandas...\")\n",
    "    df_employees = pd.read_sql(\"SELECT * FROM employees;\", engine)\n",
    "    print(f\"DataFrame de 'employees' cargado. Registros: {len(df_employees)}\")\n",
    "\n",
    "    # Lista de columnas que eran JSON (ahora son VARCHAR en la DB)\n",
    "    json_columns = [\n",
    "        'identity_document_type', 'country', 'region', 'city',\n",
    "        'emergency_contact', 'payment_method', 'bank', 'bank_account_type'\n",
    "    ]\n",
    "\n",
    "    # 2. Iterar sobre cada columna (ahora VARCHAR, pero con contenido JSON previo) y aplanarla\n",
    "    print(\"\\nIniciando aplanamiento de columnas (previamente JSON) en Pandas...\")\n",
    "\n",
    "    def extract_json_value(json_str):\n",
    "        # Manejar casos donde la columna ya fue aplanada o es None/NaN\n",
    "        if pd.isna(json_str) or not isinstance(json_str, str) or not json_str.strip():\n",
    "            return None\n",
    "        # Si la cadena no parece JSON (ej. ya es un valor aplanado), devolverla tal cual\n",
    "        if not json_str.strip().startswith('{') and not json_str.strip().startswith('['):\n",
    "            return json_str # Ya está aplanado, o es un string simple no JSON\n",
    "        try:\n",
    "            data = json.loads(json_str)\n",
    "            if isinstance(data, dict):\n",
    "                if 'description' in data and data['description'] is not None:\n",
    "                    return str(data['description'])\n",
    "                elif 'name' in data and data['name'] is not None:\n",
    "                    return str(data['name'])\n",
    "                elif 'code' in data and data['code'] is not None:\n",
    "                    return str(data['code'])\n",
    "            return None\n",
    "        except json.JSONDecodeError:\n",
    "            # Si no es un JSON válido, pero es una cadena, devolverla.\n",
    "            # Esto maneja el caso donde la columna ya fue aplanada manualmente o contiene basura.\n",
    "            return json_str if json_str.strip() else None\n",
    "        except Exception as e:\n",
    "            return None\n",
    "\n",
    "    for col in json_columns:\n",
    "        print(f\"Procesando columna: '{col}'...\")\n",
    "        if col in df_employees.columns:\n",
    "            df_employees[col] = df_employees[col].astype(str)\n",
    "            df_employees[col] = df_employees[col].apply(extract_json_value)\n",
    "            print(f\"   Columna '{col}' aplanada a valor extraído o NULL.\")\n",
    "        else:\n",
    "            print(f\"   Advertencia: Columna '{col}' no encontrada en el DataFrame.\")\n",
    "    print(\"✅ Aplanamiento de columnas completado.\")\n",
    "\n",
    "    # 3. Manejo de valores nulos y tipos de datos para la actualización\n",
    "    print(\"\\nPreparando DataFrame para la actualización (manejo de nulos y tipos)...\")\n",
    "\n",
    "    # Volvemos a obtener la descripción de la tabla para asegurarnos de que los tipos son los nuevos (VARCHAR)\n",
    "    cursor.execute(\"DESCRIBE `employees`;\")\n",
    "    db_columns_info = cursor.fetchall()\n",
    "    db_column_names = [col_info[0] for col_info in db_columns_info]\n",
    "    db_column_types = {col_info[0]: col_info[1] for col_info in db_columns_info}\n",
    "\n",
    "    valid_columns_for_update = [\n",
    "        col for col in df_employees.columns\n",
    "        if isinstance(col, str) and col != 'id' and col in db_column_names\n",
    "    ]\n",
    "\n",
    "    for col in df_employees.columns:\n",
    "        if col in valid_columns_for_update or col == 'id':\n",
    "            if df_employees[col].dtype == 'object':\n",
    "                df_employees[col] = df_employees[col].replace({np.nan: None, 'nan': None, '': None})\n",
    "            elif pd.api.types.is_numeric_dtype(df_employees[col]) and df_employees[col].isnull().any():\n",
    "                if pd.api.types.is_integer_dtype(df_employees[col]):\n",
    "                     df_employees[col] = df_employees[col].astype(pd.Int64Dtype())\n",
    "                df_employees[col] = df_employees[col].replace({np.nan: None})\n",
    "\n",
    "            if pd.api.types.is_bool_dtype(df_employees[col]):\n",
    "                df_employees[col] = df_employees[col].map({True: 1, False: 0, None: None, np.nan: None})\n",
    "\n",
    "            if pd.api.types.is_string_dtype(df_employees[col]) and col in db_column_types:\n",
    "                mysql_type = db_column_types[col].lower()\n",
    "                if 'varchar' in mysql_type:\n",
    "                    try:\n",
    "                        max_len = int(mysql_type.split('(')[1].split(')')[0])\n",
    "                        long_strings = df_employees[df_employees[col].astype(str).str.len() > max_len][col]\n",
    "                        if not long_strings.empty:\n",
    "                            print(f\"   ⚠️ ADVERTENCIA: Columna '{col}' tiene strings más largos que {max_len} caracteres.\")\n",
    "                            print(f\"     Primeros 5 valores problemáticos: {long_strings.head().tolist()}\")\n",
    "                    except (IndexError, ValueError):\n",
    "                        pass\n",
    "\n",
    "    print(\"✅ DataFrame preparado para la actualización.\")\n",
    "\n",
    "    # 4. Actualizar los registros con los datos limpios del DataFrame\n",
    "    print(\"\\n--- Actualizando registros en 'employees' con datos limpios ---\")\n",
    "\n",
    "    set_clauses = [f\"`{col}` = %s\" for col in valid_columns_for_update]\n",
    "    update_sql = f\"UPDATE `employees` SET {', '.join(set_clauses)} WHERE `id` = %s;\"\n",
    "\n",
    "    print(f\"DEBUG: SQL de UPDATE generado: {update_sql[:150]}...\")\n",
    "    print(f\"DEBUG: Columnas que se actualizarán: {valid_columns_for_update}\")\n",
    "\n",
    "    updated_count = 0\n",
    "    errors_encountered = 0\n",
    "    for index, row in df_employees.iterrows():\n",
    "        update_values = []\n",
    "        for col in valid_columns_for_update:\n",
    "            val = row[col]\n",
    "            if pd.isna(val) or (isinstance(val, (float, np.float64)) and np.isnan(val)):\n",
    "                update_values.append(None)\n",
    "            elif isinstance(val, (np.int64, np.int32)):\n",
    "                update_values.append(int(val))\n",
    "            elif isinstance(val, (np.bool_)):\n",
    "                update_values.append(bool(val))\n",
    "            else:\n",
    "                update_values.append(val)\n",
    "\n",
    "        update_values.append(row['id'])\n",
    "\n",
    "        try:\n",
    "            cursor.execute(update_sql, tuple(update_values))\n",
    "            updated_count += 1\n",
    "            if updated_count % 5 == 0:\n",
    "                print(f\"   Progreso: {updated_count}/{len(df_employees)} registros procesados...\")\n",
    "        except Exception as e:\n",
    "            errors_encountered += 1\n",
    "            print(f\"\\n❌❌ ERROR CRÍTICO al actualizar el registro con ID {row['id']}: {e}\")\n",
    "            print(f\"   SQL: {update_sql}\")\n",
    "            print(f\"   Valores problemáticos (ID={row['id']}): {tuple(update_values)}\")\n",
    "            raise\n",
    "\n",
    "    if errors_encountered > 0:\n",
    "        conexion.rollback()\n",
    "        print(f\"❌ Actualización finalizada con {errors_encountered} errores. Transacción revertida.\")\n",
    "    else:\n",
    "        conexion.commit()\n",
    "        print(f\"✅ Actualización de {updated_count} registros en la tabla 'employees' completada exitosamente.\")\n",
    "\n",
    "    print(\"\\n✅ Limpieza y aplanamiento de JSONs en 'employees' finalizada exitosamente.\")\n",
    "\n",
    "except Exception as e:\n",
    "    print(f\"\\n❌❌ Ocurrió un error general NO CAPTURADO en el bucle principal: {e}\")\n",
    "    print(\"Por favor, revisa la conexión a la base de datos o los datos en sí.\")\n",
    "    try:\n",
    "        if conexion and conexion.is_connected():\n",
    "            conexion.rollback()\n",
    "            print(\"Transacción revertida debido a un error.\")\n",
    "    except Exception as rollback_e:\n",
    "        print(f\"❌ Error adicional al intentar revertir la transacción: {rollback_e}\")\n",
    "finally:\n",
    "    # Asegúrate de re-habilitar las FKs incluso si hay un error en el try-except.\n",
    "    # Esto es CRÍTICO para mantener la integridad de tu base de datos.\n",
    "    if cursor is not None:\n",
    "        try:\n",
    "            cursor.execute(\"SET FOREIGN_KEY_CHECKS = 1;\")\n",
    "            print(\"✅ Verificaciones de claves foráneas re-habilitadas en el bloque 'finally'.\")\n",
    "        except Exception as e:\n",
    "            print(f\"❌ Advertencia: No se pudieron re-habilitar las FKs en finally: {e}\")\n",
    "\n",
    "    # La conexión a la base de datos se mantiene abierta según la solicitud.\n",
    "    print(\"La conexión a la base de datos se mantiene abierta según la solicitud.\")"
   ]
  },
  {
   "cell_type": "markdown",
   "id": "c1a0d171",
   "metadata": {},
   "source": [
    "**Tablas candidatas fuertes para eliminación (por contenido y nombre)**\n",
    "\n",
    "Estas tablas tienen pocos registros, estructuras irrelevantes para KPIs o funciones accesorias que no impactan directamente en la gestión:\n",
    "\n",
    "*Tabla\t// Motivo principal*\n",
    "\n",
    "api_access_tokens\tManejo técnico de tokens\n",
    "\n",
    "electronic_payroll_test_set\tDatos de prueba (test set)\n",
    "\n",
    "migrations\tSolo para migraciones del sistema\n",
    "\n",
    "oauth_clients\tSeguridad/autenticación interna\n",
    "\n",
    "paynilo\tIntegración de pagos externa\n",
    "\n",
    "role_permissions\tControl de permisos internos\n",
    "\n",
    "template_versions\tVersiones de plantillas, sin datos\n",
    "\n",
    "templates\tEstructura visual, no analítica\n",
    "\n",
    "user_data\tSolo datos de área/cargo del usuario\n",
    "\n",
    "custom_fields\tCampos personalizados (metadatos)\n",
    "\n",
    "system_counters\tEstadísticas internas del sistema\n",
    "\n",
    "system_restrictions\tRestricciones de uso/licencia\n",
    "\n",
    "values_x_item\tDatos muy técnicos por item, posiblemente redundantes\n",
    "\n",
    "warehouse_transfer_logs\tRegistro técnico, no necesariamente útil para KPIs"
   ]
  },
  {
   "cell_type": "markdown",
   "id": "f002ae8b",
   "metadata": {},
   "source": [
    "----"
   ]
  },
  {
   "cell_type": "markdown",
   "id": "ba4e3993",
   "metadata": {},
   "source": [
    "*CUARTO FILTRO: Investigar mas a fondo las tablas dudosas*"
   ]
  },
  {
   "cell_type": "markdown",
   "id": "c0748864",
   "metadata": {},
   "source": [
    "**⚠️ Tablas dudosas (verificar con .info() antes de decidir)**\n",
    "\n",
    "Estas tienen algo más de contenido o potencial analítico dependiendo del negocio:\n",
    "\n",
    "*billing_numberings:* Tiene 155 registros. Podría contener información útil para facturación si los números se asocian a documentos.\n",
    "\n",
    "*configurations:* Solo 25 registros, pero hay que ver si son configuraciones claves que afectan reportes.\n",
    "\n"
   ]
  },
  {
   "cell_type": "code",
   "execution_count": 8,
   "id": "2e551c8d",
   "metadata": {},
   "outputs": [
    {
     "name": "stdout",
     "output_type": "stream",
     "text": [
      "\n",
      "📋 Tabla: billing_numberings\n",
      "▶️ .info():\n",
      "<class 'pandas.core.frame.DataFrame'>\n",
      "RangeIndex: 50 entries, 0 to 49\n",
      "Data columns (total 27 columns):\n",
      " #   Column                  Non-Null Count  Dtype         \n",
      "---  ------                  --------------  -----         \n",
      " 0   id                      50 non-null     int64         \n",
      " 1   document_type_id        50 non-null     int64         \n",
      " 2   pos_numbering           50 non-null     int64         \n",
      " 3   name                    50 non-null     object        \n",
      " 4   prefix                  50 non-null     object        \n",
      " 5   initial_number          50 non-null     int64         \n",
      " 6   current_number          50 non-null     int64         \n",
      " 7   final_number            22 non-null     float64       \n",
      " 8   valid_since             22 non-null     object        \n",
      " 9   valid_until             22 non-null     object        \n",
      " 10  validity                22 non-null     float64       \n",
      " 11  preferred               50 non-null     int64         \n",
      " 12  electronic_billing      50 non-null     int64         \n",
      " 13  is_ecommerce            50 non-null     int64         \n",
      " 14  resolution_number       19 non-null     object        \n",
      " 15  resolution_type         19 non-null     object        \n",
      " 16  resolution_description  19 non-null     object        \n",
      " 17  tech_key                5 non-null      object        \n",
      " 18  used                    50 non-null     int64         \n",
      " 19  template                31 non-null     object        \n",
      " 20  headquarter_id          50 non-null     int64         \n",
      " 21  warehouse_id            50 non-null     int64         \n",
      " 22  status                  50 non-null     int64         \n",
      " 23  user_id                 50 non-null     int64         \n",
      " 24  created_at              25 non-null     datetime64[ns]\n",
      " 25  updated_at              31 non-null     datetime64[ns]\n",
      " 26  contingency             50 non-null     int64         \n",
      "dtypes: datetime64[ns](2), float64(2), int64(14), object(9)\n",
      "memory usage: 10.7+ KB\n",
      "None\n",
      "▶️ Primeras filas:\n"
     ]
    },
    {
     "data": {
      "text/html": [
       "<div>\n",
       "<style scoped>\n",
       "    .dataframe tbody tr th:only-of-type {\n",
       "        vertical-align: middle;\n",
       "    }\n",
       "\n",
       "    .dataframe tbody tr th {\n",
       "        vertical-align: top;\n",
       "    }\n",
       "\n",
       "    .dataframe thead th {\n",
       "        text-align: right;\n",
       "    }\n",
       "</style>\n",
       "<table border=\"1\" class=\"dataframe\">\n",
       "  <thead>\n",
       "    <tr style=\"text-align: right;\">\n",
       "      <th></th>\n",
       "      <th>id</th>\n",
       "      <th>document_type_id</th>\n",
       "      <th>pos_numbering</th>\n",
       "      <th>name</th>\n",
       "      <th>prefix</th>\n",
       "      <th>initial_number</th>\n",
       "      <th>current_number</th>\n",
       "      <th>final_number</th>\n",
       "      <th>valid_since</th>\n",
       "      <th>valid_until</th>\n",
       "      <th>...</th>\n",
       "      <th>tech_key</th>\n",
       "      <th>used</th>\n",
       "      <th>template</th>\n",
       "      <th>headquarter_id</th>\n",
       "      <th>warehouse_id</th>\n",
       "      <th>status</th>\n",
       "      <th>user_id</th>\n",
       "      <th>created_at</th>\n",
       "      <th>updated_at</th>\n",
       "      <th>contingency</th>\n",
       "    </tr>\n",
       "  </thead>\n",
       "  <tbody>\n",
       "    <tr>\n",
       "      <th>0</th>\n",
       "      <td>1</td>\n",
       "      <td>11</td>\n",
       "      <td>0</td>\n",
       "      <td>Remisiones</td>\n",
       "      <td></td>\n",
       "      <td>0</td>\n",
       "      <td>56</td>\n",
       "      <td>NaN</td>\n",
       "      <td>None</td>\n",
       "      <td>None</td>\n",
       "      <td>...</td>\n",
       "      <td>None</td>\n",
       "      <td>1</td>\n",
       "      <td>{\"id\": 1, \"name\": \"Carta\", \"template_type\": \"1\"}</td>\n",
       "      <td>1</td>\n",
       "      <td>1</td>\n",
       "      <td>1</td>\n",
       "      <td>10</td>\n",
       "      <td>NaT</td>\n",
       "      <td>2024-05-24 09:54:00</td>\n",
       "      <td>0</td>\n",
       "    </tr>\n",
       "    <tr>\n",
       "      <th>1</th>\n",
       "      <td>2</td>\n",
       "      <td>12</td>\n",
       "      <td>0</td>\n",
       "      <td>Cotizaciones</td>\n",
       "      <td></td>\n",
       "      <td>0</td>\n",
       "      <td>91</td>\n",
       "      <td>NaN</td>\n",
       "      <td>None</td>\n",
       "      <td>None</td>\n",
       "      <td>...</td>\n",
       "      <td>None</td>\n",
       "      <td>1</td>\n",
       "      <td>{\"id\": 3, \"name\": \"POS\", \"template_type\": \"1\"}</td>\n",
       "      <td>1</td>\n",
       "      <td>1</td>\n",
       "      <td>1</td>\n",
       "      <td>10</td>\n",
       "      <td>NaT</td>\n",
       "      <td>2024-07-13 11:53:24</td>\n",
       "      <td>0</td>\n",
       "    </tr>\n",
       "    <tr>\n",
       "      <th>2</th>\n",
       "      <td>3</td>\n",
       "      <td>13</td>\n",
       "      <td>0</td>\n",
       "      <td>Recibos de Caja</td>\n",
       "      <td></td>\n",
       "      <td>0</td>\n",
       "      <td>506</td>\n",
       "      <td>NaN</td>\n",
       "      <td>None</td>\n",
       "      <td>None</td>\n",
       "      <td>...</td>\n",
       "      <td>None</td>\n",
       "      <td>1</td>\n",
       "      <td>{\"id\": 1, \"name\": \"Carta\", \"template_type\": \"1\"}</td>\n",
       "      <td>1</td>\n",
       "      <td>1</td>\n",
       "      <td>1</td>\n",
       "      <td>10</td>\n",
       "      <td>NaT</td>\n",
       "      <td>2024-07-17 10:58:41</td>\n",
       "      <td>0</td>\n",
       "    </tr>\n",
       "    <tr>\n",
       "      <th>3</th>\n",
       "      <td>4</td>\n",
       "      <td>14</td>\n",
       "      <td>0</td>\n",
       "      <td>Comprobantes de Pago</td>\n",
       "      <td></td>\n",
       "      <td>0</td>\n",
       "      <td>113</td>\n",
       "      <td>NaN</td>\n",
       "      <td>None</td>\n",
       "      <td>None</td>\n",
       "      <td>...</td>\n",
       "      <td>None</td>\n",
       "      <td>1</td>\n",
       "      <td>{\"id\": 1, \"name\": \"Carta\", \"template_type\": \"1\"}</td>\n",
       "      <td>1</td>\n",
       "      <td>1</td>\n",
       "      <td>1</td>\n",
       "      <td>0</td>\n",
       "      <td>NaT</td>\n",
       "      <td>2024-07-17 11:00:31</td>\n",
       "      <td>0</td>\n",
       "    </tr>\n",
       "    <tr>\n",
       "      <th>4</th>\n",
       "      <td>5</td>\n",
       "      <td>15</td>\n",
       "      <td>0</td>\n",
       "      <td>Órdenes de Compra</td>\n",
       "      <td></td>\n",
       "      <td>0</td>\n",
       "      <td>23</td>\n",
       "      <td>NaN</td>\n",
       "      <td>None</td>\n",
       "      <td>None</td>\n",
       "      <td>...</td>\n",
       "      <td>None</td>\n",
       "      <td>1</td>\n",
       "      <td>{\"id\": 1, \"name\": \"Carta\", \"template_type\": \"1\"}</td>\n",
       "      <td>1</td>\n",
       "      <td>1</td>\n",
       "      <td>1</td>\n",
       "      <td>0</td>\n",
       "      <td>NaT</td>\n",
       "      <td>2024-04-03 16:10:15</td>\n",
       "      <td>0</td>\n",
       "    </tr>\n",
       "  </tbody>\n",
       "</table>\n",
       "<p>5 rows × 27 columns</p>\n",
       "</div>"
      ],
      "text/plain": [
       "   id  document_type_id  pos_numbering                  name prefix  \\\n",
       "0   1                11              0            Remisiones          \n",
       "1   2                12              0          Cotizaciones          \n",
       "2   3                13              0       Recibos de Caja          \n",
       "3   4                14              0  Comprobantes de Pago          \n",
       "4   5                15              0     Órdenes de Compra          \n",
       "\n",
       "   initial_number  current_number  final_number valid_since valid_until  ...  \\\n",
       "0               0              56           NaN        None        None  ...   \n",
       "1               0              91           NaN        None        None  ...   \n",
       "2               0             506           NaN        None        None  ...   \n",
       "3               0             113           NaN        None        None  ...   \n",
       "4               0              23           NaN        None        None  ...   \n",
       "\n",
       "   tech_key  used                                          template  \\\n",
       "0      None     1  {\"id\": 1, \"name\": \"Carta\", \"template_type\": \"1\"}   \n",
       "1      None     1    {\"id\": 3, \"name\": \"POS\", \"template_type\": \"1\"}   \n",
       "2      None     1  {\"id\": 1, \"name\": \"Carta\", \"template_type\": \"1\"}   \n",
       "3      None     1  {\"id\": 1, \"name\": \"Carta\", \"template_type\": \"1\"}   \n",
       "4      None     1  {\"id\": 1, \"name\": \"Carta\", \"template_type\": \"1\"}   \n",
       "\n",
       "   headquarter_id warehouse_id status user_id created_at          updated_at  \\\n",
       "0               1            1      1      10        NaT 2024-05-24 09:54:00   \n",
       "1               1            1      1      10        NaT 2024-07-13 11:53:24   \n",
       "2               1            1      1      10        NaT 2024-07-17 10:58:41   \n",
       "3               1            1      1       0        NaT 2024-07-17 11:00:31   \n",
       "4               1            1      1       0        NaT 2024-04-03 16:10:15   \n",
       "\n",
       "  contingency  \n",
       "0           0  \n",
       "1           0  \n",
       "2           0  \n",
       "3           0  \n",
       "4           0  \n",
       "\n",
       "[5 rows x 27 columns]"
      ]
     },
     "metadata": {},
     "output_type": "display_data"
    },
    {
     "name": "stdout",
     "output_type": "stream",
     "text": [
      "\n",
      "📋 Tabla: configurations\n",
      "❌ Error al cargar configurations: (mysql.connector.errors.ProgrammingError) 1146 (42S02): Table 'novateam.configurations' doesn't exist\n",
      "[SQL: SELECT * FROM configurations]\n",
      "(Background on this error at: https://sqlalche.me/e/20/f405)\n"
     ]
    }
   ],
   "source": [
    "# Obtener el esquema de cada tabla para decidir si son candidatas a eliminación\n",
    "tablas_dudosas = ['billing_numberings', 'configurations'] # Agregar mas tablas si es necesario\n",
    "\n",
    "for tabla in tablas_dudosas:\n",
    "    print(f\"\\n📋 Tabla: {tabla}\")\n",
    "    try:\n",
    "        df = pd.read_sql(f\"SELECT * FROM {tabla}\", con=engine)\n",
    "        print(\"▶️ .info():\")\n",
    "        print(df.info())\n",
    "        print(\"▶️ Primeras filas:\")\n",
    "        display(df.head())\n",
    "    except Exception as e:\n",
    "        print(f\"❌ Error al cargar {tabla}: {e}\")\n"
   ]
  },
  {
   "cell_type": "markdown",
   "id": "28b7a189",
   "metadata": {},
   "source": [
    "---"
   ]
  },
  {
   "cell_type": "markdown",
   "id": "f07e5cbf",
   "metadata": {},
   "source": [
    "**TABLAS FINALES A ELIMINAR DESPUÉS DE TODOS LOS FILTROS Y ANÁLISIS INDIVIDUAL**"
   ]
  },
  {
   "cell_type": "markdown",
   "id": "7dfc491f",
   "metadata": {},
   "source": [
    "Falta escoger y seleccionar individualmente "
   ]
  },
  {
   "cell_type": "code",
   "execution_count": 9,
   "id": "67e8d147",
   "metadata": {},
   "outputs": [],
   "source": [
    "tablas_a_eliminar = [\n",
    "    \"api_access_tokens\",             # Manejo técnico de tokens\n",
    "    \"electronic_payroll_test_set\",   # Datos de prueba (test set)\n",
    "    \"migrations\",                    # Solo para migraciones del sistema\n",
    "    \"oauth_clients\",                 # Seguridad/autenticación interna\n",
    "    \"paynilo\",                       # Integración de pagos externa\n",
    "    \"role_permissions\",             # Control de permisos internos\n",
    "    \"template_versions\",            # Versiones de plantillas, sin datos\n",
    "    \"templates\",                    # Estructura visual, no analítica\n",
    "    \"user_data\",                    # Solo datos de área/cargo del usuario\n",
    "    \"custom_fields\",                # Campos personalizados (metadatos)\n",
    "    \"system_counters\",              # Estadísticas internas del sistema\n",
    "    \"system_restrictions\",          # Restricciones de uso/licencia\n",
    "    \"values_x_item\",                # Datos técnicos por ítem\n",
    "    \"user_roles\",\n",
    "    \"user_data\",\n",
    "    \"user_headquarters\",\n",
    "    \"term_and_conditions,\",\n",
    "    \"severance_payments\",\n",
    "    \"roles\", \n",
    "    \"role_permissions\",\n",
    "    \"radian_events\",\n",
    "    \"radian_documents\",\n",
    "    \"plan_system_controller\",\n",
    "    \"plan_electronic_documents\",\n",
    "    \"api_access_tokens\",\n",
    "    \"configurations\",\n",
    "    \"company_areas\",\n",
    "    \"consolidated_retention_certificates\",\n",
    "    \"contact_accounts\",\n",
    "    \"contact_relationship\",\n",
    "    \"contact_statement\",\n",
    "    \"contact\",\n",
    "    \"custom_fields\",\n",
    "    \"dining_tables\",\n",
    "    \"ecomerce_legal_info\",\n",
    "    \"ecomerce_purchase_orders\",\n",
    "    \"electronic_payroll_test_set\", \n",
    "    \"electronic_contracts\",\n",
    "    \"migraciones ]\"     # Registro técnico, no útil para KPIs\n",
    "\n",
    "]\n",
    "\n",
    "\n"
   ]
  },
  {
   "cell_type": "code",
   "execution_count": 10,
   "id": "9205bfbc",
   "metadata": {},
   "outputs": [],
   "source": [
    "# ⚠️ Solo si tienes respaldo y estás en entorno seguro\n",
    "# ELIMINAR TABLAS FINALES ¡OJO HAY QUE ESCOGER ANTES DE EJECUTAR!\n",
    "\n",
    "# Desactivar restricciones !NO SE HACE ANTES DE VERIFICAR QUE NO GENERA NINGÚN DAÑO!\n",
    "# cursor.execute(\"SET FOREIGN_KEY_CHECKS=0;\")\n",
    "\n",
    "# borrar_lista_tablas(tablas_a_eliminar)\n",
    "\n",
    "# Volver a activar restricciones !NO SE HACE ANTES DE VERIFICAR QUE NO GENERA NINGÚN DAÑO!\n",
    "#cursor.execute(\"SET FOREIGN_KEY_CHECKS=1;\")\n",
    "#"
   ]
  },
  {
   "cell_type": "markdown",
   "id": "43d13f61",
   "metadata": {},
   "source": [
    "---\n"
   ]
  },
  {
   "cell_type": "markdown",
   "id": "f112b1ab",
   "metadata": {},
   "source": [
    "**TABLAS ASIGNADAS AL ANÁLISIS DE RH - Alexandra García **\n",
    "\n",
    "A continuación, se irá explorando una a una, las tablas y su contenido para visualizar qué tan viables son para el ejercicio propuesto, se realizará limpieza de datos, se eliminarán nulls según convenga o se reemplazarán por n/a.  \n",
    "\n",
    "employee_positions, employees, , employee_contracts, contract_salary_history, payrolls, payroll_details, payroll_incomes, payroll_deductions, payroll_providers, costs_and_expenses, costs_and_expenses_categories, headquarters, coupons. \n",
    "\n",
    "por cuestiones de tiempo, sólo se logró realizar ETL completo a las tres primeras.\n",
    "Eso lo verán a continuación: \n",
    "\n"
   ]
  },
  {
   "cell_type": "markdown",
   "id": "eb7b186d",
   "metadata": {},
   "source": [
    "##TABLA 1: EMPLOYEE_POSITIONS  O Posiciones de empleados ##\n"
   ]
  },
  {
   "cell_type": "code",
   "execution_count": 11,
   "id": "65064874",
   "metadata": {},
   "outputs": [
    {
     "name": "stdout",
     "output_type": "stream",
     "text": [
      "✅ Conexión exitosa a la base de datos\n",
      "Columnas de 'employee_positions':\n",
      "  - id (int unsigned)\n",
      "  - name (varchar(255))\n",
      "  - description (varchar(500))\n",
      "  - salary (double(16,2))\n",
      "  - status (tinyint(1))\n",
      "  - user_id (int unsigned)\n",
      "  - created_at (timestamp)\n",
      "  - updated_at (timestamp)\n"
     ]
    }
   ],
   "source": [
    "# Conectarse a la base de datos\n",
    "conexion = get_connection()\n",
    "cursor = conexion.cursor()\n",
    "\n",
    "try:\n",
    "    # Obtener la descripción de las columnas\n",
    "    cursor.execute(\"DESCRIBE employee_positions;\")\n",
    "    columnas_employee_positions = cursor.fetchall()\n",
    "\n",
    "    print(\"Columnas de 'employee_positions':\")\n",
    "    for columna in columnas_employee_positions:\n",
    "        print(f\"  - {columna[0]} ({columna[1]})\")\n",
    "\n",
    "except Exception as e:\n",
    "    print(f\"Error al obtener columnas de 'employee_positions': {e}\")\n",
    "finally:\n",
    "    # Cerrar el cursor y la conexión\n",
    "    if cursor:\n",
    "        cursor.close()\n",
    "    if conexion:\n",
    "        conexion.close()"
   ]
  },
  {
   "cell_type": "markdown",
   "id": "3cd5f3b1",
   "metadata": {},
   "source": [
    "Aquí hay una versión muy concisa y sustanciosa de la celda, enfocada en la información clave para el análisis, sin la verbosidad anterior.\n",
    "\n",
    "1. 💼 Tabla: employee_positions\n",
    "Exploración de Datos Clave 🔍\n",
    "\n",
    "Esta tabla describe los puestos de trabajo en la organización. Esencial para la estructura organizacional y la gestión de la compensación.\n",
    "\n",
    "Columnas principales:\n",
    "\n",
    "id: Identificador único de cada posición.\n",
    "name: Nombre del puesto (ej., \"Gerente de Proyectos\").\n",
    "description: Descripción del rol.\n",
    "salary: Salario de referencia asociado a la posición.\n",
    "status: Estado de la posición (activa/inactiva).\n",
    "Consideraciones para el análisis:\n",
    "\n",
    "Estandarización de name: Unificar nombres de puestos similares.\n",
    "Manejo de nulos en salary: Definir cómo tratar los valores faltantes."
   ]
  },
  {
   "cell_type": "code",
   "execution_count": 12,
   "id": "86f2be10",
   "metadata": {},
   "outputs": [
    {
     "name": "stdout",
     "output_type": "stream",
     "text": [
      "Ocurrió un error durante la verificación inicial de datos en 'employee_positions': 2055: Cursor is not connected\n"
     ]
    }
   ],
   "source": [
    "# Script para la verificación inicial de datos en 'employee_positions'\n",
    "try:\n",
    "    # 1. Obtener el número total de registros\n",
    "    cursor.execute(\"SELECT COUNT(*) FROM employee_positions;\")\n",
    "    total_registros = cursor.fetchone()[0]\n",
    "    print(f\"\\nTotal de registros en 'employee_positions': {total_registros}\")\n",
    "\n",
    "    # 2. Verificar valores nulos por columna\n",
    "    print(\"\\nValores nulos por columna en 'employee_positions':\")\n",
    "    for columna_info in columnas_employee_positions: # Usamos 'columnas_employee_positions' que ya obtuvimos\n",
    "        nombre_columna = columna_info[0]\n",
    "        cursor.execute(f\"SELECT COUNT(*) FROM employee_positions WHERE {nombre_columna} IS NULL;\")\n",
    "        nulos_count = cursor.fetchone()[0]\n",
    "        if nulos_count > 0:\n",
    "            print(f\"  - {nombre_columna}: {nulos_count} nulos\")\n",
    "        else:\n",
    "            print(f\"  - {nombre_columna}: 0 nulos\")\n",
    "\n",
    "    # 3. Verificar filas duplicadas (basado en todas las columnas, o solo el ID si es la clave primaria)\n",
    "    # Asumimos que 'id' debería ser único\n",
    "    cursor.execute(\"SELECT COUNT(id) - COUNT(DISTINCT id) FROM employee_positions;\")\n",
    "    duplicados_id = cursor.fetchone()[0]\n",
    "    print(f\"\\nFilas duplicadas basadas en 'id' en 'employee_positions': {duplicados_id}\")\n",
    "\n",
    "    \n",
    "    # 4. Obtener valores únicos para columnas específicas\n",
    "    print(\"\\nValores únicos en columnas clave de 'employee_positions':\")\n",
    "\n",
    "    # Para 'name'\n",
    "    cursor.execute(\"SELECT DISTINCT name FROM employee_positions LIMIT 10;\") # Limitar para no cargar demasiados si hay muchos\n",
    "    nombres_unicos = [fila[0] for fila in cursor.fetchall()]\n",
    "    print(f\"  - name (primeros 10 únicos): {nombres_unicos}\")\n",
    "    cursor.execute(\"SELECT COUNT(DISTINCT name) FROM employee_positions;\")\n",
    "    count_nombres_unicos = cursor.fetchone()[0]\n",
    "    print(f\"  - Total de nombres únicos: {count_nombres_unicos}\")\n",
    "\n",
    "    # Para 'status'\n",
    "    cursor.execute(\"SELECT DISTINCT status FROM employee_positions;\")\n",
    "    estados_unicos = [fila[0] for fila in cursor.fetchall()]\n",
    "    print(f\"  - status: {estados_unicos}\")\n",
    "\n",
    "\n",
    "except Exception as e:\n",
    "    print(f\"Ocurrió un error durante la verificación inicial de datos en 'employee_positions': {e}\")"
   ]
  },
  {
   "cell_type": "markdown",
   "id": "38cc5ef8",
   "metadata": {},
   "source": [
    "**Bloque 2: Limpieza y Transformación de la 1ra tabla: employee_positions**"
   ]
  },
  {
   "cell_type": "code",
   "execution_count": 13,
   "id": "87d17882",
   "metadata": {},
   "outputs": [
    {
     "name": "stdout",
     "output_type": "stream",
     "text": [
      "✅ Conexión exitosa a la base de datos"
     ]
    },
    {
     "name": "stdout",
     "output_type": "stream",
     "text": [
      "\n",
      "\n",
      "Iniciando limpieza y transformación para 'employee_positions'...\n",
      "Corrigiendo error tipográfico en la columna 'name': 'Secretria' a 'Secretaria'...\n",
      "Corrección de 'name' completada.\n",
      "Rellenando valores nulos en la columna 'description' con 'N/A'...\n",
      "Relleno de 'description' completado.\n",
      "\n",
      "Limpieza y transformación de 'employee_positions' finalizada.\n"
     ]
    }
   ],
   "source": [
    "conexion = get_connection()\n",
    "cursor = conexion.cursor()\n",
    "\n",
    "try:\n",
    "    print(\"\\nIniciando limpieza y transformación para 'employee_positions'...\")\n",
    "\n",
    "    # 1. Corrección de errores tipográficos en la columna 'name'\n",
    "    # Detectamos 'Secretria' que debería ser 'Secretaria'\n",
    "    print(\"Corrigiendo error tipográfico en la columna 'name': 'Secretria' a 'Secretaria'...\")\n",
    "    cursor.execute(\"\"\"\n",
    "        UPDATE employee_positions\n",
    "        SET name = 'Secretaria'\n",
    "        WHERE name = 'Secretria';\n",
    "    \"\"\")\n",
    "    conexion.commit() # Confirmar los cambios en la base de datos\n",
    "    print(\"Corrección de 'name' completada.\")\n",
    "\n",
    "    # 2. Manejo de valores nulos en la columna 'description'\n",
    "    # Rellenar con 'N/A' según lo acordado.\n",
    "    print(\"Rellenando valores nulos en la columna 'description' con 'N/A'...\")\n",
    "    cursor.execute(\"\"\"\n",
    "        UPDATE employee_positions\n",
    "        SET description = 'N/A'\n",
    "        WHERE description IS NULL;\n",
    "    \"\"\")\n",
    "    conexion.commit() # Confirmar los cambios\n",
    "    print(\"Relleno de 'description' completado.\")\n",
    "\n",
    "    print(\"\\nLimpieza y transformación de 'employee_positions' finalizada.\")\n",
    "\n",
    "except Exception as e:\n",
    "    print(f\"Ocurrió un error durante la limpieza y transformación de 'employee_positions': {e}\")\n",
    "    conexion.rollback() # Revertir cambios en caso de error"
   ]
  },
  {
   "cell_type": "markdown",
   "id": "78482788",
   "metadata": {},
   "source": [
    "**TABLA 2: EMPLOYEES o EMPLEADOS**\n"
   ]
  },
  {
   "cell_type": "code",
   "execution_count": 14,
   "id": "35175f93",
   "metadata": {},
   "outputs": [
    {
     "name": "stdout",
     "output_type": "stream",
     "text": [
      "✅ Conexión exitosa a la base de datos\n",
      "Columnas de la tabla 'employees':\n",
      "  - id (int unsigned)\n",
      "  - uuid (char(36))\n",
      "  - identity_document_type (varchar(255))\n",
      "  - document_number (varchar(25))\n",
      "  - birth_date (date)\n",
      "  - first_name (varchar(50))\n",
      "  - other_name (varchar(50))\n",
      "  - first_surname (varchar(50))\n",
      "  - second_surname (varchar(50))\n",
      "  - full_name (varchar(255))\n",
      "  - phone (varchar(25))\n",
      "  - email (varchar(75))\n",
      "  - country (varchar(255))\n",
      "  - region (varchar(255))\n",
      "  - city (varchar(255))\n",
      "  - address (varchar(255))\n",
      "  - headquarter_id (int unsigned)\n",
      "  - company_area_id (int unsigned)\n",
      "  - employee_position_id (int unsigned)\n",
      "  - emergency_contact (varchar(255))\n",
      "  - payment_type (tinyint unsigned)\n",
      "  - payment_method (varchar(255))\n",
      "  - bank (varchar(255))\n",
      "  - bank_account_type (varchar(255))\n",
      "  - bank_account_number (varchar(255))\n",
      "  - status (tinyint(1))\n",
      "  - settled (tinyint(1))\n",
      "  - user_id (int unsigned)\n",
      "  - created_at (timestamp)\n",
      "  - updated_at (timestamp)\n",
      "  - latitude (decimal(10,7))\n",
      "  - longitude (decimal(10,7))\n"
     ]
    }
   ],
   "source": [
    "conexion = get_connection()\n",
    "cursor = conexion.cursor()\n",
    "\n",
    "# Script para obtener la información de las columnas de 'employees'\n",
    "try:\n",
    "    # Obtener la descripción de las columnas de la tabla 'employees'\n",
    "    cursor.execute(\"DESCRIBE employees;\")\n",
    "    columnas_employees = cursor.fetchall()\n",
    "\n",
    "    print(\"Columnas de la tabla 'employees':\")\n",
    "    for columna in columnas_employees:\n",
    "        # Cada 'columna' es una tupla con (nombre_columna, tipo_dato, ...)\n",
    "        print(f\"  - {columna[0]} ({columna[1]})\")\n",
    "\n",
    "except Exception as e:\n",
    "    print(f\"Ocurrió un error al intentar obtener las columnas de 'employees': {e}\")"
   ]
  },
  {
   "cell_type": "markdown",
   "id": "a8dfbc5a",
   "metadata": {},
   "source": [
    "Bloque 4: Verificación inicial de nulos, duplicados y valores únicos en employees\n"
   ]
  },
  {
   "cell_type": "code",
   "execution_count": 15,
   "id": "64581522",
   "metadata": {},
   "outputs": [
    {
     "name": "stdout",
     "output_type": "stream",
     "text": [
      "✅ Conexión exitosa a la base de datos\n",
      "\n",
      "--- Bloque 5: Limpieza y Transformación Inicial de 'employees' ---\n",
      "Iniciando operaciones de limpieza en 'employees'...\n",
      "Rellenando valores nulos en 'other_name', 'phone', 'email' con 'N/A'...\n",
      "Relleno de nulos completado.\n",
      "Estandarizando capitalización de nombres...\n",
      "Estandarización de capitalización completada.\n",
      "\n",
      "Limpieza y transformación inicial de 'employees' finalizada exitosamente.\n"
     ]
    }
   ],
   "source": [
    "# Importar conexión\n",
    "from db_connection import get_connection\n",
    "\n",
    "# Conectarse a la base de datos\n",
    "conexion = get_connection()\n",
    "cursor = conexion.cursor()\n",
    "\n",
    "# Script para la limpieza y transformación inicial de 'employees' (VERSION FINAL)\n",
    "print(\"\\n--- Bloque 5: Limpieza y Transformación Inicial de 'employees' ---\")\n",
    "\n",
    "try:\n",
    "    print(\"Iniciando operaciones de limpieza en 'employees'...\")\n",
    "\n",
    "    # 1. Manejo de valores nulos con 'N/A'\n",
    "    print(\"Rellenando valores nulos en 'other_name', 'phone', 'email' con 'N/A'...\")\n",
    "    cursor.execute(\"\"\"\n",
    "        UPDATE employees\n",
    "        SET other_name = 'N/A'\n",
    "        WHERE other_name IS NULL;\n",
    "    \"\"\")\n",
    "    conexion.commit() # Confirmar los cambios\n",
    "\n",
    "    cursor.execute(\"\"\"\n",
    "        UPDATE employees\n",
    "        SET phone = 'N/A'\n",
    "        WHERE phone IS NULL;\n",
    "    \"\"\")\n",
    "    conexion.commit() # Confirmar los cambios\n",
    "\n",
    "    cursor.execute(\"\"\"\n",
    "        UPDATE employees\n",
    "        SET email = 'N/A'\n",
    "        WHERE email IS NULL;\n",
    "    \"\"\")\n",
    "    conexion.commit() # Confirmar los cambios\n",
    "    print(\"Relleno de nulos completado.\")\n",
    "\n",
    "    # 2. Estandarización de capitalización para nombres\n",
    "    # Aplicar CONCAT y SUBSTRING solo a los valores que NO sean 'N/A' o cadenas vacías\n",
    "    print(\"Estandarizando capitalización de nombres...\")\n",
    "\n",
    "    # first_name\n",
    "    cursor.execute(\"\"\"\n",
    "        UPDATE employees\n",
    "        SET first_name = CONCAT(UPPER(SUBSTRING(first_name, 1, 1)), LOWER(SUBSTRING(first_name, 2)))\n",
    "        WHERE first_name IS NOT NULL AND first_name != '';\n",
    "    \"\"\")\n",
    "    conexion.commit()\n",
    "\n",
    "    # other_name (solo si no es 'N/A' o vacío)\n",
    "    cursor.execute(\"\"\"\n",
    "        UPDATE employees\n",
    "        SET other_name = CONCAT(UPPER(SUBSTRING(other_name, 1, 1)), LOWER(SUBSTRING(other_name, 2)))\n",
    "        WHERE other_name IS NOT NULL AND other_name != 'N/A' AND other_name != '';\n",
    "    \"\"\")\n",
    "    conexion.commit()\n",
    "\n",
    "    # first_surname\n",
    "    cursor.execute(\"\"\"\n",
    "        UPDATE employees\n",
    "        SET first_surname = CONCAT(UPPER(SUBSTRING(first_surname, 1, 1)), LOWER(SUBSTRING(first_surname, 2)))\n",
    "        WHERE first_surname IS NOT NULL AND first_surname != '';\n",
    "    \"\"\")\n",
    "    conexion.commit()\n",
    "\n",
    "    # second_surname (solo si no es 'N/A' o vacío)\n",
    "    cursor.execute(\"\"\"\n",
    "        UPDATE employees\n",
    "        SET second_surname = CONCAT(UPPER(SUBSTRING(second_surname, 1, 1)), LOWER(SUBSTRING(second_surname, 2)))\n",
    "        WHERE second_surname IS NOT NULL AND second_surname != 'N/A' AND second_surname != '';\n",
    "    \"\"\")\n",
    "    conexion.commit()\n",
    "\n",
    "    # full_name (solo si no es 'N/A' o vacío)\n",
    "    cursor.execute(\"\"\"\n",
    "        UPDATE employees\n",
    "        SET full_name = CONCAT(UPPER(SUBSTRING(full_name, 1, 1)), LOWER(SUBSTRING(full_name, 2)))\n",
    "        WHERE full_name IS NOT NULL AND full_name != 'N/A' AND full_name != '';\n",
    "    \"\"\")\n",
    "    conexion.commit()\n",
    "\n",
    "    print(\"Estandarización de capitalización completada.\")\n",
    "\n",
    "    print(\"\\nLimpieza y transformación inicial de 'employees' finalizada exitosamente.\")\n",
    "\n",
    "except Exception as e:\n",
    "    print(f\"Ocurrió un error inesperado durante la limpieza y transformación inicial de 'employees': {e}\")\n",
    "    # En caso de error, intentar limpiar el cursor y revertir.\n",
    "    try:\n",
    "        # Asegurar que cualquier resultado pendiente sea consumido antes de rollback\n",
    "        if cursor.description is not None:\n",
    "            cursor.fetchall()\n",
    "        conexion.rollback()\n",
    "        print(\"Transacción revertida debido a un error.\")\n",
    "    except Exception as rollback_e:\n",
    "        print(f\"Error adicional al intentar revertir la transacción o limpiar el cursor: {rollback_e}\")"
   ]
  },
  {
   "cell_type": "code",
   "execution_count": 16,
   "id": "e57261a5",
   "metadata": {},
   "outputs": [
    {
     "name": "stdout",
     "output_type": "stream",
     "text": [
      "--- Bloque 6: Limpieza y Aplanamiento de JSONs en 'employees' ---\n",
      "✅ Conexión exitosa a la base de datos\n",
      "✅ Conexión a la base de datos establecida y motor de Pandas configurado.\n",
      "✅ Actualización de 38 registros en la tabla 'employees' completada.\n",
      "✅ Limpieza y aplanamiento de JSONs en 'employees' finalizada exitosamente.\n"
     ]
    }
   ],
   "source": [
    "import pandas as pd\n",
    "import json\n",
    "import numpy as np\n",
    "from db_connection import get_engine, get_connection\n",
    "\n",
    "print(\"--- Bloque 6: Limpieza y Aplanamiento de JSONs en 'employees' ---\")\n",
    "\n",
    "conexion = None\n",
    "cursor = None\n",
    "try:\n",
    "    conexion = get_connection()\n",
    "    cursor = conexion.cursor()\n",
    "    engine = get_engine()\n",
    "    print(\"✅ Conexión a la base de datos establecida y motor de Pandas configurado.\")\n",
    "\n",
    "    # Deshabilitar temporalmente las verificaciones de claves foráneas\n",
    "    cursor.execute(\"SET FOREIGN_KEY_CHECKS = 0;\")\n",
    "\n",
    "    # Modificar la estructura de las columnas JSON a VARCHAR(255) NULL\n",
    "    alter_table_sql = \"\"\"\n",
    "        ALTER TABLE employees\n",
    "        MODIFY COLUMN identity_document_type VARCHAR(255) NULL,\n",
    "        MODIFY COLUMN country VARCHAR(255) NULL,\n",
    "        MODIFY COLUMN region VARCHAR(255) NULL,\n",
    "        MODIFY COLUMN city VARCHAR(255) NULL,\n",
    "        MODIFY COLUMN emergency_contact VARCHAR(255) NULL,\n",
    "        MODIFY COLUMN payment_method VARCHAR(255) NULL,\n",
    "        MODIFY COLUMN bank VARCHAR(255) NULL,\n",
    "        MODIFY COLUMN bank_account_type VARCHAR(255) NULL;\n",
    "    \"\"\"\n",
    "    try:\n",
    "        cursor.execute(alter_table_sql)\n",
    "        conexion.commit()\n",
    "    except Exception as e:\n",
    "        conexion.rollback()\n",
    "        print(f\"❌ Error al modificar las columnas JSON: {e}\")\n",
    "        raise\n",
    "\n",
    "    # Re-habilitar las verificaciones de claves foráneas\n",
    "    cursor.execute(\"SET FOREIGN_KEY_CHECKS = 1;\")\n",
    "\n",
    "    # Cargar la tabla 'employees' completa en un DataFrame de Pandas\n",
    "    df_employees = pd.read_sql(\"SELECT * FROM employees;\", engine)\n",
    "\n",
    "    # Función para extraer valores de JSON (optimizado para tipos description, name, code)\n",
    "    def extract_json_value(json_str):\n",
    "        if pd.isna(json_str) or not isinstance(json_str, str) or not json_str.strip():\n",
    "            return None\n",
    "        if not json_str.strip().startswith('{') and not json_str.strip().startswith('['):\n",
    "            return json_str # Ya aplanado o no es JSON\n",
    "\n",
    "        try:\n",
    "            data = json.loads(json_str)\n",
    "            if isinstance(data, dict):\n",
    "                for key in ['description', 'name', 'code']: # Orden de preferencia\n",
    "                    if key in data and data[key] is not None:\n",
    "                        return str(data[key])\n",
    "            return None\n",
    "        except json.JSONDecodeError:\n",
    "            return json_str if json_str.strip() else None\n",
    "        except Exception:\n",
    "            return None\n",
    "\n",
    "    # Columnas a aplanar\n",
    "    json_columns = [\n",
    "        'identity_document_type', 'country', 'region', 'city',\n",
    "        'emergency_contact', 'payment_method', 'bank', 'bank_account_type'\n",
    "    ]\n",
    "\n",
    "    # Aplicar aplanamiento\n",
    "    for col in json_columns:\n",
    "        if col in df_employees.columns:\n",
    "            df_employees[col] = df_employees[col].astype(str).apply(extract_json_value)\n",
    "\n",
    "    # Preparar DataFrame para la actualización (manejo de nulos y tipos)\n",
    "    cursor.execute(\"DESCRIBE `employees`;\")\n",
    "    db_columns_info = cursor.fetchall()\n",
    "    db_column_names = [col_info[0] for col_info in db_columns_info]\n",
    "    db_column_types = {col_info[0]: col_info[1] for col_info in db_columns_info}\n",
    "\n",
    "    valid_columns_for_update = [\n",
    "        col for col in df_employees.columns\n",
    "        if isinstance(col, str) and col != 'id' and col in db_column_names\n",
    "    ]\n",
    "\n",
    "    for col in df_employees.columns:\n",
    "        if col in valid_columns_for_update or col == 'id':\n",
    "            if df_employees[col].dtype == 'object':\n",
    "                df_employees[col] = df_employees[col].replace({np.nan: None, 'nan': None, '': None})\n",
    "            elif pd.api.types.is_numeric_dtype(df_employees[col]) and df_employees[col].isnull().any():\n",
    "                if pd.api.types.is_integer_dtype(df_employees[col]):\n",
    "                    df_employees[col] = df_employees[col].astype(pd.Int64Dtype())\n",
    "                df_employees[col] = df_employees[col].replace({np.nan: None})\n",
    "            if pd.api.types.is_bool_dtype(df_employees[col]):\n",
    "                df_employees[col] = df_employees[col].map({True: 1, False: 0, None: None, np.nan: None})\n",
    "\n",
    "    # Actualizar los registros en la base de datos\n",
    "    set_clauses = [f\"`{col}` = %s\" for col in valid_columns_for_update]\n",
    "    update_sql = f\"UPDATE `employees` SET {', '.join(set_clauses)} WHERE `id` = %s;\"\n",
    "\n",
    "    updated_count = 0\n",
    "    errors_encountered = 0\n",
    "    for index, row in df_employees.iterrows():\n",
    "        update_values = [row[col] for col in valid_columns_for_update]\n",
    "        update_values.append(row['id'])\n",
    "\n",
    "        try:\n",
    "            cursor.execute(update_sql, tuple(update_values))\n",
    "            updated_count += 1\n",
    "        except Exception as e:\n",
    "            errors_encountered += 1\n",
    "            print(f\"❌ Error al actualizar ID {row['id']}: {e}\")\n",
    "            raise # Re-lanza el error para detener el script si falla un update crítico\n",
    "\n",
    "    if errors_encountered > 0:\n",
    "        conexion.rollback()\n",
    "        print(f\"❌ Actualización finalizada con {errors_encountered} errores. Transacción revertida.\")\n",
    "    else:\n",
    "        conexion.commit()\n",
    "        print(f\"✅ Actualización de {updated_count} registros en la tabla 'employees' completada.\")\n",
    "\n",
    "    print(\"✅ Limpieza y aplanamiento de JSONs en 'employees' finalizada exitosamente.\")\n",
    "\n",
    "except Exception as e:\n",
    "    print(f\"❌ Ocurrió un error general: {e}\")\n",
    "    try:\n",
    "        if conexion and conexion.is_connected():\n",
    "            conexion.rollback()\n",
    "    except Exception as rollback_e:\n",
    "        print(f\"❌ Error al revertir la transacción: {rollback_e}\")\n",
    "finally:\n",
    "    if cursor:\n",
    "        try:\n",
    "            cursor.execute(\"SET FOREIGN_KEY_CHECKS = 1;\") # Asegurar que las FKs se re-habilitan\n",
    "        except Exception:\n",
    "            pass # No imprimir si hay error al cerrar\n",
    "    if conexion:\n",
    "        pass # La conexión se mantiene abierta según tu solicitud"
   ]
  },
  {
   "cell_type": "code",
   "execution_count": 17,
   "id": "b7334a6d",
   "metadata": {},
   "outputs": [
    {
     "name": "stdout",
     "output_type": "stream",
     "text": [
      "--- Bloque 6: Limpieza y Aplanamiento de JSONs en 'employees' ---\n",
      "DataFrame de 'employees' cargado. Registros: 38\n",
      "✅ Aplanamiento de columnas en DataFrame completado.\n",
      "Guardando el DataFrame limpio en la tabla temporal 'temp_employees_cleaned'...\n"
     ]
    },
    {
     "name": "stderr",
     "output_type": "stream",
     "text": [
      "C:\\Users\\ALEXANDRA\\AppData\\Local\\Temp\\ipykernel_2540\\3978390001.py:45: FutureWarning: Downcasting behavior in `replace` is deprecated and will be removed in a future version. To retain the old behavior, explicitly call `result.infer_objects(copy=False)`. To opt-in to the future behavior, set `pd.set_option('future.no_silent_downcasting', True)`\n",
      "  df_employees[col] = df_employees[col].replace({None: np.nan})\n"
     ]
    },
    {
     "name": "stdout",
     "output_type": "stream",
     "text": [
      "✅ DataFrame guardado en 'temp_employees_cleaned' exitosamente.\n",
      "✅ Conexión exitosa a la base de datos\n",
      "Ejecutando UPSERT de datos limpios a la tabla 'employees'...\n",
      "✅ UPSERT completado: Datos de 'employees' actualizados/insertados exitosamente.\n",
      "Eliminando tabla temporal 'temp_employees_cleaned'...\n",
      "✅ Tabla temporal 'temp_employees_cleaned' eliminada.\n",
      "\n",
      "✅ Limpieza y aplanamiento de JSONs en 'employees' finalizada exitosamente.\n"
     ]
    }
   ],
   "source": [
    "import pandas as pd\n",
    "import json\n",
    "import numpy as np\n",
    "from db_connection import get_engine, get_connection # Necesitamos get_connection para el cursor\n",
    "\n",
    "print(\"--- Bloque 6: Limpieza y Aplanamiento de JSONs en 'employees' ---\")\n",
    "\n",
    "# --- PASO 1: Procesar y Aplanar en Pandas ---\n",
    "try:\n",
    "    engine = get_engine()\n",
    "    df_employees = pd.read_sql(\"SELECT * FROM employees;\", engine)\n",
    "    print(f\"DataFrame de 'employees' cargado. Registros: {len(df_employees)}\")\n",
    "\n",
    "    json_columns = [\n",
    "        'identity_document_type', 'country', 'region', 'city',\n",
    "        'emergency_contact', 'payment_method', 'bank', 'bank_account_type'\n",
    "    ]\n",
    "\n",
    "    def extract_json_value(json_str):\n",
    "        if pd.isna(json_str) or not isinstance(json_str, str) or not json_str.strip():\n",
    "            return None\n",
    "        if not json_str.strip().startswith('{') and not json_str.strip().startswith('['):\n",
    "            return json_str\n",
    "\n",
    "        try:\n",
    "            data = json.loads(json_str)\n",
    "            if isinstance(data, dict):\n",
    "                for key in ['description', 'name', 'code']:\n",
    "                    if key in data and data[key] is not None:\n",
    "                        return str(data[key])\n",
    "            return None\n",
    "        except json.JSONDecodeError:\n",
    "            return json_str\n",
    "        except Exception:\n",
    "            return None\n",
    "\n",
    "    for col in json_columns:\n",
    "        if col in df_employees.columns:\n",
    "            df_employees[col] = df_employees[col].astype(str).apply(extract_json_value)\n",
    "    print(\"✅ Aplanamiento de columnas en DataFrame completado.\")\n",
    "\n",
    "    # Convertir 'None' a numpy.nan para que Pandas los maneje correctamente al guardar\n",
    "    # Esto es crucial para que SQLAlchemy interprete None como NULL en la DB\n",
    "    for col in df_employees.columns:\n",
    "        df_employees[col] = df_employees[col].replace({None: np.nan})\n",
    "\n",
    "\n",
    "    # --- PASO 2: Guardar en una tabla temporal y realizar UPSERT ---\n",
    "    temp_table_name = 'temp_employees_cleaned' # Nombre de la tabla temporal\n",
    "\n",
    "    # 1. Guardar el DataFrame limpio en una tabla temporal (esto es seguro, ya que es una tabla nueva)\n",
    "    print(f\"Guardando el DataFrame limpio en la tabla temporal '{temp_table_name}'...\")\n",
    "    df_employees.to_sql(name=temp_table_name, con=engine, if_exists='replace', index=False)\n",
    "    print(f\"✅ DataFrame guardado en '{temp_table_name}' exitosamente.\")\n",
    "\n",
    "    # 2. Realizar el UPSERT (UPDATE + INSERT) desde la tabla temporal a la tabla original\n",
    "    conexion = get_connection()\n",
    "    cursor = conexion.cursor()\n",
    "\n",
    "    # --- CORRECCIÓN AQUÍ: Las columnas a actualizar deben usar VALUES() o el alias 's' ---\n",
    "    # `VALUES(col_name)` se refiere al valor que sería INSERTADO\n",
    "    # Alternativamente, puedes usar `s.col_name` si `s` es el alias de la tabla temporal en el SELECT subyacente.\n",
    "    # Dado que `s` ya se usa, la opción `s.col_name` es más directa.\n",
    "    update_cols = [col for col in df_employees.columns if col != 'id']\n",
    "    set_clauses = \", \".join([f\"`{col}` = s.`{col}`\" for col in update_cols]) # <-- CORRECCIÓN: usamos s.`col`\n",
    "\n",
    "    insert_cols = \", \".join([f\"`{col}`\" for col in df_employees.columns])\n",
    "    insert_values = \", \".join([f\"s.`{col}`\" for col in df_employees.columns])\n",
    "\n",
    "    upsert_sql = f\"\"\"\n",
    "    INSERT INTO employees ({insert_cols})\n",
    "    SELECT {insert_values}\n",
    "    FROM {temp_table_name} s\n",
    "    ON DUPLICATE KEY UPDATE {set_clauses};\n",
    "    \"\"\"\n",
    "    print(\"Ejecutando UPSERT de datos limpios a la tabla 'employees'...\")\n",
    "    cursor.execute(upsert_sql)\n",
    "    conexion.commit()\n",
    "    print(\"✅ UPSERT completado: Datos de 'employees' actualizados/insertados exitosamente.\")\n",
    "\n",
    "    # Opcional: Eliminar la tabla temporal después del UPSERT\n",
    "    print(f\"Eliminando tabla temporal '{temp_table_name}'...\")\n",
    "    cursor.execute(f\"DROP TABLE {temp_table_name};\")\n",
    "    conexion.commit()\n",
    "    print(f\"✅ Tabla temporal '{temp_table_name}' eliminada.\")\n",
    "\n",
    "    print(\"\\n✅ Limpieza y aplanamiento de JSONs en 'employees' finalizada exitosamente.\")\n",
    "\n",
    "except Exception as e:\n",
    "    print(f\"❌ Ocurrió un error general durante la limpieza y aplanamiento de JSONs en 'employees': {e}\")\n",
    "    print(\"Por favor, revisa la conexión a la base de datos, los permisos o el nombre de la tabla.\")\n",
    "    if 'conexion' in locals() and conexion and conexion.is_connected():\n",
    "        conexion.rollback()\n",
    "finally:\n",
    "    if 'cursor' in locals() and cursor:\n",
    "        cursor.close()\n",
    "    if 'conexion' in locals() and conexion:\n",
    "        # Se mantiene la conexión abierta si así lo necesitas, pero se cierra el cursor.\n",
    "        pass # Mantener la conexión abierta"
   ]
  },
  {
   "cell_type": "markdown",
   "id": "cebba798",
   "metadata": {},
   "source": [
    "*TABLA 3: employee_contracts o Contrato de empleados*\n"
   ]
  },
  {
   "cell_type": "code",
   "execution_count": 18,
   "id": "20ba469f",
   "metadata": {},
   "outputs": [
    {
     "name": "stdout",
     "output_type": "stream",
     "text": [
      "--- Bloque 7: Exploración de 'employee_contracts' ---\n",
      "✅ Conexión exitosa a la base de datos\n",
      "Columnas de la tabla 'employee_contracts':\n",
      "['id', 'employee_id', 'employee_type', 'employee_subtype', 'high_penson_risk', 'integral_salary', 'type', 'start_date', 'end_date', 'salary', 'transport_subsidy', 'risk_type', 'holidays_enjoyed', 'health_provider_id', 'health_provider', 'pension_provider', 'pension_provider_id', 'severance_provider', 'severance_provider_id', 'family_compensation_fund_provider', 'family_compensation_fund_provider_id', 'settlement_cause', 'settlement_with_just_cause', 'settlement_probationary_period', 'settlement_date', 'settlement_worked_days', 'settlement_severance_base_days', 'settlement_service_bonus_base_days', 'settlement_holidays_to_pay', 'settlement_salary_base', 'settlement_holidays_base', 'settlement_severance_base', 'settlement_service_bonus_base', 'settlement_non_salary_income', 'settlement_loans', 'settlement_deductions', 'settlement_holidays', 'settlement_severance', 'settlement_severance_interests', 'settlement_service_bonus', 'settlement_redundancy_payment', 'settlement_others', 'settlement_total', 'settlement_notes', 'status', 'user_id', 'settlement_approval_user_id', 'settlement_approved_at', 'created_at', 'updated_at']\n",
      "\n",
      "Primeras 5 filas de datos de 'employee_contracts':\n",
      "   id  employee_id employee_type employee_subtype  high_penson_risk  integral_salary  type  start_date    end_date     salary  transport_subsidy risk_type  holidays_enjoyed  health_provider_id health_provider pension_provider  pension_provider_id severance_provider  severance_provider_id                family_compensation_fund_provider  family_compensation_fund_provider_id   settlement_cause  settlement_with_just_cause  settlement_probationary_period settlement_date  settlement_worked_days  settlement_severance_base_days  settlement_service_bonus_base_days  settlement_holidays_to_pay  settlement_salary_base  settlement_holidays_base  settlement_severance_base  settlement_service_bonus_base  settlement_non_salary_income  settlement_loans  settlement_deductions  settlement_holidays  settlement_severance  settlement_severance_interests  settlement_service_bonus  settlement_redundancy_payment  settlement_others  settlement_total settlement_notes  status  user_id  settlement_approval_user_id settlement_approved_at          created_at          updated_at\n",
      "0   1            1          None             None                 0                0  None  2018-02-18  2022-01-07  3500000.0                  0      None                 0               103.0            None             None                 14.0               None                    2.0  {\"code\": \"CCF22\", \"description\": \"Colsubsidio\"}                                  30.0  Retiro voluntario                           1                               0      2021-10-13                  1316.0                             283                                 103                         0.0               3500000.0                 3500000.0                  3500000.0                      3500000.0                           0.0               0.0                    0.0                  0.0            2751388.89                       259547.69                 3500000.0                            0.0                0.0        4012325.46             None       1       10                          2.0    2021-10-24 06:29:20 2021-08-02 04:52:40 2024-02-27 21:35:01\n",
      "1   2            2          None             None                 0                0  None  2021-10-01  2021-10-31  2800000.0                  1      None                15                75.0            None             None                 14.0               None                    2.0        {\"code\": \"CCF21\", \"description\": \"Cafam\"}                                  29.0               None                           1                               0            None                     NaN                               0                                   0                         NaN                     NaN                       NaN                        NaN                            NaN                           NaN               NaN                    NaN                  NaN                   NaN                             NaN                       NaN                            NaN                NaN               NaN             None       1       10                          NaN                    NaT 2021-10-12 05:36:25 2024-02-27 21:35:01\n",
      "2   3            3          None             None                 0                0  None  2005-01-07        None  1650000.0                  1      None               150                 NaN            None             None                  NaN               None                    NaN        {\"code\": \"CCF21\", \"description\": \"Cafam\"}                                   NaN            Despido                           1                               0      2021-10-26                  6050.0                             296                                 116                         5.0               1650000.0                 1650000.0                  1650000.0                      1650000.0                           0.0               0.0                    0.0             275000.0            1356666.67                       133857.78                 1650000.0                            0.0                0.0        2297191.11             None       0       10                         10.0    2021-10-26 05:44:16 2021-10-26 05:40:40 2022-09-15 05:27:21\n",
      "3   4            4          None             None                 0                0  None  2021-01-15  2021-10-31  7500000.0                  1      None               154                75.0            None             None                 14.0               None                    2.0  {\"code\": \"CCF22\", \"description\": \"Colsubsidio\"}                                  30.0               None                           1                               0            None                     NaN                               0                                   0                         NaN                     NaN                       NaN                        NaN                            NaN                           NaN               NaN                    NaN                  NaN                   NaN                             NaN                       NaN                            NaN                NaN               NaN             None       1       10                          NaN                    NaT 2021-11-09 05:37:54 2024-02-27 21:35:01\n",
      "4   5            5          None             None                 0                0  None  1994-02-03  2022-12-02  3200000.0                  1      None               352                92.0            None             None                 10.0               None                    5.0        {\"code\": \"CCF21\", \"description\": \"Cafam\"}                                  29.0               None                           1                               0            None                     NaN                               0                                   0                         NaN                     NaN                       NaN                        NaN                            NaN                           NaN               NaN                    NaN                  NaN                   NaN                             NaN                       NaN                            NaN                NaN               NaN             None       1       10                          NaN                    NaT 2021-11-23 06:01:44 2024-02-27 21:35:01\n",
      "✅ Conexión cerrada al finalizar el bloque.\n"
     ]
    }
   ],
   "source": [
    "import pandas as pd\n",
    "from db_connection import get_engine, get_connection \n",
    "\n",
    "print(\"--- Bloque 7: Exploración de 'employee_contracts' ---\")\n",
    "\n",
    "conexion = None\n",
    "cursor = None\n",
    "try:\n",
    "    # Reestablecer la conexión y el cursor\n",
    "    conexion = get_connection()\n",
    "    cursor = conexion.cursor()\n",
    "    engine = get_engine() # Obtener el engine para pandas\n",
    "\n",
    "    # Cargar una pequeña muestra de la tabla para inspeccionar columnas y datos\n",
    "    df_contracts_sample = pd.read_sql(\"SELECT * FROM employee_contracts LIMIT 5;\", engine)\n",
    "\n",
    "    print(\"Columnas de la tabla 'employee_contracts':\")\n",
    "    print(df_contracts_sample.columns.tolist()) # Lista concisa de nombres de columnas\n",
    "\n",
    "    print(\"\\nPrimeras 5 filas de datos de 'employee_contracts':\")\n",
    "    print(df_contracts_sample.to_string()) # Usar to_string() para evitar truncamiento\n",
    "\n",
    "except Exception as e:\n",
    "    print(f\"❌ Ocurrió un error al explorar 'employee_contracts': {e}\")\n",
    "finally:\n",
    "    # Cerrar el cursor y la conexión\n",
    "    if cursor:\n",
    "        cursor.close()\n",
    "    if conexion:\n",
    "        conexion.close()\n",
    "    print(\"✅ Conexión cerrada al finalizar el bloque.\")"
   ]
  },
  {
   "cell_type": "markdown",
   "id": "499f2e0e",
   "metadata": {},
   "source": [
    "📜 *Análisis Detallado de la Tabla employee_contracts*\n",
    "\n",
    "El Corazón de la Relación Laboral\n",
    "\n",
    "Esta tabla es el historial de contratos laborales, un registro vital de todos los acuerdos de tus empleados, desde los términos de empleo hasta sus salarios y proveedores de beneficios. Es fundamental para una gestión de RRHH robusta y para entender el ciclo de vida del talento.\n",
    "\n",
    "🔍 Los Datos Que Importan\n",
    "\n",
    "id & employee_id: Son la identificación única del contrato y su vínculo directo con cada empleado.\n",
    "employee_type, type: Te dicen qué tipo de contrato (ej. \"fijo\", \"indefinido\") y rol tiene el empleado.\n",
    "start_date, end_date: Marcan el periodo de vigencia del contrato, clave para antigüedad.\n",
    "salary: El monto de compensación acordado.\n",
    "risk_type: Informa sobre el riesgo laboral asociado al puesto.\n",
    "health_provider, pension_provider, severance_provider: Datos esenciales de los proveedores de seguridad social.\n",
    "settlement_approved_at: Indica cuándo fue liquidado un contrato.\n",
    "🛠️ Nuestro Enfoque de Limpieza\n",
    "La magia está en transformar estos datos para que brillen:\n",
    "\n",
    "Aplanar JSONs: Columnas como employee_type, type, risk_type y todas las de _provider vienen en formato JSON. Las \"aplanaremos\" para extraer su valor más útil (como la descripción o el nombre) y convertirlas en texto plano.\n",
    "Fechas Especiales: end_date y settlement_approved_at pueden ser nulas si el contrato sigue activo o no ha sido liquidado. Es crucial manejar estos NULLs inteligentemente para cálculos precisos (ej. duración del contrato).\n",
    "Integridad de Enlaces: Nos aseguraremos de que cada employee_id tenga su contraparte en la tabla de employees para evitar datos huérfanos.\n",
    "📈 Insights para tu Dashboard de RRHH\n",
    "Con esta tabla limpia, podrás responder preguntas clave como:\n",
    "\n",
    "Tipos de Contratos: ¿Cuál es la distribución de contratos (fijos, indefinidos, por obra)?\n",
    "Duración y Rotación: ¿Cuál es la duración promedio de nuestros contratos y cuáles son las tendencias de finalización?\n",
    "Salarios vs. Contratos: ¿Cómo se correlaciona el salario con el tipo de contrato?\n",
    "Proveedores Clave: ¿Cuáles son los proveedores de salud, pensión y cesantías más usados por nuestros empleados?\n",
    "\n"
   ]
  },
  {
   "cell_type": "code",
   "execution_count": 19,
   "id": "eb83a661",
   "metadata": {},
   "outputs": [
    {
     "name": "stdout",
     "output_type": "stream",
     "text": [
      "--- Bloque 8: Verificación Inicial de 'employee_contracts' ---\n",
      "✅ Conexión exitosa a la base de datos\n",
      "✅ Conexión a la base de datos establecida.\n",
      "\n",
      "Total de registros en 'employee_contracts': 43\n",
      "\n",
      "Valores nulos en 'employee_contracts':\n",
      "  - `employee_type`: 43 nulos\n",
      "  - `employee_subtype`: 43 nulos\n",
      "  - `type`: 43 nulos\n",
      "  - `end_date`: 32 nulos\n",
      "  - `risk_type`: 43 nulos\n",
      "  - `health_provider_id`: 5 nulos\n",
      "  - `health_provider`: 43 nulos\n",
      "  - `pension_provider`: 43 nulos\n",
      "  - `pension_provider_id`: 5 nulos\n",
      "  - `severance_provider`: 43 nulos\n",
      "  - `severance_provider_id`: 5 nulos\n",
      "  - `family_compensation_fund_provider_id`: 5 nulos\n",
      "  - `settlement_cause`: 30 nulos\n",
      "  - `settlement_date`: 30 nulos\n",
      "  - `settlement_worked_days`: 30 nulos\n",
      "  - `settlement_holidays_to_pay`: 30 nulos\n",
      "  - `settlement_salary_base`: 30 nulos\n",
      "  - `settlement_holidays_base`: 30 nulos\n",
      "  - `settlement_severance_base`: 30 nulos\n",
      "  - `settlement_service_bonus_base`: 30 nulos\n",
      "  - `settlement_non_salary_income`: 30 nulos\n",
      "  - `settlement_loans`: 30 nulos\n",
      "  - `settlement_deductions`: 30 nulos\n",
      "  - `settlement_holidays`: 30 nulos\n",
      "  - `settlement_severance`: 30 nulos\n",
      "  - `settlement_severance_interests`: 30 nulos\n",
      "  - `settlement_service_bonus`: 30 nulos\n",
      "  - `settlement_redundancy_payment`: 30 nulos\n",
      "  - `settlement_others`: 30 nulos\n",
      "  - `settlement_total`: 30 nulos\n",
      "  - `settlement_notes`: 42 nulos\n",
      "  - `settlement_approval_user_id`: 30 nulos\n",
      "  - `settlement_approved_at`: 30 nulos\n",
      "\n",
      "Filas duplicadas basadas en 'id': 0\n",
      "Contratos duplicados (employee_id + start_date): 0\n",
      "\n",
      "Valores únicos en columnas booleanas:\n",
      "  - `high_penson_risk`: [0, 1]\n",
      "  - `integral_salary`: [0, 1]\n",
      "  - `transport_subsidy`: [0, 1]\n",
      "\n",
      "Muestra de valores de 'employee_type' (primeros 5):\n",
      "  (No hay valores no nulos ni 'None' para mostrar en 'employee_type' o la columna ya está completamente limpia/vacía).\n",
      "✅ Conexión cerrada al finalizar el bloque.\n"
     ]
    }
   ],
   "source": [
    "import pandas as pd\n",
    "from db_connection import get_connection # Asegúrate de tener get_connection configurado\n",
    "\n",
    "print(\"--- Bloque 8: Verificación Inicial de 'employee_contracts' ---\")\n",
    "\n",
    "conexion = None\n",
    "cursor = None\n",
    "try:\n",
    "    # Reestablecer la conexión y el cursor\n",
    "    conexion = get_connection()\n",
    "    cursor = conexion.cursor()\n",
    "    print(\"✅ Conexión a la base de datos establecida.\")\n",
    "\n",
    "    # 1. Obtener el número total de registros\n",
    "    cursor.execute(\"SELECT COUNT(*) FROM employee_contracts;\")\n",
    "    total_registros_contracts = cursor.fetchone()[0]\n",
    "    print(f\"\\nTotal de registros en 'employee_contracts': {total_registros_contracts}\")\n",
    "\n",
    "    # 2. Verificar valores nulos por columna (solo se muestran si hay nulos)\n",
    "    print(\"\\nValores nulos en 'employee_contracts':\")\n",
    "    cursor.execute(\"DESCRIBE employee_contracts;\")\n",
    "    columnas_info = cursor.fetchall()\n",
    "\n",
    "    nulls_found = False\n",
    "    for col_info in columnas_info:\n",
    "        nombre_columna = col_info[0]\n",
    "        cursor.execute(f\"SELECT COUNT(*) FROM employee_contracts WHERE `{nombre_columna}` IS NULL;\")\n",
    "        nulos_count = cursor.fetchone()[0]\n",
    "        if nulos_count > 0:\n",
    "            print(f\"  - `{nombre_columna}`: {nulos_count} nulos\")\n",
    "            nulls_found = True\n",
    "    if not nulls_found:\n",
    "        print(\"  ✅ No se encontraron valores nulos en ninguna columna.\")\n",
    "\n",
    "    # 3. Verificar filas duplicadas\n",
    "    cursor.execute(\"SELECT COUNT(id) - COUNT(DISTINCT id) FROM employee_contracts;\")\n",
    "    duplicados_id_contracts = cursor.fetchone()[0]\n",
    "    print(f\"\\nFilas duplicadas basadas en 'id': {duplicados_id_contracts}\")\n",
    "\n",
    "    cursor.execute(\"\"\"\n",
    "        SELECT COUNT(*)\n",
    "        FROM (\n",
    "            SELECT employee_id, start_date, COUNT(*)\n",
    "            FROM employee_contracts\n",
    "            GROUP BY employee_id, start_date\n",
    "            HAVING COUNT(*) > 1\n",
    "        ) AS duplicated_contracts;\n",
    "    \"\"\")\n",
    "    duplicados_employee_date = cursor.fetchone()[0]\n",
    "    print(f\"Contratos duplicados (employee_id + start_date): {duplicados_employee_date}\")\n",
    "\n",
    "    # 4. Obtener valores únicos para columnas booleanas (tinyint)\n",
    "    print(\"\\nValores únicos en columnas booleanas:\")\n",
    "    boolean_columns = ['high_penson_risk', 'integral_salary', 'transport_subsidy']\n",
    "    for col in boolean_columns:\n",
    "        cursor.execute(f\"SELECT DISTINCT `{col}` FROM employee_contracts;\")\n",
    "        unicos = [fila[0] for fila in cursor.fetchall()]\n",
    "        print(f\"  - `{col}`: {unicos}\")\n",
    "\n",
    "    # 5. Muestra de contenido de una columna previamente JSON (ahora aplanada): 'employee_type' (primeros 5)\n",
    "    print(\"\\nMuestra de valores de 'employee_type' (primeros 5):\")\n",
    "    # Selecciona valores NO NULOS y los que NO sean 'None' en formato string si ya fueron aplanados.\n",
    "    cursor.execute(\"SELECT employee_type FROM employee_contracts WHERE employee_type IS NOT NULL AND employee_type != 'None' LIMIT 5;\")\n",
    "    employee_type_sample = [fila[0] for fila in cursor.fetchall()]\n",
    "    if employee_type_sample:\n",
    "        for i, etype in enumerate(employee_type_sample):\n",
    "            print(f\"  - Muestra {i+1}: '{etype}'\")\n",
    "    else:\n",
    "        print(\"  (No hay valores no nulos ni 'None' para mostrar en 'employee_type' o la columna ya está completamente limpia/vacía).\")\n",
    "\n",
    "\n",
    "except Exception as e:\n",
    "    print(f\"❌ Ocurrió un error durante la verificación inicial de datos en 'employee_contracts': {e}\")\n",
    "finally:\n",
    "    if cursor:\n",
    "        cursor.close()\n",
    "    if conexion:\n",
    "        conexion.close()\n",
    "    print(\"✅ Conexión cerrada al finalizar el bloque.\")"
   ]
  },
  {
   "cell_type": "code",
   "execution_count": 20,
   "id": "4e43269d",
   "metadata": {},
   "outputs": [
    {
     "name": "stdout",
     "output_type": "stream",
     "text": [
      "--- Bloque 9: Limpieza y Transformación de 'employee_contracts' ---\n",
      "✅ Conexión exitosa a la base de datos\n",
      "✅ Conexión y motor de base de datos listos.\n",
      "\n",
      "--- PASO 1: Transformaciones en Pandas ---\n",
      "DataFrame de contratos cargado. Registros: 43\n",
      "✅ Relleno de nulos y validación de nombres de columnas completados.\n",
      "\n",
      "Iniciando aplanamiento de columnas JSON...\n",
      "✅ Aplanamiento de JSONs en DataFrame completado.\n",
      "\n",
      "--- PASO 2: Actualizando la Base de Datos ---\n",
      "    Progreso: 43/43 registros actualizados...\n",
      "✅ Actualización de 43 registros en la tabla 'employee_contracts' completada exitosamente.\n",
      "\n",
      "✅ Limpieza y transformación de 'employee_contracts' finalizada exitosamente.\n",
      "✅ Conexión a la base de datos cerrada.\n"
     ]
    }
   ],
   "source": [
    "import pandas as pd\n",
    "import json\n",
    "import numpy as np\n",
    "from db_connection import get_engine, get_connection \n",
    "\n",
    "print(\"--- Bloque 9: Limpieza y Transformación de 'employee_contracts' ---\")\n",
    "\n",
    "conexion = None \n",
    "cursor = None \n",
    "try:\n",
    "    # Reestablecemos conexión a la base de datos para asegurar un estado limpio\n",
    "    conexion = get_connection()\n",
    "    cursor = conexion.cursor()\n",
    "    engine = get_engine() \n",
    "    print(\"✅ Conexión y motor de base de datos listos.\")\n",
    "\n",
    "    # --- PASO 1: Cargando y Transformando en Pandas ---\n",
    "    print(\"\\n--- PASO 1: Transformaciones en Pandas ---\")\n",
    "    df_contracts = pd.read_sql(\"SELECT * FROM employee_contracts;\", engine)\n",
    "    print(f\"DataFrame de contratos cargado. Registros: {len(df_contracts)}\")\n",
    "\n",
    "    # 1.1. Manejo de valores nulos y asegurando nombres de columnas válidos\n",
    "    # Rellena valores nulos específicos para columnas de texto e IDs numéricos\n",
    "    cols_to_fill_na = [\n",
    "        'health_provider_id', \n",
    "        'pension_provider',\n",
    "        'pension_provider_id',\n",
    "        'severance_provider',\n",
    "        'severance_provider_id'\n",
    "    ]\n",
    "    for col in cols_to_fill_na:\n",
    "        if col in df_contracts.columns:\n",
    "            if 'id' not in col: # Columnas de texto\n",
    "                df_contracts[col] = df_contracts[col].astype(str).replace('nan', 'N/A').fillna('N/A')\n",
    "            else: # Columnas de ID numérico\n",
    "                df_contracts[col] = df_contracts[col].replace({np.nan: None})\n",
    "    \n",
    "    # Asegura que los nombres de las columnas sean strings válidos\n",
    "    df_contracts.columns = [str(col) if pd.notna(col) else f\"unnamed_col_{i}\" for i, col in enumerate(df_contracts.columns)]\n",
    "    print(\"✅ Relleno de nulos y validación de nombres de columnas completados.\")\n",
    "\n",
    "    # 1.2. Aplanamiento de Columnas JSON\n",
    "    json_columns = [\n",
    "        'employee_type', 'employee_subtype', 'type', 'risk_type',\n",
    "        'health_provider', 'pension_provider', 'severance_provider'\n",
    "        # 'family_compensation_fund_provider' sigue excluida\n",
    "    ]\n",
    "\n",
    "    def extract_json_value(json_str):\n",
    "        if pd.isna(json_str) or not isinstance(json_str, str) or not json_str.strip().startswith('{'):\n",
    "            return None \n",
    "        try:\n",
    "            data = json.loads(json_str)\n",
    "            if isinstance(data, dict):\n",
    "                # Priorizamos 'description', luego 'name', luego 'code'\n",
    "                if 'description' in data and data['description'] is not None:\n",
    "                    return str(data['description'])\n",
    "                elif 'name' in data and data['name'] is not None:\n",
    "                    return str(data['name'])\n",
    "                elif 'code' in data and data['code'] is not None: \n",
    "                    return str(data['code'])\n",
    "            return None \n",
    "        except json.JSONDecodeError:\n",
    "            return None \n",
    "        except Exception:\n",
    "            return None\n",
    "\n",
    "    print(\"\\nIniciando aplanamiento de columnas JSON...\")\n",
    "    for col in json_columns:\n",
    "        if col in df_contracts.columns:\n",
    "            df_contracts[col] = df_contracts[col].astype(str).apply(extract_json_value)\n",
    "            # print(f\"    Columna '{col}' aplanada.\") # Eliminar prints de cada columna\n",
    "        # else:\n",
    "            # print(f\"    Advertencia: Columna '{col}' no encontrada para aplanar JSON.\") # Eliminar warnings si no están\n",
    "    print(\"✅ Aplanamiento de JSONs en DataFrame completado.\")\n",
    "    \n",
    "    # --- PASO 2: Actualizando los registros en la Base de Datos ---\n",
    "    print(\"\\n--- PASO 2: Actualizando la Base de Datos ---\")\n",
    "    \n",
    "    # Obtenemos los nombres de las columnas de la DB para un UPDATE seguro\n",
    "    cursor.execute(\"DESCRIBE `employee_contracts`;\")\n",
    "    db_column_names = [col_info[0] for col_info in cursor.fetchall()]\n",
    "\n",
    "    # Filtramos las columnas del DataFrame que realmente existen en la DB y no son 'id'\n",
    "    valid_columns_for_update = [\n",
    "        col for col in df_contracts.columns\n",
    "        if isinstance(col, str) and col != 'id' and col in db_column_names\n",
    "    ]\n",
    "    \n",
    "    if not valid_columns_for_update:\n",
    "        print(\"⚠️ Advertencia: No hay columnas válidas para actualizar (aparte del 'id'). No se realizará ninguna actualización.\")\n",
    "    else:\n",
    "        # Construimos la sentencia UPDATE dinámicamente\n",
    "        set_clauses = [f\"`{col}` = %s\" for col in valid_columns_for_update]\n",
    "        update_sql = f\"UPDATE `employee_contracts` SET {', '.join(set_clauses)} WHERE `id` = %s;\"\n",
    "        \n",
    "        updated_count = 0\n",
    "        total_rows = len(df_contracts)\n",
    "        \n",
    "        # Iteramos y actualizamos fila por fila\n",
    "        for index, row in df_contracts.iterrows():\n",
    "            update_values = []\n",
    "            for col in valid_columns_for_update:\n",
    "                val = row[col]\n",
    "                # Convertimos valores de Pandas/NumPy a tipos compatibles con MySQL\n",
    "                if pd.isna(val) or (isinstance(val, (float, np.float64)) and np.isnan(val)):\n",
    "                    update_values.append(None) \n",
    "                elif isinstance(val, (np.int64, np.int32)):\n",
    "                    update_values.append(int(val)) \n",
    "                elif isinstance(val, (np.bool_)):\n",
    "                    update_values.append(bool(val)) \n",
    "                else:\n",
    "                    update_values.append(val)\n",
    "            update_values.append(row['id']) \n",
    "            \n",
    "            try:\n",
    "                cursor.execute(update_sql, tuple(update_values))\n",
    "                updated_count += 1\n",
    "                if updated_count % 50 == 0 or updated_count == total_rows: # Progreso cada 50 o al final\n",
    "                    print(f\"    Progreso: {updated_count}/{total_rows} registros actualizados...\")\n",
    "            except Exception as e:\n",
    "                print(f\"❌ Error al actualizar el registro con ID {row['id']}: {e}\")\n",
    "                conexion.rollback()\n",
    "                raise \n",
    "\n",
    "        conexion.commit() \n",
    "        print(f\"✅ Actualización de {updated_count} registros en la tabla 'employee_contracts' completada exitosamente.\")\n",
    "    \n",
    "    print(\"\\n✅ Limpieza y transformación de 'employee_contracts' finalizada exitosamente.\")\n",
    "\n",
    "except Exception as e:\n",
    "    print(f\"❌ Ocurrió un error general durante la limpieza de 'employee_contracts': {e}\")\n",
    "    try:\n",
    "        if 'conexion' in locals() and conexion and conexion.is_connected():\n",
    "            conexion.rollback()\n",
    "            print(\"Transacción revertida debido a un error.\")\n",
    "    except Exception as rollback_e:\n",
    "        print(f\"❌ Error adicional al intentar revertir: {rollback_e}\")\n",
    "finally:\n",
    "    if cursor:\n",
    "        cursor.close()\n",
    "    if conexion:\n",
    "        conexion.close()\n",
    "    print(\"✅ Conexión a la base de datos cerrada.\")"
   ]
  },
  {
   "cell_type": "code",
   "execution_count": 21,
   "id": "7786c46f",
   "metadata": {},
   "outputs": [],
   "source": [
    "# Cerrar conexión\n",
    "cursor.close()\n",
    "conexion.close()\n"
   ]
  },
  {
   "cell_type": "code",
   "execution_count": 22,
   "id": "f019c0b3",
   "metadata": {},
   "outputs": [],
   "source": [
    "import pandas as pd\n",
    "import plotly.express as px"
   ]
  },
  {
   "cell_type": "code",
   "execution_count": 23,
   "id": "f09c99cd",
   "metadata": {},
   "outputs": [],
   "source": [
    "# data_utils.py\n",
    "import pandas as pd\n",
    "import json\n",
    "\n",
    "def extract_or_normalize_contract_type(value):\n",
    "    \"\"\"\n",
    "    Normaliza un valor que puede ser JSON, nulo o una cadena simple a un tipo de contrato.\n",
    "    Retorna 'No Definido' si no se puede extraer un tipo válido.\n",
    "    \"\"\"\n",
    "    if pd.isna(value) or not isinstance(value, str) or not str(value).strip():\n",
    "        return 'No Definido'\n",
    "\n",
    "    cleaned_value = str(value).strip()\n",
    "\n",
    "    # Si la cadena NO parece un JSON, la retorna directamente (asume que ya está aplanada)\n",
    "    if not cleaned_value.startswith('{') and not cleaned_value.startswith('['):\n",
    "        return cleaned_value\n",
    "\n",
    "    # Intentar parsear JSON\n",
    "    try:\n",
    "        data = json.loads(cleaned_value)\n",
    "        if isinstance(data, dict):\n",
    "            # Prioridad: 'description' -> 'name' -> 'code'\n",
    "            for key in ['description', 'name', 'code']:\n",
    "                if key in data and data[key] is not None:\n",
    "                    return str(data[key]).strip()\n",
    "        return 'No Definido' # JSON válido pero sin las claves esperadas\n",
    "    except json.JSONDecodeError:\n",
    "        return cleaned_value # No es JSON válido, usar el valor crudo\n",
    "    except Exception:\n",
    "        return 'No Definido' # Cualquier otro error"
   ]
  },
  {
   "cell_type": "code",
   "execution_count": 24,
   "id": "627c7aed",
   "metadata": {},
   "outputs": [
    {
     "name": "stdout",
     "output_type": "stream",
     "text": [
      "Overwriting data_utils.py\n"
     ]
    }
   ],
   "source": [
    "%%writefile data_utils.py\n",
    "import pandas as pd\n",
    "import json\n",
    "\n",
    "def extract_or_normalize_contract_type(value):\n",
    "    \"\"\"\n",
    "    Normaliza un valor que puede ser JSON, nulo o una cadena simple a un tipo de contrato.\n",
    "    Retorna 'No Definido' si no se puede extraer un tipo válido.\n",
    "    \"\"\"\n",
    "    if pd.isna(value) or not isinstance(value, str) or not str(value).strip():\n",
    "        return 'No Definido'\n",
    "\n",
    "    cleaned_value = str(value).strip()\n",
    "\n",
    "    # Si la cadena NO parece un JSON, la retorna directamente (asume que ya está aplanada)\n",
    "    if not cleaned_value.startswith('{') and not cleaned_value.startswith('['):\n",
    "        return cleaned_value\n",
    "\n",
    "    # Intentar parsear JSON\n",
    "    try:\n",
    "        data = json.loads(cleaned_value)\n",
    "        if isinstance(data, dict):\n",
    "            # Prioridad: 'description' -> 'name' -> 'code'\n",
    "            for key in ['description', 'name', 'code']:\n",
    "                if key in data and data[key] is not None:\n",
    "                    return str(data[key]).strip()\n",
    "        return 'No Definido' # JSON válido pero sin las claves esperadas\n",
    "    except json.JSONDecodeError:\n",
    "        return cleaned_value # No es JSON válido, usar el valor crudo\n",
    "    except Exception:\n",
    "        return 'No Definido' # Cualquier otro error"
   ]
  },
  {
   "cell_type": "code",
   "execution_count": 25,
   "id": "985a1c5b",
   "metadata": {},
   "outputs": [
    {
     "name": "stdout",
     "output_type": "stream",
     "text": [
      "✅ Conexión exitosa a la base de datos\n",
      "\n",
      "Listando tablas en la base de datos 'novateam'...\n",
      "Tablas encontradas:\n",
      "- accounting_account_balances\n",
      "- accounting_accounts\n",
      "- accounting_movements\n",
      "- accounting_voucher_items\n",
      "- accounting_voucher_types\n",
      "- accounting_vouchers\n",
      "- billing_numberings\n",
      "- contact_relationships\n",
      "- contact_statements\n",
      "- contacts\n",
      "- contract_salary_history\n",
      "- costs_and_expenses\n",
      "- costs_and_expenses_categories\n",
      "- coupons\n",
      "- document_items\n",
      "- documents\n",
      "- ecommerce_legal_info\n",
      "- ecommerce_purchase_orders\n",
      "- employee_contracts\n",
      "- employee_positions\n",
      "- employees\n",
      "- fixed_asset_depreciations\n",
      "- fixed_assets\n",
      "- fixed_assets_groups\n",
      "- headquarter_warehouses\n",
      "- headquarters\n",
      "- inventory_adjustments\n",
      "- inventory_groups\n",
      "- item_balance\n",
      "- item_categories\n",
      "- item_depreciations\n",
      "- item_kardex\n",
      "- item_subcategories\n",
      "- item_variations\n",
      "- items\n",
      "- payment_conditions\n",
      "- payments\n",
      "- payroll_deductions\n",
      "- payroll_details\n",
      "- payroll_incomes\n",
      "- payroll_providers\n",
      "- payrolls\n",
      "- price_lists\n",
      "- retention_concepts\n",
      "- retentions\n",
      "- retentions_applied\n",
      "- retentions_certificates\n",
      "- taxes\n",
      "- warehouse_transfer_logs\n",
      "- warehouses\n",
      "✅ Listado de tablas completado.\n"
     ]
    }
   ],
   "source": [
    "import pandas as pd\n",
    "from db_connection import get_engine, get_connection\n",
    "\n",
    "conexion = None\n",
    "try:\n",
    "    engine = get_engine()\n",
    "    conexion = get_connection()\n",
    "    cursor = conexion.cursor()\n",
    "\n",
    "    print(\"\\nListando tablas en la base de datos 'novateam'...\")\n",
    "    cursor.execute(\"SHOW TABLES;\")\n",
    "    tables = cursor.fetchall()\n",
    "    print(\"Tablas encontradas:\")\n",
    "    for table in tables:\n",
    "        print(f\"- {table[0]}\") # table[0] contiene el nombre de la tabla\n",
    "    print(\"✅ Listado de tablas completado.\")\n",
    "\n",
    "except Exception as e:\n",
    "    print(f\"\\n❌❌ Ocurrió un error al listar tablas: {e}\")\n",
    "finally:\n",
    "    if conexion and conexion.is_connected():\n",
    "        conexion.close()"
   ]
  },
  {
   "cell_type": "markdown",
   "id": "2f6c5c9d",
   "metadata": {},
   "source": [
    "---\n"
   ]
  },
  {
   "cell_type": "markdown",
   "id": "30527b8c",
   "metadata": {},
   "source": [
    "\n",
    "\n",
    "📊 *#Análisis Detallado de Tablas Clave para Gestión de Recursos Humanos# (RRHH)*\n",
    "Este documento presenta un resumen conciso y visual de las tablas más relevantes para el análisis de RRHH, destacando su propósito, contenido clave y las consideraciones para futuras extracciones, transformaciones y cargas (ETL), así como para la construcción de Indicadores Clave de Rendimiento (KPIs).\n",
    "\n",
    "👥 *1. employees (Empleados)*✨\n",
    "\n",
    "✨ El Corazón de la Información del Personal \n",
    "\n",
    "Esta tabla es la fuente principal de datos demográficos y de contacto de cada individuo en la organización. Esencial para la segmentación y el entendimiento de la fuerza laboral.\n",
    "\n",
    "🔑 *Aspectos Clave para el Análisis de RRHH:*\n",
    "Identificación Única: id, uuid, document_number, full_name. Permiten rastrear y referenciar a cada empleado.\n",
    "Datos Demográficos: birth_date (para grupos de edad), country, region, city, address. Cruciales para análisis de diversidad, localización y planificación estratégica.\n",
    "Contacto y Comunicación: phone, email.\n",
    "Estructura Organizacional: headquarter_id (sede), company_area_id (área/departamento), employee_position_id (cargo). Permiten análisis de personal por ubicación y estructura interna.\n",
    "Estado Actual: status (activo/inactivo). Fundamental para determinar la plantilla activa y el cálculo de la rotación.\n",
    "Fechas Clave: created_at (fecha de ingreso a la empresa) y updated_at. created_at es vital para el cálculo de la antigüedad.\n",
    "🛠️ *Limpieza y Transformación Realizada:*\n",
    "Aplanamiento de JSONs: Columnas como identity_document_type, country, region, city, emergency_contact, payment_method, bank, bank_account_type fueron transformadas de JSON a valores planos (VARCHAR). Esto facilita su uso directo en consultas y análisis.\n",
    "Manejo de Valores Nulos: Se rellenaron nulos en other_name, phone, email con 'N/A' para asegurar la completitud de los registros.\n",
    "Estandarización de Texto: Se normalizó la capitalización de nombres y apellidos para evitar inconsistencias y mejorar la calidad de los datos textuales.\n",
    "Consistencia de Datos: Los datos limpios se actualizaron/insertaron en la tabla employees (UPSERT), garantizando que los análisis futuros usen la versión más limpia.\n",
    "💡 Consideraciones para KPIs:\n",
    "Antigüedad del Empleado: Calcular con created_at (o la fecha de inicio del primer contrato, start_date, si es anterior).\n",
    "Composición de la Fuerza Laboral: Distribución por grupos de edad, tipo de documento, ubicación geográfica.\n",
    "Empleados Activos vs. Inactivos: Monitoreo del status para el conteo de la plantilla.\n",
    "\n",
    "\n",
    "💼 2. *employee_positions (Cargos / Posiciones de Empleados)*\n",
    "\n",
    "✨ Definiendo la Estructura de Roles de la Organización ✨\n",
    "\n",
    "Esta tabla cataloga los distintos roles o cargos que existen dentro de la empresa, proporcionando una base para entender la estructura jerárquica y de compensación.\n",
    "\n",
    "🔑 Aspectos Clave para el Análisis de RRHH:\n",
    "Identificación de Posición: id (identificador único), name (nombre del puesto, ej., \"Gerente de Proyectos\", \"Desarrollador Senior\").\n",
    "Detalle del Rol: description.\n",
    "Referencia Salarial: salary (salario asociado a la posición). Esencial para análisis de estructura salarial y comparaciones.\n",
    "Estado del Puesto: status (activo/inactivo).\n",
    "🛠️ Limpieza y Transformación Realizada:\n",
    "Normalización de Nombres: Corrección de errores tipográficos comunes (ej., 'Secretria' a 'Secretaria') en la columna name para asegurar la uniformidad.\n",
    "Manejo de Valores Nulos: Relleno de nulos en description con 'N/A' para garantizar la consistencia en los metadatos.\n",
    "💡 Consideraciones para KPIs:\n",
    "Salario Promedio por Cargo: Unir con employees y employee_contracts para obtener el salario real pagado por cada posición.\n",
    "Conteo de Empleados por Posición: Relacionar con employees para saber cuántos colaboradores ocupan cada puesto.\n",
    "Antigüedad por Cargo: Calcular la antigüedad promedio de los empleados dentro de cada posición.\n",
    "\n",
    "📜 *3. employee_contracts (Contratos de Empleados)*\n",
    "\n",
    "✨ El Historial de la Relación Laboral y sus Términos ✨\n",
    "\n",
    "Esta tabla es el registro fundamental de todos los acuerdos contractuales con los empleados, incluyendo términos, salarios específicos y detalles de beneficios. Es crítica para la gestión del ciclo de vida del talento.\n",
    "\n",
    "🔑 *Aspectos Clave para el Análisis de RRHH:*\n",
    "Vínculo con Empleado: employee_id (clave foránea a employees).\n",
    "Fechas Contractuales: start_date (inicio del contrato) y end_date (fin del contrato). Vital para calcular la antigüedad precisa y la rotación.\n",
    "Compensación Específica: salary. Este es el salario individual acordado, que es la base para los cálculos de nómina.\n",
    "Proveedores de Beneficios: health_provider_id, pension_provider_id, severance_provider_id, family_compensation_fund_provider (puede contener JSON).\n",
    "Información de Desvinculación: status (activo/inactivo del contrato), settlement_cause, settlement_date.\n",
    "🛠️ Limpieza y Transformación Realizada:\n",
    "Aplanamiento de JSONs: Columnas como family_compensation_fund_provider fueron procesadas para extraer los datos útiles.\n",
    "Manejo de Valores Nulos: Se identificó la presencia de nulos en varias columnas (end_date, employee_type, type, etc.). Es crucial interpretar end_date nulo como un contrato activo.\n",
    "Actualización en la BD: Los datos limpios se actualizaron/insertaron, asegurando la consistencia de la información contractual.\n",
    "💡 Consideraciones para KPIs:\n",
    "Antigüedad de Empleados: Utilizar start_date (y end_date si aplica) para un cálculo preciso de la permanencia.\n",
    "Tasa de Rotación: start_date, end_date y settlement_date son fundamentales para identificar entradas y salidas de personal.\n",
    "Análisis Salarial Detallado: salary permite analizar la distribución de salarios reales y la equidad salarial.\n",
    "Gestión de Beneficios: Los IDs de los proveedores permiten analizar la distribución de empleados por entidad de salud, pensión, etc.\n",
    "\n",
    "📈 *4. contract_salary_history (Historial Salarial de Contratos)*\n",
    "\n",
    "✨ Trazabilidad de la Evolución Salarial Individual ✨\n",
    "\n",
    "Esta tabla, aunque no se sometió a un ETL completo, es crucial para entender cómo ha evolucionado el salario de cada empleado a lo largo de su trayectoria en la empresa.\n",
    "\n",
    "🔑 Aspectos Clave Potenciales para el Análisis de RRHH:\n",
    "Referencia Contractual: contract_id o employee_contract_id: Vincula cada registro de cambio salarial a un contrato específico.\n",
    "Fecha de Efectividad: effective_date o change_date: La fecha a partir de la cual un nuevo salario se hizo efectivo. Es vital para análisis de tendencias.\n",
    "Valores de Salario: old_salary, new_salary o salary_amount: Registra el monto del salario en ese punto en el tiempo.\n",
    "Justificación del Cambio: reason (ej., \"Aumento por Desempeño\", \"Ascenso\", \"Ajuste Salarial Anual\").\n",
    "💡 Consideraciones para Futuro ETL y KPIs:\n",
    "Análisis de Incrementos Salariales: Calcular el porcentaje y la frecuencia de los aumentos salariales a lo largo del tiempo, por empleado o por grupo.\n",
    "Determinación del Salario Actual Preciso: Para saber el salario de un empleado en una fecha específica, se buscaría el registro más reciente antes o en esa fecha.\n",
    "Uniones Necesarias: Requiere uniones con employee_contracts y employees para contextualizar los cambios salariales por empleado, posición, etc.\n",
    "\n",
    "💰 5. *payrolls (Nóminas Principales)*\n",
    "\n",
    "✨ Visión Consolidada del Costo de la Fuerza Laboral por Período ✨\n",
    "\n",
    "Esta tabla probablemente contiene los resúmenes y totales de cada ciclo de nómina, ofreciendo una perspectiva global del costo de la nómina para la empresa.\n",
    "\n",
    "🔑 Aspectos Clave Potenciales para el Análisis de RRHH:\n",
    "Identificación del Período: id, start_date, end_date (periodo que abarca la nómina), payment_date (fecha en que se realizó el pago).\n",
    "Totales Monetarios: total_salary, total_deductions, total_incomes, total_payroll_cost (o net_payroll_amount). Estos son los montos agregados de todos los pagos y deducciones en ese período. (Confirmado en el KPI 1).\n",
    "Estado del Proceso: status (ej., \"Procesada\", \"Pagada\", \"Anulada\").\n",
    "Referencias Administrativas: user_id (quién procesó), headquarter_id (a qué sede corresponde esta nómina).\n",
    "💡 Consideraciones para Futuro ETL y KPIs:\n",
    "KPI de Costo Total de Nómina: Directamente utilizable para el KPI 1: Costo Total de Nómina por Período.\n",
    "Tendencias Financieras de RRHH: Análisis de la evolución mensual o trimestral de los costos de nómina, salarios, ingresos y deducciones.\n",
    "Integración de Datos: Para un análisis granular, necesitará uniones con payroll_details, payroll_incomes, y payroll_deductions.\n",
    "\n",
    "📑 *6. payroll_details (Detalles de Nómina)*\n",
    "\n",
    "✨ El Desglose Concepto por Concepto de Cada Pago de Nómina ✨\n",
    "\n",
    "Esta tabla es el corazón de la granularidad de la nómina, mostrando cada componente de ingresos y deducciones para cada empleado en un período de pago.\n",
    "\n",
    "🔑 Aspectos Clave Potenciales para el Análisis de RRHH:\n",
    "Vínculo con Nómina y Empleado: payroll_id (conecta a payrolls), employee_id (conecta a employees).\n",
    "Concepto de Pago: income_id (si es un ingreso) o deduction_id (si es una deducción). Alternativamente, un concept_id junto con un campo type (ej., 'ingreso', 'deducción').\n",
    "Monto Detallado: amount: El valor monetario exacto de cada concepto para un empleado en un período.\n",
    "Unidades de Tiempo: worked_days, hours_worked: Si la nómina se basa en el tiempo trabajado, estas columnas son cruciales.\n",
    "💡 Consideraciones para Futuro ETL y KPIs:\n",
    "Análisis Salarial Detallado: Permite construir informes sobre la composición del pago de los empleados (salario base, bonificaciones, horas extras, etc.).\n",
    "Verificación de Nómina: Útil para auditar los pagos individuales y asegurar que suman los totales en payrolls.\n",
    "Cálculo de Ingresos y Deducciones por Tipo: Unir con payroll_incomes y payroll_deductions para categorizar y totalizar montos específicos.\n",
    "\n",
    "➕ *7. payroll_incomes (Ingresos de Nómina)*\n",
    "\n",
    "✨ Clasificación de Conceptos que Aumentan el Pago ✨\n",
    "\n",
    "Esta tabla define los distintos tipos de ingresos (adicionales al salario base) que los empleados pueden recibir.\n",
    "\n",
    "🔑 Aspectos Clave Potenciales para el Análisis de RRHH:\n",
    "Identificador de Concepto: id (único para cada tipo de ingreso).\n",
    "Nombre del Ingreso: name (ej., \"Horas Extras\", \"Bonificación por Desempeño\", \"Comisiones de Ventas\").\n",
    "Descripción Detallada: description.\n",
    "Impacto Fiscal/Social: taxable (si es gravable), social_security_applicable (si está sujeto a seguridad social).\n",
    "💡 Consideraciones para Futuro ETL y KPIs:\n",
    "Análisis de la Composición de Ingresos: Permite desglosar y analizar qué tipos de ingresos son más comunes o representan una mayor proporción del pago total.\n",
    "Impacto en Costos: Útil para entender los costos asociados a bonificaciones, horas extras, etc.\n",
    "Cumplimiento: Las columnas taxable y social_security_applicable son importantes para asegurar la correcta clasificación en los reportes fiscales.\n",
    "\n",
    "➖ *8. payroll_deductions (Deducciones de Nómina)*\n",
    "\n",
    "✨ Clasificación de Conceptos que Reducen el Pago ✨\n",
    "\n",
    "Similar a payroll_incomes, pero esta tabla define los diferentes tipos de deducciones aplicadas al salario de los empleados.\n",
    "\n",
    "🔑 Aspectos Clave Potenciales para el Análisis de RRHH:\n",
    "Identificador de Concepto: id (único para cada tipo de deducción).\n",
    "Nombre de la Deducción: name (ej., \"Aportes Salud\", \"Aportes Pensión\", \"Retención en la Fuente\", \"Préstamo Empresa\").\n",
    "Descripción Detallada: description.\n",
    "Naturaleza de la Deducción: mandatory (si es obligatoria), is_loan (si corresponde a un pago de préstamo).\n",
    "💡 Consideraciones para Futuro ETL y KPIs:\n",
    "Análisis de Costos para Empleados: Permite entender cuánto del salario bruto se destina a deducciones obligatorias (seguridad social) y voluntarias (préstamos, fondos).\n",
    "Gestión de Préstamos: is_loan es clave para el seguimiento de los préstamos concedidos a los empleados.\n",
    "Cumplimiento: Las columnas de tipo (mandatory) son importantes para la auditoría y los reportes.\n",
    "\n",
    "🏢 *9. payroll_providers (Proveedores de Nómina / Beneficios)*\n",
    "\n",
    "✨ Gestión de Entidades Externas Relacionadas con RRHH ✨\n",
    "\n",
    "Esta tabla enumera los proveedores externos (ej., EPS, Fondos de Pensiones, Cajas de Compensación) con los que la empresa interactúa para la gestión de nómina y beneficios.\n",
    "\n",
    "🔑 Aspectos Clave Potenciales para el Análisis de RRHH:\n",
    "Identificación del Proveedor: id, name (ej., \"Sura EPS\", \"Porvenir\", \"Cafam\").\n",
    "Tipo de Servicio: type (ej., \"Salud\", \"Pensión\", \"Cesantías\", \"Caja de Compensación Familiar\").\n",
    "Información de Contacto: contact_info.\n",
    "💡 Consideraciones para Futuro ETL y KPIs:\n",
    "Integración de Datos: Se uniría con employee_contracts (a través de los IDs de proveedor) y, potencialmente, payroll_details para analizar costos y distribución de empleados por proveedor de beneficio.\n",
    "Rendimiento de Proveedores: Aunque no directamente en esta tabla, se puede usar para vincular el gasto total con cada proveedor.\n",
    "\n",
    "💸 *10. costs_and_expenses (Costos y Gastos)*\n",
    "\n",
    "✨ Gastos Operativos Directamente Relacionados con el Personal ✨\n",
    "\n",
    "Aunque es una tabla de naturaleza financiera general, su inclusión en el ámbito de RRHH implica que puede contener registros de gastos asociados directamente al personal, fuera de la nómina tradicional.\n",
    "\n",
    "🔑 Aspectos Clave Potenciales para el Análisis de RRHH:\n",
    "Detalle del Gasto: id (identificador), date (fecha en que incurrió el gasto), amount (monto monetario).\n",
    "Categorización: category_id (clave foránea a costs_and_expenses_categories para clasificar el tipo de gasto).\n",
    "Vínculo con Empleado (Opcional): employee_id (si un gasto específico puede ser atribuido a un empleado, ej., viáticos, capacitaciones individuales).\n",
    "Descripción: description (detalle del gasto).\n",
    "💡 Consideraciones para Futuro ETL y KPIs:\n",
    "Costo Total de RRHH: Al sumar estos costos a los de nómina, se obtiene una visión más holística de la inversión en capital humano.\n",
    "Análisis de Inversión en Personal: Identificar y cuantificar gastos en áreas como capacitación, reclutamiento, bienestar, beneficios no monetarios.\n",
    "Dependencia de costs_and_expenses_categories: Crucial para desglosar y entender la naturaleza de estos gastos.\n",
    "\n",
    "🏷️ *11. costs_and_expenses_categories (Categorías de Costos y Gastos)*\n",
    "\n",
    "✨ Organización y Clasificación de Inversiones en RRHH ✨\n",
    "\n",
    "Esta tabla es un maestro para clasificar los registros de costs_and_expenses, permitiendo una categorización significativa de los gastos relacionados con RRHH.\n",
    "\n",
    "🔑 Aspectos Clave Potenciales para el Análisis de RRHH:\n",
    "Identificador de Categoría: id, name (ej., \"Capacitación y Desarrollo\", \"Reclutamiento y Selección\", \"Beneficios al Empleado\", \"Gastos de Viaje\").\n",
    "Tipo de Categoría: type (ej., \"Operacional\", \"Administrativo\").\n",
    "💡 Consideraciones para Futuro ETL y KPIs:\n",
    "Desglose de Gastos: Es fundamental para segmentar los costs_and_expenses y entender dónde se está invirtiendo el presupuesto de RRHH.\n",
    "Presupuesto vs. Gasto Real: Permite comparar el gasto real en cada categoría con los presupuestos asignados.\n",
    "\n",
    "📍 *12. headquarters (Sedes / Ubicaciones)*\n",
    "\n",
    "✨ La Dimensión Geográfica y Estructural de la Fuerza Laboral ✨\n",
    "\n",
    "Esta tabla contiene los detalles de las diferentes ubicaciones físicas o sedes de la empresa.\n",
    "\n",
    "🔑 Aspectos Clave Potenciales para el Análisis de RRHH:\n",
    "Identificación de Sede: id, name (nombre de la sede, ej., \"Oficina Principal\", \"Fábrica Bogotá\", \"Sede Medellín\").\n",
    "Detalles Geográficos: address, city, region, country.\n",
    "💡 Consideraciones para Futuro ETL y KPIs:\n",
    "Análisis Demográfico y Geográfico: Se une directamente con employees (a través de headquarter_id) para analizar la distribución de personal por ubicación.\n",
    "KPIs Segmentados por Sede: Permite realizar análisis comparativos de rendimiento, rotación, costos de nómina, etc., entre diferentes sedes.\n",
    "\n",
    "🎁 *13. coupons (Cupones)*\n",
    "\n",
    "✨ Herramienta Potencial para Programas de Beneficios e Incentivos ✨\n",
    "\n",
    "Aunque no es una tabla intrínsecamente de RRHH, si la empresa utiliza cupones como parte de sus programas de beneficios, incentivos o bienestar para empleados, esta tabla es relevante.\n",
    "\n",
    "🔑 Aspectos Clave Potenciales para el Análisis de RRHH:\n",
    "Detalles del Cupón: id, code, value (valor monetario o de descuento).\n",
    "Tipo y Validez: type (ej., \"Descuento\", \"Regalo\"), valid_from, valid_until (periodo de uso).\n",
    "Asignación a Empleado (Importante): assigned_to_employee_id (si esta columna existe, es clave para vincular el cupón a un empleado específico).\n",
    "💡 Consideraciones para Futuro ETL y KPIs:\n",
    "Análisis de Beneficios No Salariales: Si los cupones son un beneficio, se puede analizar su distribución, costo total para la empresa y la participación de los empleados.\n",
    "Eficacia de Programas de Incentivos: Evaluar el uso de cupones para medir el éxito de programas de incentivos."
   ]
  },
  {
   "cell_type": "markdown",
   "id": "45d6511d",
   "metadata": {},
   "source": [
    "---\n"
   ]
  },
  {
   "cell_type": "markdown",
   "id": "37eec0f2",
   "metadata": {},
   "source": [
    "#*Gráficos, Análisis y ciencia de datos*#"
   ]
  },
  {
   "cell_type": "markdown",
   "id": "43e4dc2f",
   "metadata": {},
   "source": [
    "---"
   ]
  },
  {
   "cell_type": "code",
   "execution_count": 26,
   "id": "6823e307",
   "metadata": {},
   "outputs": [
    {
     "name": "stdout",
     "output_type": "stream",
     "text": [
      "\n",
      "--- Bloque 12 (Revisado con Colores Nuevos): Generación de Gráfico BI - Distribución de Empleados por Grupos de Edad ---\n",
      "Estableciendo conexión a la base de datos para la visualización...\n",
      "✅ Conexión exitosa a la base de datos\n",
      "✅ Conexión a la base de datos establecida.\n",
      "\n",
      "Cargando columna 'birth_date' de la tabla 'employees'...\n",
      "DataFrame de 'employees' cargado. Registros: 38\n",
      "\n",
      "Conteo de empleados por grupo de edad:\n",
      "           Age_Group  Employee_Count\n",
      "3              10-19               1\n",
      "0              20-29              19\n",
      "1              30-39              12\n",
      "2              40-49               6\n",
      "4  Otros/No Definido               0\n",
      "\n",
      "Generando histograma interactivo de 'Distribución de Empleados por Grupos de Edad' con nuevos colores...\n"
     ]
    },
    {
     "data": {
      "application/vnd.plotly.v1+json": {
       "config": {
        "plotlyServerURL": "https://plot.ly"
       },
       "data": [
        {
         "hovertemplate": "Grupo de Edad=%{x}<br>Número de Empleados=%{marker.color}<extra></extra>",
         "legendgroup": "",
         "marker": {
          "color": {
           "bdata": "ARMMBgA=",
           "dtype": "i1"
          },
          "coloraxis": "coloraxis",
          "pattern": {
           "shape": ""
          }
         },
         "name": "",
         "orientation": "v",
         "showlegend": false,
         "text": {
          "bdata": "AAAAAAAA8D8AAAAAAAAzQAAAAAAAAChAAAAAAAAAGEAAAAAAAAAAAA==",
          "dtype": "f8"
         },
         "textposition": "outside",
         "texttemplate": "%{text}",
         "type": "bar",
         "x": [
          "10-19",
          "20-29",
          "30-39",
          "40-49",
          "Otros/No Definido"
         ],
         "xaxis": "x",
         "y": {
          "bdata": "ARMMBgA=",
          "dtype": "i1"
         },
         "yaxis": "y"
        }
       ],
       "layout": {
        "barmode": "relative",
        "coloraxis": {
         "colorbar": {
          "title": {
           "text": "Número de Empleados"
          }
         },
         "colorscale": [
          [
           0,
           "#0508b8"
          ],
          [
           0.08333333333333333,
           "#1910d8"
          ],
          [
           0.16666666666666666,
           "#3c19f0"
          ],
          [
           0.25,
           "#6b1cfb"
          ],
          [
           0.3333333333333333,
           "#981cfd"
          ],
          [
           0.4166666666666667,
           "#bf1cfd"
          ],
          [
           0.5,
           "#dd2bfd"
          ],
          [
           0.5833333333333334,
           "#f246fe"
          ],
          [
           0.6666666666666666,
           "#fc67fd"
          ],
          [
           0.75,
           "#fe88fc"
          ],
          [
           0.8333333333333334,
           "#fea5fd"
          ],
          [
           0.9166666666666666,
           "#febefe"
          ],
          [
           1,
           "#fec3fe"
          ]
         ]
        },
        "hovermode": "x unified",
        "legend": {
         "tracegroupgap": 0
        },
        "template": {
         "data": {
          "bar": [
           {
            "error_x": {
             "color": "#2a3f5f"
            },
            "error_y": {
             "color": "#2a3f5f"
            },
            "marker": {
             "line": {
              "color": "#E5ECF6",
              "width": 0.5
             },
             "pattern": {
              "fillmode": "overlay",
              "size": 10,
              "solidity": 0.2
             }
            },
            "type": "bar"
           }
          ],
          "barpolar": [
           {
            "marker": {
             "line": {
              "color": "#E5ECF6",
              "width": 0.5
             },
             "pattern": {
              "fillmode": "overlay",
              "size": 10,
              "solidity": 0.2
             }
            },
            "type": "barpolar"
           }
          ],
          "carpet": [
           {
            "aaxis": {
             "endlinecolor": "#2a3f5f",
             "gridcolor": "white",
             "linecolor": "white",
             "minorgridcolor": "white",
             "startlinecolor": "#2a3f5f"
            },
            "baxis": {
             "endlinecolor": "#2a3f5f",
             "gridcolor": "white",
             "linecolor": "white",
             "minorgridcolor": "white",
             "startlinecolor": "#2a3f5f"
            },
            "type": "carpet"
           }
          ],
          "choropleth": [
           {
            "colorbar": {
             "outlinewidth": 0,
             "ticks": ""
            },
            "type": "choropleth"
           }
          ],
          "contour": [
           {
            "colorbar": {
             "outlinewidth": 0,
             "ticks": ""
            },
            "colorscale": [
             [
              0,
              "#0d0887"
             ],
             [
              0.1111111111111111,
              "#46039f"
             ],
             [
              0.2222222222222222,
              "#7201a8"
             ],
             [
              0.3333333333333333,
              "#9c179e"
             ],
             [
              0.4444444444444444,
              "#bd3786"
             ],
             [
              0.5555555555555556,
              "#d8576b"
             ],
             [
              0.6666666666666666,
              "#ed7953"
             ],
             [
              0.7777777777777778,
              "#fb9f3a"
             ],
             [
              0.8888888888888888,
              "#fdca26"
             ],
             [
              1,
              "#f0f921"
             ]
            ],
            "type": "contour"
           }
          ],
          "contourcarpet": [
           {
            "colorbar": {
             "outlinewidth": 0,
             "ticks": ""
            },
            "type": "contourcarpet"
           }
          ],
          "heatmap": [
           {
            "colorbar": {
             "outlinewidth": 0,
             "ticks": ""
            },
            "colorscale": [
             [
              0,
              "#0d0887"
             ],
             [
              0.1111111111111111,
              "#46039f"
             ],
             [
              0.2222222222222222,
              "#7201a8"
             ],
             [
              0.3333333333333333,
              "#9c179e"
             ],
             [
              0.4444444444444444,
              "#bd3786"
             ],
             [
              0.5555555555555556,
              "#d8576b"
             ],
             [
              0.6666666666666666,
              "#ed7953"
             ],
             [
              0.7777777777777778,
              "#fb9f3a"
             ],
             [
              0.8888888888888888,
              "#fdca26"
             ],
             [
              1,
              "#f0f921"
             ]
            ],
            "type": "heatmap"
           }
          ],
          "histogram": [
           {
            "marker": {
             "pattern": {
              "fillmode": "overlay",
              "size": 10,
              "solidity": 0.2
             }
            },
            "type": "histogram"
           }
          ],
          "histogram2d": [
           {
            "colorbar": {
             "outlinewidth": 0,
             "ticks": ""
            },
            "colorscale": [
             [
              0,
              "#0d0887"
             ],
             [
              0.1111111111111111,
              "#46039f"
             ],
             [
              0.2222222222222222,
              "#7201a8"
             ],
             [
              0.3333333333333333,
              "#9c179e"
             ],
             [
              0.4444444444444444,
              "#bd3786"
             ],
             [
              0.5555555555555556,
              "#d8576b"
             ],
             [
              0.6666666666666666,
              "#ed7953"
             ],
             [
              0.7777777777777778,
              "#fb9f3a"
             ],
             [
              0.8888888888888888,
              "#fdca26"
             ],
             [
              1,
              "#f0f921"
             ]
            ],
            "type": "histogram2d"
           }
          ],
          "histogram2dcontour": [
           {
            "colorbar": {
             "outlinewidth": 0,
             "ticks": ""
            },
            "colorscale": [
             [
              0,
              "#0d0887"
             ],
             [
              0.1111111111111111,
              "#46039f"
             ],
             [
              0.2222222222222222,
              "#7201a8"
             ],
             [
              0.3333333333333333,
              "#9c179e"
             ],
             [
              0.4444444444444444,
              "#bd3786"
             ],
             [
              0.5555555555555556,
              "#d8576b"
             ],
             [
              0.6666666666666666,
              "#ed7953"
             ],
             [
              0.7777777777777778,
              "#fb9f3a"
             ],
             [
              0.8888888888888888,
              "#fdca26"
             ],
             [
              1,
              "#f0f921"
             ]
            ],
            "type": "histogram2dcontour"
           }
          ],
          "mesh3d": [
           {
            "colorbar": {
             "outlinewidth": 0,
             "ticks": ""
            },
            "type": "mesh3d"
           }
          ],
          "parcoords": [
           {
            "line": {
             "colorbar": {
              "outlinewidth": 0,
              "ticks": ""
             }
            },
            "type": "parcoords"
           }
          ],
          "pie": [
           {
            "automargin": true,
            "type": "pie"
           }
          ],
          "scatter": [
           {
            "fillpattern": {
             "fillmode": "overlay",
             "size": 10,
             "solidity": 0.2
            },
            "type": "scatter"
           }
          ],
          "scatter3d": [
           {
            "line": {
             "colorbar": {
              "outlinewidth": 0,
              "ticks": ""
             }
            },
            "marker": {
             "colorbar": {
              "outlinewidth": 0,
              "ticks": ""
             }
            },
            "type": "scatter3d"
           }
          ],
          "scattercarpet": [
           {
            "marker": {
             "colorbar": {
              "outlinewidth": 0,
              "ticks": ""
             }
            },
            "type": "scattercarpet"
           }
          ],
          "scattergeo": [
           {
            "marker": {
             "colorbar": {
              "outlinewidth": 0,
              "ticks": ""
             }
            },
            "type": "scattergeo"
           }
          ],
          "scattergl": [
           {
            "marker": {
             "colorbar": {
              "outlinewidth": 0,
              "ticks": ""
             }
            },
            "type": "scattergl"
           }
          ],
          "scattermap": [
           {
            "marker": {
             "colorbar": {
              "outlinewidth": 0,
              "ticks": ""
             }
            },
            "type": "scattermap"
           }
          ],
          "scattermapbox": [
           {
            "marker": {
             "colorbar": {
              "outlinewidth": 0,
              "ticks": ""
             }
            },
            "type": "scattermapbox"
           }
          ],
          "scatterpolar": [
           {
            "marker": {
             "colorbar": {
              "outlinewidth": 0,
              "ticks": ""
             }
            },
            "type": "scatterpolar"
           }
          ],
          "scatterpolargl": [
           {
            "marker": {
             "colorbar": {
              "outlinewidth": 0,
              "ticks": ""
             }
            },
            "type": "scatterpolargl"
           }
          ],
          "scatterternary": [
           {
            "marker": {
             "colorbar": {
              "outlinewidth": 0,
              "ticks": ""
             }
            },
            "type": "scatterternary"
           }
          ],
          "surface": [
           {
            "colorbar": {
             "outlinewidth": 0,
             "ticks": ""
            },
            "colorscale": [
             [
              0,
              "#0d0887"
             ],
             [
              0.1111111111111111,
              "#46039f"
             ],
             [
              0.2222222222222222,
              "#7201a8"
             ],
             [
              0.3333333333333333,
              "#9c179e"
             ],
             [
              0.4444444444444444,
              "#bd3786"
             ],
             [
              0.5555555555555556,
              "#d8576b"
             ],
             [
              0.6666666666666666,
              "#ed7953"
             ],
             [
              0.7777777777777778,
              "#fb9f3a"
             ],
             [
              0.8888888888888888,
              "#fdca26"
             ],
             [
              1,
              "#f0f921"
             ]
            ],
            "type": "surface"
           }
          ],
          "table": [
           {
            "cells": {
             "fill": {
              "color": "#EBF0F8"
             },
             "line": {
              "color": "white"
             }
            },
            "header": {
             "fill": {
              "color": "#C8D4E3"
             },
             "line": {
              "color": "white"
             }
            },
            "type": "table"
           }
          ]
         },
         "layout": {
          "annotationdefaults": {
           "arrowcolor": "#2a3f5f",
           "arrowhead": 0,
           "arrowwidth": 1
          },
          "autotypenumbers": "strict",
          "coloraxis": {
           "colorbar": {
            "outlinewidth": 0,
            "ticks": ""
           }
          },
          "colorscale": {
           "diverging": [
            [
             0,
             "#8e0152"
            ],
            [
             0.1,
             "#c51b7d"
            ],
            [
             0.2,
             "#de77ae"
            ],
            [
             0.3,
             "#f1b6da"
            ],
            [
             0.4,
             "#fde0ef"
            ],
            [
             0.5,
             "#f7f7f7"
            ],
            [
             0.6,
             "#e6f5d0"
            ],
            [
             0.7,
             "#b8e186"
            ],
            [
             0.8,
             "#7fbc41"
            ],
            [
             0.9,
             "#4d9221"
            ],
            [
             1,
             "#276419"
            ]
           ],
           "sequential": [
            [
             0,
             "#0d0887"
            ],
            [
             0.1111111111111111,
             "#46039f"
            ],
            [
             0.2222222222222222,
             "#7201a8"
            ],
            [
             0.3333333333333333,
             "#9c179e"
            ],
            [
             0.4444444444444444,
             "#bd3786"
            ],
            [
             0.5555555555555556,
             "#d8576b"
            ],
            [
             0.6666666666666666,
             "#ed7953"
            ],
            [
             0.7777777777777778,
             "#fb9f3a"
            ],
            [
             0.8888888888888888,
             "#fdca26"
            ],
            [
             1,
             "#f0f921"
            ]
           ],
           "sequentialminus": [
            [
             0,
             "#0d0887"
            ],
            [
             0.1111111111111111,
             "#46039f"
            ],
            [
             0.2222222222222222,
             "#7201a8"
            ],
            [
             0.3333333333333333,
             "#9c179e"
            ],
            [
             0.4444444444444444,
             "#bd3786"
            ],
            [
             0.5555555555555556,
             "#d8576b"
            ],
            [
             0.6666666666666666,
             "#ed7953"
            ],
            [
             0.7777777777777778,
             "#fb9f3a"
            ],
            [
             0.8888888888888888,
             "#fdca26"
            ],
            [
             1,
             "#f0f921"
            ]
           ]
          },
          "colorway": [
           "#636efa",
           "#EF553B",
           "#00cc96",
           "#ab63fa",
           "#FFA15A",
           "#19d3f3",
           "#FF6692",
           "#B6E880",
           "#FF97FF",
           "#FECB52"
          ],
          "font": {
           "color": "#2a3f5f"
          },
          "geo": {
           "bgcolor": "white",
           "lakecolor": "white",
           "landcolor": "#E5ECF6",
           "showlakes": true,
           "showland": true,
           "subunitcolor": "white"
          },
          "hoverlabel": {
           "align": "left"
          },
          "hovermode": "closest",
          "mapbox": {
           "style": "light"
          },
          "paper_bgcolor": "white",
          "plot_bgcolor": "#E5ECF6",
          "polar": {
           "angularaxis": {
            "gridcolor": "white",
            "linecolor": "white",
            "ticks": ""
           },
           "bgcolor": "#E5ECF6",
           "radialaxis": {
            "gridcolor": "white",
            "linecolor": "white",
            "ticks": ""
           }
          },
          "scene": {
           "xaxis": {
            "backgroundcolor": "#E5ECF6",
            "gridcolor": "white",
            "gridwidth": 2,
            "linecolor": "white",
            "showbackground": true,
            "ticks": "",
            "zerolinecolor": "white"
           },
           "yaxis": {
            "backgroundcolor": "#E5ECF6",
            "gridcolor": "white",
            "gridwidth": 2,
            "linecolor": "white",
            "showbackground": true,
            "ticks": "",
            "zerolinecolor": "white"
           },
           "zaxis": {
            "backgroundcolor": "#E5ECF6",
            "gridcolor": "white",
            "gridwidth": 2,
            "linecolor": "white",
            "showbackground": true,
            "ticks": "",
            "zerolinecolor": "white"
           }
          },
          "shapedefaults": {
           "line": {
            "color": "#2a3f5f"
           }
          },
          "ternary": {
           "aaxis": {
            "gridcolor": "white",
            "linecolor": "white",
            "ticks": ""
           },
           "baxis": {
            "gridcolor": "white",
            "linecolor": "white",
            "ticks": ""
           },
           "bgcolor": "#E5ECF6",
           "caxis": {
            "gridcolor": "white",
            "linecolor": "white",
            "ticks": ""
           }
          },
          "title": {
           "x": 0.05
          },
          "xaxis": {
           "automargin": true,
           "gridcolor": "white",
           "linecolor": "white",
           "ticks": "",
           "title": {
            "standoff": 15
           },
           "zerolinecolor": "white",
           "zerolinewidth": 2
          },
          "yaxis": {
           "automargin": true,
           "gridcolor": "white",
           "linecolor": "white",
           "ticks": "",
           "title": {
            "standoff": 15
           },
           "zerolinecolor": "white",
           "zerolinewidth": 2
          }
         }
        },
        "title": {
         "text": "Distribución de Empleados por Grupos de Edad",
         "x": 0.5
        },
        "xaxis": {
         "anchor": "y",
         "domain": [
          0,
          1
         ],
         "title": {
          "text": "Grupo de Edad"
         }
        },
        "yaxis": {
         "anchor": "x",
         "domain": [
          0,
          1
         ],
         "title": {
          "text": "Número de Empleados"
         }
        }
       }
      }
     },
     "metadata": {},
     "output_type": "display_data"
    },
    {
     "name": "stdout",
     "output_type": "stream",
     "text": [
      "✅ Gráfico 'Distribución de Empleados por Grupos de Edad' generado y mostrado con nuevos colores.\n",
      "✅ Conexión a la base de datos cerrada.\n",
      "\n",
      "--- Fin del Bloque de Generación de Gráficos ---\n"
     ]
    }
   ],
   "source": [
    "# Script para generar gráficos BI con Plotly Express (Distribución de Empleados por Grupos de Edad)\n",
    "\n",
    "import pandas as pd\n",
    "import plotly.express as px\n",
    "from datetime import datetime\n",
    "from db_connection import get_engine, get_connection \n",
    "\n",
    "print(\"\\n--- Bloque 12 (Revisado con Colores Nuevos): Generación de Gráfico BI - Distribución de Empleados por Grupos de Edad ---\")\n",
    "\n",
    "conexion = None\n",
    "try:\n",
    "    print(\"Estableciendo conexión a la base de datos para la visualización...\")\n",
    "    engine = get_engine()\n",
    "    conexion = get_connection()\n",
    "    print(\"✅ Conexión a la base de datos establecida.\")\n",
    "\n",
    "    # 1. Cargar la columna 'birth_date' de la tabla 'employees'\n",
    "    print(\"\\nCargando columna 'birth_date' de la tabla 'employees'...\")\n",
    "    df_employees = pd.read_sql(\"SELECT birth_date FROM employees;\", engine)\n",
    "    print(f\"DataFrame de 'employees' cargado. Registros: {len(df_employees)}\")\n",
    "\n",
    "    # 2. Limpiar y preparar los datos\n",
    "    # Convertir 'birth_date' a formato datetime y manejar nulos\n",
    "    df_employees['birth_date'] = pd.to_datetime(df_employees['birth_date'], errors='coerce')\n",
    "\n",
    "    # Eliminar filas donde la fecha de nacimiento es nula, ya que no podemos calcular la edad\n",
    "    df_employees.dropna(subset=['birth_date'], inplace=True)\n",
    "\n",
    "    if df_employees.empty:\n",
    "        print(\"❌ No hay datos válidos para generar el gráfico después de la limpieza de fechas de nacimiento.\")\n",
    "        raise ValueError(\"No hay datos suficientes para graficar.\")\n",
    "\n",
    "    # Calcular la edad de los empleados\n",
    "    today = datetime.now()\n",
    "    df_employees['age'] = df_employees['birth_date'].apply(lambda dob: today.year - dob.year - ((today.month, today.day) < (dob.month, dob.day)))\n",
    "\n",
    "    # 3. Crear rangos de edad\n",
    "    # Definir los límites de los rangos de edad (ej. 20-29, 30-39, etc.)\n",
    "    min_age = df_employees['age'].min() if not df_employees.empty else 0\n",
    "    max_age = df_employees['age'].max() if not df_employees.empty else 100\n",
    "\n",
    "    start_bin = (min_age // 10) * 10 if min_age >= 10 else 0\n",
    "    \n",
    "    bins = range(start_bin, max_age + 10, 10) # Rango de 10 en 10 años\n",
    "    labels = [f'{i}-{i+9}' for i in bins[:-1]]\n",
    "    \n",
    "    # Crear la columna 'age_group'\n",
    "    df_employees['age_group'] = pd.cut(df_employees['age'], bins=bins, labels=labels, right=False, include_lowest=True)\n",
    "\n",
    "    # Rellenar cualquier grupo de edad nulo (si la edad cae fuera de los bins definidos)\n",
    "    df_employees['age_group'] = df_employees['age_group'].cat.add_categories('Otros/No Definido').fillna('Otros/No Definido')\n",
    "\n",
    "    print(\"\\nConteo de empleados por grupo de edad:\")\n",
    "    age_counts = df_employees['age_group'].value_counts().reset_index()\n",
    "    age_counts.columns = ['Age_Group', 'Employee_Count']\n",
    "    # Ordenar por el orden de los rangos de edad definidos\n",
    "    age_counts['Age_Group'] = pd.Categorical(age_counts['Age_Group'], categories=labels + ['Otros/No Definido'], ordered=True)\n",
    "    age_counts = age_counts.sort_values('Age_Group')\n",
    "\n",
    "    print(age_counts)\n",
    "\n",
    "    # 4. Generar el histograma interactivo con Plotly Express\n",
    "    print(\"\\nGenerando histograma interactivo de 'Distribución de Empleados por Grupos de Edad' con nuevos colores...\")\n",
    "    fig = px.bar(age_counts,\n",
    "                 x='Age_Group',\n",
    "                 y='Employee_Count',\n",
    "                 title='Distribución de Empleados por Grupos de Edad',\n",
    "                 labels={\n",
    "                     'Age_Group': 'Grupo de Edad',\n",
    "                     'Employee_Count': 'Número de Empleados'\n",
    "                 },\n",
    "                 text='Employee_Count', # Muestra el número de empleados en la barra\n",
    "                 color='Employee_Count', # Colorea las barras según el conteo\n",
    "                 color_continuous_scale=px.colors.sequential.Plotly3 # ¡NUEVA PALETA DE COLORES!\n",
    "                )\n",
    "\n",
    "    fig.update_traces(texttemplate='%{text}', textposition='outside')\n",
    "    fig.update_layout(xaxis_title=\"Grupo de Edad\",\n",
    "                      yaxis_title=\"Número de Empleados\",\n",
    "                      title_x=0.5, # Centrar el título\n",
    "                      hovermode=\"x unified\"\n",
    "                     )\n",
    "\n",
    "    # 5. Mostrar el gráfico\n",
    "    fig.show()\n",
    "    print(\"✅ Gráfico 'Distribución de Empleados por Grupos de Edad' generado y mostrado con nuevos colores.\")\n",
    "\n",
    "except ValueError as ve:\n",
    "    print(f\"\\n❌❌ Error de datos para graficar: {ve}\")\n",
    "except Exception as e:\n",
    "    print(f\"\\n❌❌ Ocurrió un error general: {e}\")\n",
    "    print(\"Asegúrate de que la tabla 'employees' existe y tiene la columna 'birth_date'.\")\n",
    "    print(\"Verifica también que 'birth_date' contenga fechas válidas.\")\n",
    "finally:\n",
    "    if conexion and conexion.is_connected():\n",
    "        conexion.close()\n",
    "        print(\"✅ Conexión a la base de datos cerrada.\")\n",
    "\n",
    "print(\"\\n--- Fin del Bloque de Generación de Gráficos ---\")"
   ]
  },
  {
   "cell_type": "code",
   "execution_count": 27,
   "id": "ee32a007",
   "metadata": {},
   "outputs": [
    {
     "name": "stdout",
     "output_type": "stream",
     "text": [
      "\n",
      "--- Bloque 13: Generación de Gráfico BI - Distribución de Empleados por Tipo de Documento de Identidad ---\n",
      "Estableciendo conexión a la base de datos para la visualización...\n",
      "✅ Conexión exitosa a la base de datos\n",
      "✅ Conexión a la base de datos establecida.\n",
      "\n",
      "Cargando columna 'identity_document_type' de la tabla 'employees'...\n",
      "DataFrame de 'employees' cargado. Registros: 38\n",
      "\n",
      "Contando empleados por tipo de documento de identidad...\n",
      "Conteo de empleados por tipo de documento:\n",
      "           Document_Type  Employee_Count\n",
      "0   Cédula de ciudadanía              36\n",
      "1  Cédula de extranjería               2\n",
      "\n",
      "Generando gráfico de torta interactivo de 'Distribución de Empleados por Tipo de Documento de Identidad'...\n"
     ]
    },
    {
     "data": {
      "application/vnd.plotly.v1+json": {
       "config": {
        "plotlyServerURL": "https://plot.ly"
       },
       "data": [
        {
         "domain": {
          "x": [
           0,
           1
          ],
          "y": [
           0,
           1
          ]
         },
         "hole": 0.4,
         "hovertemplate": "<b>%{label}</b><br>Empleados: %{value}<br>Porcentaje: %{percent:.1%}<extra></extra>",
         "labels": [
          "Cédula de ciudadanía",
          "Cédula de extranjería"
         ],
         "legendgroup": "",
         "name": "",
         "showlegend": true,
         "textinfo": "percent+label",
         "type": "pie",
         "values": {
          "bdata": "JAI=",
          "dtype": "i1"
         }
        }
       ],
       "layout": {
        "legend": {
         "title": {
          "text": "Tipo de Documento"
         },
         "tracegroupgap": 0
        },
        "piecolorway": [
         "rgb(102, 197, 204)",
         "rgb(246, 207, 113)",
         "rgb(248, 156, 116)",
         "rgb(220, 176, 242)",
         "rgb(135, 197, 95)",
         "rgb(158, 185, 243)",
         "rgb(254, 136, 177)",
         "rgb(201, 219, 116)",
         "rgb(139, 224, 164)",
         "rgb(180, 151, 231)",
         "rgb(179, 179, 179)"
        ],
        "template": {
         "data": {
          "bar": [
           {
            "error_x": {
             "color": "#2a3f5f"
            },
            "error_y": {
             "color": "#2a3f5f"
            },
            "marker": {
             "line": {
              "color": "#E5ECF6",
              "width": 0.5
             },
             "pattern": {
              "fillmode": "overlay",
              "size": 10,
              "solidity": 0.2
             }
            },
            "type": "bar"
           }
          ],
          "barpolar": [
           {
            "marker": {
             "line": {
              "color": "#E5ECF6",
              "width": 0.5
             },
             "pattern": {
              "fillmode": "overlay",
              "size": 10,
              "solidity": 0.2
             }
            },
            "type": "barpolar"
           }
          ],
          "carpet": [
           {
            "aaxis": {
             "endlinecolor": "#2a3f5f",
             "gridcolor": "white",
             "linecolor": "white",
             "minorgridcolor": "white",
             "startlinecolor": "#2a3f5f"
            },
            "baxis": {
             "endlinecolor": "#2a3f5f",
             "gridcolor": "white",
             "linecolor": "white",
             "minorgridcolor": "white",
             "startlinecolor": "#2a3f5f"
            },
            "type": "carpet"
           }
          ],
          "choropleth": [
           {
            "colorbar": {
             "outlinewidth": 0,
             "ticks": ""
            },
            "type": "choropleth"
           }
          ],
          "contour": [
           {
            "colorbar": {
             "outlinewidth": 0,
             "ticks": ""
            },
            "colorscale": [
             [
              0,
              "#0d0887"
             ],
             [
              0.1111111111111111,
              "#46039f"
             ],
             [
              0.2222222222222222,
              "#7201a8"
             ],
             [
              0.3333333333333333,
              "#9c179e"
             ],
             [
              0.4444444444444444,
              "#bd3786"
             ],
             [
              0.5555555555555556,
              "#d8576b"
             ],
             [
              0.6666666666666666,
              "#ed7953"
             ],
             [
              0.7777777777777778,
              "#fb9f3a"
             ],
             [
              0.8888888888888888,
              "#fdca26"
             ],
             [
              1,
              "#f0f921"
             ]
            ],
            "type": "contour"
           }
          ],
          "contourcarpet": [
           {
            "colorbar": {
             "outlinewidth": 0,
             "ticks": ""
            },
            "type": "contourcarpet"
           }
          ],
          "heatmap": [
           {
            "colorbar": {
             "outlinewidth": 0,
             "ticks": ""
            },
            "colorscale": [
             [
              0,
              "#0d0887"
             ],
             [
              0.1111111111111111,
              "#46039f"
             ],
             [
              0.2222222222222222,
              "#7201a8"
             ],
             [
              0.3333333333333333,
              "#9c179e"
             ],
             [
              0.4444444444444444,
              "#bd3786"
             ],
             [
              0.5555555555555556,
              "#d8576b"
             ],
             [
              0.6666666666666666,
              "#ed7953"
             ],
             [
              0.7777777777777778,
              "#fb9f3a"
             ],
             [
              0.8888888888888888,
              "#fdca26"
             ],
             [
              1,
              "#f0f921"
             ]
            ],
            "type": "heatmap"
           }
          ],
          "histogram": [
           {
            "marker": {
             "pattern": {
              "fillmode": "overlay",
              "size": 10,
              "solidity": 0.2
             }
            },
            "type": "histogram"
           }
          ],
          "histogram2d": [
           {
            "colorbar": {
             "outlinewidth": 0,
             "ticks": ""
            },
            "colorscale": [
             [
              0,
              "#0d0887"
             ],
             [
              0.1111111111111111,
              "#46039f"
             ],
             [
              0.2222222222222222,
              "#7201a8"
             ],
             [
              0.3333333333333333,
              "#9c179e"
             ],
             [
              0.4444444444444444,
              "#bd3786"
             ],
             [
              0.5555555555555556,
              "#d8576b"
             ],
             [
              0.6666666666666666,
              "#ed7953"
             ],
             [
              0.7777777777777778,
              "#fb9f3a"
             ],
             [
              0.8888888888888888,
              "#fdca26"
             ],
             [
              1,
              "#f0f921"
             ]
            ],
            "type": "histogram2d"
           }
          ],
          "histogram2dcontour": [
           {
            "colorbar": {
             "outlinewidth": 0,
             "ticks": ""
            },
            "colorscale": [
             [
              0,
              "#0d0887"
             ],
             [
              0.1111111111111111,
              "#46039f"
             ],
             [
              0.2222222222222222,
              "#7201a8"
             ],
             [
              0.3333333333333333,
              "#9c179e"
             ],
             [
              0.4444444444444444,
              "#bd3786"
             ],
             [
              0.5555555555555556,
              "#d8576b"
             ],
             [
              0.6666666666666666,
              "#ed7953"
             ],
             [
              0.7777777777777778,
              "#fb9f3a"
             ],
             [
              0.8888888888888888,
              "#fdca26"
             ],
             [
              1,
              "#f0f921"
             ]
            ],
            "type": "histogram2dcontour"
           }
          ],
          "mesh3d": [
           {
            "colorbar": {
             "outlinewidth": 0,
             "ticks": ""
            },
            "type": "mesh3d"
           }
          ],
          "parcoords": [
           {
            "line": {
             "colorbar": {
              "outlinewidth": 0,
              "ticks": ""
             }
            },
            "type": "parcoords"
           }
          ],
          "pie": [
           {
            "automargin": true,
            "type": "pie"
           }
          ],
          "scatter": [
           {
            "fillpattern": {
             "fillmode": "overlay",
             "size": 10,
             "solidity": 0.2
            },
            "type": "scatter"
           }
          ],
          "scatter3d": [
           {
            "line": {
             "colorbar": {
              "outlinewidth": 0,
              "ticks": ""
             }
            },
            "marker": {
             "colorbar": {
              "outlinewidth": 0,
              "ticks": ""
             }
            },
            "type": "scatter3d"
           }
          ],
          "scattercarpet": [
           {
            "marker": {
             "colorbar": {
              "outlinewidth": 0,
              "ticks": ""
             }
            },
            "type": "scattercarpet"
           }
          ],
          "scattergeo": [
           {
            "marker": {
             "colorbar": {
              "outlinewidth": 0,
              "ticks": ""
             }
            },
            "type": "scattergeo"
           }
          ],
          "scattergl": [
           {
            "marker": {
             "colorbar": {
              "outlinewidth": 0,
              "ticks": ""
             }
            },
            "type": "scattergl"
           }
          ],
          "scattermap": [
           {
            "marker": {
             "colorbar": {
              "outlinewidth": 0,
              "ticks": ""
             }
            },
            "type": "scattermap"
           }
          ],
          "scattermapbox": [
           {
            "marker": {
             "colorbar": {
              "outlinewidth": 0,
              "ticks": ""
             }
            },
            "type": "scattermapbox"
           }
          ],
          "scatterpolar": [
           {
            "marker": {
             "colorbar": {
              "outlinewidth": 0,
              "ticks": ""
             }
            },
            "type": "scatterpolar"
           }
          ],
          "scatterpolargl": [
           {
            "marker": {
             "colorbar": {
              "outlinewidth": 0,
              "ticks": ""
             }
            },
            "type": "scatterpolargl"
           }
          ],
          "scatterternary": [
           {
            "marker": {
             "colorbar": {
              "outlinewidth": 0,
              "ticks": ""
             }
            },
            "type": "scatterternary"
           }
          ],
          "surface": [
           {
            "colorbar": {
             "outlinewidth": 0,
             "ticks": ""
            },
            "colorscale": [
             [
              0,
              "#0d0887"
             ],
             [
              0.1111111111111111,
              "#46039f"
             ],
             [
              0.2222222222222222,
              "#7201a8"
             ],
             [
              0.3333333333333333,
              "#9c179e"
             ],
             [
              0.4444444444444444,
              "#bd3786"
             ],
             [
              0.5555555555555556,
              "#d8576b"
             ],
             [
              0.6666666666666666,
              "#ed7953"
             ],
             [
              0.7777777777777778,
              "#fb9f3a"
             ],
             [
              0.8888888888888888,
              "#fdca26"
             ],
             [
              1,
              "#f0f921"
             ]
            ],
            "type": "surface"
           }
          ],
          "table": [
           {
            "cells": {
             "fill": {
              "color": "#EBF0F8"
             },
             "line": {
              "color": "white"
             }
            },
            "header": {
             "fill": {
              "color": "#C8D4E3"
             },
             "line": {
              "color": "white"
             }
            },
            "type": "table"
           }
          ]
         },
         "layout": {
          "annotationdefaults": {
           "arrowcolor": "#2a3f5f",
           "arrowhead": 0,
           "arrowwidth": 1
          },
          "autotypenumbers": "strict",
          "coloraxis": {
           "colorbar": {
            "outlinewidth": 0,
            "ticks": ""
           }
          },
          "colorscale": {
           "diverging": [
            [
             0,
             "#8e0152"
            ],
            [
             0.1,
             "#c51b7d"
            ],
            [
             0.2,
             "#de77ae"
            ],
            [
             0.3,
             "#f1b6da"
            ],
            [
             0.4,
             "#fde0ef"
            ],
            [
             0.5,
             "#f7f7f7"
            ],
            [
             0.6,
             "#e6f5d0"
            ],
            [
             0.7,
             "#b8e186"
            ],
            [
             0.8,
             "#7fbc41"
            ],
            [
             0.9,
             "#4d9221"
            ],
            [
             1,
             "#276419"
            ]
           ],
           "sequential": [
            [
             0,
             "#0d0887"
            ],
            [
             0.1111111111111111,
             "#46039f"
            ],
            [
             0.2222222222222222,
             "#7201a8"
            ],
            [
             0.3333333333333333,
             "#9c179e"
            ],
            [
             0.4444444444444444,
             "#bd3786"
            ],
            [
             0.5555555555555556,
             "#d8576b"
            ],
            [
             0.6666666666666666,
             "#ed7953"
            ],
            [
             0.7777777777777778,
             "#fb9f3a"
            ],
            [
             0.8888888888888888,
             "#fdca26"
            ],
            [
             1,
             "#f0f921"
            ]
           ],
           "sequentialminus": [
            [
             0,
             "#0d0887"
            ],
            [
             0.1111111111111111,
             "#46039f"
            ],
            [
             0.2222222222222222,
             "#7201a8"
            ],
            [
             0.3333333333333333,
             "#9c179e"
            ],
            [
             0.4444444444444444,
             "#bd3786"
            ],
            [
             0.5555555555555556,
             "#d8576b"
            ],
            [
             0.6666666666666666,
             "#ed7953"
            ],
            [
             0.7777777777777778,
             "#fb9f3a"
            ],
            [
             0.8888888888888888,
             "#fdca26"
            ],
            [
             1,
             "#f0f921"
            ]
           ]
          },
          "colorway": [
           "#636efa",
           "#EF553B",
           "#00cc96",
           "#ab63fa",
           "#FFA15A",
           "#19d3f3",
           "#FF6692",
           "#B6E880",
           "#FF97FF",
           "#FECB52"
          ],
          "font": {
           "color": "#2a3f5f"
          },
          "geo": {
           "bgcolor": "white",
           "lakecolor": "white",
           "landcolor": "#E5ECF6",
           "showlakes": true,
           "showland": true,
           "subunitcolor": "white"
          },
          "hoverlabel": {
           "align": "left"
          },
          "hovermode": "closest",
          "mapbox": {
           "style": "light"
          },
          "paper_bgcolor": "white",
          "plot_bgcolor": "#E5ECF6",
          "polar": {
           "angularaxis": {
            "gridcolor": "white",
            "linecolor": "white",
            "ticks": ""
           },
           "bgcolor": "#E5ECF6",
           "radialaxis": {
            "gridcolor": "white",
            "linecolor": "white",
            "ticks": ""
           }
          },
          "scene": {
           "xaxis": {
            "backgroundcolor": "#E5ECF6",
            "gridcolor": "white",
            "gridwidth": 2,
            "linecolor": "white",
            "showbackground": true,
            "ticks": "",
            "zerolinecolor": "white"
           },
           "yaxis": {
            "backgroundcolor": "#E5ECF6",
            "gridcolor": "white",
            "gridwidth": 2,
            "linecolor": "white",
            "showbackground": true,
            "ticks": "",
            "zerolinecolor": "white"
           },
           "zaxis": {
            "backgroundcolor": "#E5ECF6",
            "gridcolor": "white",
            "gridwidth": 2,
            "linecolor": "white",
            "showbackground": true,
            "ticks": "",
            "zerolinecolor": "white"
           }
          },
          "shapedefaults": {
           "line": {
            "color": "#2a3f5f"
           }
          },
          "ternary": {
           "aaxis": {
            "gridcolor": "white",
            "linecolor": "white",
            "ticks": ""
           },
           "baxis": {
            "gridcolor": "white",
            "linecolor": "white",
            "ticks": ""
           },
           "bgcolor": "#E5ECF6",
           "caxis": {
            "gridcolor": "white",
            "linecolor": "white",
            "ticks": ""
           }
          },
          "title": {
           "x": 0.05
          },
          "xaxis": {
           "automargin": true,
           "gridcolor": "white",
           "linecolor": "white",
           "ticks": "",
           "title": {
            "standoff": 15
           },
           "zerolinecolor": "white",
           "zerolinewidth": 2
          },
          "yaxis": {
           "automargin": true,
           "gridcolor": "white",
           "linecolor": "white",
           "ticks": "",
           "title": {
            "standoff": 15
           },
           "zerolinecolor": "white",
           "zerolinewidth": 2
          }
         }
        },
        "title": {
         "text": "Distribución de Empleados por Tipo de Documento de Identidad",
         "x": 0.5
        }
       }
      }
     },
     "metadata": {},
     "output_type": "display_data"
    },
    {
     "name": "stdout",
     "output_type": "stream",
     "text": [
      "✅ Gráfico 'Distribución de Empleados por Tipo de Documento de Identidad' generado y mostrado.\n",
      "✅ Conexión a la base de datos cerrada.\n",
      "\n",
      "--- Fin del Bloque de Generación de Gráficos ---\n"
     ]
    }
   ],
   "source": [
    "# Script para generar gráficos BI con Plotly Express (Distribución de Empleados por Tipo de Documento de Identidad)\n",
    "\n",
    "import pandas as pd\n",
    "import plotly.express as px\n",
    "from db_connection import get_engine, get_connection # Asegúrate de que este módulo esté accesible\n",
    "\n",
    "print(\"\\n--- Bloque 13: Generación de Gráfico BI - Distribución de Empleados por Tipo de Documento de Identidad ---\")\n",
    "\n",
    "conexion = None\n",
    "try:\n",
    "    print(\"Estableciendo conexión a la base de datos para la visualización...\")\n",
    "    engine = get_engine()\n",
    "    conexion = get_connection()\n",
    "    print(\"✅ Conexión a la base de datos establecida.\")\n",
    "\n",
    "    # 1. Cargar la columna 'identity_document_type' de la tabla 'employees'\n",
    "    print(\"\\nCargando columna 'identity_document_type' de la tabla 'employees'...\")\n",
    "    df_employees = pd.read_sql(\"SELECT identity_document_type FROM employees;\", engine)\n",
    "    print(f\"DataFrame de 'employees' cargado. Registros: {len(df_employees)}\")\n",
    "\n",
    "    # 2. Limpiar y preparar los datos\n",
    "    # Rellenar valores nulos o vacíos en 'identity_document_type' con 'Desconocido'\n",
    "    # También limpiar espacios en blanco si los hubiera\n",
    "    df_employees['identity_document_type'] = df_employees['identity_document_type'].astype(str).str.strip().replace('', 'Desconocido').fillna('Desconocido')\n",
    "\n",
    "    # 3. Contar la frecuencia de cada tipo de documento\n",
    "    print(\"\\nContando empleados por tipo de documento de identidad...\")\n",
    "    document_type_counts = df_employees['identity_document_type'].value_counts().reset_index()\n",
    "    document_type_counts.columns = ['Document_Type', 'Employee_Count']\n",
    "\n",
    "    print(\"Conteo de empleados por tipo de documento:\")\n",
    "    print(document_type_counts)\n",
    "\n",
    "    # 4. Generar el gráfico de torta interactivo con Plotly Express\n",
    "    print(\"\\nGenerando gráfico de torta interactivo de 'Distribución de Empleados por Tipo de Documento de Identidad'...\")\n",
    "    fig = px.pie(document_type_counts,\n",
    "                 values='Employee_Count',\n",
    "                 names='Document_Type',\n",
    "                 title='Distribución de Empleados por Tipo de Documento de Identidad',\n",
    "                 color_discrete_sequence=px.colors.qualitative.Pastel, # Una paleta de colores suave y bonita\n",
    "                 hole=0.4 # Crea un gráfico de dona para un mejor impacto visual\n",
    "                )\n",
    "\n",
    "    fig.update_traces(textinfo='percent+label', # Muestra el porcentaje y la etiqueta en las rebanadas\n",
    "                      hovertemplate='<b>%{label}</b><br>Empleados: %{value}<br>Porcentaje: %{percent:.1%}<extra></extra>' # Información detallada al pasar el ratón\n",
    "                     )\n",
    "    fig.update_layout(title_x=0.5, # Centrar el título\n",
    "                      legend_title_text='Tipo de Documento') # Título para la leyenda\n",
    "\n",
    "    # 5. Mostrar el gráfico\n",
    "    fig.show()\n",
    "    print(\"✅ Gráfico 'Distribución de Empleados por Tipo de Documento de Identidad' generado y mostrado.\")\n",
    "\n",
    "except Exception as e:\n",
    "    print(f\"\\n❌❌ Ocurrió un error general: {e}\")\n",
    "    print(\"Asegúrate de que la tabla 'employees' existe y tiene la columna 'identity_document_type'.\")\n",
    "finally:\n",
    "    if conexion and conexion.is_connected():\n",
    "        conexion.close()\n",
    "        print(\"✅ Conexión a la base de datos cerrada.\")\n",
    "\n",
    "print(\"\\n--- Fin del Bloque de Generación de Gráficos ---\")"
   ]
  },
  {
   "cell_type": "code",
   "execution_count": 28,
   "id": "1aa7f587",
   "metadata": {},
   "outputs": [
    {
     "name": "stdout",
     "output_type": "stream",
     "text": [
      "\n",
      "--- Bloque 14: Generación de Gráfico BI - Salario Promedio por Cargo ---\n",
      "Estableciendo conexión a la base de datos para la visualización y posible aplanamiento...\n",
      "✅ Conexión exitosa a la base de datos\n",
      "✅ Conexión y cursor reestablecidos exitosamente.\n",
      "✅ Engine de base de datos obtenido.\n",
      "\n",
      "Cargando columnas 'name' y 'salary' de la tabla 'employee_positions'...\n",
      "DataFrame de 'employee_positions' cargado. Registros: 15\n",
      "\n",
      "Calculando el salario promedio por cargo...\n",
      "Salario promedio por cargo:\n",
      "          Position_Name  Average_Salary\n",
      "8               Gerente       7500000.0\n",
      "5         Desarrollador       4725000.0\n",
      "6         Diseñador Web       2800000.0\n",
      "12   Tesorero principal       2500000.0\n",
      "3   Auxiliar de soporte       2500000.0\n",
      "\n",
      "Generando gráfico de barras interactivo de 'Salario Promedio por Cargo'...\n"
     ]
    },
    {
     "data": {
      "application/vnd.plotly.v1+json": {
       "config": {
        "plotlyServerURL": "https://plot.ly"
       },
       "data": [
        {
         "hovertemplate": "Cargo / Posición=%{x}<br>Salario Promedio=%{marker.color}<extra></extra>",
         "legendgroup": "",
         "marker": {
          "color": {
           "bdata": "AAAAADicXEEAAAAAQgZSQQAAAADAXEVBAAAAANASQ0EAAAAA0BJDQQAAAAAcNkJBAAAAAJD5QUEAAAAAMIxBQQAAAACI4jxBAAAAAFAtOUEAAAAAYOM2QQAAAABg4zZBAAAAAIBPMkEAAAAAAAAAAA==",
           "dtype": "f8"
          },
          "coloraxis": "coloraxis",
          "pattern": {
           "shape": ""
          }
         },
         "name": "",
         "orientation": "v",
         "showlegend": false,
         "textposition": "outside",
         "texttemplate": "%{y:.2s}",
         "type": "bar",
         "x": [
          "Gerente",
          "Desarrollador",
          "Diseñador Web",
          "Tesorero principal",
          "Auxiliar de soporte",
          "Logístico Integral",
          "Contador General",
          "Mecanico",
          "Auxiliar Contable y Administrativa",
          "Asistente Administrativo",
          "Asesor de Ventas para las fabricas",
          "Ventas internas",
          "Secretaria",
          "General"
         ],
         "xaxis": "x",
         "y": {
          "bdata": "AAAAADicXEEAAAAAQgZSQQAAAADAXEVBAAAAANASQ0EAAAAA0BJDQQAAAAAcNkJBAAAAAJD5QUEAAAAAMIxBQQAAAACI4jxBAAAAAFAtOUEAAAAAYOM2QQAAAABg4zZBAAAAAIBPMkEAAAAAAAAAAA==",
          "dtype": "f8"
         },
         "yaxis": "y"
        }
       ],
       "layout": {
        "barmode": "relative",
        "coloraxis": {
         "colorbar": {
          "title": {
           "text": "Salario Promedio"
          }
         },
         "colorscale": [
          [
           0,
           "#0d0887"
          ],
          [
           0.1111111111111111,
           "#46039f"
          ],
          [
           0.2222222222222222,
           "#7201a8"
          ],
          [
           0.3333333333333333,
           "#9c179e"
          ],
          [
           0.4444444444444444,
           "#bd3786"
          ],
          [
           0.5555555555555556,
           "#d8576b"
          ],
          [
           0.6666666666666666,
           "#ed7953"
          ],
          [
           0.7777777777777778,
           "#fb9f3a"
          ],
          [
           0.8888888888888888,
           "#fdca26"
          ],
          [
           1,
           "#f0f921"
          ]
         ]
        },
        "hovermode": "x unified",
        "legend": {
         "tracegroupgap": 0
        },
        "template": {
         "data": {
          "bar": [
           {
            "error_x": {
             "color": "#2a3f5f"
            },
            "error_y": {
             "color": "#2a3f5f"
            },
            "marker": {
             "line": {
              "color": "#E5ECF6",
              "width": 0.5
             },
             "pattern": {
              "fillmode": "overlay",
              "size": 10,
              "solidity": 0.2
             }
            },
            "type": "bar"
           }
          ],
          "barpolar": [
           {
            "marker": {
             "line": {
              "color": "#E5ECF6",
              "width": 0.5
             },
             "pattern": {
              "fillmode": "overlay",
              "size": 10,
              "solidity": 0.2
             }
            },
            "type": "barpolar"
           }
          ],
          "carpet": [
           {
            "aaxis": {
             "endlinecolor": "#2a3f5f",
             "gridcolor": "white",
             "linecolor": "white",
             "minorgridcolor": "white",
             "startlinecolor": "#2a3f5f"
            },
            "baxis": {
             "endlinecolor": "#2a3f5f",
             "gridcolor": "white",
             "linecolor": "white",
             "minorgridcolor": "white",
             "startlinecolor": "#2a3f5f"
            },
            "type": "carpet"
           }
          ],
          "choropleth": [
           {
            "colorbar": {
             "outlinewidth": 0,
             "ticks": ""
            },
            "type": "choropleth"
           }
          ],
          "contour": [
           {
            "colorbar": {
             "outlinewidth": 0,
             "ticks": ""
            },
            "colorscale": [
             [
              0,
              "#0d0887"
             ],
             [
              0.1111111111111111,
              "#46039f"
             ],
             [
              0.2222222222222222,
              "#7201a8"
             ],
             [
              0.3333333333333333,
              "#9c179e"
             ],
             [
              0.4444444444444444,
              "#bd3786"
             ],
             [
              0.5555555555555556,
              "#d8576b"
             ],
             [
              0.6666666666666666,
              "#ed7953"
             ],
             [
              0.7777777777777778,
              "#fb9f3a"
             ],
             [
              0.8888888888888888,
              "#fdca26"
             ],
             [
              1,
              "#f0f921"
             ]
            ],
            "type": "contour"
           }
          ],
          "contourcarpet": [
           {
            "colorbar": {
             "outlinewidth": 0,
             "ticks": ""
            },
            "type": "contourcarpet"
           }
          ],
          "heatmap": [
           {
            "colorbar": {
             "outlinewidth": 0,
             "ticks": ""
            },
            "colorscale": [
             [
              0,
              "#0d0887"
             ],
             [
              0.1111111111111111,
              "#46039f"
             ],
             [
              0.2222222222222222,
              "#7201a8"
             ],
             [
              0.3333333333333333,
              "#9c179e"
             ],
             [
              0.4444444444444444,
              "#bd3786"
             ],
             [
              0.5555555555555556,
              "#d8576b"
             ],
             [
              0.6666666666666666,
              "#ed7953"
             ],
             [
              0.7777777777777778,
              "#fb9f3a"
             ],
             [
              0.8888888888888888,
              "#fdca26"
             ],
             [
              1,
              "#f0f921"
             ]
            ],
            "type": "heatmap"
           }
          ],
          "histogram": [
           {
            "marker": {
             "pattern": {
              "fillmode": "overlay",
              "size": 10,
              "solidity": 0.2
             }
            },
            "type": "histogram"
           }
          ],
          "histogram2d": [
           {
            "colorbar": {
             "outlinewidth": 0,
             "ticks": ""
            },
            "colorscale": [
             [
              0,
              "#0d0887"
             ],
             [
              0.1111111111111111,
              "#46039f"
             ],
             [
              0.2222222222222222,
              "#7201a8"
             ],
             [
              0.3333333333333333,
              "#9c179e"
             ],
             [
              0.4444444444444444,
              "#bd3786"
             ],
             [
              0.5555555555555556,
              "#d8576b"
             ],
             [
              0.6666666666666666,
              "#ed7953"
             ],
             [
              0.7777777777777778,
              "#fb9f3a"
             ],
             [
              0.8888888888888888,
              "#fdca26"
             ],
             [
              1,
              "#f0f921"
             ]
            ],
            "type": "histogram2d"
           }
          ],
          "histogram2dcontour": [
           {
            "colorbar": {
             "outlinewidth": 0,
             "ticks": ""
            },
            "colorscale": [
             [
              0,
              "#0d0887"
             ],
             [
              0.1111111111111111,
              "#46039f"
             ],
             [
              0.2222222222222222,
              "#7201a8"
             ],
             [
              0.3333333333333333,
              "#9c179e"
             ],
             [
              0.4444444444444444,
              "#bd3786"
             ],
             [
              0.5555555555555556,
              "#d8576b"
             ],
             [
              0.6666666666666666,
              "#ed7953"
             ],
             [
              0.7777777777777778,
              "#fb9f3a"
             ],
             [
              0.8888888888888888,
              "#fdca26"
             ],
             [
              1,
              "#f0f921"
             ]
            ],
            "type": "histogram2dcontour"
           }
          ],
          "mesh3d": [
           {
            "colorbar": {
             "outlinewidth": 0,
             "ticks": ""
            },
            "type": "mesh3d"
           }
          ],
          "parcoords": [
           {
            "line": {
             "colorbar": {
              "outlinewidth": 0,
              "ticks": ""
             }
            },
            "type": "parcoords"
           }
          ],
          "pie": [
           {
            "automargin": true,
            "type": "pie"
           }
          ],
          "scatter": [
           {
            "fillpattern": {
             "fillmode": "overlay",
             "size": 10,
             "solidity": 0.2
            },
            "type": "scatter"
           }
          ],
          "scatter3d": [
           {
            "line": {
             "colorbar": {
              "outlinewidth": 0,
              "ticks": ""
             }
            },
            "marker": {
             "colorbar": {
              "outlinewidth": 0,
              "ticks": ""
             }
            },
            "type": "scatter3d"
           }
          ],
          "scattercarpet": [
           {
            "marker": {
             "colorbar": {
              "outlinewidth": 0,
              "ticks": ""
             }
            },
            "type": "scattercarpet"
           }
          ],
          "scattergeo": [
           {
            "marker": {
             "colorbar": {
              "outlinewidth": 0,
              "ticks": ""
             }
            },
            "type": "scattergeo"
           }
          ],
          "scattergl": [
           {
            "marker": {
             "colorbar": {
              "outlinewidth": 0,
              "ticks": ""
             }
            },
            "type": "scattergl"
           }
          ],
          "scattermap": [
           {
            "marker": {
             "colorbar": {
              "outlinewidth": 0,
              "ticks": ""
             }
            },
            "type": "scattermap"
           }
          ],
          "scattermapbox": [
           {
            "marker": {
             "colorbar": {
              "outlinewidth": 0,
              "ticks": ""
             }
            },
            "type": "scattermapbox"
           }
          ],
          "scatterpolar": [
           {
            "marker": {
             "colorbar": {
              "outlinewidth": 0,
              "ticks": ""
             }
            },
            "type": "scatterpolar"
           }
          ],
          "scatterpolargl": [
           {
            "marker": {
             "colorbar": {
              "outlinewidth": 0,
              "ticks": ""
             }
            },
            "type": "scatterpolargl"
           }
          ],
          "scatterternary": [
           {
            "marker": {
             "colorbar": {
              "outlinewidth": 0,
              "ticks": ""
             }
            },
            "type": "scatterternary"
           }
          ],
          "surface": [
           {
            "colorbar": {
             "outlinewidth": 0,
             "ticks": ""
            },
            "colorscale": [
             [
              0,
              "#0d0887"
             ],
             [
              0.1111111111111111,
              "#46039f"
             ],
             [
              0.2222222222222222,
              "#7201a8"
             ],
             [
              0.3333333333333333,
              "#9c179e"
             ],
             [
              0.4444444444444444,
              "#bd3786"
             ],
             [
              0.5555555555555556,
              "#d8576b"
             ],
             [
              0.6666666666666666,
              "#ed7953"
             ],
             [
              0.7777777777777778,
              "#fb9f3a"
             ],
             [
              0.8888888888888888,
              "#fdca26"
             ],
             [
              1,
              "#f0f921"
             ]
            ],
            "type": "surface"
           }
          ],
          "table": [
           {
            "cells": {
             "fill": {
              "color": "#EBF0F8"
             },
             "line": {
              "color": "white"
             }
            },
            "header": {
             "fill": {
              "color": "#C8D4E3"
             },
             "line": {
              "color": "white"
             }
            },
            "type": "table"
           }
          ]
         },
         "layout": {
          "annotationdefaults": {
           "arrowcolor": "#2a3f5f",
           "arrowhead": 0,
           "arrowwidth": 1
          },
          "autotypenumbers": "strict",
          "coloraxis": {
           "colorbar": {
            "outlinewidth": 0,
            "ticks": ""
           }
          },
          "colorscale": {
           "diverging": [
            [
             0,
             "#8e0152"
            ],
            [
             0.1,
             "#c51b7d"
            ],
            [
             0.2,
             "#de77ae"
            ],
            [
             0.3,
             "#f1b6da"
            ],
            [
             0.4,
             "#fde0ef"
            ],
            [
             0.5,
             "#f7f7f7"
            ],
            [
             0.6,
             "#e6f5d0"
            ],
            [
             0.7,
             "#b8e186"
            ],
            [
             0.8,
             "#7fbc41"
            ],
            [
             0.9,
             "#4d9221"
            ],
            [
             1,
             "#276419"
            ]
           ],
           "sequential": [
            [
             0,
             "#0d0887"
            ],
            [
             0.1111111111111111,
             "#46039f"
            ],
            [
             0.2222222222222222,
             "#7201a8"
            ],
            [
             0.3333333333333333,
             "#9c179e"
            ],
            [
             0.4444444444444444,
             "#bd3786"
            ],
            [
             0.5555555555555556,
             "#d8576b"
            ],
            [
             0.6666666666666666,
             "#ed7953"
            ],
            [
             0.7777777777777778,
             "#fb9f3a"
            ],
            [
             0.8888888888888888,
             "#fdca26"
            ],
            [
             1,
             "#f0f921"
            ]
           ],
           "sequentialminus": [
            [
             0,
             "#0d0887"
            ],
            [
             0.1111111111111111,
             "#46039f"
            ],
            [
             0.2222222222222222,
             "#7201a8"
            ],
            [
             0.3333333333333333,
             "#9c179e"
            ],
            [
             0.4444444444444444,
             "#bd3786"
            ],
            [
             0.5555555555555556,
             "#d8576b"
            ],
            [
             0.6666666666666666,
             "#ed7953"
            ],
            [
             0.7777777777777778,
             "#fb9f3a"
            ],
            [
             0.8888888888888888,
             "#fdca26"
            ],
            [
             1,
             "#f0f921"
            ]
           ]
          },
          "colorway": [
           "#636efa",
           "#EF553B",
           "#00cc96",
           "#ab63fa",
           "#FFA15A",
           "#19d3f3",
           "#FF6692",
           "#B6E880",
           "#FF97FF",
           "#FECB52"
          ],
          "font": {
           "color": "#2a3f5f"
          },
          "geo": {
           "bgcolor": "white",
           "lakecolor": "white",
           "landcolor": "#E5ECF6",
           "showlakes": true,
           "showland": true,
           "subunitcolor": "white"
          },
          "hoverlabel": {
           "align": "left"
          },
          "hovermode": "closest",
          "mapbox": {
           "style": "light"
          },
          "paper_bgcolor": "white",
          "plot_bgcolor": "#E5ECF6",
          "polar": {
           "angularaxis": {
            "gridcolor": "white",
            "linecolor": "white",
            "ticks": ""
           },
           "bgcolor": "#E5ECF6",
           "radialaxis": {
            "gridcolor": "white",
            "linecolor": "white",
            "ticks": ""
           }
          },
          "scene": {
           "xaxis": {
            "backgroundcolor": "#E5ECF6",
            "gridcolor": "white",
            "gridwidth": 2,
            "linecolor": "white",
            "showbackground": true,
            "ticks": "",
            "zerolinecolor": "white"
           },
           "yaxis": {
            "backgroundcolor": "#E5ECF6",
            "gridcolor": "white",
            "gridwidth": 2,
            "linecolor": "white",
            "showbackground": true,
            "ticks": "",
            "zerolinecolor": "white"
           },
           "zaxis": {
            "backgroundcolor": "#E5ECF6",
            "gridcolor": "white",
            "gridwidth": 2,
            "linecolor": "white",
            "showbackground": true,
            "ticks": "",
            "zerolinecolor": "white"
           }
          },
          "shapedefaults": {
           "line": {
            "color": "#2a3f5f"
           }
          },
          "ternary": {
           "aaxis": {
            "gridcolor": "white",
            "linecolor": "white",
            "ticks": ""
           },
           "baxis": {
            "gridcolor": "white",
            "linecolor": "white",
            "ticks": ""
           },
           "bgcolor": "#E5ECF6",
           "caxis": {
            "gridcolor": "white",
            "linecolor": "white",
            "ticks": ""
           }
          },
          "title": {
           "x": 0.05
          },
          "xaxis": {
           "automargin": true,
           "gridcolor": "white",
           "linecolor": "white",
           "ticks": "",
           "title": {
            "standoff": 15
           },
           "zerolinecolor": "white",
           "zerolinewidth": 2
          },
          "yaxis": {
           "automargin": true,
           "gridcolor": "white",
           "linecolor": "white",
           "ticks": "",
           "title": {
            "standoff": 15
           },
           "zerolinecolor": "white",
           "zerolinewidth": 2
          }
         }
        },
        "title": {
         "text": "Salario Promedio por Cargo",
         "x": 0.5
        },
        "xaxis": {
         "anchor": "y",
         "domain": [
          0,
          1
         ],
         "title": {
          "text": "Cargo / Posición"
         }
        },
        "yaxis": {
         "anchor": "x",
         "domain": [
          0,
          1
         ],
         "title": {
          "text": "Salario Promedio"
         }
        }
       }
      }
     },
     "metadata": {},
     "output_type": "display_data"
    },
    {
     "name": "stdout",
     "output_type": "stream",
     "text": [
      "✅ Gráfico 'Salario Promedio por Cargo' generado y mostrado.\n",
      "✅ Conexión a la base de datos cerrada.\n",
      "\n",
      "--- Fin del Bloque de Generación de Gráficos ---\n"
     ]
    }
   ],
   "source": [
    "# Script para generar gráficos BI con Plotly Express (Salario Promedio por Cargo)\n",
    "\n",
    "import pandas as pd\n",
    "import json # Necesario para aplanar JSON si 'name' aún lo fuera\n",
    "import plotly.express as px\n",
    "from db_connection import get_engine, get_connection # Asegúrate de que este módulo esté accesible\n",
    "\n",
    "print(\"\\n--- Bloque 14: Generación de Gráfico BI - Salario Promedio por Cargo ---\")\n",
    "\n",
    "conexion = None\n",
    "cursor = None\n",
    "try:\n",
    "    print(\"Estableciendo conexión a la base de datos para la visualización y posible aplanamiento...\")\n",
    "    conexion = get_connection()\n",
    "    cursor = conexion.cursor()\n",
    "    engine = get_engine()\n",
    "    print(\"✅ Conexión y cursor reestablecidos exitosamente.\")\n",
    "    print(\"✅ Engine de base de datos obtenido.\")\n",
    "\n",
    "    # --- PASO OPCIONAL/CRÍTICO: Si 'name' en 'employee_positions' ES JSON, modificamos su tipo ---\n",
    "    # Revisamos la descripción de 'employee_positions' que me diste al principio:\n",
    "    # name: varchar(255) (Nombre de la posición)\n",
    "    # Según esto, 'name' ya es VARCHAR, así que no deberíamos necesitar ALTER TABLE ni aplanamiento JSON.\n",
    "    # Si por alguna razón la columna 'name' hubiera sido JSON, se necesitaría este bloque:\n",
    "    # print(\"\\nVerificando y modificando columna 'name' en 'employee_positions' si es JSON...\")\n",
    "    # try:\n",
    "    #     cursor.execute(\"SET FOREIGN_KEY_CHECKS = 0;\")\n",
    "    #     alter_table_sql = \"ALTER TABLE employee_positions MODIFY COLUMN name VARCHAR(255) NULL;\"\n",
    "    #     cursor.execute(alter_table_sql)\n",
    "    #     conexion.commit()\n",
    "    #     print(\"✅ Columna 'name' modificada a VARCHAR(255) NULL exitosamente (si era JSON).\")\n",
    "    # except Exception as e:\n",
    "    #     conexion.rollback()\n",
    "    #     print(f\"⚠️ Advertencia: No se pudo modificar la columna 'name' (ya es VARCHAR o error): {e}\")\n",
    "    # finally:\n",
    "    #     cursor.execute(\"SET FOREIGN_KEY_CHECKS = 1;\")\n",
    "\n",
    "    # 1. Cargar las columnas 'name' y 'salary' de la tabla 'employee_positions'\n",
    "    print(\"\\nCargando columnas 'name' y 'salary' de la tabla 'employee_positions'...\")\n",
    "    df_positions = pd.read_sql(\"SELECT name, salary FROM employee_positions;\", engine)\n",
    "    print(f\"DataFrame de 'employee_positions' cargado. Registros: {len(df_positions)}\")\n",
    "\n",
    "    # 2. Limpiar y preparar los datos\n",
    "    # Rellenar nombres de cargo nulos con 'Cargo Desconocido'\n",
    "    df_positions['name'] = df_positions['name'].fillna('Cargo Desconocido').astype(str).str.strip()\n",
    "\n",
    "    # Eliminar filas con salarios nulos o no válidos para el cálculo del promedio\n",
    "    df_positions.dropna(subset=['salary'], inplace=True)\n",
    "\n",
    "    if df_positions.empty:\n",
    "        print(\"❌ No hay datos válidos (salarios o nombres de cargo) para generar el gráfico.\")\n",
    "        raise ValueError(\"No hay datos suficientes para graficar.\")\n",
    "\n",
    "    # 3. Calcular el salario promedio por cada cargo\n",
    "    print(\"\\nCalculando el salario promedio por cargo...\")\n",
    "    avg_salary_by_position = df_positions.groupby('name')['salary'].mean().reset_index()\n",
    "    avg_salary_by_position.columns = ['Position_Name', 'Average_Salary']\n",
    "\n",
    "    # Redondear el salario promedio para mejor visualización\n",
    "    avg_salary_by_position['Average_Salary'] = avg_salary_by_position['Average_Salary'].round(2)\n",
    "\n",
    "    # Opcional: Ordenar los cargos por salario promedio para una mejor lectura\n",
    "    avg_salary_by_position = avg_salary_by_position.sort_values('Average_Salary', ascending=False)\n",
    "\n",
    "    print(\"Salario promedio por cargo:\")\n",
    "    print(avg_salary_by_position.head())\n",
    "\n",
    "    # 4. Generar el gráfico de barras interactivo con Plotly Express\n",
    "    print(\"\\nGenerando gráfico de barras interactivo de 'Salario Promedio por Cargo'...\")\n",
    "    fig = px.bar(avg_salary_by_position,\n",
    "                 x='Position_Name',\n",
    "                 y='Average_Salary',\n",
    "                 title='Salario Promedio por Cargo',\n",
    "                 labels={\n",
    "                     'Position_Name': 'Cargo / Posición',\n",
    "                     'Average_Salary': 'Salario Promedio'\n",
    "                 },\n",
    "                 text_auto='.2s', # Muestra el valor del salario promedio en las barras\n",
    "                 color='Average_Salary', # Colorea las barras según el salario promedio\n",
    "                 color_continuous_scale=px.colors.sequential.Plasma # Puedes probar otras como 'Viridis', 'Inferno', 'Cividis'\n",
    "                )\n",
    "\n",
    "    fig.update_traces(textposition='outside') # Coloca el texto fuera de las barras para evitar que se solape\n",
    "    fig.update_layout(xaxis_title=\"Cargo / Posición\",\n",
    "                      yaxis_title=\"Salario Promedio\",\n",
    "                      title_x=0.5, # Centrar el título\n",
    "                      hovermode=\"x unified\"\n",
    "                     )\n",
    "\n",
    "    # 5. Mostrar el gráfico\n",
    "    fig.show()\n",
    "    print(\"✅ Gráfico 'Salario Promedio por Cargo' generado y mostrado.\")\n",
    "\n",
    "except ValueError as ve:\n",
    "    print(f\"\\n❌❌ Error de datos para graficar: {ve}\")\n",
    "except Exception as e:\n",
    "    print(f\"\\n❌❌ Ocurrió un error general: {e}\")\n",
    "    print(\"Asegúrate de que la tabla 'employee_positions' existe y tiene las columnas 'name' y 'salary'.\")\n",
    "    print(\"Verifica también que 'salary' contenga valores numéricos válidos.\")\n",
    "finally:\n",
    "    if cursor is not None:\n",
    "        try:\n",
    "            # Asegurarse de que las FKs se re-habilitan si se deshabilitaron (aunque aquí no se espera)\n",
    "            cursor.execute(\"SET FOREIGN_KEY_CHECKS = 1;\")\n",
    "        except Exception as e:\n",
    "            pass # Ignorar si no se pudo re-habilitar (ya estaban habilitadas)\n",
    "    if conexion and conexion.is_connected():\n",
    "        conexion.close()\n",
    "        print(\"✅ Conexión a la base de datos cerrada.\")\n",
    "\n",
    "print(\"\\n--- Fin del Bloque de Generación de Gráficos ---\")"
   ]
  },
  {
   "cell_type": "code",
   "execution_count": 29,
   "id": "8c2b1792",
   "metadata": {},
   "outputs": [
    {
     "name": "stdout",
     "output_type": "stream",
     "text": [
      "\n",
      "--- Bloque 15: Generación de Gráfico BI - Conteo de Empleados por Posición ---\n",
      "Estableciendo conexión a la base de datos para la visualización...\n",
      "✅ Conexión exitosa a la base de datos\n",
      "✅ Conexión a la base de datos establecida.\n",
      "\n",
      "Cargando datos de 'employees' y 'employee_positions' y uniendo por el ID de posición...\n",
      "DataFrame combinado cargado. Registros: 38\n",
      "\n",
      "Contando el número de empleados por cada posición...\n",
      "Conteo de empleados por posición:\n",
      "              Position_Name  Employee_Count\n",
      "0             Desarrollador               8\n",
      "1                   General               7\n",
      "2  Asistente Administrativo               7\n",
      "3             Diseñador Web               4\n",
      "4                   Gerente               3\n",
      "\n",
      "Generando gráfico de barras interactivo de 'Conteo de Empleados por Posición'...\n"
     ]
    },
    {
     "data": {
      "application/vnd.plotly.v1+json": {
       "config": {
        "plotlyServerURL": "https://plot.ly"
       },
       "data": [
        {
         "hovertemplate": "Posición / Cargo=%{x}<br>Número de Empleados=%{marker.color}<extra></extra>",
         "legendgroup": "",
         "marker": {
          "color": {
           "bdata": "CAcHBAMCAgEBAQEB",
           "dtype": "i1"
          },
          "coloraxis": "coloraxis",
          "pattern": {
           "shape": ""
          }
         },
         "name": "",
         "orientation": "v",
         "showlegend": false,
         "text": {
          "bdata": "AAAAAAAAIEAAAAAAAAAcQAAAAAAAABxAAAAAAAAAEEAAAAAAAAAIQAAAAAAAAABAAAAAAAAAAEAAAAAAAADwPwAAAAAAAPA/AAAAAAAA8D8AAAAAAADwPwAAAAAAAPA/",
          "dtype": "f8"
         },
         "textposition": "outside",
         "texttemplate": "%{text}",
         "type": "bar",
         "x": [
          "Desarrollador",
          "General",
          "Asistente Administrativo",
          "Diseñador Web",
          "Gerente",
          "Contador General",
          "Auxiliar de soporte",
          "Tesorero principal",
          "Logístico Integral",
          "Ventas internas",
          "Asesor de Ventas para las fabricas",
          "Auxiliar Contable y Administrativa"
         ],
         "xaxis": "x",
         "y": {
          "bdata": "CAcHBAMCAgEBAQEB",
          "dtype": "i1"
         },
         "yaxis": "y"
        }
       ],
       "layout": {
        "barmode": "relative",
        "coloraxis": {
         "colorbar": {
          "title": {
           "text": "Número de Empleados"
          }
         },
         "colorscale": [
          [
           0,
           "rgb(247, 254, 174)"
          ],
          [
           0.16666666666666666,
           "rgb(183, 230, 165)"
          ],
          [
           0.3333333333333333,
           "rgb(124, 203, 162)"
          ],
          [
           0.5,
           "rgb(70, 174, 160)"
          ],
          [
           0.6666666666666666,
           "rgb(8, 144, 153)"
          ],
          [
           0.8333333333333334,
           "rgb(0, 113, 139)"
          ],
          [
           1,
           "rgb(4, 82, 117)"
          ]
         ]
        },
        "hovermode": "x unified",
        "legend": {
         "tracegroupgap": 0
        },
        "template": {
         "data": {
          "bar": [
           {
            "error_x": {
             "color": "#2a3f5f"
            },
            "error_y": {
             "color": "#2a3f5f"
            },
            "marker": {
             "line": {
              "color": "#E5ECF6",
              "width": 0.5
             },
             "pattern": {
              "fillmode": "overlay",
              "size": 10,
              "solidity": 0.2
             }
            },
            "type": "bar"
           }
          ],
          "barpolar": [
           {
            "marker": {
             "line": {
              "color": "#E5ECF6",
              "width": 0.5
             },
             "pattern": {
              "fillmode": "overlay",
              "size": 10,
              "solidity": 0.2
             }
            },
            "type": "barpolar"
           }
          ],
          "carpet": [
           {
            "aaxis": {
             "endlinecolor": "#2a3f5f",
             "gridcolor": "white",
             "linecolor": "white",
             "minorgridcolor": "white",
             "startlinecolor": "#2a3f5f"
            },
            "baxis": {
             "endlinecolor": "#2a3f5f",
             "gridcolor": "white",
             "linecolor": "white",
             "minorgridcolor": "white",
             "startlinecolor": "#2a3f5f"
            },
            "type": "carpet"
           }
          ],
          "choropleth": [
           {
            "colorbar": {
             "outlinewidth": 0,
             "ticks": ""
            },
            "type": "choropleth"
           }
          ],
          "contour": [
           {
            "colorbar": {
             "outlinewidth": 0,
             "ticks": ""
            },
            "colorscale": [
             [
              0,
              "#0d0887"
             ],
             [
              0.1111111111111111,
              "#46039f"
             ],
             [
              0.2222222222222222,
              "#7201a8"
             ],
             [
              0.3333333333333333,
              "#9c179e"
             ],
             [
              0.4444444444444444,
              "#bd3786"
             ],
             [
              0.5555555555555556,
              "#d8576b"
             ],
             [
              0.6666666666666666,
              "#ed7953"
             ],
             [
              0.7777777777777778,
              "#fb9f3a"
             ],
             [
              0.8888888888888888,
              "#fdca26"
             ],
             [
              1,
              "#f0f921"
             ]
            ],
            "type": "contour"
           }
          ],
          "contourcarpet": [
           {
            "colorbar": {
             "outlinewidth": 0,
             "ticks": ""
            },
            "type": "contourcarpet"
           }
          ],
          "heatmap": [
           {
            "colorbar": {
             "outlinewidth": 0,
             "ticks": ""
            },
            "colorscale": [
             [
              0,
              "#0d0887"
             ],
             [
              0.1111111111111111,
              "#46039f"
             ],
             [
              0.2222222222222222,
              "#7201a8"
             ],
             [
              0.3333333333333333,
              "#9c179e"
             ],
             [
              0.4444444444444444,
              "#bd3786"
             ],
             [
              0.5555555555555556,
              "#d8576b"
             ],
             [
              0.6666666666666666,
              "#ed7953"
             ],
             [
              0.7777777777777778,
              "#fb9f3a"
             ],
             [
              0.8888888888888888,
              "#fdca26"
             ],
             [
              1,
              "#f0f921"
             ]
            ],
            "type": "heatmap"
           }
          ],
          "histogram": [
           {
            "marker": {
             "pattern": {
              "fillmode": "overlay",
              "size": 10,
              "solidity": 0.2
             }
            },
            "type": "histogram"
           }
          ],
          "histogram2d": [
           {
            "colorbar": {
             "outlinewidth": 0,
             "ticks": ""
            },
            "colorscale": [
             [
              0,
              "#0d0887"
             ],
             [
              0.1111111111111111,
              "#46039f"
             ],
             [
              0.2222222222222222,
              "#7201a8"
             ],
             [
              0.3333333333333333,
              "#9c179e"
             ],
             [
              0.4444444444444444,
              "#bd3786"
             ],
             [
              0.5555555555555556,
              "#d8576b"
             ],
             [
              0.6666666666666666,
              "#ed7953"
             ],
             [
              0.7777777777777778,
              "#fb9f3a"
             ],
             [
              0.8888888888888888,
              "#fdca26"
             ],
             [
              1,
              "#f0f921"
             ]
            ],
            "type": "histogram2d"
           }
          ],
          "histogram2dcontour": [
           {
            "colorbar": {
             "outlinewidth": 0,
             "ticks": ""
            },
            "colorscale": [
             [
              0,
              "#0d0887"
             ],
             [
              0.1111111111111111,
              "#46039f"
             ],
             [
              0.2222222222222222,
              "#7201a8"
             ],
             [
              0.3333333333333333,
              "#9c179e"
             ],
             [
              0.4444444444444444,
              "#bd3786"
             ],
             [
              0.5555555555555556,
              "#d8576b"
             ],
             [
              0.6666666666666666,
              "#ed7953"
             ],
             [
              0.7777777777777778,
              "#fb9f3a"
             ],
             [
              0.8888888888888888,
              "#fdca26"
             ],
             [
              1,
              "#f0f921"
             ]
            ],
            "type": "histogram2dcontour"
           }
          ],
          "mesh3d": [
           {
            "colorbar": {
             "outlinewidth": 0,
             "ticks": ""
            },
            "type": "mesh3d"
           }
          ],
          "parcoords": [
           {
            "line": {
             "colorbar": {
              "outlinewidth": 0,
              "ticks": ""
             }
            },
            "type": "parcoords"
           }
          ],
          "pie": [
           {
            "automargin": true,
            "type": "pie"
           }
          ],
          "scatter": [
           {
            "fillpattern": {
             "fillmode": "overlay",
             "size": 10,
             "solidity": 0.2
            },
            "type": "scatter"
           }
          ],
          "scatter3d": [
           {
            "line": {
             "colorbar": {
              "outlinewidth": 0,
              "ticks": ""
             }
            },
            "marker": {
             "colorbar": {
              "outlinewidth": 0,
              "ticks": ""
             }
            },
            "type": "scatter3d"
           }
          ],
          "scattercarpet": [
           {
            "marker": {
             "colorbar": {
              "outlinewidth": 0,
              "ticks": ""
             }
            },
            "type": "scattercarpet"
           }
          ],
          "scattergeo": [
           {
            "marker": {
             "colorbar": {
              "outlinewidth": 0,
              "ticks": ""
             }
            },
            "type": "scattergeo"
           }
          ],
          "scattergl": [
           {
            "marker": {
             "colorbar": {
              "outlinewidth": 0,
              "ticks": ""
             }
            },
            "type": "scattergl"
           }
          ],
          "scattermap": [
           {
            "marker": {
             "colorbar": {
              "outlinewidth": 0,
              "ticks": ""
             }
            },
            "type": "scattermap"
           }
          ],
          "scattermapbox": [
           {
            "marker": {
             "colorbar": {
              "outlinewidth": 0,
              "ticks": ""
             }
            },
            "type": "scattermapbox"
           }
          ],
          "scatterpolar": [
           {
            "marker": {
             "colorbar": {
              "outlinewidth": 0,
              "ticks": ""
             }
            },
            "type": "scatterpolar"
           }
          ],
          "scatterpolargl": [
           {
            "marker": {
             "colorbar": {
              "outlinewidth": 0,
              "ticks": ""
             }
            },
            "type": "scatterpolargl"
           }
          ],
          "scatterternary": [
           {
            "marker": {
             "colorbar": {
              "outlinewidth": 0,
              "ticks": ""
             }
            },
            "type": "scatterternary"
           }
          ],
          "surface": [
           {
            "colorbar": {
             "outlinewidth": 0,
             "ticks": ""
            },
            "colorscale": [
             [
              0,
              "#0d0887"
             ],
             [
              0.1111111111111111,
              "#46039f"
             ],
             [
              0.2222222222222222,
              "#7201a8"
             ],
             [
              0.3333333333333333,
              "#9c179e"
             ],
             [
              0.4444444444444444,
              "#bd3786"
             ],
             [
              0.5555555555555556,
              "#d8576b"
             ],
             [
              0.6666666666666666,
              "#ed7953"
             ],
             [
              0.7777777777777778,
              "#fb9f3a"
             ],
             [
              0.8888888888888888,
              "#fdca26"
             ],
             [
              1,
              "#f0f921"
             ]
            ],
            "type": "surface"
           }
          ],
          "table": [
           {
            "cells": {
             "fill": {
              "color": "#EBF0F8"
             },
             "line": {
              "color": "white"
             }
            },
            "header": {
             "fill": {
              "color": "#C8D4E3"
             },
             "line": {
              "color": "white"
             }
            },
            "type": "table"
           }
          ]
         },
         "layout": {
          "annotationdefaults": {
           "arrowcolor": "#2a3f5f",
           "arrowhead": 0,
           "arrowwidth": 1
          },
          "autotypenumbers": "strict",
          "coloraxis": {
           "colorbar": {
            "outlinewidth": 0,
            "ticks": ""
           }
          },
          "colorscale": {
           "diverging": [
            [
             0,
             "#8e0152"
            ],
            [
             0.1,
             "#c51b7d"
            ],
            [
             0.2,
             "#de77ae"
            ],
            [
             0.3,
             "#f1b6da"
            ],
            [
             0.4,
             "#fde0ef"
            ],
            [
             0.5,
             "#f7f7f7"
            ],
            [
             0.6,
             "#e6f5d0"
            ],
            [
             0.7,
             "#b8e186"
            ],
            [
             0.8,
             "#7fbc41"
            ],
            [
             0.9,
             "#4d9221"
            ],
            [
             1,
             "#276419"
            ]
           ],
           "sequential": [
            [
             0,
             "#0d0887"
            ],
            [
             0.1111111111111111,
             "#46039f"
            ],
            [
             0.2222222222222222,
             "#7201a8"
            ],
            [
             0.3333333333333333,
             "#9c179e"
            ],
            [
             0.4444444444444444,
             "#bd3786"
            ],
            [
             0.5555555555555556,
             "#d8576b"
            ],
            [
             0.6666666666666666,
             "#ed7953"
            ],
            [
             0.7777777777777778,
             "#fb9f3a"
            ],
            [
             0.8888888888888888,
             "#fdca26"
            ],
            [
             1,
             "#f0f921"
            ]
           ],
           "sequentialminus": [
            [
             0,
             "#0d0887"
            ],
            [
             0.1111111111111111,
             "#46039f"
            ],
            [
             0.2222222222222222,
             "#7201a8"
            ],
            [
             0.3333333333333333,
             "#9c179e"
            ],
            [
             0.4444444444444444,
             "#bd3786"
            ],
            [
             0.5555555555555556,
             "#d8576b"
            ],
            [
             0.6666666666666666,
             "#ed7953"
            ],
            [
             0.7777777777777778,
             "#fb9f3a"
            ],
            [
             0.8888888888888888,
             "#fdca26"
            ],
            [
             1,
             "#f0f921"
            ]
           ]
          },
          "colorway": [
           "#636efa",
           "#EF553B",
           "#00cc96",
           "#ab63fa",
           "#FFA15A",
           "#19d3f3",
           "#FF6692",
           "#B6E880",
           "#FF97FF",
           "#FECB52"
          ],
          "font": {
           "color": "#2a3f5f"
          },
          "geo": {
           "bgcolor": "white",
           "lakecolor": "white",
           "landcolor": "#E5ECF6",
           "showlakes": true,
           "showland": true,
           "subunitcolor": "white"
          },
          "hoverlabel": {
           "align": "left"
          },
          "hovermode": "closest",
          "mapbox": {
           "style": "light"
          },
          "paper_bgcolor": "white",
          "plot_bgcolor": "#E5ECF6",
          "polar": {
           "angularaxis": {
            "gridcolor": "white",
            "linecolor": "white",
            "ticks": ""
           },
           "bgcolor": "#E5ECF6",
           "radialaxis": {
            "gridcolor": "white",
            "linecolor": "white",
            "ticks": ""
           }
          },
          "scene": {
           "xaxis": {
            "backgroundcolor": "#E5ECF6",
            "gridcolor": "white",
            "gridwidth": 2,
            "linecolor": "white",
            "showbackground": true,
            "ticks": "",
            "zerolinecolor": "white"
           },
           "yaxis": {
            "backgroundcolor": "#E5ECF6",
            "gridcolor": "white",
            "gridwidth": 2,
            "linecolor": "white",
            "showbackground": true,
            "ticks": "",
            "zerolinecolor": "white"
           },
           "zaxis": {
            "backgroundcolor": "#E5ECF6",
            "gridcolor": "white",
            "gridwidth": 2,
            "linecolor": "white",
            "showbackground": true,
            "ticks": "",
            "zerolinecolor": "white"
           }
          },
          "shapedefaults": {
           "line": {
            "color": "#2a3f5f"
           }
          },
          "ternary": {
           "aaxis": {
            "gridcolor": "white",
            "linecolor": "white",
            "ticks": ""
           },
           "baxis": {
            "gridcolor": "white",
            "linecolor": "white",
            "ticks": ""
           },
           "bgcolor": "#E5ECF6",
           "caxis": {
            "gridcolor": "white",
            "linecolor": "white",
            "ticks": ""
           }
          },
          "title": {
           "x": 0.05
          },
          "xaxis": {
           "automargin": true,
           "gridcolor": "white",
           "linecolor": "white",
           "ticks": "",
           "title": {
            "standoff": 15
           },
           "zerolinecolor": "white",
           "zerolinewidth": 2
          },
          "yaxis": {
           "automargin": true,
           "gridcolor": "white",
           "linecolor": "white",
           "ticks": "",
           "title": {
            "standoff": 15
           },
           "zerolinecolor": "white",
           "zerolinewidth": 2
          }
         }
        },
        "title": {
         "text": "Número de Empleados por Posición",
         "x": 0.5
        },
        "xaxis": {
         "anchor": "y",
         "domain": [
          0,
          1
         ],
         "title": {
          "text": "Posición / Cargo"
         }
        },
        "yaxis": {
         "anchor": "x",
         "domain": [
          0,
          1
         ],
         "title": {
          "text": "Número de Empleados"
         }
        }
       }
      }
     },
     "metadata": {},
     "output_type": "display_data"
    },
    {
     "name": "stdout",
     "output_type": "stream",
     "text": [
      "✅ Gráfico 'Número de Empleados por Posición' generado y mostrado.\n",
      "✅ Conexión a la base de datos cerrada.\n",
      "\n",
      "--- Fin del Bloque de Generación de Gráficos ---\n"
     ]
    }
   ],
   "source": [
    "# Script para generar gráficos BI con Plotly Express (Conteo de Empleados por Posición)\n",
    "\n",
    "import pandas as pd\n",
    "import plotly.express as px\n",
    "from db_connection import get_engine, get_connection # Asegúrate de que este módulo esté accesible\n",
    "\n",
    "print(\"\\n--- Bloque 15: Generación de Gráfico BI - Conteo de Empleados por Posición ---\")\n",
    "\n",
    "conexion = None\n",
    "try:\n",
    "    print(\"Estableciendo conexión a la base de datos para la visualización...\")\n",
    "    engine = get_engine()\n",
    "    conexion = get_connection()\n",
    "    print(\"✅ Conexión a la base de datos establecida.\")\n",
    "\n",
    "    # 1. Cargar datos de ambas tablas y unirlas\n",
    "    print(\"\\nCargando datos de 'employees' y 'employee_positions' y uniendo por el ID de posición...\")\n",
    "    query = \"\"\"\n",
    "    SELECT\n",
    "        e.id AS employee_id,\n",
    "        ep.name AS position_name\n",
    "    FROM\n",
    "        employees AS e\n",
    "    JOIN\n",
    "        employee_positions AS ep ON e.employee_position_id = ep.id;\n",
    "    \"\"\"\n",
    "    df_employee_positions = pd.read_sql(query, engine)\n",
    "    print(f\"DataFrame combinado cargado. Registros: {len(df_employee_positions)}\")\n",
    "\n",
    "    # 2. Limpiar y preparar los datos\n",
    "    # Rellenar nombres de posición nulos con 'Posición Desconocida'\n",
    "    df_employee_positions['position_name'] = df_employee_positions['position_name'].fillna('Posición Desconocida').astype(str).str.strip()\n",
    "\n",
    "    # 3. Contar empleados por cada nombre de posición\n",
    "    print(\"\\nContando el número de empleados por cada posición...\")\n",
    "    employees_count_by_position = df_employee_positions['position_name'].value_counts().reset_index()\n",
    "    employees_count_by_position.columns = ['Position_Name', 'Employee_Count']\n",
    "\n",
    "    # Opcional: Ordenar por el número de empleados (descendente)\n",
    "    employees_count_by_position = employees_count_by_position.sort_values('Employee_Count', ascending=False)\n",
    "\n",
    "    print(\"Conteo de empleados por posición:\")\n",
    "    print(employees_count_by_position.head())\n",
    "\n",
    "    # 4. Generar el gráfico de barras interactivo con Plotly Express\n",
    "    print(\"\\nGenerando gráfico de barras interactivo de 'Conteo de Empleados por Posición'...\")\n",
    "    fig = px.bar(employees_count_by_position,\n",
    "                 x='Position_Name',\n",
    "                 y='Employee_Count',\n",
    "                 title='Número de Empleados por Posición',\n",
    "                 labels={\n",
    "                     'Position_Name': 'Posición / Cargo',\n",
    "                     'Employee_Count': 'Número de Empleados'\n",
    "                 },\n",
    "                 text='Employee_Count', # Muestra el número de empleados encima de las barras\n",
    "                 color='Employee_Count', # Colorea las barras según el conteo\n",
    "                 color_continuous_scale=px.colors.sequential.Bluyl # Otra paleta de colores bonita\n",
    "                )\n",
    "\n",
    "    fig.update_traces(texttemplate='%{text}', textposition='outside')\n",
    "    fig.update_layout(xaxis_title=\"Posición / Cargo\",\n",
    "                      yaxis_title=\"Número de Empleados\",\n",
    "                      title_x=0.5, # Centrar el título\n",
    "                      hovermode=\"x unified\"\n",
    "                     )\n",
    "\n",
    "    # 5. Mostrar el gráfico\n",
    "    fig.show()\n",
    "    print(\"✅ Gráfico 'Número de Empleados por Posición' generado y mostrado.\")\n",
    "\n",
    "except Exception as e:\n",
    "    print(f\"\\n❌❌ Ocurrió un error general: {e}\")\n",
    "    print(\"Asegúrate de que las tablas 'employees' y 'employee_positions' existen, y que la columna 'employee_position_id' en 'employees' y 'id'/'name' en 'employee_positions' son correctas.\")\n",
    "finally:\n",
    "    if conexion and conexion.is_connected():\n",
    "        conexion.close()\n",
    "        print(\"✅ Conexión a la base de datos cerrada.\")\n",
    "\n",
    "print(\"\\n--- Fin del Bloque de Generación de Gráficos ---\")"
   ]
  },
  {
   "cell_type": "code",
   "execution_count": 30,
   "id": "9c153286",
   "metadata": {},
   "outputs": [
    {
     "name": "stdout",
     "output_type": "stream",
     "text": [
      "\n",
      "--- Bloque 16 (Conteo Absoluto): Generación de Gráfico BI - Conteo de Empleados por Estado ---\n",
      "Estableciendo conexión a la base de datos para la visualización...\n",
      "✅ Conexión exitosa a la base de datos\n",
      "✅ Conexión a la base de datos establecida.\n",
      "\n",
      "Cargando columna 'status' (o similar con 0/1) de la tabla 'employees'...\n",
      "DataFrame de 'employees' cargado. Registros: 38\n",
      "\n",
      "Mapeando valores de estado (0=Ex-empleado, 1=Empleado)...\n",
      "\n",
      "Contando empleados por estado de empleo (mapeado)...\n",
      "Conteo de empleados por estado de empleo (mapeado):\n",
      "  Employee_Status  Employee_Count\n",
      "0     Ex-empleado              21\n",
      "1        Empleado              17\n",
      "\n",
      "Generando gráfico de torta interactivo de 'Conteo de Empleados por Estado' (¡con número absoluto!)...\n"
     ]
    },
    {
     "data": {
      "application/vnd.plotly.v1+json": {
       "config": {
        "plotlyServerURL": "https://plot.ly"
       },
       "data": [
        {
         "domain": {
          "x": [
           0,
           1
          ],
          "y": [
           0,
           1
          ]
         },
         "hole": 0.4,
         "hovertemplate": "<b>%{label}</b><br>Empleados: %{value}<br>Porcentaje: %{percent:.1%}<extra></extra>",
         "labels": [
          "Ex-empleado",
          "Empleado"
         ],
         "legendgroup": "",
         "name": "",
         "showlegend": true,
         "textinfo": "percent+label+value",
         "type": "pie",
         "values": {
          "bdata": "FRE=",
          "dtype": "i1"
         }
        }
       ],
       "layout": {
        "legend": {
         "title": {
          "text": "Estado del Empleado"
         },
         "tracegroupgap": 0
        },
        "piecolorway": [
         "rgb(102, 197, 204)",
         "rgb(246, 207, 113)",
         "rgb(248, 156, 116)",
         "rgb(220, 176, 242)",
         "rgb(135, 197, 95)",
         "rgb(158, 185, 243)",
         "rgb(254, 136, 177)",
         "rgb(201, 219, 116)",
         "rgb(139, 224, 164)",
         "rgb(180, 151, 231)",
         "rgb(179, 179, 179)"
        ],
        "template": {
         "data": {
          "bar": [
           {
            "error_x": {
             "color": "#2a3f5f"
            },
            "error_y": {
             "color": "#2a3f5f"
            },
            "marker": {
             "line": {
              "color": "#E5ECF6",
              "width": 0.5
             },
             "pattern": {
              "fillmode": "overlay",
              "size": 10,
              "solidity": 0.2
             }
            },
            "type": "bar"
           }
          ],
          "barpolar": [
           {
            "marker": {
             "line": {
              "color": "#E5ECF6",
              "width": 0.5
             },
             "pattern": {
              "fillmode": "overlay",
              "size": 10,
              "solidity": 0.2
             }
            },
            "type": "barpolar"
           }
          ],
          "carpet": [
           {
            "aaxis": {
             "endlinecolor": "#2a3f5f",
             "gridcolor": "white",
             "linecolor": "white",
             "minorgridcolor": "white",
             "startlinecolor": "#2a3f5f"
            },
            "baxis": {
             "endlinecolor": "#2a3f5f",
             "gridcolor": "white",
             "linecolor": "white",
             "minorgridcolor": "white",
             "startlinecolor": "#2a3f5f"
            },
            "type": "carpet"
           }
          ],
          "choropleth": [
           {
            "colorbar": {
             "outlinewidth": 0,
             "ticks": ""
            },
            "type": "choropleth"
           }
          ],
          "contour": [
           {
            "colorbar": {
             "outlinewidth": 0,
             "ticks": ""
            },
            "colorscale": [
             [
              0,
              "#0d0887"
             ],
             [
              0.1111111111111111,
              "#46039f"
             ],
             [
              0.2222222222222222,
              "#7201a8"
             ],
             [
              0.3333333333333333,
              "#9c179e"
             ],
             [
              0.4444444444444444,
              "#bd3786"
             ],
             [
              0.5555555555555556,
              "#d8576b"
             ],
             [
              0.6666666666666666,
              "#ed7953"
             ],
             [
              0.7777777777777778,
              "#fb9f3a"
             ],
             [
              0.8888888888888888,
              "#fdca26"
             ],
             [
              1,
              "#f0f921"
             ]
            ],
            "type": "contour"
           }
          ],
          "contourcarpet": [
           {
            "colorbar": {
             "outlinewidth": 0,
             "ticks": ""
            },
            "type": "contourcarpet"
           }
          ],
          "heatmap": [
           {
            "colorbar": {
             "outlinewidth": 0,
             "ticks": ""
            },
            "colorscale": [
             [
              0,
              "#0d0887"
             ],
             [
              0.1111111111111111,
              "#46039f"
             ],
             [
              0.2222222222222222,
              "#7201a8"
             ],
             [
              0.3333333333333333,
              "#9c179e"
             ],
             [
              0.4444444444444444,
              "#bd3786"
             ],
             [
              0.5555555555555556,
              "#d8576b"
             ],
             [
              0.6666666666666666,
              "#ed7953"
             ],
             [
              0.7777777777777778,
              "#fb9f3a"
             ],
             [
              0.8888888888888888,
              "#fdca26"
             ],
             [
              1,
              "#f0f921"
             ]
            ],
            "type": "heatmap"
           }
          ],
          "histogram": [
           {
            "marker": {
             "pattern": {
              "fillmode": "overlay",
              "size": 10,
              "solidity": 0.2
             }
            },
            "type": "histogram"
           }
          ],
          "histogram2d": [
           {
            "colorbar": {
             "outlinewidth": 0,
             "ticks": ""
            },
            "colorscale": [
             [
              0,
              "#0d0887"
             ],
             [
              0.1111111111111111,
              "#46039f"
             ],
             [
              0.2222222222222222,
              "#7201a8"
             ],
             [
              0.3333333333333333,
              "#9c179e"
             ],
             [
              0.4444444444444444,
              "#bd3786"
             ],
             [
              0.5555555555555556,
              "#d8576b"
             ],
             [
              0.6666666666666666,
              "#ed7953"
             ],
             [
              0.7777777777777778,
              "#fb9f3a"
             ],
             [
              0.8888888888888888,
              "#fdca26"
             ],
             [
              1,
              "#f0f921"
             ]
            ],
            "type": "histogram2d"
           }
          ],
          "histogram2dcontour": [
           {
            "colorbar": {
             "outlinewidth": 0,
             "ticks": ""
            },
            "colorscale": [
             [
              0,
              "#0d0887"
             ],
             [
              0.1111111111111111,
              "#46039f"
             ],
             [
              0.2222222222222222,
              "#7201a8"
             ],
             [
              0.3333333333333333,
              "#9c179e"
             ],
             [
              0.4444444444444444,
              "#bd3786"
             ],
             [
              0.5555555555555556,
              "#d8576b"
             ],
             [
              0.6666666666666666,
              "#ed7953"
             ],
             [
              0.7777777777777778,
              "#fb9f3a"
             ],
             [
              0.8888888888888888,
              "#fdca26"
             ],
             [
              1,
              "#f0f921"
             ]
            ],
            "type": "histogram2dcontour"
           }
          ],
          "mesh3d": [
           {
            "colorbar": {
             "outlinewidth": 0,
             "ticks": ""
            },
            "type": "mesh3d"
           }
          ],
          "parcoords": [
           {
            "line": {
             "colorbar": {
              "outlinewidth": 0,
              "ticks": ""
             }
            },
            "type": "parcoords"
           }
          ],
          "pie": [
           {
            "automargin": true,
            "type": "pie"
           }
          ],
          "scatter": [
           {
            "fillpattern": {
             "fillmode": "overlay",
             "size": 10,
             "solidity": 0.2
            },
            "type": "scatter"
           }
          ],
          "scatter3d": [
           {
            "line": {
             "colorbar": {
              "outlinewidth": 0,
              "ticks": ""
             }
            },
            "marker": {
             "colorbar": {
              "outlinewidth": 0,
              "ticks": ""
             }
            },
            "type": "scatter3d"
           }
          ],
          "scattercarpet": [
           {
            "marker": {
             "colorbar": {
              "outlinewidth": 0,
              "ticks": ""
             }
            },
            "type": "scattercarpet"
           }
          ],
          "scattergeo": [
           {
            "marker": {
             "colorbar": {
              "outlinewidth": 0,
              "ticks": ""
             }
            },
            "type": "scattergeo"
           }
          ],
          "scattergl": [
           {
            "marker": {
             "colorbar": {
              "outlinewidth": 0,
              "ticks": ""
             }
            },
            "type": "scattergl"
           }
          ],
          "scattermap": [
           {
            "marker": {
             "colorbar": {
              "outlinewidth": 0,
              "ticks": ""
             }
            },
            "type": "scattermap"
           }
          ],
          "scattermapbox": [
           {
            "marker": {
             "colorbar": {
              "outlinewidth": 0,
              "ticks": ""
             }
            },
            "type": "scattermapbox"
           }
          ],
          "scatterpolar": [
           {
            "marker": {
             "colorbar": {
              "outlinewidth": 0,
              "ticks": ""
             }
            },
            "type": "scatterpolar"
           }
          ],
          "scatterpolargl": [
           {
            "marker": {
             "colorbar": {
              "outlinewidth": 0,
              "ticks": ""
             }
            },
            "type": "scatterpolargl"
           }
          ],
          "scatterternary": [
           {
            "marker": {
             "colorbar": {
              "outlinewidth": 0,
              "ticks": ""
             }
            },
            "type": "scatterternary"
           }
          ],
          "surface": [
           {
            "colorbar": {
             "outlinewidth": 0,
             "ticks": ""
            },
            "colorscale": [
             [
              0,
              "#0d0887"
             ],
             [
              0.1111111111111111,
              "#46039f"
             ],
             [
              0.2222222222222222,
              "#7201a8"
             ],
             [
              0.3333333333333333,
              "#9c179e"
             ],
             [
              0.4444444444444444,
              "#bd3786"
             ],
             [
              0.5555555555555556,
              "#d8576b"
             ],
             [
              0.6666666666666666,
              "#ed7953"
             ],
             [
              0.7777777777777778,
              "#fb9f3a"
             ],
             [
              0.8888888888888888,
              "#fdca26"
             ],
             [
              1,
              "#f0f921"
             ]
            ],
            "type": "surface"
           }
          ],
          "table": [
           {
            "cells": {
             "fill": {
              "color": "#EBF0F8"
             },
             "line": {
              "color": "white"
             }
            },
            "header": {
             "fill": {
              "color": "#C8D4E3"
             },
             "line": {
              "color": "white"
             }
            },
            "type": "table"
           }
          ]
         },
         "layout": {
          "annotationdefaults": {
           "arrowcolor": "#2a3f5f",
           "arrowhead": 0,
           "arrowwidth": 1
          },
          "autotypenumbers": "strict",
          "coloraxis": {
           "colorbar": {
            "outlinewidth": 0,
            "ticks": ""
           }
          },
          "colorscale": {
           "diverging": [
            [
             0,
             "#8e0152"
            ],
            [
             0.1,
             "#c51b7d"
            ],
            [
             0.2,
             "#de77ae"
            ],
            [
             0.3,
             "#f1b6da"
            ],
            [
             0.4,
             "#fde0ef"
            ],
            [
             0.5,
             "#f7f7f7"
            ],
            [
             0.6,
             "#e6f5d0"
            ],
            [
             0.7,
             "#b8e186"
            ],
            [
             0.8,
             "#7fbc41"
            ],
            [
             0.9,
             "#4d9221"
            ],
            [
             1,
             "#276419"
            ]
           ],
           "sequential": [
            [
             0,
             "#0d0887"
            ],
            [
             0.1111111111111111,
             "#46039f"
            ],
            [
             0.2222222222222222,
             "#7201a8"
            ],
            [
             0.3333333333333333,
             "#9c179e"
            ],
            [
             0.4444444444444444,
             "#bd3786"
            ],
            [
             0.5555555555555556,
             "#d8576b"
            ],
            [
             0.6666666666666666,
             "#ed7953"
            ],
            [
             0.7777777777777778,
             "#fb9f3a"
            ],
            [
             0.8888888888888888,
             "#fdca26"
            ],
            [
             1,
             "#f0f921"
            ]
           ],
           "sequentialminus": [
            [
             0,
             "#0d0887"
            ],
            [
             0.1111111111111111,
             "#46039f"
            ],
            [
             0.2222222222222222,
             "#7201a8"
            ],
            [
             0.3333333333333333,
             "#9c179e"
            ],
            [
             0.4444444444444444,
             "#bd3786"
            ],
            [
             0.5555555555555556,
             "#d8576b"
            ],
            [
             0.6666666666666666,
             "#ed7953"
            ],
            [
             0.7777777777777778,
             "#fb9f3a"
            ],
            [
             0.8888888888888888,
             "#fdca26"
            ],
            [
             1,
             "#f0f921"
            ]
           ]
          },
          "colorway": [
           "#636efa",
           "#EF553B",
           "#00cc96",
           "#ab63fa",
           "#FFA15A",
           "#19d3f3",
           "#FF6692",
           "#B6E880",
           "#FF97FF",
           "#FECB52"
          ],
          "font": {
           "color": "#2a3f5f"
          },
          "geo": {
           "bgcolor": "white",
           "lakecolor": "white",
           "landcolor": "#E5ECF6",
           "showlakes": true,
           "showland": true,
           "subunitcolor": "white"
          },
          "hoverlabel": {
           "align": "left"
          },
          "hovermode": "closest",
          "mapbox": {
           "style": "light"
          },
          "paper_bgcolor": "white",
          "plot_bgcolor": "#E5ECF6",
          "polar": {
           "angularaxis": {
            "gridcolor": "white",
            "linecolor": "white",
            "ticks": ""
           },
           "bgcolor": "#E5ECF6",
           "radialaxis": {
            "gridcolor": "white",
            "linecolor": "white",
            "ticks": ""
           }
          },
          "scene": {
           "xaxis": {
            "backgroundcolor": "#E5ECF6",
            "gridcolor": "white",
            "gridwidth": 2,
            "linecolor": "white",
            "showbackground": true,
            "ticks": "",
            "zerolinecolor": "white"
           },
           "yaxis": {
            "backgroundcolor": "#E5ECF6",
            "gridcolor": "white",
            "gridwidth": 2,
            "linecolor": "white",
            "showbackground": true,
            "ticks": "",
            "zerolinecolor": "white"
           },
           "zaxis": {
            "backgroundcolor": "#E5ECF6",
            "gridcolor": "white",
            "gridwidth": 2,
            "linecolor": "white",
            "showbackground": true,
            "ticks": "",
            "zerolinecolor": "white"
           }
          },
          "shapedefaults": {
           "line": {
            "color": "#2a3f5f"
           }
          },
          "ternary": {
           "aaxis": {
            "gridcolor": "white",
            "linecolor": "white",
            "ticks": ""
           },
           "baxis": {
            "gridcolor": "white",
            "linecolor": "white",
            "ticks": ""
           },
           "bgcolor": "#E5ECF6",
           "caxis": {
            "gridcolor": "white",
            "linecolor": "white",
            "ticks": ""
           }
          },
          "title": {
           "x": 0.05
          },
          "xaxis": {
           "automargin": true,
           "gridcolor": "white",
           "linecolor": "white",
           "ticks": "",
           "title": {
            "standoff": 15
           },
           "zerolinecolor": "white",
           "zerolinewidth": 2
          },
          "yaxis": {
           "automargin": true,
           "gridcolor": "white",
           "linecolor": "white",
           "ticks": "",
           "title": {
            "standoff": 15
           },
           "zerolinecolor": "white",
           "zerolinewidth": 2
          }
         }
        },
        "title": {
         "text": "Distribución de Empleados por Estado de Empleo",
         "x": 0.5
        }
       }
      }
     },
     "metadata": {},
     "output_type": "display_data"
    },
    {
     "name": "stdout",
     "output_type": "stream",
     "text": [
      "✅ Gráfico 'Conteo de Empleados por Estado' generado y mostrado con número absoluto y mapeo de valores.\n",
      "✅ Conexión a la base de datos cerrada.\n",
      "\n",
      "--- Fin del Bloque de Generación de Gráficos ---\n"
     ]
    }
   ],
   "source": [
    "# Script para generar gráficos BI con Plotly Express (Conteo de Empleados por Estado con Número Absoluto)\n",
    "\n",
    "import pandas as pd\n",
    "import plotly.express as px\n",
    "from db_connection import get_engine, get_connection # Asegúrate de que este módulo esté accesible\n",
    "\n",
    "print(\"\\n--- Bloque 16 (Conteo Absoluto): Generación de Gráfico BI - Conteo de Empleados por Estado ---\")\n",
    "\n",
    "conexion = None\n",
    "try:\n",
    "    print(\"Estableciendo conexión a la base de datos para la visualización...\")\n",
    "    engine = get_engine()\n",
    "    conexion = get_connection()\n",
    "    print(\"✅ Conexión a la base de datos establecida.\")\n",
    "\n",
    "    # 1. Cargar la columna de estado de la tabla 'employees'\n",
    "    # <<< ¡ATENCIÓN AQUÍ! >>>\n",
    "    # SI LA COLUMNA CON LOS VALORES 0 y 1 NO SE LLAMA 'status', CÁMBIALA EN LA SIGUIENTE LÍNEA.\n",
    "    # Por ejemplo, si se llama 'is_active', sería \"SELECT is_active FROM employees;\"\n",
    "    print(\"\\nCargando columna 'status' (o similar con 0/1) de la tabla 'employees'...\")\n",
    "    df_employees_status = pd.read_sql(\"SELECT status FROM employees;\", engine)\n",
    "    print(f\"DataFrame de 'employees' cargado. Registros: {len(df_employees_status)}\")\n",
    "\n",
    "    # 2. Mapear los valores 0 y 1 a etiquetas significativas\n",
    "    print(\"\\nMapeando valores de estado (0=Ex-empleado, 1=Empleado)...\")\n",
    "    status_mapping = {\n",
    "        0: 'Ex-empleado',\n",
    "        1: 'Empleado'\n",
    "    }\n",
    "    # Aplicar el mapeo. Cualquier otro valor se convertirá en 'Desconocido'\n",
    "    df_employees_status['Employee_Status'] = df_employees_status['status'].map(status_mapping).fillna('Desconocido')\n",
    "\n",
    "    # 3. Contar la frecuencia de cada estado mapeado\n",
    "    print(\"\\nContando empleados por estado de empleo (mapeado)...\")\n",
    "    status_counts = df_employees_status['Employee_Status'].value_counts().reset_index()\n",
    "    status_counts.columns = ['Employee_Status', 'Employee_Count']\n",
    "\n",
    "    print(\"Conteo de empleados por estado de empleo (mapeado):\")\n",
    "    print(status_counts)\n",
    "\n",
    "    # 4. Generar el gráfico de torta interactivo con Plotly Express\n",
    "    print(\"\\nGenerando gráfico de torta interactivo de 'Conteo de Empleados por Estado' (¡con número absoluto!)...\")\n",
    "    fig = px.pie(status_counts,\n",
    "                 values='Employee_Count',\n",
    "                 names='Employee_Status',\n",
    "                 title='Distribución de Empleados por Estado de Empleo',\n",
    "                 color_discrete_sequence=px.colors.qualitative.Pastel, # Una paleta más suave y bonita\n",
    "                 hole=0.4 # Gráfico de dona\n",
    "                )\n",
    "\n",
    "    # <<<< ¡CAMBIO CLAVE AQUÍ! >>>>\n",
    "    # Añadimos 'value' a 'textinfo' para mostrar el número absoluto\n",
    "    fig.update_traces(textinfo='percent+label+value',\n",
    "                      hovertemplate='<b>%{label}</b><br>Empleados: %{value}<br>Porcentaje: %{percent:.1%}<extra></extra>'\n",
    "                     )\n",
    "    fig.update_layout(title_x=0.5,\n",
    "                      legend_title_text='Estado del Empleado')\n",
    "\n",
    "    # 5. Mostrar el gráfico\n",
    "    fig.show()\n",
    "    print(\"✅ Gráfico 'Conteo de Empleados por Estado' generado y mostrado con número absoluto y mapeo de valores.\")\n",
    "\n",
    "except Exception as e:\n",
    "    print(f\"\\n❌❌ Ocurrió un error general: {e}\")\n",
    "    print(\"¡ATENCIÓN! El error puede indicar que la columna de estado NO EXISTE o no contiene valores numéricos 0 y 1.\")\n",
    "    print(\"Por favor, verifica el nombre exacto de la columna que indica el estado del empleado (0/1) en tu tabla 'employees'.\")\n",
    "    print(\"Si el problema persiste, es posible que la columna no contenga solo 0s y 1s o tenga un tipo de dato inesperado.\")\n",
    "finally:\n",
    "    if conexion and conexion.is_connected():\n",
    "        conexion.close()\n",
    "        print(\"✅ Conexión a la base de datos cerrada.\")\n",
    "\n",
    "print(\"\\n--- Fin del Bloque de Generación de Gráficos ---\")"
   ]
  },
  {
   "cell_type": "markdown",
   "id": "d02e472b",
   "metadata": {},
   "source": [
    "📊 Tasa de Rotación de Empleados (Anual)\n",
    "\n",
    "Este KPI mide la proporción de empleados que abandonan la empresa en un período determinado (en este caso, anualmente), en relación con el número total de empleados. Es un indicador clave de la salud del clima laboral y la capacidad de la empresa para retener talento."
   ]
  },
  {
   "cell_type": "code",
   "execution_count": null,
   "id": "e578a4b2",
   "metadata": {},
   "outputs": [],
   "source": []
  },
  {
   "cell_type": "code",
   "execution_count": 31,
   "id": "cbe3d0d1",
   "metadata": {},
   "outputs": [
    {
     "name": "stdout",
     "output_type": "stream",
     "text": [
      "\n",
      "--- Bloque 17 (MEJORADO - Datos Simulados): Generación de Gráfico BI - Tasa de Rotación Anual ---\n",
      "Estableciendo conexión a la base de datos para el cálculo de rotación...\n",
      "✅ Conexión exitosa a la base de datos\n",
      "✅ Conexión a la base de datos establecida.\n",
      "\n",
      "Cargando 'id', 'created_at', y 'status' de la tabla 'employees'...\n",
      "DataFrame de 'employees' cargado. Registros: 38\n",
      "\n",
      "Calculando la tasa de rotación anual de empleados (metodología mejorada con simulación histórica)...\n",
      "Datos de rotación anual (simulación mejorada):\n",
      "   Year  Headcount  Departures  Rotation_Rate\n",
      "1  2022         12         8.0          66.67\n",
      "2  2023         22        11.0          50.00\n",
      "3  2024         14         2.0          14.29\n",
      "4  2025         17         0.0           0.00\n",
      "\n",
      "Generando gráfico de líneas de 'Tasa de Rotación Anual de Empleados'...\n"
     ]
    },
    {
     "data": {
      "application/vnd.plotly.v1+json": {
       "config": {
        "plotlyServerURL": "https://plot.ly"
       },
       "data": [
        {
         "hovertemplate": "Año=%{x}<br>Tasa de Rotación (%)=%{text}<extra></extra>",
         "legendgroup": "",
         "line": {
          "color": "#FF6347",
          "dash": "solid"
         },
         "marker": {
          "symbol": "circle"
         },
         "mode": "lines+markers+text",
         "name": "",
         "orientation": "v",
         "showlegend": false,
         "text": {
          "bdata": "exSuR+GqUEAAAAAAAABJQBSuR+F6lCxAAAAAAAAAAAA=",
          "dtype": "f8"
         },
         "textposition": "top center",
         "texttemplate": "%{text:.2f}%",
         "type": "scatter",
         "x": {
          "bdata": "5gfnB+gH6Qc=",
          "dtype": "i2"
         },
         "xaxis": "x",
         "y": {
          "bdata": "exSuR+GqUEAAAAAAAABJQBSuR+F6lCxAAAAAAAAAAAA=",
          "dtype": "f8"
         },
         "yaxis": "y"
        }
       ],
       "layout": {
        "hovermode": "x unified",
        "legend": {
         "tracegroupgap": 0
        },
        "template": {
         "data": {
          "bar": [
           {
            "error_x": {
             "color": "#2a3f5f"
            },
            "error_y": {
             "color": "#2a3f5f"
            },
            "marker": {
             "line": {
              "color": "#E5ECF6",
              "width": 0.5
             },
             "pattern": {
              "fillmode": "overlay",
              "size": 10,
              "solidity": 0.2
             }
            },
            "type": "bar"
           }
          ],
          "barpolar": [
           {
            "marker": {
             "line": {
              "color": "#E5ECF6",
              "width": 0.5
             },
             "pattern": {
              "fillmode": "overlay",
              "size": 10,
              "solidity": 0.2
             }
            },
            "type": "barpolar"
           }
          ],
          "carpet": [
           {
            "aaxis": {
             "endlinecolor": "#2a3f5f",
             "gridcolor": "white",
             "linecolor": "white",
             "minorgridcolor": "white",
             "startlinecolor": "#2a3f5f"
            },
            "baxis": {
             "endlinecolor": "#2a3f5f",
             "gridcolor": "white",
             "linecolor": "white",
             "minorgridcolor": "white",
             "startlinecolor": "#2a3f5f"
            },
            "type": "carpet"
           }
          ],
          "choropleth": [
           {
            "colorbar": {
             "outlinewidth": 0,
             "ticks": ""
            },
            "type": "choropleth"
           }
          ],
          "contour": [
           {
            "colorbar": {
             "outlinewidth": 0,
             "ticks": ""
            },
            "colorscale": [
             [
              0,
              "#0d0887"
             ],
             [
              0.1111111111111111,
              "#46039f"
             ],
             [
              0.2222222222222222,
              "#7201a8"
             ],
             [
              0.3333333333333333,
              "#9c179e"
             ],
             [
              0.4444444444444444,
              "#bd3786"
             ],
             [
              0.5555555555555556,
              "#d8576b"
             ],
             [
              0.6666666666666666,
              "#ed7953"
             ],
             [
              0.7777777777777778,
              "#fb9f3a"
             ],
             [
              0.8888888888888888,
              "#fdca26"
             ],
             [
              1,
              "#f0f921"
             ]
            ],
            "type": "contour"
           }
          ],
          "contourcarpet": [
           {
            "colorbar": {
             "outlinewidth": 0,
             "ticks": ""
            },
            "type": "contourcarpet"
           }
          ],
          "heatmap": [
           {
            "colorbar": {
             "outlinewidth": 0,
             "ticks": ""
            },
            "colorscale": [
             [
              0,
              "#0d0887"
             ],
             [
              0.1111111111111111,
              "#46039f"
             ],
             [
              0.2222222222222222,
              "#7201a8"
             ],
             [
              0.3333333333333333,
              "#9c179e"
             ],
             [
              0.4444444444444444,
              "#bd3786"
             ],
             [
              0.5555555555555556,
              "#d8576b"
             ],
             [
              0.6666666666666666,
              "#ed7953"
             ],
             [
              0.7777777777777778,
              "#fb9f3a"
             ],
             [
              0.8888888888888888,
              "#fdca26"
             ],
             [
              1,
              "#f0f921"
             ]
            ],
            "type": "heatmap"
           }
          ],
          "histogram": [
           {
            "marker": {
             "pattern": {
              "fillmode": "overlay",
              "size": 10,
              "solidity": 0.2
             }
            },
            "type": "histogram"
           }
          ],
          "histogram2d": [
           {
            "colorbar": {
             "outlinewidth": 0,
             "ticks": ""
            },
            "colorscale": [
             [
              0,
              "#0d0887"
             ],
             [
              0.1111111111111111,
              "#46039f"
             ],
             [
              0.2222222222222222,
              "#7201a8"
             ],
             [
              0.3333333333333333,
              "#9c179e"
             ],
             [
              0.4444444444444444,
              "#bd3786"
             ],
             [
              0.5555555555555556,
              "#d8576b"
             ],
             [
              0.6666666666666666,
              "#ed7953"
             ],
             [
              0.7777777777777778,
              "#fb9f3a"
             ],
             [
              0.8888888888888888,
              "#fdca26"
             ],
             [
              1,
              "#f0f921"
             ]
            ],
            "type": "histogram2d"
           }
          ],
          "histogram2dcontour": [
           {
            "colorbar": {
             "outlinewidth": 0,
             "ticks": ""
            },
            "colorscale": [
             [
              0,
              "#0d0887"
             ],
             [
              0.1111111111111111,
              "#46039f"
             ],
             [
              0.2222222222222222,
              "#7201a8"
             ],
             [
              0.3333333333333333,
              "#9c179e"
             ],
             [
              0.4444444444444444,
              "#bd3786"
             ],
             [
              0.5555555555555556,
              "#d8576b"
             ],
             [
              0.6666666666666666,
              "#ed7953"
             ],
             [
              0.7777777777777778,
              "#fb9f3a"
             ],
             [
              0.8888888888888888,
              "#fdca26"
             ],
             [
              1,
              "#f0f921"
             ]
            ],
            "type": "histogram2dcontour"
           }
          ],
          "mesh3d": [
           {
            "colorbar": {
             "outlinewidth": 0,
             "ticks": ""
            },
            "type": "mesh3d"
           }
          ],
          "parcoords": [
           {
            "line": {
             "colorbar": {
              "outlinewidth": 0,
              "ticks": ""
             }
            },
            "type": "parcoords"
           }
          ],
          "pie": [
           {
            "automargin": true,
            "type": "pie"
           }
          ],
          "scatter": [
           {
            "fillpattern": {
             "fillmode": "overlay",
             "size": 10,
             "solidity": 0.2
            },
            "type": "scatter"
           }
          ],
          "scatter3d": [
           {
            "line": {
             "colorbar": {
              "outlinewidth": 0,
              "ticks": ""
             }
            },
            "marker": {
             "colorbar": {
              "outlinewidth": 0,
              "ticks": ""
             }
            },
            "type": "scatter3d"
           }
          ],
          "scattercarpet": [
           {
            "marker": {
             "colorbar": {
              "outlinewidth": 0,
              "ticks": ""
             }
            },
            "type": "scattercarpet"
           }
          ],
          "scattergeo": [
           {
            "marker": {
             "colorbar": {
              "outlinewidth": 0,
              "ticks": ""
             }
            },
            "type": "scattergeo"
           }
          ],
          "scattergl": [
           {
            "marker": {
             "colorbar": {
              "outlinewidth": 0,
              "ticks": ""
             }
            },
            "type": "scattergl"
           }
          ],
          "scattermap": [
           {
            "marker": {
             "colorbar": {
              "outlinewidth": 0,
              "ticks": ""
             }
            },
            "type": "scattermap"
           }
          ],
          "scattermapbox": [
           {
            "marker": {
             "colorbar": {
              "outlinewidth": 0,
              "ticks": ""
             }
            },
            "type": "scattermapbox"
           }
          ],
          "scatterpolar": [
           {
            "marker": {
             "colorbar": {
              "outlinewidth": 0,
              "ticks": ""
             }
            },
            "type": "scatterpolar"
           }
          ],
          "scatterpolargl": [
           {
            "marker": {
             "colorbar": {
              "outlinewidth": 0,
              "ticks": ""
             }
            },
            "type": "scatterpolargl"
           }
          ],
          "scatterternary": [
           {
            "marker": {
             "colorbar": {
              "outlinewidth": 0,
              "ticks": ""
             }
            },
            "type": "scatterternary"
           }
          ],
          "surface": [
           {
            "colorbar": {
             "outlinewidth": 0,
             "ticks": ""
            },
            "colorscale": [
             [
              0,
              "#0d0887"
             ],
             [
              0.1111111111111111,
              "#46039f"
             ],
             [
              0.2222222222222222,
              "#7201a8"
             ],
             [
              0.3333333333333333,
              "#9c179e"
             ],
             [
              0.4444444444444444,
              "#bd3786"
             ],
             [
              0.5555555555555556,
              "#d8576b"
             ],
             [
              0.6666666666666666,
              "#ed7953"
             ],
             [
              0.7777777777777778,
              "#fb9f3a"
             ],
             [
              0.8888888888888888,
              "#fdca26"
             ],
             [
              1,
              "#f0f921"
             ]
            ],
            "type": "surface"
           }
          ],
          "table": [
           {
            "cells": {
             "fill": {
              "color": "#EBF0F8"
             },
             "line": {
              "color": "white"
             }
            },
            "header": {
             "fill": {
              "color": "#C8D4E3"
             },
             "line": {
              "color": "white"
             }
            },
            "type": "table"
           }
          ]
         },
         "layout": {
          "annotationdefaults": {
           "arrowcolor": "#2a3f5f",
           "arrowhead": 0,
           "arrowwidth": 1
          },
          "autotypenumbers": "strict",
          "coloraxis": {
           "colorbar": {
            "outlinewidth": 0,
            "ticks": ""
           }
          },
          "colorscale": {
           "diverging": [
            [
             0,
             "#8e0152"
            ],
            [
             0.1,
             "#c51b7d"
            ],
            [
             0.2,
             "#de77ae"
            ],
            [
             0.3,
             "#f1b6da"
            ],
            [
             0.4,
             "#fde0ef"
            ],
            [
             0.5,
             "#f7f7f7"
            ],
            [
             0.6,
             "#e6f5d0"
            ],
            [
             0.7,
             "#b8e186"
            ],
            [
             0.8,
             "#7fbc41"
            ],
            [
             0.9,
             "#4d9221"
            ],
            [
             1,
             "#276419"
            ]
           ],
           "sequential": [
            [
             0,
             "#0d0887"
            ],
            [
             0.1111111111111111,
             "#46039f"
            ],
            [
             0.2222222222222222,
             "#7201a8"
            ],
            [
             0.3333333333333333,
             "#9c179e"
            ],
            [
             0.4444444444444444,
             "#bd3786"
            ],
            [
             0.5555555555555556,
             "#d8576b"
            ],
            [
             0.6666666666666666,
             "#ed7953"
            ],
            [
             0.7777777777777778,
             "#fb9f3a"
            ],
            [
             0.8888888888888888,
             "#fdca26"
            ],
            [
             1,
             "#f0f921"
            ]
           ],
           "sequentialminus": [
            [
             0,
             "#0d0887"
            ],
            [
             0.1111111111111111,
             "#46039f"
            ],
            [
             0.2222222222222222,
             "#7201a8"
            ],
            [
             0.3333333333333333,
             "#9c179e"
            ],
            [
             0.4444444444444444,
             "#bd3786"
            ],
            [
             0.5555555555555556,
             "#d8576b"
            ],
            [
             0.6666666666666666,
             "#ed7953"
            ],
            [
             0.7777777777777778,
             "#fb9f3a"
            ],
            [
             0.8888888888888888,
             "#fdca26"
            ],
            [
             1,
             "#f0f921"
            ]
           ]
          },
          "colorway": [
           "#636efa",
           "#EF553B",
           "#00cc96",
           "#ab63fa",
           "#FFA15A",
           "#19d3f3",
           "#FF6692",
           "#B6E880",
           "#FF97FF",
           "#FECB52"
          ],
          "font": {
           "color": "#2a3f5f"
          },
          "geo": {
           "bgcolor": "white",
           "lakecolor": "white",
           "landcolor": "#E5ECF6",
           "showlakes": true,
           "showland": true,
           "subunitcolor": "white"
          },
          "hoverlabel": {
           "align": "left"
          },
          "hovermode": "closest",
          "mapbox": {
           "style": "light"
          },
          "paper_bgcolor": "white",
          "plot_bgcolor": "#E5ECF6",
          "polar": {
           "angularaxis": {
            "gridcolor": "white",
            "linecolor": "white",
            "ticks": ""
           },
           "bgcolor": "#E5ECF6",
           "radialaxis": {
            "gridcolor": "white",
            "linecolor": "white",
            "ticks": ""
           }
          },
          "scene": {
           "xaxis": {
            "backgroundcolor": "#E5ECF6",
            "gridcolor": "white",
            "gridwidth": 2,
            "linecolor": "white",
            "showbackground": true,
            "ticks": "",
            "zerolinecolor": "white"
           },
           "yaxis": {
            "backgroundcolor": "#E5ECF6",
            "gridcolor": "white",
            "gridwidth": 2,
            "linecolor": "white",
            "showbackground": true,
            "ticks": "",
            "zerolinecolor": "white"
           },
           "zaxis": {
            "backgroundcolor": "#E5ECF6",
            "gridcolor": "white",
            "gridwidth": 2,
            "linecolor": "white",
            "showbackground": true,
            "ticks": "",
            "zerolinecolor": "white"
           }
          },
          "shapedefaults": {
           "line": {
            "color": "#2a3f5f"
           }
          },
          "ternary": {
           "aaxis": {
            "gridcolor": "white",
            "linecolor": "white",
            "ticks": ""
           },
           "baxis": {
            "gridcolor": "white",
            "linecolor": "white",
            "ticks": ""
           },
           "bgcolor": "#E5ECF6",
           "caxis": {
            "gridcolor": "white",
            "linecolor": "white",
            "ticks": ""
           }
          },
          "title": {
           "x": 0.05
          },
          "xaxis": {
           "automargin": true,
           "gridcolor": "white",
           "linecolor": "white",
           "ticks": "",
           "title": {
            "standoff": 15
           },
           "zerolinecolor": "white",
           "zerolinewidth": 2
          },
          "yaxis": {
           "automargin": true,
           "gridcolor": "white",
           "linecolor": "white",
           "ticks": "",
           "title": {
            "standoff": 15
           },
           "zerolinecolor": "white",
           "zerolinewidth": 2
          }
         }
        },
        "title": {
         "text": "Tasa de Rotación Anual de Empleados (Simulada)",
         "x": 0.5
        },
        "xaxis": {
         "anchor": "y",
         "domain": [
          0,
          1
         ],
         "title": {
          "text": "Año"
         }
        },
        "yaxis": {
         "anchor": "x",
         "domain": [
          0,
          1
         ],
         "range": [
          0,
          80.004
         ],
         "title": {
          "text": "Tasa de Rotación (%)"
         }
        }
       }
      }
     },
     "metadata": {},
     "output_type": "display_data"
    },
    {
     "name": "stdout",
     "output_type": "stream",
     "text": [
      "✅ Gráfico 'Tasa de Rotación Anual de Empleados' generado y mostrado.\n",
      "✅ Conexión a la base de datos cerrada.\n",
      "\n",
      "--- Fin del Bloque de Generación de Gráficos ---\n"
     ]
    }
   ],
   "source": [
    "# Script para generar gráficos BI con Plotly Express (Tasa de Rotación Anual de Empleados - CON DATOS SIMULADOS MEJORADOS)\n",
    "\n",
    "import pandas as pd\n",
    "import plotly.express as px\n",
    "from datetime import datetime, timedelta # Importamos timedelta para simular fechas pasadas\n",
    "from db_connection import get_engine, get_connection\n",
    "\n",
    "print(\"\\n--- Bloque 17 (MEJORADO - Datos Simulados): Generación de Gráfico BI - Tasa de Rotación Anual ---\")\n",
    "\n",
    "conexion = None\n",
    "try:\n",
    "    print(\"Estableciendo conexión a la base de datos para el cálculo de rotación...\")\n",
    "    engine = get_engine()\n",
    "    conexion = get_connection()\n",
    "    print(\"✅ Conexión a la base de datos establecida.\")\n",
    "\n",
    "    # 1. Cargar las columnas necesarias de la tabla 'employees'\n",
    "    print(\"\\nCargando 'id', 'created_at', y 'status' de la tabla 'employees'...\")\n",
    "    df_employees = pd.read_sql(\"SELECT id, created_at, status FROM employees;\", engine)\n",
    "    print(f\"DataFrame de 'employees' cargado. Registros: {len(df_employees)}\")\n",
    "\n",
    "    # 2. Limpiar y preparar los datos\n",
    "    df_employees['created_at'] = pd.to_datetime(df_employees['created_at'], errors='coerce')\n",
    "    df_employees['status'] = pd.to_numeric(df_employees['status'], errors='coerce').fillna(1).astype(int)\n",
    "\n",
    "    df_employees.dropna(subset=['created_at'], inplace=True)\n",
    "\n",
    "    if df_employees.empty:\n",
    "        print(\"❌ No hay datos válidos (fechas de creación o estado) para generar el gráfico.\")\n",
    "        raise ValueError(\"No hay datos suficientes para graficar la rotación.\")\n",
    "\n",
    "    # --- Lógica de cálculo de rotación más precisa ---\n",
    "    print(\"\\nCalculando la tasa de rotación anual de empleados (metodología mejorada con simulación histórica)...\")\n",
    "\n",
    "    # === MEJORA EN LA SIMULACIÓN DE TERMINATION_DATE ===\n",
    "    # Si un empleado tiene status 0 (ex-empleado), asignaremos una termination_date\n",
    "    # que sea un año después de su created_at, o la fecha actual si eso lo lleva al futuro.\n",
    "    # Esto es para distribuir las \"salidas\" en años pasados y tener datos para el gráfico.\n",
    "    \n",
    "    current_year = datetime.now().year\n",
    "    \n",
    "    def simulate_termination_date(row):\n",
    "        if row['status'] == 0: # Si es ex-empleado\n",
    "            # Simular que se fue un año después de su contratación\n",
    "            simulated_term_date = row['created_at'] + timedelta(days=365) \n",
    "            # Asegurarse de que no sea en el futuro si la contratación fue muy reciente\n",
    "            if simulated_term_date.year > current_year:\n",
    "                return datetime(current_year, 12, 31) # Si es muy reciente, asigna fin del año actual\n",
    "            return simulated_term_date\n",
    "        return pd.NaT # Si es activo, no tiene fecha de terminación\n",
    "    \n",
    "    df_employees['termination_date'] = df_employees.apply(simulate_termination_date, axis=1)\n",
    "\n",
    "    # 3. Calcular la rotación anual basada en un método más estándar\n",
    "    # A. Contar Salidas por Año\n",
    "    # Ahora usamos la 'termination_date' simulada para el año de salida\n",
    "    departures_annual = df_employees[df_employees['status'] == 0].copy()\n",
    "    departures_annual['exit_year'] = departures_annual['termination_date'].dt.year\n",
    "    departures_count = departures_annual.groupby('exit_year').size().reset_index(name='Departures')\n",
    "    departures_count.columns = ['Year', 'Departures']\n",
    "\n",
    "    # B. Calcular Plantilla Promedio (Headcount)\n",
    "    # Para la base, vamos a calcular una aproximación del headcount al inicio de cada año.\n",
    "    # Asumimos que un empleado contribuye al headcount desde su `created_at` hasta su `termination_date` (o hasta ahora si está activo).\n",
    "    \n",
    "    # Crear una lista de todos los años relevantes\n",
    "    min_year = df_employees['created_at'].dt.year.min()\n",
    "    max_year = datetime.now().year # Usamos el año actual como el último año para el cálculo de headcount\n",
    "    all_years = range(min_year, max_year + 1)\n",
    "    \n",
    "    headcount_data = []\n",
    "    for year in all_years:\n",
    "        # Empleados que están activos (status=1) en algún punto de este año\n",
    "        # O que su termination_date no fue antes del inicio de este año\n",
    "        \n",
    "        # Empleados activos al inicio del año (contratados antes del 1 de enero del año Y, y no terminados antes de esa fecha)\n",
    "        employees_at_start_of_year = df_employees[\n",
    "            (df_employees['created_at'].dt.year < year) | # Contratados en años anteriores\n",
    "            ((df_employees['created_at'].dt.year == year) & (df_employees['created_at'].dt.month == 1) & (df_employees['created_at'].dt.day == 1)) # O el 1 de enero del año\n",
    "        ].copy()\n",
    "        \n",
    "        # Filtrar aquellos que no han terminado antes del inicio del año\n",
    "        employees_at_start_of_year = employees_at_start_of_year[\n",
    "            (employees_at_start_of_year['status'] == 1) | # Siguen activos\n",
    "            (employees_at_start_of_year['termination_date'].dt.year >= year) | # O terminaron en este año o después\n",
    "            (pd.isna(employees_at_start_of_year['termination_date'])) # O no tienen fecha de terminación (activos)\n",
    "        ]\n",
    "\n",
    "        headcount_data.append({'Year': year, 'Headcount': len(employees_at_start_of_year.id.unique())})\n",
    "    \n",
    "    df_headcount = pd.DataFrame(headcount_data)\n",
    "    \n",
    "    # Unir datos de salidas con el headcount\n",
    "    rotation_summary = pd.merge(df_headcount, departures_count, on='Year', how='left').fillna(0)\n",
    "    \n",
    "    # Calcular Tasa de Rotación\n",
    "    rotation_summary['Rotation_Rate'] = rotation_summary.apply(\n",
    "        lambda row: (row['Departures'] / row['Headcount']) * 100 if row['Headcount'] > 0 else 0, axis=1\n",
    "    )\n",
    "    rotation_summary['Rotation_Rate'] = rotation_summary['Rotation_Rate'].round(2)\n",
    "\n",
    "    rotation_summary = rotation_summary[rotation_summary['Headcount'] > 0] # Filtrar años sin plantilla\n",
    "    \n",
    "    print(\"Datos de rotación anual (simulación mejorada):\")\n",
    "    print(rotation_summary)\n",
    "\n",
    "    if rotation_summary.empty:\n",
    "        print(\"❌ No hay suficientes datos para calcular la rotación anual con las columnas proporcionadas.\")\n",
    "        raise ValueError(\"No hay datos de rotación para graficar.\")\n",
    "\n",
    "    # 4. Generar el gráfico de líneas interactivo\n",
    "    print(\"\\nGenerando gráfico de líneas de 'Tasa de Rotación Anual de Empleados'...\")\n",
    "    fig = px.line(rotation_summary,\n",
    "                  x='Year',\n",
    "                  y='Rotation_Rate',\n",
    "                  title='Tasa de Rotación Anual de Empleados (Simulada)',\n",
    "                  labels={\n",
    "                      'Year': 'Año',\n",
    "                      'Rotation_Rate': 'Tasa de Rotación (%)'\n",
    "                  },\n",
    "                  markers=True,\n",
    "                  text='Rotation_Rate',\n",
    "                  color_discrete_sequence=['#FF6347']\n",
    "                 )\n",
    "\n",
    "    fig.update_traces(texttemplate='%{text:.2f}%', textposition='top center')\n",
    "    fig.update_layout(xaxis_title=\"Año\",\n",
    "                      yaxis_title=\"Tasa de Rotación (%)\",\n",
    "                      title_x=0.5,\n",
    "                      hovermode=\"x unified\",\n",
    "                      yaxis_range=[0, rotation_summary['Rotation_Rate'].max() * 1.2] if not rotation_summary.empty else [0, 100]\n",
    "                     )\n",
    "\n",
    "    fig.show()\n",
    "    print(\"✅ Gráfico 'Tasa de Rotación Anual de Empleados' generado y mostrado.\")\n",
    "\n",
    "except ValueError as ve:\n",
    "    print(f\"\\n❌❌ Error de datos para graficar: {ve:}\")\n",
    "except Exception as e:\n",
    "    print(f\"\\n❌❌ Ocurrió un error general: {e}\")\n",
    "    print(\"Asegúrate de que la tabla 'employees' existe y tiene las columnas 'id', 'created_at', y 'status'.\")\n",
    "    print(\"Verifica que 'created_at' son fechas válidas y 'status' son 0 o 1.\")\n",
    "    print(\"Si tu columna de estado no se llama 'status', cámbiala en el script.\")\n",
    "finally:\n",
    "    if conexion and conexion.is_connected():\n",
    "        conexion.close()\n",
    "        print(\"✅ Conexión a la base de datos cerrada.\")\n",
    "\n",
    "print(\"\\n--- Fin del Bloque de Generación de Gráficos ---\")"
   ]
  },
  {
   "cell_type": "markdown",
   "id": "3cda6992",
   "metadata": {},
   "source": [
    "📊 Antigüedad Promedio de Empleados\n",
    "\n",
    "Este gráfico te ayudará a entender cuánto tiempo suelen permanecer tus empleados en la empresa. Una alta antigüedad promedio puede indicar alta retención y satisfacción.\n",
    "\n",
    "Pregunta de Negocio: ¿Cuál es la antigüedad promedio de nuestros empleados y cómo se distribuye esta antigüedad?"
   ]
  },
  {
   "cell_type": "code",
   "execution_count": 32,
   "id": "6f7be589",
   "metadata": {},
   "outputs": [
    {
     "name": "stdout",
     "output_type": "stream",
     "text": [
      "\n",
      "--- Bloque 18 (Opción B): Generación de Gráfico BI - Antigüedad Promedio por Cargo ---\n",
      "Estableciendo conexión a la base de datos para el cálculo de antigüedad por cargo...\n",
      "✅ Conexión exitosa a la base de datos\n",
      "✅ Conexión a la base de datos establecida.\n",
      "\n",
      "Cargando 'created_at' de 'employees' y 'name' de 'employee_positions'...\n",
      "DataFrame combinado cargado. Registros: 38\n",
      "\n",
      "Calculando la antigüedad promedio por cargo...\n",
      "Antigüedad promedio por cargo:\n",
      "                         Position_Name  Average_Tenure_Years\n",
      "9                   Logístico Integral                   3.5\n",
      "10                  Tesorero principal                   3.5\n",
      "0   Asesor de Ventas para las fabricas                   3.4\n",
      "11                     Ventas internas                   3.4\n",
      "2   Auxiliar Contable y Administrativa                   3.3\n",
      "\n",
      "Generando gráfico de barras de 'Antigüedad Promedio por Cargo'...\n"
     ]
    },
    {
     "data": {
      "application/vnd.plotly.v1+json": {
       "config": {
        "plotlyServerURL": "https://plot.ly"
       },
       "data": [
        {
         "hovertemplate": "Cargo / Posición=%{x}<br>Antigüedad Promedio (Años)=%{marker.color}<extra></extra>",
         "legendgroup": "",
         "marker": {
          "color": {
           "bdata": "AAAAAAAADEAAAAAAAAAMQDMzMzMzMwtAMzMzMzMzC0BmZmZmZmYKQGZmZmZmZgpAAAAAAAAACkDNzMzMzMwIQGZmZmZmZghAmpmZmZmZB0BxPQrXo3AHQFyPwvUoXPs/",
           "dtype": "f8"
          },
          "coloraxis": "coloraxis",
          "pattern": {
           "shape": ""
          }
         },
         "name": "",
         "orientation": "v",
         "showlegend": false,
         "textposition": "outside",
         "texttemplate": "%{y:.2s}",
         "type": "bar",
         "x": [
          "Logístico Integral",
          "Tesorero principal",
          "Asesor de Ventas para las fabricas",
          "Ventas internas",
          "Auxiliar Contable y Administrativa",
          "Gerente",
          "Auxiliar de soporte",
          "Contador General",
          "Diseñador Web",
          "Desarrollador",
          "Asistente Administrativo",
          "General"
         ],
         "xaxis": "x",
         "y": {
          "bdata": "AAAAAAAADEAAAAAAAAAMQDMzMzMzMwtAMzMzMzMzC0BmZmZmZmYKQGZmZmZmZgpAAAAAAAAACkDNzMzMzMwIQGZmZmZmZghAmpmZmZmZB0BxPQrXo3AHQFyPwvUoXPs/",
          "dtype": "f8"
         },
         "yaxis": "y"
        }
       ],
       "layout": {
        "barmode": "relative",
        "coloraxis": {
         "colorbar": {
          "title": {
           "text": "Antigüedad Promedio (Años)"
          }
         },
         "colorscale": [
          [
           0,
           "rgb(75, 41, 145)"
          ],
          [
           0.16666666666666666,
           "rgb(135, 44, 162)"
          ],
          [
           0.3333333333333333,
           "rgb(192, 54, 157)"
          ],
          [
           0.5,
           "rgb(234, 79, 136)"
          ],
          [
           0.6666666666666666,
           "rgb(250, 120, 118)"
          ],
          [
           0.8333333333333334,
           "rgb(246, 169, 122)"
          ],
          [
           1,
           "rgb(237, 217, 163)"
          ]
         ]
        },
        "hovermode": "x unified",
        "legend": {
         "tracegroupgap": 0
        },
        "template": {
         "data": {
          "bar": [
           {
            "error_x": {
             "color": "#2a3f5f"
            },
            "error_y": {
             "color": "#2a3f5f"
            },
            "marker": {
             "line": {
              "color": "#E5ECF6",
              "width": 0.5
             },
             "pattern": {
              "fillmode": "overlay",
              "size": 10,
              "solidity": 0.2
             }
            },
            "type": "bar"
           }
          ],
          "barpolar": [
           {
            "marker": {
             "line": {
              "color": "#E5ECF6",
              "width": 0.5
             },
             "pattern": {
              "fillmode": "overlay",
              "size": 10,
              "solidity": 0.2
             }
            },
            "type": "barpolar"
           }
          ],
          "carpet": [
           {
            "aaxis": {
             "endlinecolor": "#2a3f5f",
             "gridcolor": "white",
             "linecolor": "white",
             "minorgridcolor": "white",
             "startlinecolor": "#2a3f5f"
            },
            "baxis": {
             "endlinecolor": "#2a3f5f",
             "gridcolor": "white",
             "linecolor": "white",
             "minorgridcolor": "white",
             "startlinecolor": "#2a3f5f"
            },
            "type": "carpet"
           }
          ],
          "choropleth": [
           {
            "colorbar": {
             "outlinewidth": 0,
             "ticks": ""
            },
            "type": "choropleth"
           }
          ],
          "contour": [
           {
            "colorbar": {
             "outlinewidth": 0,
             "ticks": ""
            },
            "colorscale": [
             [
              0,
              "#0d0887"
             ],
             [
              0.1111111111111111,
              "#46039f"
             ],
             [
              0.2222222222222222,
              "#7201a8"
             ],
             [
              0.3333333333333333,
              "#9c179e"
             ],
             [
              0.4444444444444444,
              "#bd3786"
             ],
             [
              0.5555555555555556,
              "#d8576b"
             ],
             [
              0.6666666666666666,
              "#ed7953"
             ],
             [
              0.7777777777777778,
              "#fb9f3a"
             ],
             [
              0.8888888888888888,
              "#fdca26"
             ],
             [
              1,
              "#f0f921"
             ]
            ],
            "type": "contour"
           }
          ],
          "contourcarpet": [
           {
            "colorbar": {
             "outlinewidth": 0,
             "ticks": ""
            },
            "type": "contourcarpet"
           }
          ],
          "heatmap": [
           {
            "colorbar": {
             "outlinewidth": 0,
             "ticks": ""
            },
            "colorscale": [
             [
              0,
              "#0d0887"
             ],
             [
              0.1111111111111111,
              "#46039f"
             ],
             [
              0.2222222222222222,
              "#7201a8"
             ],
             [
              0.3333333333333333,
              "#9c179e"
             ],
             [
              0.4444444444444444,
              "#bd3786"
             ],
             [
              0.5555555555555556,
              "#d8576b"
             ],
             [
              0.6666666666666666,
              "#ed7953"
             ],
             [
              0.7777777777777778,
              "#fb9f3a"
             ],
             [
              0.8888888888888888,
              "#fdca26"
             ],
             [
              1,
              "#f0f921"
             ]
            ],
            "type": "heatmap"
           }
          ],
          "histogram": [
           {
            "marker": {
             "pattern": {
              "fillmode": "overlay",
              "size": 10,
              "solidity": 0.2
             }
            },
            "type": "histogram"
           }
          ],
          "histogram2d": [
           {
            "colorbar": {
             "outlinewidth": 0,
             "ticks": ""
            },
            "colorscale": [
             [
              0,
              "#0d0887"
             ],
             [
              0.1111111111111111,
              "#46039f"
             ],
             [
              0.2222222222222222,
              "#7201a8"
             ],
             [
              0.3333333333333333,
              "#9c179e"
             ],
             [
              0.4444444444444444,
              "#bd3786"
             ],
             [
              0.5555555555555556,
              "#d8576b"
             ],
             [
              0.6666666666666666,
              "#ed7953"
             ],
             [
              0.7777777777777778,
              "#fb9f3a"
             ],
             [
              0.8888888888888888,
              "#fdca26"
             ],
             [
              1,
              "#f0f921"
             ]
            ],
            "type": "histogram2d"
           }
          ],
          "histogram2dcontour": [
           {
            "colorbar": {
             "outlinewidth": 0,
             "ticks": ""
            },
            "colorscale": [
             [
              0,
              "#0d0887"
             ],
             [
              0.1111111111111111,
              "#46039f"
             ],
             [
              0.2222222222222222,
              "#7201a8"
             ],
             [
              0.3333333333333333,
              "#9c179e"
             ],
             [
              0.4444444444444444,
              "#bd3786"
             ],
             [
              0.5555555555555556,
              "#d8576b"
             ],
             [
              0.6666666666666666,
              "#ed7953"
             ],
             [
              0.7777777777777778,
              "#fb9f3a"
             ],
             [
              0.8888888888888888,
              "#fdca26"
             ],
             [
              1,
              "#f0f921"
             ]
            ],
            "type": "histogram2dcontour"
           }
          ],
          "mesh3d": [
           {
            "colorbar": {
             "outlinewidth": 0,
             "ticks": ""
            },
            "type": "mesh3d"
           }
          ],
          "parcoords": [
           {
            "line": {
             "colorbar": {
              "outlinewidth": 0,
              "ticks": ""
             }
            },
            "type": "parcoords"
           }
          ],
          "pie": [
           {
            "automargin": true,
            "type": "pie"
           }
          ],
          "scatter": [
           {
            "fillpattern": {
             "fillmode": "overlay",
             "size": 10,
             "solidity": 0.2
            },
            "type": "scatter"
           }
          ],
          "scatter3d": [
           {
            "line": {
             "colorbar": {
              "outlinewidth": 0,
              "ticks": ""
             }
            },
            "marker": {
             "colorbar": {
              "outlinewidth": 0,
              "ticks": ""
             }
            },
            "type": "scatter3d"
           }
          ],
          "scattercarpet": [
           {
            "marker": {
             "colorbar": {
              "outlinewidth": 0,
              "ticks": ""
             }
            },
            "type": "scattercarpet"
           }
          ],
          "scattergeo": [
           {
            "marker": {
             "colorbar": {
              "outlinewidth": 0,
              "ticks": ""
             }
            },
            "type": "scattergeo"
           }
          ],
          "scattergl": [
           {
            "marker": {
             "colorbar": {
              "outlinewidth": 0,
              "ticks": ""
             }
            },
            "type": "scattergl"
           }
          ],
          "scattermap": [
           {
            "marker": {
             "colorbar": {
              "outlinewidth": 0,
              "ticks": ""
             }
            },
            "type": "scattermap"
           }
          ],
          "scattermapbox": [
           {
            "marker": {
             "colorbar": {
              "outlinewidth": 0,
              "ticks": ""
             }
            },
            "type": "scattermapbox"
           }
          ],
          "scatterpolar": [
           {
            "marker": {
             "colorbar": {
              "outlinewidth": 0,
              "ticks": ""
             }
            },
            "type": "scatterpolar"
           }
          ],
          "scatterpolargl": [
           {
            "marker": {
             "colorbar": {
              "outlinewidth": 0,
              "ticks": ""
             }
            },
            "type": "scatterpolargl"
           }
          ],
          "scatterternary": [
           {
            "marker": {
             "colorbar": {
              "outlinewidth": 0,
              "ticks": ""
             }
            },
            "type": "scatterternary"
           }
          ],
          "surface": [
           {
            "colorbar": {
             "outlinewidth": 0,
             "ticks": ""
            },
            "colorscale": [
             [
              0,
              "#0d0887"
             ],
             [
              0.1111111111111111,
              "#46039f"
             ],
             [
              0.2222222222222222,
              "#7201a8"
             ],
             [
              0.3333333333333333,
              "#9c179e"
             ],
             [
              0.4444444444444444,
              "#bd3786"
             ],
             [
              0.5555555555555556,
              "#d8576b"
             ],
             [
              0.6666666666666666,
              "#ed7953"
             ],
             [
              0.7777777777777778,
              "#fb9f3a"
             ],
             [
              0.8888888888888888,
              "#fdca26"
             ],
             [
              1,
              "#f0f921"
             ]
            ],
            "type": "surface"
           }
          ],
          "table": [
           {
            "cells": {
             "fill": {
              "color": "#EBF0F8"
             },
             "line": {
              "color": "white"
             }
            },
            "header": {
             "fill": {
              "color": "#C8D4E3"
             },
             "line": {
              "color": "white"
             }
            },
            "type": "table"
           }
          ]
         },
         "layout": {
          "annotationdefaults": {
           "arrowcolor": "#2a3f5f",
           "arrowhead": 0,
           "arrowwidth": 1
          },
          "autotypenumbers": "strict",
          "coloraxis": {
           "colorbar": {
            "outlinewidth": 0,
            "ticks": ""
           }
          },
          "colorscale": {
           "diverging": [
            [
             0,
             "#8e0152"
            ],
            [
             0.1,
             "#c51b7d"
            ],
            [
             0.2,
             "#de77ae"
            ],
            [
             0.3,
             "#f1b6da"
            ],
            [
             0.4,
             "#fde0ef"
            ],
            [
             0.5,
             "#f7f7f7"
            ],
            [
             0.6,
             "#e6f5d0"
            ],
            [
             0.7,
             "#b8e186"
            ],
            [
             0.8,
             "#7fbc41"
            ],
            [
             0.9,
             "#4d9221"
            ],
            [
             1,
             "#276419"
            ]
           ],
           "sequential": [
            [
             0,
             "#0d0887"
            ],
            [
             0.1111111111111111,
             "#46039f"
            ],
            [
             0.2222222222222222,
             "#7201a8"
            ],
            [
             0.3333333333333333,
             "#9c179e"
            ],
            [
             0.4444444444444444,
             "#bd3786"
            ],
            [
             0.5555555555555556,
             "#d8576b"
            ],
            [
             0.6666666666666666,
             "#ed7953"
            ],
            [
             0.7777777777777778,
             "#fb9f3a"
            ],
            [
             0.8888888888888888,
             "#fdca26"
            ],
            [
             1,
             "#f0f921"
            ]
           ],
           "sequentialminus": [
            [
             0,
             "#0d0887"
            ],
            [
             0.1111111111111111,
             "#46039f"
            ],
            [
             0.2222222222222222,
             "#7201a8"
            ],
            [
             0.3333333333333333,
             "#9c179e"
            ],
            [
             0.4444444444444444,
             "#bd3786"
            ],
            [
             0.5555555555555556,
             "#d8576b"
            ],
            [
             0.6666666666666666,
             "#ed7953"
            ],
            [
             0.7777777777777778,
             "#fb9f3a"
            ],
            [
             0.8888888888888888,
             "#fdca26"
            ],
            [
             1,
             "#f0f921"
            ]
           ]
          },
          "colorway": [
           "#636efa",
           "#EF553B",
           "#00cc96",
           "#ab63fa",
           "#FFA15A",
           "#19d3f3",
           "#FF6692",
           "#B6E880",
           "#FF97FF",
           "#FECB52"
          ],
          "font": {
           "color": "#2a3f5f"
          },
          "geo": {
           "bgcolor": "white",
           "lakecolor": "white",
           "landcolor": "#E5ECF6",
           "showlakes": true,
           "showland": true,
           "subunitcolor": "white"
          },
          "hoverlabel": {
           "align": "left"
          },
          "hovermode": "closest",
          "mapbox": {
           "style": "light"
          },
          "paper_bgcolor": "white",
          "plot_bgcolor": "#E5ECF6",
          "polar": {
           "angularaxis": {
            "gridcolor": "white",
            "linecolor": "white",
            "ticks": ""
           },
           "bgcolor": "#E5ECF6",
           "radialaxis": {
            "gridcolor": "white",
            "linecolor": "white",
            "ticks": ""
           }
          },
          "scene": {
           "xaxis": {
            "backgroundcolor": "#E5ECF6",
            "gridcolor": "white",
            "gridwidth": 2,
            "linecolor": "white",
            "showbackground": true,
            "ticks": "",
            "zerolinecolor": "white"
           },
           "yaxis": {
            "backgroundcolor": "#E5ECF6",
            "gridcolor": "white",
            "gridwidth": 2,
            "linecolor": "white",
            "showbackground": true,
            "ticks": "",
            "zerolinecolor": "white"
           },
           "zaxis": {
            "backgroundcolor": "#E5ECF6",
            "gridcolor": "white",
            "gridwidth": 2,
            "linecolor": "white",
            "showbackground": true,
            "ticks": "",
            "zerolinecolor": "white"
           }
          },
          "shapedefaults": {
           "line": {
            "color": "#2a3f5f"
           }
          },
          "ternary": {
           "aaxis": {
            "gridcolor": "white",
            "linecolor": "white",
            "ticks": ""
           },
           "baxis": {
            "gridcolor": "white",
            "linecolor": "white",
            "ticks": ""
           },
           "bgcolor": "#E5ECF6",
           "caxis": {
            "gridcolor": "white",
            "linecolor": "white",
            "ticks": ""
           }
          },
          "title": {
           "x": 0.05
          },
          "xaxis": {
           "automargin": true,
           "gridcolor": "white",
           "linecolor": "white",
           "ticks": "",
           "title": {
            "standoff": 15
           },
           "zerolinecolor": "white",
           "zerolinewidth": 2
          },
          "yaxis": {
           "automargin": true,
           "gridcolor": "white",
           "linecolor": "white",
           "ticks": "",
           "title": {
            "standoff": 15
           },
           "zerolinecolor": "white",
           "zerolinewidth": 2
          }
         }
        },
        "title": {
         "text": "Antigüedad Promedio de Empleados por Cargo",
         "x": 0.5
        },
        "xaxis": {
         "anchor": "y",
         "domain": [
          0,
          1
         ],
         "title": {
          "text": "Cargo / Posición"
         }
        },
        "yaxis": {
         "anchor": "x",
         "domain": [
          0,
          1
         ],
         "title": {
          "text": "Antigüedad Promedio (Años)"
         }
        }
       }
      }
     },
     "metadata": {},
     "output_type": "display_data"
    },
    {
     "name": "stdout",
     "output_type": "stream",
     "text": [
      "✅ Gráfico 'Antigüedad Promedio por Cargo' generado y mostrado.\n",
      "✅ Conexión a la base de datos cerrada.\n",
      "\n",
      "--- Fin del Bloque de Generación de Gráficos ---\n"
     ]
    }
   ],
   "source": [
    "# Script para generar gráficos BI con Plotly Express (Antigüedad Promedio por Cargo)\n",
    "\n",
    "import pandas as pd\n",
    "import plotly.express as px\n",
    "from datetime import datetime\n",
    "from db_connection import get_engine, get_connection # Asegúrate de que este módulo esté accesible\n",
    "\n",
    "print(\"\\n--- Bloque 18 (Opción B): Generación de Gráfico BI - Antigüedad Promedio por Cargo ---\")\n",
    "\n",
    "conexion = None\n",
    "try:\n",
    "    print(\"Estableciendo conexión a la base de datos para el cálculo de antigüedad por cargo...\")\n",
    "    engine = get_engine()\n",
    "    conexion = get_connection()\n",
    "    print(\"✅ Conexión a la base de datos establecida.\")\n",
    "\n",
    "    # 1. Cargar datos de ambas tablas y unirlas\n",
    "    print(\"\\nCargando 'created_at' de 'employees' y 'name' de 'employee_positions'...\")\n",
    "    query = \"\"\"\n",
    "    SELECT\n",
    "        e.created_at,\n",
    "        ep.name AS position_name\n",
    "    FROM\n",
    "        employees AS e\n",
    "    JOIN\n",
    "        employee_positions AS ep ON e.employee_position_id = ep.id;\n",
    "    \"\"\"\n",
    "    df_employees_tenure = pd.read_sql(query, engine)\n",
    "    print(f\"DataFrame combinado cargado. Registros: {len(df_employees_tenure)}\")\n",
    "\n",
    "    # 2. Limpiar y preparar los datos\n",
    "    df_employees_tenure['created_at'] = pd.to_datetime(df_employees_tenure['created_at'], errors='coerce')\n",
    "\n",
    "    # Rellenar nombres de cargo nulos con 'Posición Desconocida'\n",
    "    df_employees_tenure['position_name'] = df_employees_tenure['position_name'].fillna('Posición Desconocida').astype(str).str.strip()\n",
    "\n",
    "    # Eliminar filas con fechas de creación nulas\n",
    "    df_employees_tenure.dropna(subset=['created_at'], inplace=True)\n",
    "\n",
    "    if df_employees_tenure.empty:\n",
    "        print(\"❌ No hay datos válidos (fechas de inicio de empleo o nombres de cargo) para generar el gráfico.\")\n",
    "        raise ValueError(\"No hay datos suficientes para graficar la antigüedad por cargo.\")\n",
    "\n",
    "    # 3. Calcular la antigüedad en años para cada empleado\n",
    "    today = datetime.now()\n",
    "    df_employees_tenure['tenure_years'] = ((today - df_employees_tenure['created_at']).dt.days / 365.25).round(1)\n",
    "\n",
    "    # 4. Calcular la antigüedad promedio por cargo\n",
    "    print(\"\\nCalculando la antigüedad promedio por cargo...\")\n",
    "    avg_tenure_by_position = df_employees_tenure.groupby('position_name')['tenure_years'].mean().reset_index()\n",
    "    avg_tenure_by_position.columns = ['Position_Name', 'Average_Tenure_Years']\n",
    "\n",
    "    # Redondear el promedio para mejor visualización\n",
    "    avg_tenure_by_position['Average_Tenure_Years'] = avg_tenure_by_position['Average_Tenure_Years'].round(2)\n",
    "\n",
    "    # Opcional: Ordenar los cargos por antigüedad promedio para una mejor lectura\n",
    "    avg_tenure_by_position = avg_tenure_by_position.sort_values('Average_Tenure_Years', ascending=False)\n",
    "\n",
    "    print(\"Antigüedad promedio por cargo:\")\n",
    "    print(avg_tenure_by_position.head())\n",
    "\n",
    "    # 5. Generar el gráfico de barras interactivo con Plotly Express\n",
    "    print(\"\\nGenerando gráfico de barras de 'Antigüedad Promedio por Cargo'...\")\n",
    "    fig = px.bar(avg_tenure_by_position,\n",
    "                 x='Position_Name',\n",
    "                 y='Average_Tenure_Years',\n",
    "                 title='Antigüedad Promedio de Empleados por Cargo',\n",
    "                 labels={\n",
    "                     'Position_Name': 'Cargo / Posición',\n",
    "                     'Average_Tenure_Years': 'Antigüedad Promedio (Años)'\n",
    "                 },\n",
    "                 text_auto='.2s', # Muestra el valor de antigüedad promedio en las barras\n",
    "                 color='Average_Tenure_Years', # Colorea las barras según la antigüedad promedio\n",
    "                 color_continuous_scale=px.colors.sequential.Agsunset # Una paleta de colores atractiva\n",
    "                )\n",
    "\n",
    "    fig.update_traces(textposition='outside')\n",
    "    fig.update_layout(xaxis_title=\"Cargo / Posición\",\n",
    "                      yaxis_title=\"Antigüedad Promedio (Años)\",\n",
    "                      title_x=0.5, # Centrar el título\n",
    "                      hovermode=\"x unified\"\n",
    "                     )\n",
    "\n",
    "    # 6. Mostrar el gráfico\n",
    "    fig.show()\n",
    "    print(\"✅ Gráfico 'Antigüedad Promedio por Cargo' generado y mostrado.\")\n",
    "\n",
    "except ValueError as ve:\n",
    "    print(f\"\\n❌❌ Error de datos para graficar: {ve}\")\n",
    "except Exception as e:\n",
    "    print(f\"\\n❌❌ Ocurrió un error general: {e}\")\n",
    "    print(\"Asegúrate de que las tablas 'employees' y 'employee_positions' existen.\")\n",
    "    print(\"Verifica que 'employees' tiene 'created_at' y 'employee_position_id'.\")\n",
    "    print(\"Verifica que 'employee_positions' tiene 'id' y 'name'.\")\n",
    "    print(\"Asegúrate que 'created_at' contiene fechas válidas.\")\n",
    "finally:\n",
    "    if conexion and conexion.is_connected():\n",
    "        conexion.close()\n",
    "        print(\"✅ Conexión a la base de datos cerrada.\")\n",
    "\n",
    "print(\"\\n--- Fin del Bloque de Generación de Gráficos ---\")"
   ]
  }
 ],
 "metadata": {
  "kernelspec": {
   "display_name": ".venv",
   "language": "python",
   "name": "python3"
  },
  "language_info": {
   "codemirror_mode": {
    "name": "ipython",
    "version": 3
   },
   "file_extension": ".py",
   "mimetype": "text/x-python",
   "name": "python",
   "nbconvert_exporter": "python",
   "pygments_lexer": "ipython3",
   "version": "3.13.2"
  }
 },
 "nbformat": 4,
 "nbformat_minor": 5
}
