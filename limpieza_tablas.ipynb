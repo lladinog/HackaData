{
 "cells": [
  {
   "cell_type": "markdown",
   "id": "24c0060a",
   "metadata": {},
   "source": [
    "**IMPORTAR LIBRERIAS**"
   ]
  },
  {
   "cell_type": "markdown",
   "id": "ea6182c6",
   "metadata": {},
   "source": [
    "---"
   ]
  },
  {
   "cell_type": "code",
<<<<<<< Updated upstream
   "execution_count": 26,
=======
   "execution_count": 37,
>>>>>>> Stashed changes
   "id": "c1e44092",
   "metadata": {},
   "outputs": [],
   "source": [
    "# Librerias de manejo de datos\n",
    "import pandas as pd"
   ]
  },
  {
   "cell_type": "code",
<<<<<<< Updated upstream
   "execution_count": 27,
=======
   "execution_count": 38,
>>>>>>> Stashed changes
   "id": "0e7a20e9",
   "metadata": {},
   "outputs": [
    {
     "name": "stdout",
     "output_type": "stream",
     "text": [
      "✅ Conexión exitosa a la base de datos\n"
     ]
    }
   ],
   "source": [
    "# Importar conexión\n",
    "from db_connection import get_connection\n",
    "\n",
    "# Conectarse a la base de datos\n",
    "conexion = get_connection()\n",
    "cursor = conexion.cursor()\n"
   ]
  },
  {
   "cell_type": "code",
<<<<<<< Updated upstream
   "execution_count": 28,
=======
   "execution_count": 39,
>>>>>>> Stashed changes
   "id": "e54641f7",
   "metadata": {},
   "outputs": [],
   "source": [
    "# Importar librerías para la conexión a la base de datos con SQLAlchemy\n",
    "from db_connection import get_engine\n",
    "\n",
    "engine = get_engine()"
   ]
  },
  {
   "cell_type": "code",
   "execution_count": 40,
   "id": "dcf0caf4",
   "metadata": {},
   "outputs": [
    {
<<<<<<< Updated upstream
     "ename": "ProgrammingError",
     "evalue": "2055: Cursor is not connected",
     "output_type": "error",
     "traceback": [
      "\u001b[31m---------------------------------------------------------------------------\u001b[39m",
      "\u001b[31mProgrammingError\u001b[39m                          Traceback (most recent call last)",
      "\u001b[36mFile \u001b[39m\u001b[32mc:\\Users\\llgga\\Personal\\2025-1\\HACKADATA\\HackaData\\.venv\\Lib\\site-packages\\mysql\\connector\\cursor_cext.py:311\u001b[39m, in \u001b[36mCMySQLCursor.execute\u001b[39m\u001b[34m(self, operation, params, map_results)\u001b[39m\n\u001b[32m    310\u001b[39m     \u001b[38;5;28;01mif\u001b[39;00m \u001b[38;5;129;01mnot\u001b[39;00m \u001b[38;5;28mself\u001b[39m._connection \u001b[38;5;129;01mor\u001b[39;00m \u001b[38;5;28mself\u001b[39m._connection.is_closed():\n\u001b[32m--> \u001b[39m\u001b[32m311\u001b[39m         \u001b[38;5;28;01mraise\u001b[39;00m ProgrammingError\n\u001b[32m    312\u001b[39m \u001b[38;5;28;01mexcept\u001b[39;00m (ProgrammingError, \u001b[38;5;167;01mReferenceError\u001b[39;00m) \u001b[38;5;28;01mas\u001b[39;00m err:\n",
      "\u001b[31mProgrammingError\u001b[39m: Unknown error",
      "\nThe above exception was the direct cause of the following exception:\n",
      "\u001b[31mProgrammingError\u001b[39m                          Traceback (most recent call last)",
      "\u001b[36mCell\u001b[39m\u001b[36m \u001b[39m\u001b[32mIn[40]\u001b[39m\u001b[32m, line 2\u001b[39m\n\u001b[32m      1\u001b[39m \u001b[38;5;66;03m# 📌 Obtener todas las tablas\u001b[39;00m\n\u001b[32m----> \u001b[39m\u001b[32m2\u001b[39m \u001b[43mcursor\u001b[49m\u001b[43m.\u001b[49m\u001b[43mexecute\u001b[49m\u001b[43m(\u001b[49m\u001b[33;43m\"\u001b[39;49m\u001b[33;43mSHOW TABLES;\u001b[39;49m\u001b[33;43m\"\u001b[39;49m\u001b[43m)\u001b[49m\n\u001b[32m      3\u001b[39m tablas = [fila[\u001b[32m0\u001b[39m] \u001b[38;5;28;01mfor\u001b[39;00m fila \u001b[38;5;129;01min\u001b[39;00m cursor.fetchall()]\n\u001b[32m      4\u001b[39m \u001b[38;5;28mprint\u001b[39m(\u001b[33mf\u001b[39m\u001b[33m\"\u001b[39m\u001b[33mTotal de tablas encontradas: \u001b[39m\u001b[38;5;132;01m{\u001b[39;00m\u001b[38;5;28mlen\u001b[39m(tablas)\u001b[38;5;132;01m}\u001b[39;00m\u001b[33m\"\u001b[39m)\n",
      "\u001b[36mFile \u001b[39m\u001b[32mc:\\Users\\llgga\\Personal\\2025-1\\HACKADATA\\HackaData\\.venv\\Lib\\site-packages\\mysql\\connector\\cursor_cext.py:313\u001b[39m, in \u001b[36mCMySQLCursor.execute\u001b[39m\u001b[34m(self, operation, params, map_results)\u001b[39m\n\u001b[32m    311\u001b[39m         \u001b[38;5;28;01mraise\u001b[39;00m ProgrammingError\n\u001b[32m    312\u001b[39m \u001b[38;5;28;01mexcept\u001b[39;00m (ProgrammingError, \u001b[38;5;167;01mReferenceError\u001b[39;00m) \u001b[38;5;28;01mas\u001b[39;00m err:\n\u001b[32m--> \u001b[39m\u001b[32m313\u001b[39m     \u001b[38;5;28;01mraise\u001b[39;00m ProgrammingError(\u001b[33m\"\u001b[39m\u001b[33mCursor is not connected\u001b[39m\u001b[33m\"\u001b[39m, \u001b[32m2055\u001b[39m) \u001b[38;5;28;01mfrom\u001b[39;00m\u001b[38;5;250m \u001b[39m\u001b[34;01merr\u001b[39;00m\n\u001b[32m    315\u001b[39m \u001b[38;5;28mself\u001b[39m._connection.handle_unread_result()\n\u001b[32m    316\u001b[39m \u001b[38;5;28mself\u001b[39m.reset()\n",
      "\u001b[31mProgrammingError\u001b[39m: 2055: Cursor is not connected"
=======
     "name": "stdout",
     "output_type": "stream",
     "text": [
      "Total de tablas encontradas: 75\n"
>>>>>>> Stashed changes
     ]
    }
   ],
   "source": [
    "# 📌 Obtener todas las tablas\n",
    "cursor.execute(\"SHOW TABLES;\")\n",
    "tablas = [fila[0] for fila in cursor.fetchall()]\n",
    "print(f\"Total de tablas encontradas: {len(tablas)}\")\n"
   ]
  },
  {
   "cell_type": "markdown",
   "id": "28208439",
   "metadata": {},
   "source": [
    "---"
   ]
  },
  {
   "cell_type": "markdown",
   "id": "5ba97470",
   "metadata": {},
   "source": [
    "**FUNCIONES**"
   ]
  },
  {
   "cell_type": "markdown",
   "id": "58231edf",
   "metadata": {},
   "source": [
    "---"
   ]
  },
  {
   "cell_type": "code",
<<<<<<< Updated upstream
   "execution_count": 30,
=======
   "execution_count": 41,
>>>>>>> Stashed changes
   "id": "1bc6a9e8",
   "metadata": {},
   "outputs": [],
   "source": [
    "def borrar_lista_tablas(tablas_a_borrar):\n",
    "    \"\"\"\n",
    "    Borra las tablas de la base de datos que se pasan como argumento.\n",
    "    \"\"\"\n",
    "    for tabla in tablas_a_borrar:\n",
    "        try:\n",
    "            cursor.execute(f\"DROP TABLE `{tabla}`;\")\n",
    "            tablas.remove(tabla)\n",
    "            print(f\"✅ Tabla eliminada: {tabla}\")\n",
    "        except Exception as e:\n",
    "            print(f\"❌ Error al eliminar {tabla}: {e}\")\n",
    "    \n",
    "    # Confirmar cambios\n",
    "    conexion.commit()"
   ]
  },
  {
   "cell_type": "markdown",
   "id": "dc0595a5",
   "metadata": {},
   "source": [
    "------"
   ]
  },
  {
   "cell_type": "markdown",
   "id": "cf0ecba4",
   "metadata": {},
   "source": [
    "**FILTROS PARA SEGREGAR Y ELIMINAR LAS TABLAS QUE NO SON ÚTILES**\n"
   ]
  },
  {
   "cell_type": "markdown",
   "id": "0c15b9e5",
   "metadata": {},
   "source": [
    "---"
   ]
  },
  {
   "cell_type": "markdown",
   "id": "e35c67df",
   "metadata": {},
   "source": [
    "*PRIMER FILTRO: Tablas con menos de 2 registros*"
   ]
  },
  {
   "cell_type": "code",
<<<<<<< Updated upstream
   "execution_count": 31,
=======
   "execution_count": 42,
>>>>>>> Stashed changes
   "id": "8fb27c13",
   "metadata": {},
   "outputs": [
    {
     "name": "stdout",
     "output_type": "stream",
     "text": [
      "\n",
<<<<<<< Updated upstream
      "Tablas candidatas para eliminación (41):\n",
      "['accounting_configurations', 'client_consumptions', 'client_subscriptions', 'company', 'contact_items_interests', 'contact_login_codes', 'contact_password_resets', 'contact_register_validation_codes', 'coupon_groups', 'coupon_redemptions', 'discounts', 'documents_external_register_status', 'ecommerce_configurations', 'ecommerce_contact_us', 'ecommerce_contact_users', 'ecommerce_item_questions', 'ecommerce_items_quantity_by_users', 'ecommerce_shipping_options', 'ecommerce_shopping_chats', 'ecommerce_user_register_validations', 'electronic_billing_counters', 'electronic_documents_configurations', 'electronic_payroll_data', 'electronic_payroll_submissions', 'epayco_payments', 'integrations', 'ledgers', 'mercado_pago_payments', 'notification_configurations', 'oauth_access_tokens', 'oauth_auth_codes', 'oauth_personal_access_clients', 'oauth_refresh_tokens', 'opening_inventory_balances', 'opening_receivable_payable_balances', 'paynilo_payments', 'payroll_configurations', 'payroll_consolidated', 'plan_restrictions', 'radian_events', 'term_and_conditions']\n"
=======
      "Tablas candidatas para eliminación (0):\n",
      "[]\n"
>>>>>>> Stashed changes
     ]
    }
   ],
   "source": [
    "# Escoger tablas a eliminar\n",
    "tablas_a_borrar = []\n",
    "\n",
    "for tabla in tablas:\n",
    "    try:\n",
    "        cursor.execute(f\"SELECT COUNT(*) FROM `{tabla}`;\")\n",
    "        total = cursor.fetchone()[0]\n",
    "        if total <= 1:\n",
    "            tablas_a_borrar.append(tabla)\n",
    "    except Exception as e:\n",
    "        print(f\"❌ Error evaluando tabla {tabla}: {e}\")\n",
    "\n",
    "print(f\"\\nTablas candidatas para eliminación ({len(tablas_a_borrar)}):\")\n",
    "print(tablas_a_borrar)\n"
   ]
  },
  {
   "cell_type": "code",
<<<<<<< Updated upstream
   "execution_count": 32,
=======
   "execution_count": 43,
>>>>>>> Stashed changes
   "id": "0ee36ee8",
   "metadata": {},
   "outputs": [
    {
     "name": "stdout",
     "output_type": "stream",
     "text": [
      "✅ Tabla eliminada: accounting_configurations\n",
      "✅ Tabla eliminada: client_consumptions\n",
      "✅ Tabla eliminada: client_subscriptions\n",
      "✅ Tabla eliminada: company\n",
      "✅ Tabla eliminada: contact_items_interests\n",
      "✅ Tabla eliminada: contact_login_codes\n",
      "✅ Tabla eliminada: contact_password_resets\n",
      "✅ Tabla eliminada: contact_register_validation_codes\n",
      "✅ Tabla eliminada: coupon_groups\n",
      "✅ Tabla eliminada: coupon_redemptions\n",
      "✅ Tabla eliminada: discounts\n",
      "✅ Tabla eliminada: documents_external_register_status\n",
      "✅ Tabla eliminada: ecommerce_configurations\n",
      "✅ Tabla eliminada: ecommerce_contact_us\n",
      "✅ Tabla eliminada: ecommerce_contact_users\n",
      "✅ Tabla eliminada: ecommerce_item_questions\n",
      "✅ Tabla eliminada: ecommerce_items_quantity_by_users\n",
      "✅ Tabla eliminada: ecommerce_shipping_options\n",
      "✅ Tabla eliminada: ecommerce_shopping_chats\n",
      "✅ Tabla eliminada: ecommerce_user_register_validations\n",
      "✅ Tabla eliminada: electronic_billing_counters\n",
      "✅ Tabla eliminada: electronic_documents_configurations\n",
      "✅ Tabla eliminada: electronic_payroll_data\n",
      "✅ Tabla eliminada: electronic_payroll_submissions\n",
      "✅ Tabla eliminada: epayco_payments\n",
      "✅ Tabla eliminada: integrations\n",
      "✅ Tabla eliminada: ledgers\n",
      "✅ Tabla eliminada: mercado_pago_payments\n",
      "✅ Tabla eliminada: notification_configurations\n",
      "✅ Tabla eliminada: oauth_access_tokens\n",
      "✅ Tabla eliminada: oauth_auth_codes\n",
      "✅ Tabla eliminada: oauth_personal_access_clients\n",
      "✅ Tabla eliminada: oauth_refresh_tokens\n",
      "✅ Tabla eliminada: opening_inventory_balances\n",
      "✅ Tabla eliminada: opening_receivable_payable_balances\n",
      "✅ Tabla eliminada: paynilo_payments\n",
      "✅ Tabla eliminada: payroll_configurations\n",
      "✅ Tabla eliminada: payroll_consolidated\n",
      "✅ Tabla eliminada: plan_restrictions\n",
      "✅ Tabla eliminada: radian_events\n",
      "✅ Tabla eliminada: term_and_conditions\n"
     ]
    }
   ],
   "source": [
    "# ⚠️ Solo si tienes respaldo y estás en entorno seguro\n",
    "# ELIMINAR TABLAS CANDIDATAS\n",
    "\n",
    "# Desactivar restricciones\n",
    "cursor.execute(\"SET FOREIGN_KEY_CHECKS=0;\")\n",
    "\n",
    "borrar_lista_tablas(tablas_a_borrar)\n",
    "\n",
    "# Volver a activar restricciones\n",
    "cursor.execute(\"SET FOREIGN_KEY_CHECKS=1;\")\n",
    "\n"
   ]
  },
  {
   "cell_type": "markdown",
   "id": "e2e7a1e4",
   "metadata": {},
   "source": [
    "---"
   ]
  },
  {
   "cell_type": "markdown",
   "id": "13dd894a",
   "metadata": {},
   "source": [
    "*SEGUNDO FILTRO: Tablas posiblemente innecesarias por el nombre y breve análisis*"
   ]
  },
  {
   "cell_type": "code",
<<<<<<< Updated upstream
   "execution_count": 33,
=======
   "execution_count": 44,
>>>>>>> Stashed changes
   "id": "50927f7a",
   "metadata": {},
   "outputs": [
    {
     "name": "stdout",
     "output_type": "stream",
     "text": [
      "accounting_account_balances\n",
      "accounting_accounts\n",
      "accounting_movements\n",
      "accounting_voucher_items\n",
      "accounting_voucher_types\n",
      "accounting_vouchers\n",
      "api_access_tokens\n",
      "billing_numberings\n",
      "company_areas\n",
      "configurations\n",
      "consolidated_retention_certificates\n",
      "contact_accounts\n",
      "contact_relationships\n",
      "contact_statements\n",
      "contacts\n",
      "contract_salary_history\n",
      "costs_and_expenses\n",
      "costs_and_expenses_categories\n",
      "coupons\n",
      "custom_fields\n",
      "dining_tables\n",
      "document_items\n",
      "documents\n",
      "ecommerce_legal_info\n",
      "ecommerce_purchase_orders\n",
      "electronic_payroll_test_set\n",
      "employee_contracts\n",
      "employee_positions\n",
      "employees\n",
      "fixed_asset_depreciations\n",
      "fixed_assets\n",
      "fixed_assets_groups\n",
      "headquarter_warehouses\n",
      "headquarters\n",
      "inventory_adjustments\n",
      "inventory_groups\n",
      "item_balance\n",
      "item_categories\n",
      "item_depreciations\n",
      "item_kardex\n",
      "item_subcategories\n",
      "item_variations\n",
      "items\n",
      "migrations\n",
      "oauth_clients\n",
      "payment_conditions\n",
      "payments\n",
      "paynilo\n",
      "payroll_deductions\n",
      "payroll_details\n",
      "payroll_incomes\n",
      "payroll_providers\n",
      "payrolls\n",
      "plan_electronic_documents\n",
      "plan_system_controller\n",
      "price_lists\n",
      "radian_documents\n",
      "retention_concepts\n",
      "retentions\n",
      "retentions_applied\n",
      "retentions_certificates\n",
      "role_permissions\n",
      "roles\n",
      "severance_payments\n",
      "system_counters\n",
      "system_restrictions\n",
      "taxes\n",
      "template_versions\n",
      "templates\n",
      "user_data\n",
      "user_headquarters\n",
      "user_roles\n",
      "values_x_item\n",
      "warehouse_transfer_logs\n",
      "warehouses\n"
     ]
    }
   ],
   "source": [
    "# Imprimir los nombres de las tablas restantes\n",
    "for tabla in tablas:\n",
    "    print(tabla)\n"
   ]
  },
  {
   "cell_type": "markdown",
   "id": "1f0d1819",
   "metadata": {},
   "source": [
    "*ANÁLISIS Y CONCLUSIONES DE LA INFORMACIÓN OBTENIDA*"
   ]
  },
  {
   "cell_type": "markdown",
   "id": "9e49afb7",
   "metadata": {},
   "source": [
    "**Tablas clave para análisis de gestión empresarial (💡 Mantener)**\n",
    "\n",
    "Estas son probablemente las más útiles para análisis de KPIs, dashboards o visualización de negocio:\n",
    "\n",
    "*Categoría\t//  Tablas clave*\n",
    "\n",
    "📦 Inventario\t= items, item_balance, item_kardex, warehouses, inventory_adjustments, item_categories, item_subcategories, item_variations\n",
    "\n",
    "💼 Ventas / Documentos\t= documents, document_items, contacts (clientes/proveedores)\n",
    "\n",
    "🧾 Contabilidad\t= accounting_vouchers, accounting_voucher_items, accounting_accounts, accounting_movements, retentions, retention_concepts, retentions_applied, accounting_account_balances\n",
    "\n",
    "👥 Empleados / Nómina\t= employees, employee_contracts, payrolls, payroll_details, payroll_incomes, payroll_deductions\n",
    "\n",
    "🛒 Compras\t= ecommerce_purchase_orders\n",
    "\n",
    "📊 Precios\t= price_lists\n",
    "\n",
    "🏪 Organización\t= headquarters, user_headquarters, roles, user_roles, company_areas\n",
    "\n",
    "🧾 Impuestos\t= taxes\n",
    "\n",
    "🏭 Activos fijos\t= fixed_assets, fixed_asset_depreciations, fixed_assets_groups\n"
   ]
  },
  {
   "cell_type": "markdown",
   "id": "335571bb",
   "metadata": {},
   "source": [
    "**Relevancia baja o dependiente del contexto (🤔 Revisar)**\n",
    "\n",
    "*Estas podrían ser útiles dependiendo del foco del proyecto (clientes, pedidos, legal, e-commerce):*\n",
    "\n",
    "contact_relationships, contact_accounts, contact_statements\n",
    "\n",
    "coupons, coupon_groups (si hay ecommerce)\n",
    "\n",
    "employee_positions, contract_salary_history\n",
    "\n",
    "plan_electronic_documents, plan_system_controller\n",
    "\n",
    "ecommerce_legal_info\n",
    "\n",
    "costs_and_expenses, costs_and_expenses_categories\n",
    "\n",
    "radian_documents (puede ser de facturación electrónica)\n",
    "\n",
    "dining_tables (¿restaurante? puede ser irrelevante)\n",
    "\n",
    "system_counters, system_restrictions"
   ]
  },
  {
   "cell_type": "code",
<<<<<<< Updated upstream
   "execution_count": 34,
=======
   "execution_count": 45,
>>>>>>> Stashed changes
   "id": "702f90f2",
   "metadata": {},
   "outputs": [],
   "source": [
    "# Lista de tablas candidatas a eliminar\n",
    "tablas_candidatas = [\n",
    "    \"api_access_tokens\",\n",
    "    \"electronic_payroll_test_set\",\n",
    "    \"migrations\",\n",
    "    \"oauth_clients\",\n",
    "    \"paynilo\",\n",
    "    \"role_permissions\",\n",
    "    \"template_versions\",\n",
    "    \"templates\",\n",
    "    \"user_data\",\n",
    "    \"values_x_item\",\n",
    "    \"warehouse_transfer_logs\",\n",
    "    \"billing_numberings\",\n",
    "    \"custom_fields\",\n",
    "    \"configurations\",\n",
    "    \"system_counters\",\n",
    "    \"system_restrictions\"\n",
    "]"
   ]
  },
  {
   "cell_type": "markdown",
   "id": "b1a52865",
   "metadata": {},
   "source": [
    "---"
   ]
  },
  {
   "cell_type": "markdown",
   "id": "cf8073e1",
   "metadata": {},
   "source": [
    "*TERCER FILTRO: tablas a eliminar según sus columnas y número de filas*"
   ]
  },
  {
   "cell_type": "code",
<<<<<<< Updated upstream
   "execution_count": 35,
=======
   "execution_count": 46,
>>>>>>> Stashed changes
   "id": "81b14fbf",
   "metadata": {},
   "outputs": [
    {
     "name": "stdout",
     "output_type": "stream",
     "text": [
      "\n",
      "📘 Tabla: api_access_tokens\n",
      "Columnas: ['id', 'description', 'token', 'platform_id', 'public', 'created_at', 'updated_at']\n",
      "size:  28\n",
      "\n",
      "📘 Tabla: electronic_payroll_test_set\n",
      "Columnas: ['id', 'batch', 'number', 'type', 'cune', 'document', 'response', 'dian_response', 'status', 'error', 'created_at', 'updated_at']\n",
      "size:  60\n",
      "\n",
      "📘 Tabla: migrations\n",
      "Columnas: ['id', 'migration', 'batch']\n",
      "size:  15\n",
      "\n",
      "📘 Tabla: oauth_clients\n",
      "Columnas: ['id', 'user_id', 'name', 'secret', 'redirect', 'personal_access_client', 'password_client', 'revoked', 'created_at', 'updated_at']\n",
      "size:  20\n",
      "\n",
      "📘 Tabla: paynilo\n",
      "Columnas: ['id', 'item', 'payment_link', 'paynilo_request', 'payment_status', 'invoice_sent', 'invoice', 'user_id', 'is_subscription', 'is_subscription_confirmed', 'subscription_status', 'created_at', 'updated_at', 'cancelled_at']\n",
      "size:  70\n",
      "\n",
      "📘 Tabla: role_permissions\n",
      "Columnas: ['role_id', 'permission_id', 'created_at', 'updated_at']\n",
      "size:  20\n",
      "\n",
      "📘 Tabla: template_versions\n",
      "Columnas: ['id', 'name', 'description', 'created_at', 'updated_at']\n",
      "size:  10\n",
      "\n",
      "📘 Tabla: templates\n",
      "Columnas: ['id', 'template_type', 'design_type', 'name', 'orientation', 'color', 'version', 'status', 'created_at', 'updated_at']\n",
      "size:  40\n",
      "\n",
      "📘 Tabla: user_data\n",
      "Columnas: ['user_id', 'area', 'position', 'created_at', 'updated_at']\n",
      "size:  25\n",
      "\n",
      "📘 Tabla: values_x_item\n",
      "Columnas: ['id', 'item_id', 'inventory_quantity', 'sale_price', 'last_price_sale', 'unit_cost', 'utility', 'total_value_utility', 'sale_price_no_tax', 'tax_value', 'healthy_tax_value', 'min_sale_price', 'max_sale_price', 'average_unit_cost', 'price_lists', 'warehouse_id', 'warehouse_quantity', 'created_at', 'updated_at']\n",
      "size:  95\n",
      "\n",
      "📘 Tabla: warehouse_transfer_logs\n",
      "Columnas: ['id', 'source_warehouse_id', 'destination_warehouse_id', 'headquarter_id', 'item_id', 'quantity', 'user_id', 'date', 'notes', 'created_at', 'updated_at']\n",
      "size:  55\n",
      "\n",
      "📘 Tabla: billing_numberings\n",
      "Columnas: ['id', 'document_type_id', 'pos_numbering', 'name', 'prefix', 'initial_number', 'current_number', 'final_number', 'valid_since', 'valid_until', 'validity', 'preferred', 'electronic_billing', 'is_ecommerce', 'resolution_number', 'resolution_type', 'resolution_description', 'tech_key', 'notes', 'used', 'factible_numbering_id', 'factible_report_id', 'template', 'headquarter_id', 'warehouse_id', 'status', 'user_id', 'deleted_at', 'created_at', 'updated_at', 'contingency']\n",
      "size:  155\n",
      "\n",
      "📘 Tabla: custom_fields\n",
      "Columnas: ['id', 'identifier', 'module_id', 'name', 'field_type_id', 'default_value', 'description', 'tooltip', 'placeholder', 'required', 'show_in_print', 'options', 'field_size', 'status', 'created_at', 'updated_at', 'deleted_at']\n",
      "size:  85\n",
      "\n",
      "📘 Tabla: configurations\n",
      "Columnas: ['id', 'key', 'value', 'created_at', 'updated_at']\n",
      "size:  25\n",
      "\n",
      "📘 Tabla: system_counters\n",
      "Columnas: ['id', 'platform_id', 'contact_clients', 'contact_providers', 'contact_groups', 'contact_leads', 'contact_relationships', 'client_consumptions', 'client_subscriptions', 'debit_notes', 'debit_notes_numberings', 'credit_notes', 'credit_notes_numberings', 'electronic_documents', 'electronic_adjustment_documents', 'monthly_electronic_documents', 'estimates', 'inventory_adjustments', 'invoices', 'free_invoices', 'monthly_billing_value', 'annual_billing_value', 'invoice_numberings', 'items', 'item_categories', 'item_subcategories', 'price_lists', 'payments_received', 'remissions', 'supplier_bills', 'purchase_orders', 'payments', 'retentions', 'taxes', 'payment_condition', 'headquarters', 'warehouses', 'file_storage_size', 'users', 'employees', 'created_at', 'updated_at']\n",
      "size:  168\n",
      "\n",
      "📘 Tabla: system_restrictions\n",
      "Columnas: ['id', 'item_id', 'code', 'name', 'billing_frequency', 'fee', 'quantity', 'time', 'storage', 'functionality', 'platform_id', 'free_layer', 'can_buy_documents', 'status', 'user_id', 'created_at', 'updated_at']\n",
      "size:  85\n"
     ]
    }
   ],
   "source": [
    "\n",
    "# Mostrar información muy básica de las tablas candidatas\n",
    "for tabla in tablas_candidatas:\n",
    "    try:\n",
    "        df = pd.read_sql(f\"SELECT * FROM `{tabla}` LIMIT 5\", engine)\n",
    "        print(f\"\\n📘 Tabla: {tabla}\")\n",
    "        print(\"Columnas:\", df.columns.tolist())\n",
    "        print(\"size: \", df.size)\n",
    "    except Exception as e:\n",
    "        print(f\"\\n❌ Error al cargar tabla {tabla}: {e}\")"
   ]
  },
  {
   "cell_type": "markdown",
   "id": "c1a0d171",
   "metadata": {},
   "source": [
    "**Tablas candidatas fuertes para eliminación (por contenido y nombre)**\n",
    "\n",
    "Estas tablas tienen pocos registros, estructuras irrelevantes para KPIs o funciones accesorias que no impactan directamente en la gestión:\n",
    "\n",
    "*Tabla\t// Motivo principal*\n",
    "\n",
    "api_access_tokens\tManejo técnico de tokens\n",
    "\n",
    "electronic_payroll_test_set\tDatos de prueba (test set)\n",
    "\n",
    "migrations\tSolo para migraciones del sistema\n",
    "\n",
    "oauth_clients\tSeguridad/autenticación interna\n",
    "\n",
    "paynilo\tIntegración de pagos externa\n",
    "\n",
    "role_permissions\tControl de permisos internos\n",
    "\n",
    "template_versions\tVersiones de plantillas, sin datos\n",
    "\n",
    "templates\tEstructura visual, no analítica\n",
    "\n",
    "user_data\tSolo datos de área/cargo del usuario\n",
    "\n",
    "custom_fields\tCampos personalizados (metadatos)\n",
    "\n",
    "system_counters\tEstadísticas internas del sistema\n",
    "\n",
    "system_restrictions\tRestricciones de uso/licencia\n",
    "\n",
    "values_x_item\tDatos muy técnicos por item, posiblemente redundantes\n",
    "\n",
    "warehouse_transfer_logs\tRegistro técnico, no necesariamente útil para KPIs"
   ]
  },
  {
   "cell_type": "markdown",
   "id": "f002ae8b",
   "metadata": {},
   "source": [
    "----"
   ]
  },
  {
   "cell_type": "markdown",
   "id": "ba4e3993",
   "metadata": {},
   "source": [
    "*CUARTO FILTRO: Investigar mas a fondo las tablas dudosas*"
   ]
  },
  {
   "cell_type": "markdown",
   "id": "c0748864",
   "metadata": {},
   "source": [
    "**⚠️ Tablas dudosas (verificar con .info() antes de decidir)**\n",
    "\n",
    "Estas tienen algo más de contenido o potencial analítico dependiendo del negocio:\n",
    "\n",
    "*billing_numberings:* Tiene 155 registros. Podría contener información útil para facturación si los números se asocian a documentos.\n",
    "\n",
    "*configurations:* Solo 25 registros, pero hay que ver si son configuraciones claves que afectan reportes.\n",
    "\n"
   ]
  },
  {
   "cell_type": "code",
<<<<<<< Updated upstream
   "execution_count": 36,
=======
   "execution_count": 47,
>>>>>>> Stashed changes
   "id": "2e551c8d",
   "metadata": {},
   "outputs": [
    {
     "name": "stdout",
     "output_type": "stream",
     "text": [
      "\n",
      "📋 Tabla: billing_numberings\n",
      "▶️ .info():\n",
      "<class 'pandas.core.frame.DataFrame'>\n",
      "RangeIndex: 50 entries, 0 to 49\n",
      "Data columns (total 31 columns):\n",
      " #   Column                  Non-Null Count  Dtype         \n",
      "---  ------                  --------------  -----         \n",
      " 0   id                      50 non-null     int64         \n",
      " 1   document_type_id        50 non-null     int64         \n",
      " 2   pos_numbering           50 non-null     int64         \n",
      " 3   name                    50 non-null     object        \n",
      " 4   prefix                  50 non-null     object        \n",
      " 5   initial_number          50 non-null     int64         \n",
      " 6   current_number          50 non-null     int64         \n",
      " 7   final_number            22 non-null     float64       \n",
      " 8   valid_since             22 non-null     object        \n",
      " 9   valid_until             22 non-null     object        \n",
      " 10  validity                22 non-null     float64       \n",
      " 11  preferred               50 non-null     int64         \n",
      " 12  electronic_billing      50 non-null     int64         \n",
      " 13  is_ecommerce            50 non-null     int64         \n",
      " 14  resolution_number       19 non-null     object        \n",
      " 15  resolution_type         19 non-null     object        \n",
      " 16  resolution_description  19 non-null     object        \n",
      " 17  tech_key                5 non-null      object        \n",
      " 18  notes                   0 non-null      object        \n",
      " 19  used                    50 non-null     int64         \n",
      " 20  factible_numbering_id   0 non-null      object        \n",
      " 21  factible_report_id      0 non-null      object        \n",
      " 22  template                31 non-null     object        \n",
      " 23  headquarter_id          50 non-null     int64         \n",
      " 24  warehouse_id            50 non-null     int64         \n",
      " 25  status                  50 non-null     int64         \n",
      " 26  user_id                 50 non-null     int64         \n",
      " 27  deleted_at              0 non-null      object        \n",
      " 28  created_at              25 non-null     datetime64[ns]\n",
      " 29  updated_at              31 non-null     datetime64[ns]\n",
      " 30  contingency             50 non-null     int64         \n",
      "dtypes: datetime64[ns](2), float64(2), int64(14), object(13)\n",
      "memory usage: 12.2+ KB\n",
      "None\n",
      "▶️ Primeras filas:\n"
     ]
    },
    {
     "data": {
      "text/html": [
       "<div>\n",
       "<style scoped>\n",
       "    .dataframe tbody tr th:only-of-type {\n",
       "        vertical-align: middle;\n",
       "    }\n",
       "\n",
       "    .dataframe tbody tr th {\n",
       "        vertical-align: top;\n",
       "    }\n",
       "\n",
       "    .dataframe thead th {\n",
       "        text-align: right;\n",
       "    }\n",
       "</style>\n",
       "<table border=\"1\" class=\"dataframe\">\n",
       "  <thead>\n",
       "    <tr style=\"text-align: right;\">\n",
       "      <th></th>\n",
       "      <th>id</th>\n",
       "      <th>document_type_id</th>\n",
       "      <th>pos_numbering</th>\n",
       "      <th>name</th>\n",
       "      <th>prefix</th>\n",
       "      <th>initial_number</th>\n",
       "      <th>current_number</th>\n",
       "      <th>final_number</th>\n",
       "      <th>valid_since</th>\n",
       "      <th>valid_until</th>\n",
       "      <th>...</th>\n",
       "      <th>factible_report_id</th>\n",
       "      <th>template</th>\n",
       "      <th>headquarter_id</th>\n",
       "      <th>warehouse_id</th>\n",
       "      <th>status</th>\n",
       "      <th>user_id</th>\n",
       "      <th>deleted_at</th>\n",
       "      <th>created_at</th>\n",
       "      <th>updated_at</th>\n",
       "      <th>contingency</th>\n",
       "    </tr>\n",
       "  </thead>\n",
       "  <tbody>\n",
       "    <tr>\n",
       "      <th>0</th>\n",
       "      <td>1</td>\n",
       "      <td>11</td>\n",
       "      <td>0</td>\n",
       "      <td>Remisiones</td>\n",
       "      <td></td>\n",
       "      <td>0</td>\n",
       "      <td>56</td>\n",
       "      <td>NaN</td>\n",
       "      <td>None</td>\n",
       "      <td>None</td>\n",
       "      <td>...</td>\n",
       "      <td>None</td>\n",
       "      <td>{\"id\": 1, \"name\": \"Carta\", \"template_type\": \"1\"}</td>\n",
       "      <td>1</td>\n",
       "      <td>1</td>\n",
       "      <td>1</td>\n",
       "      <td>10</td>\n",
       "      <td>None</td>\n",
       "      <td>NaT</td>\n",
       "      <td>2024-05-24 09:54:00</td>\n",
       "      <td>0</td>\n",
       "    </tr>\n",
       "    <tr>\n",
       "      <th>1</th>\n",
       "      <td>2</td>\n",
       "      <td>12</td>\n",
       "      <td>0</td>\n",
       "      <td>Cotizaciones</td>\n",
       "      <td></td>\n",
       "      <td>0</td>\n",
       "      <td>91</td>\n",
       "      <td>NaN</td>\n",
       "      <td>None</td>\n",
       "      <td>None</td>\n",
       "      <td>...</td>\n",
       "      <td>None</td>\n",
       "      <td>{\"id\": 3, \"name\": \"POS\", \"template_type\": \"1\"}</td>\n",
       "      <td>1</td>\n",
       "      <td>1</td>\n",
       "      <td>1</td>\n",
       "      <td>10</td>\n",
       "      <td>None</td>\n",
       "      <td>NaT</td>\n",
       "      <td>2024-07-13 11:53:24</td>\n",
       "      <td>0</td>\n",
       "    </tr>\n",
       "    <tr>\n",
       "      <th>2</th>\n",
       "      <td>3</td>\n",
       "      <td>13</td>\n",
       "      <td>0</td>\n",
       "      <td>Recibos de Caja</td>\n",
       "      <td></td>\n",
       "      <td>0</td>\n",
       "      <td>506</td>\n",
       "      <td>NaN</td>\n",
       "      <td>None</td>\n",
       "      <td>None</td>\n",
       "      <td>...</td>\n",
       "      <td>None</td>\n",
       "      <td>{\"id\": 1, \"name\": \"Carta\", \"template_type\": \"1\"}</td>\n",
       "      <td>1</td>\n",
       "      <td>1</td>\n",
       "      <td>1</td>\n",
       "      <td>10</td>\n",
       "      <td>None</td>\n",
       "      <td>NaT</td>\n",
       "      <td>2024-07-17 10:58:41</td>\n",
       "      <td>0</td>\n",
       "    </tr>\n",
       "    <tr>\n",
       "      <th>3</th>\n",
       "      <td>4</td>\n",
       "      <td>14</td>\n",
       "      <td>0</td>\n",
       "      <td>Comprobantes de Pago</td>\n",
       "      <td></td>\n",
       "      <td>0</td>\n",
       "      <td>113</td>\n",
       "      <td>NaN</td>\n",
       "      <td>None</td>\n",
       "      <td>None</td>\n",
       "      <td>...</td>\n",
       "      <td>None</td>\n",
       "      <td>{\"id\": 1, \"name\": \"Carta\", \"template_type\": \"1\"}</td>\n",
       "      <td>1</td>\n",
       "      <td>1</td>\n",
       "      <td>1</td>\n",
       "      <td>0</td>\n",
       "      <td>None</td>\n",
       "      <td>NaT</td>\n",
       "      <td>2024-07-17 11:00:31</td>\n",
       "      <td>0</td>\n",
       "    </tr>\n",
       "    <tr>\n",
       "      <th>4</th>\n",
       "      <td>5</td>\n",
       "      <td>15</td>\n",
       "      <td>0</td>\n",
       "      <td>Órdenes de Compra</td>\n",
       "      <td></td>\n",
       "      <td>0</td>\n",
       "      <td>23</td>\n",
       "      <td>NaN</td>\n",
       "      <td>None</td>\n",
       "      <td>None</td>\n",
       "      <td>...</td>\n",
       "      <td>None</td>\n",
       "      <td>{\"id\": 1, \"name\": \"Carta\", \"template_type\": \"1\"}</td>\n",
       "      <td>1</td>\n",
       "      <td>1</td>\n",
       "      <td>1</td>\n",
       "      <td>0</td>\n",
       "      <td>None</td>\n",
       "      <td>NaT</td>\n",
       "      <td>2024-04-03 16:10:15</td>\n",
       "      <td>0</td>\n",
       "    </tr>\n",
       "  </tbody>\n",
       "</table>\n",
       "<p>5 rows × 31 columns</p>\n",
       "</div>"
      ],
      "text/plain": [
       "   id  document_type_id  pos_numbering                  name prefix  \\\n",
       "0   1                11              0            Remisiones          \n",
       "1   2                12              0          Cotizaciones          \n",
       "2   3                13              0       Recibos de Caja          \n",
       "3   4                14              0  Comprobantes de Pago          \n",
       "4   5                15              0     Órdenes de Compra          \n",
       "\n",
       "   initial_number  current_number  final_number valid_since valid_until  ...  \\\n",
       "0               0              56           NaN        None        None  ...   \n",
       "1               0              91           NaN        None        None  ...   \n",
       "2               0             506           NaN        None        None  ...   \n",
       "3               0             113           NaN        None        None  ...   \n",
       "4               0              23           NaN        None        None  ...   \n",
       "\n",
       "   factible_report_id                                          template  \\\n",
       "0                None  {\"id\": 1, \"name\": \"Carta\", \"template_type\": \"1\"}   \n",
       "1                None    {\"id\": 3, \"name\": \"POS\", \"template_type\": \"1\"}   \n",
       "2                None  {\"id\": 1, \"name\": \"Carta\", \"template_type\": \"1\"}   \n",
       "3                None  {\"id\": 1, \"name\": \"Carta\", \"template_type\": \"1\"}   \n",
       "4                None  {\"id\": 1, \"name\": \"Carta\", \"template_type\": \"1\"}   \n",
       "\n",
       "   headquarter_id  warehouse_id status user_id deleted_at created_at  \\\n",
       "0               1             1      1      10       None        NaT   \n",
       "1               1             1      1      10       None        NaT   \n",
       "2               1             1      1      10       None        NaT   \n",
       "3               1             1      1       0       None        NaT   \n",
       "4               1             1      1       0       None        NaT   \n",
       "\n",
       "           updated_at  contingency  \n",
       "0 2024-05-24 09:54:00            0  \n",
       "1 2024-07-13 11:53:24            0  \n",
       "2 2024-07-17 10:58:41            0  \n",
       "3 2024-07-17 11:00:31            0  \n",
       "4 2024-04-03 16:10:15            0  \n",
       "\n",
       "[5 rows x 31 columns]"
      ]
     },
     "metadata": {},
     "output_type": "display_data"
    },
    {
     "name": "stdout",
     "output_type": "stream",
     "text": [
      "\n",
      "📋 Tabla: configurations\n",
      "▶️ .info():\n",
      "<class 'pandas.core.frame.DataFrame'>\n",
      "RangeIndex: 12 entries, 0 to 11\n",
      "Data columns (total 5 columns):\n",
      " #   Column      Non-Null Count  Dtype         \n",
      "---  ------      --------------  -----         \n",
      " 0   id          12 non-null     int64         \n",
      " 1   key         12 non-null     object        \n",
      " 2   value       12 non-null     object        \n",
      " 3   created_at  12 non-null     datetime64[ns]\n",
      " 4   updated_at  12 non-null     datetime64[ns]\n",
      "dtypes: datetime64[ns](2), int64(1), object(2)\n",
      "memory usage: 612.0+ bytes\n",
      "None\n",
      "▶️ Primeras filas:\n"
     ]
    },
    {
     "data": {
      "text/html": [
       "<div>\n",
       "<style scoped>\n",
       "    .dataframe tbody tr th:only-of-type {\n",
       "        vertical-align: middle;\n",
       "    }\n",
       "\n",
       "    .dataframe tbody tr th {\n",
       "        vertical-align: top;\n",
       "    }\n",
       "\n",
       "    .dataframe thead th {\n",
       "        text-align: right;\n",
       "    }\n",
       "</style>\n",
       "<table border=\"1\" class=\"dataframe\">\n",
       "  <thead>\n",
       "    <tr style=\"text-align: right;\">\n",
       "      <th></th>\n",
       "      <th>id</th>\n",
       "      <th>key</th>\n",
       "      <th>value</th>\n",
       "      <th>created_at</th>\n",
       "      <th>updated_at</th>\n",
       "    </tr>\n",
       "  </thead>\n",
       "  <tbody>\n",
       "    <tr>\n",
       "      <th>0</th>\n",
       "      <td>1</td>\n",
       "      <td>config_version</td>\n",
       "      <td>130</td>\n",
       "      <td>2020-06-23 16:46:33</td>\n",
       "      <td>2024-07-22 04:55:26</td>\n",
       "    </tr>\n",
       "    <tr>\n",
       "      <th>1</th>\n",
       "      <td>2</td>\n",
       "      <td>billing_actor_1</td>\n",
       "      <td>\"COMERCIAL\"</td>\n",
       "      <td>2020-06-23 17:04:57</td>\n",
       "      <td>2020-09-16 06:57:29</td>\n",
       "    </tr>\n",
       "    <tr>\n",
       "      <th>2</th>\n",
       "      <td>3</td>\n",
       "      <td>billing_actor_2</td>\n",
       "      <td>\"Entregador\"</td>\n",
       "      <td>2020-06-23 17:05:05</td>\n",
       "      <td>2021-06-29 07:21:04</td>\n",
       "    </tr>\n",
       "    <tr>\n",
       "      <th>3</th>\n",
       "      <td>4</td>\n",
       "      <td>invoice_fields</td>\n",
       "      <td>{\"reference\": false, \"description\": true}</td>\n",
       "      <td>2020-06-23 17:07:56</td>\n",
       "      <td>2024-02-06 05:25:37</td>\n",
       "    </tr>\n",
       "    <tr>\n",
       "      <th>4</th>\n",
       "      <td>5</td>\n",
       "      <td>barcode_scanner</td>\n",
       "      <td>{\"enabled\": false}</td>\n",
       "      <td>2020-06-23 17:08:58</td>\n",
       "      <td>2024-07-16 03:28:48</td>\n",
       "    </tr>\n",
       "  </tbody>\n",
       "</table>\n",
       "</div>"
      ],
      "text/plain": [
       "   id              key                                      value  \\\n",
       "0   1   config_version                                        130   \n",
       "1   2  billing_actor_1                                \"COMERCIAL\"   \n",
       "2   3  billing_actor_2                               \"Entregador\"   \n",
       "3   4   invoice_fields  {\"reference\": false, \"description\": true}   \n",
       "4   5  barcode_scanner                         {\"enabled\": false}   \n",
       "\n",
       "           created_at          updated_at  \n",
       "0 2020-06-23 16:46:33 2024-07-22 04:55:26  \n",
       "1 2020-06-23 17:04:57 2020-09-16 06:57:29  \n",
       "2 2020-06-23 17:05:05 2021-06-29 07:21:04  \n",
       "3 2020-06-23 17:07:56 2024-02-06 05:25:37  \n",
       "4 2020-06-23 17:08:58 2024-07-16 03:28:48  "
      ]
     },
     "metadata": {},
     "output_type": "display_data"
    }
   ],
   "source": [
    "# Obtener el esquema de cada tabla para decidir si son candidatas a eliminación\n",
    "tablas_dudosas = ['billing_numberings', 'configurations'] # Agregar mas tablas si es necesario\n",
    "\n",
    "for tabla in tablas_dudosas:\n",
    "    print(f\"\\n📋 Tabla: {tabla}\")\n",
    "    try:\n",
    "        df = pd.read_sql(f\"SELECT * FROM {tabla}\", con=engine)\n",
    "        print(\"▶️ .info():\")\n",
    "        print(df.info())\n",
    "        print(\"▶️ Primeras filas:\")\n",
    "        display(df.head())\n",
    "    except Exception as e:\n",
    "        print(f\"❌ Error al cargar {tabla}: {e}\")\n"
   ]
  },
  {
   "cell_type": "markdown",
   "id": "28b7a189",
   "metadata": {},
   "source": [
    "---"
   ]
  },
  {
   "cell_type": "markdown",
   "id": "f07e5cbf",
   "metadata": {},
   "source": [
    "**TABLAS FINALES A ELIMINAR DESPUÉS DE TODOS LOS FILTROS Y ANÁLISIS INDIVIDUAL**"
   ]
  },
  {
   "cell_type": "markdown",
   "id": "7dfc491f",
   "metadata": {},
   "source": [
    "Falta escoger y seleccionar individualmente "
   ]
  },
  {
   "cell_type": "code",
<<<<<<< Updated upstream
   "execution_count": 37,
=======
   "execution_count": 48,
>>>>>>> Stashed changes
   "id": "67e8d147",
   "metadata": {},
   "outputs": [],
   "source": [
    "tablas_a_eliminar = [\n",
    "    \"api_access_tokens\",             # Manejo técnico de tokens\n",
    "    \"electronic_payroll_test_set\",   # Datos de prueba (test set)\n",
    "    \"migrations\",                    # Solo para migraciones del sistema\n",
    "    \"oauth_clients\",                 # Seguridad/autenticación interna\n",
    "    \"paynilo\",                       # Integración de pagos externa\n",
    "    \"role_permissions\",             # Control de permisos internos\n",
    "    \"template_versions\",            # Versiones de plantillas, sin datos\n",
    "    \"templates\",                    # Estructura visual, no analítica\n",
    "    \"user_data\",                    # Solo datos de área/cargo del usuario\n",
    "    \"custom_fields\",                # Campos personalizados (metadatos)\n",
<<<<<<< Updated upstream
    "    \"system_counters\",              # Estadísticas internas del sistema\n",
    "    \"system_restrictions\",          # Restricciones de uso/licencia\n",
    "    \"values_x_item\",                # Datos técnicos por ítem\n",
    "    \"warehouse_transfer_logs\",      # Registro técnico, no útil para KPIs\n",
    "   \n",
    "]"
=======
    "    \"system_counters\",              # Estadísticas internas del sistema  # ELIMINAR VALORES NO SE AJUSTAN A KPIS OBJETIVO\n",
    "    \"system_restrictions\",          # Restricciones de uso/licencia  # ELIMINAR VALORES NO SE AJUSTAN A KPIS OBJETIVO\n",
    "    \"values_x_item\",\n",
    "    \"user_roles\", \n",
    "    \"user_data\",\n",
    "    \"user_headquarters\",\n",
    "    \"term_and_conditions\",\n",
    "    \"severance_payments\", \n",
    "    \"roles\", \"role_permissions\", \n",
    "    \"radian_events\" , \n",
    "    \"radian_documents\",\n",
    "    \"plan_system_controller\", \n",
    "    \"plan_electronic_documents\",\n",
    "    \"api_access_tokens\", \n",
    "    \"configurations\", \n",
    "    \"company_areas\", \n",
    "    \"consolidated_retention_certificates\", \n",
    "    \"contact_accounts\",   \n",
    "    \"contact_relationship\",\n",
    "    \"contact_statement\",\n",
    "    \"contact\",\n",
    "    \"custom_fields\",\n",
    "    \"dining_tables\",\n",
    "    \"ecomerce_legal_info\",\n",
    "    \"ecomerce_purchase_orders\",\n",
    "    \"electronic_payroll_test_set\", \n",
    "    \"electronic_contracts\",\n",
    "    \"employee_positions\", \n",
    "    \"employees\", \n",
    "    \"migraciones\" ]"
>>>>>>> Stashed changes
   ]
  },
  {
   "cell_type": "code",
<<<<<<< Updated upstream
   "execution_count": 38,
=======
   "execution_count": 49,
>>>>>>> Stashed changes
   "id": "4e22fc0f",
   "metadata": {},
   "outputs": [],
   "source": [
    "# ⚠️ Solo si tienes respaldo y estás en entorno seguro\n",
    "# ELIMINAR TABLAS FINALES ¡OJO HAY QUE ESCOGER ANTES DE EJECUTAR!\n",
    "\n",
    "# Desactivar restricciones !NO SE HACE ANTES DE VERIFICAR QUE NO GENERA NINGÚN DAÑO!\n",
    "##cursor.execute(\"SET FOREIGN_KEY_CHECKS=0;\")\n",
    "\n",
    "borrar_lista_tablas(tablas_a_borrar)\n",
    "\n",
    "# Volver a activar restricciones !NO SE HACE ANTES DE VERIFICAR QUE NO GENERA NINGÚN DAÑO!\n",
    "##cursor.execute(\"SET FOREIGN_KEY_CHECKS=1;\")\n"
   ]
  },
  {
   "cell_type": "code",
   "execution_count": 39,
   "id": "7786c46f",
   "metadata": {},
   "outputs": [],
   "source": [
    "# Cerrar conexión\n",
    "cursor.close()\n",
    "conexion.close()\n"
   ]
  }
 ],
 "metadata": {
  "kernelspec": {
   "display_name": ".venv",
   "language": "python",
   "name": "python3"
  },
  "language_info": {
   "codemirror_mode": {
    "name": "ipython",
    "version": 3
   },
   "file_extension": ".py",
   "mimetype": "text/x-python",
   "name": "python",
   "nbconvert_exporter": "python",
   "pygments_lexer": "ipython3",
   "version": "3.12.0"
  }
 },
 "nbformat": 4,
 "nbformat_minor": 5
}
